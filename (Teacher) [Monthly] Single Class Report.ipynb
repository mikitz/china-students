{
 "metadata": {
  "language_info": {
   "codemirror_mode": {
    "name": "ipython",
    "version": 3
   },
   "file_extension": ".py",
   "mimetype": "text/x-python",
   "name": "python",
   "nbconvert_exporter": "python",
   "pygments_lexer": "ipython3",
   "version": "3.8.3-final"
  },
  "orig_nbformat": 2,
  "kernelspec": {
   "name": "python3",
   "display_name": "Python 3",
   "language": "python"
  }
 },
 "nbformat": 4,
 "nbformat_minor": 2,
 "cells": [
  {
   "cell_type": "code",
   "execution_count": 1,
   "metadata": {},
   "outputs": [],
   "source": [
    "# Import necessary modules\n",
    "import math\n",
    "import datetime\n",
    "import numpy as np\n",
    "import pandas as pd\n",
    "from fpdf import FPDF\n",
    "from PIL import Image\n",
    "import seaborn as sns\n",
    "import matplotlib.pyplot as plt\n",
    "from itertools import cycle, islice"
   ]
  },
  {
   "cell_type": "code",
   "execution_count": 2,
   "metadata": {},
   "outputs": [],
   "source": [
    "# Set the Country to be pulled\n",
    "country = 'china' # 'chinese' for China and 'korean' for Korea\n",
    "# Set user name\n",
    "UN = 'mfitz' # 'mfitz' for LAPPIE, 'Me' for GLaDOS\n",
    "# Define the path where the DBs are stored\n",
    "path = r'C:\\Users\\{}\\Documents\\GitHub Clones\\{}-students'.format(UN, country)"
   ]
  },
  {
   "cell_type": "code",
   "execution_count": 3,
   "metadata": {},
   "outputs": [],
   "source": [
    "# Set the path of the Database files\n",
    "oPath = 'database/tables'\n",
    "# Read all the sheets from the excel file.\n",
    "students = pd.read_csv('{}/students.csv'.format(oPath), header = 0)\n",
    "classes = pd.read_csv('{}/classes.csv'.format(oPath), header = 0)\n",
    "tests = pd.read_csv('{}/tests.csv'.format(oPath), header = 0)\n",
    "test_results = pd.read_csv('{}/test_results.csv'.format(oPath), header = 0)\n",
    "attendance = pd.read_csv('{}/attendance.csv'.format(oPath), header = 0)\n",
    "hw = pd.read_csv('{}/hw_assignments.csv'.format(oPath), header = 0)\n",
    "hw_results = pd.read_csv('{}/hw_grades.csv'.format(oPath), header = 0)\n",
    "participation = pd.read_csv('{}/participation.csv'.format(oPath), header = 0)\n",
    "points = pd.read_csv('{}/points.csv'.format(oPath), header = 0)\n",
    "# Merge attendance and class ID from students\n",
    "attendance = pd.merge(attendance, students[['STUDENT_ID', 'CLASS_ID']], how = 'inner', on = 'STUDENT_ID')\n",
    "# Get a list of ALL Class IDs\n",
    "lClasses = classes['CLASS_ID'].to_list()\n",
    "# Get a list of ALL Student IDs\n",
    "lStudents = students['STUDENT_ID'].to_list()"
   ]
  },
  {
   "cell_type": "code",
   "execution_count": 66,
   "metadata": {},
   "outputs": [],
   "source": [
    "# FUNCTIONS\n",
    "\n",
    "# Define a function to show values at scatter plot points\n",
    "def fShowValuesScatter(axis, x, y, decimals, ychange):\n",
    "    for i, j in zip(x, y):\n",
    "        axis.annotate('{:.{}f}'.format(j, decimals), \n",
    "                        xy = (i, j), \n",
    "                        xytext=(ychange, 0), \n",
    "                        textcoords=\"offset points\", \n",
    "                        va='center')\n",
    "        \n",
    "# Define a function to show values on bar plots\n",
    "def fShowValuesOnBars(axs, decimals):\n",
    "    def _show_on_single_plot(ax):        \n",
    "        for p in ax.patches:\n",
    "            _x = p.get_x() + p.get_width() / 2\n",
    "            _y = p.get_y() + p.get_height() + 0.05\n",
    "            value = '{:.{}f}'.format(p.get_height(), decimals)\n",
    "            ax.text(_x, _y, value, ha=\"center\") \n",
    "    if isinstance(axs, np.ndarray):\n",
    "        for idx, ax in np.ndenumerate(axs):\n",
    "            _show_on_single_plot(ax)\n",
    "    else:\n",
    "        _show_on_single_plot(axs)\n",
    "\n",
    "# Define a function to show values on bar plots\n",
    "def fShowValuesOnBarsCenter(axs, decimals, yMod):\n",
    "    def _show_on_single_plot(ax):        \n",
    "        for p in ax.patches:\n",
    "            _x = p.get_x() + p.get_width() / 2\n",
    "            _y = p.get_y() + p.get_height() / yMod\n",
    "            value = '{:.{}f}'.format(p.get_height(), decimals)\n",
    "            ax.text(_x, _y, value, ha=\"center\") \n",
    "\n",
    "    if isinstance(axs, np.ndarray):\n",
    "        for idx, ax in np.ndenumerate(axs):\n",
    "            _show_on_single_plot(ax)\n",
    "    else:\n",
    "        _show_on_single_plot(axs)\n",
    "\n",
    "# Add standard deviations to a DataFrame\n",
    "def fStandardDeviation(dataframe, column):\n",
    "    mean = dataframe[column].mean()\n",
    "    std = dataframe[column].std()\n",
    "    dataframe['MEAN_DIFF'] = ''\n",
    "    dataframe['STD_VAL'] = ''\n",
    "    for index, i in dataframe.iterrows():\n",
    "        value = dataframe[column][index]\n",
    "        meanDiff = value - mean\n",
    "        if meanDiff < 0:\n",
    "            neg = '-'\n",
    "        else:\n",
    "            neg = ''\n",
    "        if meanDiff <= std:\n",
    "            stdVal = neg + str(1)\n",
    "        elif meanDiff <= std*2:\n",
    "            stdVal = neg + str(2)\n",
    "        elif meanDiff <= std*3:\n",
    "            stdVal = neg + str(3)\n",
    "        elif meanDiff <= std*4:\n",
    "            stdVal = neg + str(4)\n",
    "        else:\n",
    "            pass\n",
    "        dataframe['MEAN_DIFF'][index] = meanDiff\n",
    "        dataframe['STD_VAL'][index] = stdVal\n",
    "    dataframe = dataframe.astype({'MEAN_DIFF':'float32', 'STD_VAL':'int32'})"
   ]
  },
  {
   "cell_type": "code",
   "execution_count": 5,
   "metadata": {},
   "outputs": [],
   "source": [
    "# Set the class ID\n",
    "tiClassID = 1\n",
    "# Get a list of Student IDs in this class\n",
    "lStudentsInCurrentClass = students['STUDENT_ID'].where(students['CLASS_ID'] == tiClassID)\n",
    "lStudentsInCurrentClass.dropna(how = 'all', inplace = True)\n",
    "lStudentsInCurrentClass = lStudentsInCurrentClass.astype({'STUDENT_ID': 'int32'})\n",
    "lStudentsInCurrentClass = lStudentsInCurrentClass.reset_index(drop = True)"
   ]
  },
  {
   "source": [
    "# Monthly Report"
   ],
   "cell_type": "markdown",
   "metadata": {}
  },
  {
   "cell_type": "code",
   "execution_count": 6,
   "metadata": {},
   "outputs": [],
   "source": [
    "# Set the month and year\n",
    "tiYear = 2014\n",
    "tiMonth = 10\n",
    "# Get the month name from its number\n",
    "oMonth = datetime.date(tiYear, tiMonth, 1).strftime('%B')\n",
    "# Get previous month name\n",
    "oMonthLast = datetime.date(tiYear, tiMonth - 1, 1).strftime('%B')\n",
    "# Get the number of students in this class\n",
    "oNumberStudents = students[students['CLASS_ID'] == tiClassID].shape[0]"
   ]
  },
  {
   "source": [
    "## For the User-defined Class"
   ],
   "cell_type": "markdown",
   "metadata": {}
  },
  {
   "source": [
    "### PREPARE DATAFRAMES"
   ],
   "cell_type": "markdown",
   "metadata": {}
  },
  {
   "cell_type": "code",
   "execution_count": 7,
   "metadata": {},
   "outputs": [],
   "source": [
    "# Students DF\n",
    "dfStudents = students.where(students['CLASS_ID'] == tiClassID)\n",
    "dfStudents.dropna(how = 'all', inplace = True)\n",
    "dfStudents = dfStudents.astype({'STUDENT_ID': 'int32', 'STUDENT_AGE': 'int32', 'CLASS_ID': 'int32'})\n",
    "dfStudents = dfStudents.reset_index(drop = True)\n",
    "# Test Scores DF\n",
    "dfTestScores = test_results.where(test_results['CLASS_ID'] == tiClassID)\n",
    "dfTestScores.dropna(how = 'all', inplace = True)\n",
    "dfTestScores = dfTestScores.astype({'STUDENT_ID': 'int32', 'TEST_ID': 'int32', 'TEST_SCORE': 'int32', 'TEST_SCORE_MAX': 'int32', 'CLASS_ID': 'int32'})\n",
    "dfTestScores['TEST_DATE'] = pd.to_datetime(dfTestScores['TEST_DATE'])\n",
    "dfTestScores = dfTestScores.reset_index(drop = True)\n",
    "# Get a list of all Test IDs\n",
    "lTestIDs = dfTestScores['TEST_ID'].unique()\n",
    "# Attendance DF\n",
    "dfAttendance = attendance.where(attendance['CLASS_ID'] == tiClassID)\n",
    "dfAttendance.dropna(how = 'all', inplace = True)\n",
    "dfAttendance = dfAttendance.astype({'STUDENT_ID': 'int32', 'CLASS_ID': 'int32'})\n",
    "dfAttendance['CLASS_DATE'] = pd.to_datetime(dfAttendance['CLASS_DATE'])\n",
    "dfAttendance = dfAttendance.reset_index(drop = True)\n",
    "# HW Scores DF\n",
    "dfHWScores = hw_results.where(hw_results['CLASS_ID'] == tiClassID)\n",
    "dfHWScores.dropna(how = 'all', inplace = True)\n",
    "dfHWScores = dfHWScores.astype({'STUDENT_ID': 'int32', 'HW_ID': 'int32', 'HW_SCORE': 'int32', 'HW_SCORE_MAX': 'int32', 'CLASS_ID': 'int32'})\n",
    "dfHWScores['HW_ASSIGNED_DATE'] = pd.to_datetime(dfHWScores['HW_ASSIGNED_DATE'])\n",
    "dfHWScores['HW_TURNED_IN_DATE'] = pd.to_datetime(dfHWScores['HW_TURNED_IN_DATE'])\n",
    "dfHWScores = dfHWScores.reset_index(drop = True)\n",
    "# Get a list of all the HW IDs\n",
    "lHWIDs = dfHWScores['HW_ID'].unique() \n",
    "# Participation DF\n",
    "dfParticipation = participation.where(participation['CLASS_ID'] == tiClassID)\n",
    "dfParticipation.dropna(how = 'all', inplace = True)\n",
    "dfParticipation = dfParticipation.astype({'STUDENT_ID': 'int32', 'PARTICIPATION_ATTEMPTS': 'int32', 'PARTICIPATION_HINTS': 'int32', 'CLASS_ID': 'int32'})\n",
    "dfParticipation['PARTICIPATION_DATETIME'] = pd.to_datetime(dfParticipation['PARTICIPATION_DATETIME'])\n",
    "dfParticipation = dfParticipation.reset_index(drop = True)\n",
    "# Tests DF\n",
    "dfTests = tests[tests['TEST_ID'].isin(lTestIDs)]\n",
    "dfTests.dropna(how = 'all', inplace = True)\n",
    "dfTests['TEST_DATE'] = pd.to_datetime(dfTests['TEST_DATE'])\n",
    "dfTests = dfTests.reset_index(drop = True)\n",
    "# HW DF\n",
    "dfHW = hw[hw['HW_ID'].isin(lHWIDs)]\n",
    "dfHW.dropna(how = 'all', inplace = True)\n",
    "dfHW['HW_ASSIGNED_DATE'] = pd.to_datetime(dfHW['HW_ASSIGNED_DATE'])\n",
    "dfHW['HW_DUE_DATE'] = pd.to_datetime(dfHW['HW_DUE_DATE'])\n",
    "dfHW = dfHW.reset_index(drop = True)\n",
    "# POINTS DF\n",
    "dfPoints = pd.merge(points, students[['STUDENT_ID', 'CLASS_ID', 'STUDENT_NAME_ENGLISH']], on = 'STUDENT_ID')\n",
    "dfPoints = dfPoints.where(dfPoints['CLASS_ID'] == tiClassID)\n",
    "dfPoints.dropna(how = 'all', inplace = True)\n",
    "dfPoints = dfPoints.astype({'STUDENT_ID':'int32', 'CLASS_ID':'int32', 'PARTICIPATION_POINTS':'int32', 'HW_POINTS':'int32', 'TEST_POINTS':'int32', 'ATTENDANCE_POINTS':'int32', 'TOTAL_POINTS':'int32'})\n",
    "dfPoints = dfPoints.reset_index(drop = True)\n",
    "\n",
    "# TESTS\n",
    "# Test Scores\n",
    "dfTestScoresDate = dfTestScores.where((dfTestScores['TEST_DATE'].dt.year == tiYear) & (dfTestScores['TEST_DATE'].dt.month == tiMonth))\n",
    "dfTestScoresDateMinus1 = dfTestScores.where((dfTestScores['TEST_DATE'].dt.year == tiYear) & (dfTestScores['TEST_DATE'].dt.month == tiMonth - 1))\n",
    "dfTestScoresDateMinus2 = dfTestScores.where((dfTestScores['TEST_DATE'].dt.year == tiYear) & (dfTestScores['TEST_DATE'].dt.month == tiMonth - 2))\n",
    "# Test Names\n",
    "dfTestsDate = dfTests.where((dfTests['TEST_DATE'].dt.year == tiYear) & (dfTests['TEST_DATE'].dt.month == tiMonth))\n",
    "# ATTENDANCE\n",
    "dfAttendanceDate = dfAttendance.where((dfAttendance['CLASS_DATE'].dt.year == tiYear) & (dfAttendance['CLASS_DATE'].dt.month == tiMonth))\n",
    "dfAttendanceDate.dropna(how = 'all', inplace = True)\n",
    "# PARTICIPATION\n",
    "# Current Month\n",
    "dfParticipationDate = dfParticipation.where((dfParticipation['PARTICIPATION_DATETIME'].dt.year == tiYear) & (dfParticipation['PARTICIPATION_DATETIME'].dt.month == tiMonth))\n",
    "dfParticipationDate.dropna(how = 'all', inplace = True)\n",
    "dfParticipationDate = dfParticipationDate.reset_index(drop = True)\n",
    "# Current Month - 1\n",
    "dfParticipationDateMinus1 = dfParticipation.where((dfParticipation['PARTICIPATION_DATETIME'].dt.year == tiYear) & (dfParticipation['PARTICIPATION_DATETIME'].dt.month == tiMonth - 1))\n",
    "dfParticipationDateMinus1.dropna(how = 'all', inplace = True)\n",
    "dfParticipationDateMinus1 = dfParticipationDateMinus1.reset_index(drop = True)\n",
    "# HOMEWORK\n",
    "# Homework Assignments\n",
    "dfHWDate = dfHW.where((dfHW['HW_ASSIGNED_DATE'].dt.year == tiYear) & (dfHW['HW_ASSIGNED_DATE'].dt.month == tiMonth))\n",
    "# Homework Scores\n",
    "dfHWScoresDate = dfHWScores.where((dfHWScores['HW_ASSIGNED_DATE'].dt.year == tiYear) & (dfHWScores['HW_ASSIGNED_DATE'].dt.month == tiMonth))\n",
    "\n",
    "# Can use this to loopify the above?\n",
    "lDFs = [dfStudents, dfTestScores, dfAttendance, dfHWScores, dfParticipation, dfTests, dfHW]"
   ]
  },
  {
   "cell_type": "code",
   "execution_count": 8,
   "metadata": {},
   "outputs": [],
   "source": [
    "dfAttendanceAbsent = attendance.where(attendance['ATTENDANCE_STATUS'] == 'absent')\n",
    "dfAttendanceAbsent.dropna(how = 'all', inplace = True)"
   ]
  },
  {
   "source": [
    "### Test Grades"
   ],
   "cell_type": "markdown",
   "metadata": {}
  },
  {
   "source": [
    "#### *Prepare the DataFrames*"
   ],
   "cell_type": "markdown",
   "metadata": {}
  },
  {
   "cell_type": "code",
   "execution_count": 9,
   "metadata": {},
   "outputs": [],
   "source": [
    "# Merge the test results DF with students DF for the specified class\n",
    "dfTestScoresDate = pd.merge(dfTestScoresDate, dfStudents, on = 'STUDENT_ID')\n",
    "# Sort the DF by test score in descending order\n",
    "dfTestScoresDate = dfTestScoresDate.sort_values(by = 'TEST_SCORE', ascending = False)\n",
    "# Calculate the average score for each student\n",
    "oTestScoreMean = dfTestScoresDate['TEST_SCORE'].mean()"
   ]
  },
  {
   "source": [
    "#### *Plots*"
   ],
   "cell_type": "markdown",
   "metadata": {}
  },
  {
   "cell_type": "code",
   "execution_count": 69,
   "metadata": {},
   "outputs": [],
   "source": [
    "# Current Month's Test Scores\n",
    "# Set the title\n",
    "oTitle = f\"({tiMonth}-{tiYear}) Class {tiClassID} - Test Scores\"\n",
    "# Plot the data\n",
    "ax = dfTestScoresDate.plot.bar(x = 'STUDENT_NAME_ENGLISH', y = 'TEST_SCORE', figsize=(20,8), label='Test Score')\n",
    "# Plot the this month's HW average score\n",
    "plt.axhline(y = oTestScoreMean, color = 'darkblue', linestyle = 'dashed', label = '{} Test Average'.format(oMonth))\n",
    "# Set up the legend\n",
    "plt.legend(bbox_to_anchor=(1.01, 0.5), loc='center left', borderaxespad=0)\n",
    "# Format the graph\n",
    "tSubtitle = 'Class {} - {}, {}'.format(tiClassID, oMonth, tiYear)\n",
    "plt.suptitle(\"Test Scores\", size = 28, fontweight = \"bold\", y = 0.96, ha = 'center')\n",
    "ax.set_title(tSubtitle, size = 14, ha = 'center')\n",
    "ax.set_xlabel(\"Name\", size = 18, style=\"italic\")\n",
    "ax.set_ylabel(\"Test Score\", size = 18, style=\"italic\")\n",
    "# Add labels\n",
    "fShowValuesOnBars(ax, 0)\n",
    "# Save the figure as png\n",
    "ax.figure.savefig(f\"Images\\{oTitle}.png\", bbox_inches = 'tight')\n",
    "# Append the plot to a list\n",
    "lParticipationPlots.append(f\"{oTitle}.png\")\n",
    "# Close the plot to stop it dislaying\n",
    "plt.close()"
   ]
  },
  {
   "source": [
    "### Homework Grades"
   ],
   "cell_type": "markdown",
   "metadata": {}
  },
  {
   "source": [
    "#### *Prepare the DataFrames*"
   ],
   "cell_type": "markdown",
   "metadata": {}
  },
  {
   "cell_type": "code",
   "execution_count": 11,
   "metadata": {},
   "outputs": [],
   "source": [
    "# Merge the HW grades with students DF for the specified class\n",
    "dfHWScoresDate = pd.merge(dfHWScoresDate, dfStudents[['STUDENT_ID', 'STUDENT_NAME_ENGLISH']], on = 'STUDENT_ID')\n",
    "dfHWScoresDate.dropna(how = 'all', inplace = True)\n",
    "# Calculate the average score for each student\n",
    "dfHWScoresDateAverages = dfHWScoresDate.groupby(['STUDENT_NAME_ENGLISH'])['HW_SCORE'].mean()\n",
    "# Turn the above series into a DataFrame\n",
    "dfHWScoresDateAverages = pd.DataFrame(dfHWScoresDateAverages)"
   ]
  },
  {
   "source": [
    "#### *Plots*"
   ],
   "cell_type": "markdown",
   "metadata": {}
  },
  {
   "cell_type": "code",
   "execution_count": 68,
   "metadata": {},
   "outputs": [],
   "source": [
    "# Set the title\n",
    "oTitle = f\"({tiMonth}-{tiYear}) Class {tiClassID} - HW Scores (Scatter)\"\n",
    "# Plot the data\n",
    "ax = dfHWScoresDate.plot.scatter(x = 'STUDENT_NAME_ENGLISH', y = 'HW_SCORE', c = 'HW_ID', s = 150, figsize=(25, 8))\n",
    "# Plot the average for each HW_ID\n",
    "lColors = ['darkblue', 'orange', 'darkgreen', 'lightgreen', 'blue', 'purple', 'red']\n",
    "oColor = 0\n",
    "for i in list(dfHWScoresDate['HW_ID'].unique()):\n",
    "    plt.axhline(y = dfHWScoresDate['HW_SCORE'].where(dfHWScoresDate['HW_ID'] == int(i)).mean(), \n",
    "            color = lColors[oColor], linestyle = 'dashed', label = f'HW {int(i)} Average')\n",
    "    oColor += 1\n",
    "# Set up the legend\n",
    "plt.legend(bbox_to_anchor=(1.01, 0.5), loc='center left', borderaxespad=0)\n",
    "# Format the graph\n",
    "tSubtitle = 'Class {} - {}, {}'.format(tiClassID, oMonth, tiYear)\n",
    "plt.suptitle(\"HW Scores\", size = 28, fontweight = \"bold\", y = 0.96, ha = 'center')\n",
    "ax.set_title(tSubtitle, size = 14, ha = 'center')\n",
    "ax.set_xlabel(\"Name\", size = 18, style=\"italic\")\n",
    "ax.set_ylabel(\"HW Score\", size = 18, style=\"italic\")\n",
    "ax.set(ylim = (-1, 10))\n",
    "# Add labels\n",
    "x = dfHWScoresDate['STUDENT_NAME_ENGLISH']\n",
    "y = dfHWScoresDate['HW_SCORE']\n",
    "fShowValuesScatter(ax, x, y, 0, 7)\n",
    "# Save the figure as png\n",
    "ax.figure.savefig(f\"Images\\{oTitle}.png\", bbox_inches = 'tight')\n",
    "# Append the plot to a list\n",
    "lParticipationPlots.append(f\"{oTitle}.png\")\n",
    "# Close the plot to stop it dislaying\n",
    "plt.close()"
   ]
  },
  {
   "source": [
    "#### Using Subplots"
   ],
   "cell_type": "markdown",
   "metadata": {}
  },
  {
   "cell_type": "code",
   "execution_count": 67,
   "metadata": {},
   "outputs": [],
   "source": [
    "# Set the title\n",
    "oTitle = f\"({tiMonth}-{tiYear}) Class {tiClassID} - HW Scores\"\n",
    "# Get the number of IDs\n",
    "blah = dfHWScoresDate.sort_values(by = 'HW_ID')\n",
    "oIDCount = len(list(blah['HW_ID'].unique()))\n",
    "# Define the figure and axis\n",
    "fig, axes = plt.subplots(oIDCount)\n",
    "# Define the colors list\n",
    "lColors = ['darkblue', 'orange', 'darkgreen', 'lightgreen', 'blue', 'purple', 'red']\n",
    "# Define the color index\n",
    "oColor = 0\n",
    "# Loop through the HW_IDs\n",
    "for i in list(dfHWScoresDate['HW_ID'].unique()):\n",
    "    # Pull the scores for the specific HW_ID\n",
    "    df = dfHWScoresDate.where(dfHWScoresDate['HW_ID'] == int(i))\n",
    "    # Turn it into a DF to make it easily to manipulate\n",
    "    df = pd.DataFrame(df)\n",
    "    # Drop NANs\n",
    "    df.dropna(how = 'all', inplace = True)\n",
    "    # Plot the subplot\n",
    "    df.plot.bar(x = 'STUDENT_NAME_ENGLISH', y = 'HW_SCORE', \n",
    "                ax = axes[oColor], figsize=(30,12), \n",
    "                label = f'HW {int(i)}', color = lColors[oColor],   \n",
    "                rot = 0)\n",
    "    # Plot the average for the specific ID\n",
    "    axes[oColor].axhline(y = dfHWScoresDate['HW_SCORE'].where(dfHWScoresDate['HW_ID'] == int(i)).mean(), \n",
    "                            color = lColors[oColor], linestyle = 'dashed', label = f'HW {int(i)} Average')\n",
    "    # Set up the legend\n",
    "    axes[oColor].legend(bbox_to_anchor=(1.01, 0.5), loc='center left', borderaxespad=0)\n",
    "    oColor += 1\n",
    "\n",
    "# Format the graph\n",
    "tSubtitle = 'Class {} - {}, {}'.format(tiClassID, oMonth, tiYear)\n",
    "plt.suptitle(\"HW Scores\", size = 28, fontweight = \"bold\", y = 0.96, ha = 'center')\n",
    "# Add labels\n",
    "fShowValuesOnBars(axes, 0)\n",
    "# Set Labels\n",
    "for ax in axes.flat:\n",
    "    ax.set(xlabel='HW Score', ylabel='Student Name')\n",
    "# Hide x labels and tick labels for top plots and y ticks for right plots.\n",
    "for ax in axes.flat:\n",
    "    ax.label_outer()\n",
    "# Save the figure as png\n",
    "ax.figure.savefig(f\"Images\\{oTitle}.png\", bbox_inches = 'tight')\n",
    "# Append the plot to a list\n",
    "lParticipationPlots.append(f\"{oTitle}.png\")\n",
    "# Close the plot to stop it dislaying\n",
    "plt.close()"
   ]
  },
  {
   "source": [
    "### Attendance"
   ],
   "cell_type": "markdown",
   "metadata": {}
  },
  {
   "source": [
    "#### *Prepare the DataFrames*"
   ],
   "cell_type": "markdown",
   "metadata": {}
  },
  {
   "cell_type": "code",
   "execution_count": 14,
   "metadata": {},
   "outputs": [],
   "source": [
    "# Merge the attendance DF with the students DF\n",
    "dfAttendanceDate = pd.merge(dfAttendanceDate, dfStudents[['STUDENT_ID', 'STUDENT_NAME_ENGLISH']], on = 'STUDENT_ID')\n",
    "# Group by name and status to get totals for each status by student\n",
    "dfAttendanceStatus = dfAttendanceDate.groupby(['STUDENT_NAME_ENGLISH', 'ATTENDANCE_STATUS']).count()\n",
    "# Create new DF of all the instances of an absent status\n",
    "dfAttendanceDateAbsent = dfAttendanceDate.where(dfAttendanceDate['ATTENDANCE_STATUS'] == 'absent')\n",
    "# Drop the NANs from this newly created DF\n",
    "dfAttendanceDateAbsent.dropna(how = 'all', inplace = True)\n",
    "# Reset the index\n",
    "dfAttendanceDateAbsent = dfAttendanceDateAbsent.reset_index(drop = True)"
   ]
  },
  {
   "source": [
    "#### *Strings/Lists*"
   ],
   "cell_type": "markdown",
   "metadata": {}
  },
  {
   "cell_type": "code",
   "execution_count": 15,
   "metadata": {},
   "outputs": [
    {
     "output_type": "stream",
     "name": "stdout",
     "text": [
      "No students were absent in October, 2014\n"
     ]
    }
   ],
   "source": [
    "oAbsentCount = dfAttendanceDate['ATTENDANCE_STATUS'].str.contains('absent').sum()\n",
    "# Print the output\n",
    "if oAbsentCount > 0:\n",
    "    # Define a list to store all the instances of absent students\n",
    "    lAbsences = []\n",
    "    # Loop through the rows to populate the list\n",
    "    for index, row in dfAttendanceDateAbsent.iterrows():\n",
    "        # Pull the name from the current row\n",
    "        oName = dfAttendanceDateAbsent['STUDENT_NAME_ENGLISH'][index]\n",
    "        # Pull the date from the current row\n",
    "        oDate = str(dfAttendanceDateAbsent['CLASS_DATE'][index])[0:10]\n",
    "        # Define a string to be appended to the list\n",
    "        sText = '{} was absent on {}'.format(oName, oDate)\n",
    "        # Append the string to the list\n",
    "        lAbsences.append(sText)   \n",
    "    print(lAbsences)\n",
    "else:\n",
    "    # Define a string to be used in the report\n",
    "    sMessage = 'No students were absent in {}, {}'.format(oMonth, tiYear)\n",
    "    print(sMessage)"
   ]
  },
  {
   "source": [
    "### Participation"
   ],
   "cell_type": "markdown",
   "metadata": {}
  },
  {
   "source": [
    "#### *Preparing the DataFrames*"
   ],
   "cell_type": "markdown",
   "metadata": {}
  },
  {
   "cell_type": "code",
   "execution_count": 16,
   "metadata": {},
   "outputs": [],
   "source": [
    "# Merge the student's name with the participation DF\n",
    "dfParticipationDate = pd.merge(dfParticipationDate, dfStudents[['STUDENT_ID', 'STUDENT_NAME_ENGLISH']], on = 'STUDENT_ID')\n",
    "dfParticipationDateMinus1 = pd.merge(dfParticipationDateMinus1, dfStudents[['STUDENT_ID', 'STUDENT_NAME_ENGLISH']], on = 'STUDENT_ID')\n",
    "# Group by participation type and student ID\n",
    "dfParticipationDateType = dfParticipationDate.groupby(['STUDENT_ID', 'PARTICIPATION_TYPE'])['PARTICIPATION_TYPE'].count()\n",
    "dfParticipationDateType = pd.DataFrame(dfParticipationDateType)\n",
    "dfParticipationDateType = dfParticipationDateType.rename(columns = {'STUDENT_ID': 'STUDENT_ID', 'PARTICIPATION_TYPE':'PARTICIPATION_TYPE', 'PARTICIPATION_TYPE':'PART_TYPE_COUNT'})\n",
    "\n",
    "dfParticipationDateTypeMinus1 = dfParticipationDateMinus1.groupby(['STUDENT_ID', 'PARTICIPATION_TYPE'])['PARTICIPATION_TYPE'].count()\n",
    "dfParticipationDateTypeMinus1 = pd.DataFrame(dfParticipationDateTypeMinus1)\n",
    "dfParticipationDateTypeMinus1 = dfParticipationDateTypeMinus1.rename(columns = {'STUDENT_ID': 'STUDENT_ID', 'PARTICIPATION_TYPE':'PARTICIPATION_TYPE', 'PARTICIPATION_TYPE':'PART_TYPE_COUNT'})\n",
    "# Create a pivot table of the same group by\n",
    "dfParticipationDateTypePivot = dfParticipationDate.pivot_table(index = 'STUDENT_ID', columns = 'PARTICIPATION_TYPE', values = 'CLASS_ID', aggfunc = 'count')\n",
    "\n",
    "\n",
    "dfParticipationDateTypePivotMinus1 = dfParticipationDateMinus1.pivot_table(index = 'STUDENT_ID', columns = 'PARTICIPATION_TYPE', values = 'CLASS_ID', aggfunc = 'count')\n",
    "# Merge it with student names\n",
    "dfParticipationDateTypePivot = pd.merge(dfParticipationDateTypePivot, dfStudents[['STUDENT_ID', 'STUDENT_NAME_ENGLISH']], on = 'STUDENT_ID')\n",
    "\n",
    "dfParticipationDateTypePivotMinus1 = pd.merge(dfParticipationDateTypePivotMinus1, dfStudents[['STUDENT_ID', 'STUDENT_NAME_ENGLISH']], on = 'STUDENT_ID')\n",
    "# Group by student ID and count them to get the total number of participation instances per student\n",
    "dfParticipationDateCount = dfParticipationDate.groupby(['STUDENT_ID'])['STUDENT_ID'].count()\n",
    "dfParticipationDateCount = pd.DataFrame(dfParticipationDateCount)\n",
    "dfParticipationDateCount = dfParticipationDateCount.rename(columns = {'STUDENT_ID': 'STUDENT_ID', 'STUDENT_ID':'PART_COUNT'})\n",
    "\n",
    "dfParticipationDateCountMinus1 = dfParticipationDateMinus1.groupby(['STUDENT_ID'])['STUDENT_ID'].count()\n",
    "dfParticipationDateCountMinus1 = pd.DataFrame(dfParticipationDateCountMinus1)\n",
    "dfParticipationDateCountMinus1 = dfParticipationDateCountMinus1.rename(columns = {'STUDENT_ID': 'STUDENT_ID', 'STUDENT_ID':'PART_COUNT'})\n",
    "# Merge the part count DF with student names\n",
    "dfParticipationDateCount = pd.merge(dfParticipationDateCount, dfStudents[['STUDENT_ID', 'STUDENT_NAME_ENGLISH']], on = 'STUDENT_ID')\n",
    "\n",
    "dfParticipationDateCountMinus1 = pd.merge(dfParticipationDateCountMinus1, dfStudents[['STUDENT_ID', 'STUDENT_NAME_ENGLISH']], on = 'STUDENT_ID')"
   ]
  },
  {
   "cell_type": "code",
   "execution_count": 17,
   "metadata": {},
   "outputs": [],
   "source": [
    "# Create new DF from students and participation\n",
    "value_counts = dfParticipationDate['STUDENT_ID'].value_counts()\n",
    "# Convert value_counts to a DataFrame\n",
    "dfPart = pd.DataFrame(value_counts)\n",
    "# Reset its index\n",
    "dfPart = dfPart.reset_index()\n",
    "# Rename the columns to make them more readable\n",
    "dfPart.columns = ['STUDENT_ID', 'PARTICIPATIONS COUNT']\n",
    "# Merge the dfPart and students DataFrames\n",
    "dfPart = pd.merge(dfPart, dfStudents[['STUDENT_ID', 'STUDENT_NAME_ENGLISH']], how = 'outer', on = 'STUDENT_ID')\n",
    "\n",
    "dfByDate = dfParticipationDate.groupby(['STUDENT_ID', 'PARTICIPATION_DATETIME'])['PARTICIPATION_DATETIME'].count()\n",
    "dfByDateMinus1 = dfParticipationDateMinus1.groupby(['STUDENT_ID', 'PARTICIPATION_DATETIME'])['PARTICIPATION_DATETIME'].count()\n",
    "dfByDate = pd.DataFrame(dfByDate)\n",
    "dfByDateMinus1 = pd.DataFrame(dfByDateMinus1)\n",
    "dfByDate = dfByDate.rename(columns = {'STUDENT_ID': 'STUDENT_ID', 'PARTICIPATION_DATETIME': 'DATETIME', 'PARTICIPATION_DATETIME': 'COUNT'})\n",
    "dfByDateMinus1 = dfByDateMinus1.rename(columns = {'STUDENT_ID': 'STUDENT_ID', 'PARTICIPATION_DATETIME': 'DATETIME', 'PARTICIPATION_DATETIME': 'COUNT'})\n",
    "\n",
    "# Define a dictionary to store each student's DF in\n",
    "dfPC = {}\n",
    "dfPCMinus1 = {}\n",
    "# Define a list of Means to store in the new dataframe\n",
    "lMeanParticipations = []\n",
    "lMeanParticipationsMinus1 = []\n",
    "# Loop through the STUDENT_IDs and calculate their mean number of participations\n",
    "for i in lStudentsInCurrentClass:\n",
    "    # Copy the DataFrame for safety resons\n",
    "    dfa = dfByDate\n",
    "    dfaMinus1 = dfByDateMinus1\n",
    "    # Create a new DF just for the one student\n",
    "    dfPC[i] = dfa.loc[i]\n",
    "    dfPCMinus1[i] = dfaMinus1.loc[i]\n",
    "    # Set their ID to their ID from the list\n",
    "    dfPC[i]['STUDENT_ID'] = i\n",
    "    dfPCMinus1[i]['STUDENT_ID'] = i\n",
    "    # Calculate the mean participations per class\n",
    "    dfPC[i]['MEAN'] = dfPC[i]['COUNT'].mean()\n",
    "    dfPCMinus1[i]['MEAN'] = dfPCMinus1[i]['COUNT'].mean()\n",
    "    # Sort from highest to lowest count\n",
    "    dfPC[i] = dfPC[i].sort_values(by = 'COUNT', ascending = False)\n",
    "    dfPCMinus1[i] = dfPCMinus1[i].sort_values(by = 'COUNT', ascending = False)\n",
    "    # Append the mean to lMeanParticipations\n",
    "    lMeanParticipations.append(dfPC[i]['MEAN'][0])\n",
    "    lMeanParticipationsMinus1.append(dfPCMinus1[i]['MEAN'][0])\n",
    "\n",
    "# Define an empty list to store the student's mean attempts\n",
    "lMeanAttempts = []\n",
    "lMeanAttemptsMinus1 = []\n",
    "# Define an empty list to store the studnt's mean hints\n",
    "lMeanHints = []\n",
    "lMeanHintsMinus1 = []\n",
    "# Define an empty list to store the student's hint/attempt ratio\n",
    "lAttemptsHintRatio = []\n",
    "lAttemptsHintRatioMinus1 = []\n",
    "# Loop throgh the STUDENT_IDs in the current class and calculate the mean attempts per participation, \n",
    "# the mean hints per participation, and the hint/attempts ratio\n",
    "for i in lStudentsInCurrentClass:\n",
    "    # Calculate the mean attempts for the specified student \n",
    "    oMeanAttempts = dfParticipationDate['PARTICIPATION_ATTEMPTS'].where(dfParticipationDate['STUDENT_ID'] == i).mean()\n",
    "    oMeanAttemptsMinus1 = dfParticipationDateMinus1['PARTICIPATION_ATTEMPTS'].where(dfParticipationDateMinus1['STUDENT_ID'] == i).mean()\n",
    "    # Append this mean to the list\n",
    "    lMeanAttempts.append(oMeanAttempts)\n",
    "    lMeanAttemptsMinus1.append(oMeanAttemptsMinus1)\n",
    "\n",
    "    # Calculate the mean hints for the specified student \n",
    "    oMeanHints = dfParticipationDate['PARTICIPATION_HINTS'].where(dfParticipationDate['STUDENT_ID'] == i).mean()\n",
    "    oMeanHintsMinus1 = dfParticipationDateMinus1['PARTICIPATION_HINTS'].where(dfParticipationDateMinus1['STUDENT_ID'] == i).mean()\n",
    "    # Append this mean to the list\n",
    "    lMeanHints.append(oMeanHints)\n",
    "    lMeanHintsMinus1.append(oMeanHintsMinus1)\n",
    "\n",
    "    # Sum the attempts\n",
    "    oHintSum = dfParticipationDate['PARTICIPATION_HINTS'].where(dfParticipationDate['STUDENT_ID'] == i).sum()\n",
    "    oHintSumMinus1 = dfParticipationDateMinus1['PARTICIPATION_HINTS'].where(dfParticipationDateMinus1['STUDENT_ID'] == i).sum()\n",
    "    # Sum the hints\n",
    "    oAttemptSum = dfParticipationDate['PARTICIPATION_ATTEMPTS'].where(dfParticipationDate['STUDENT_ID'] == i).sum()\n",
    "    oAttemptSumMinus1 = dfParticipationDateMinus1['PARTICIPATION_ATTEMPTS'].where(dfParticipationDateMinus1['STUDENT_ID'] == i).sum()\n",
    "    # Calculate the hint/attempts ratio for the specified student \n",
    "    oAttemptHintRatio = oAttemptSum / oHintSum\n",
    "    oAttemptHintRatioMinus1 = oAttemptSumMinus1 / oHintSumMinus1 \n",
    "    # Append this ratio to the list\n",
    "    lAttemptsHintRatio.append(oAttemptHintRatio)\n",
    "    lAttemptsHintRatioMinus1.append(oAttemptHintRatioMinus1)\n",
    "\n",
    "# Create a new dataframe of the students and their mean participations per class\n",
    "dfMeanPart = pd.DataFrame(columns = ['STUDENT_ID', 'MEAN_PARTICIPATIONS_PER_CLASS', 'MEAN_ATTEMPTS_PER_PART_INSTANCE', 'MEAN_HINTS_PER_PART_INSTANCE', 'ATTEMPTS/HINTS_RATIO'])\n",
    "dfMeanPartMinus1 = pd.DataFrame(columns = ['STUDENT_ID', 'MEAN_PARTICIPATIONS_PER_CLASS', 'MEAN_ATTEMPTS_PER_PART_INSTANCE', 'MEAN_HINTS_PER_PART_INSTANCE', 'ATTEMPTS/HINTS_RATIO'])\n",
    "# Set the student IDs to lStudents which is a list of student IDs\n",
    "dfMeanPart['STUDENT_ID'] = lStudentsInCurrentClass\n",
    "dfMeanPartMinus1['STUDENT_ID'] = lStudentsInCurrentClass\n",
    "# Populate the MEAN_PARTICIPATIONS_PER_CLASS column\n",
    "dfMeanPart['MEAN_PARTICIPATIONS_PER_CLASS'] = lMeanParticipations\n",
    "dfMeanPartMinus1['MEAN_PARTICIPATIONS_PER_CLASS'] = lMeanParticipationsMinus1\n",
    "# Populate the MEAN_ATTEMPTS_PER_PART_INSTANCE column\n",
    "dfMeanPart['MEAN_ATTEMPTS_PER_PART_INSTANCE'] = lMeanAttempts\n",
    "dfMeanPartMinus1['MEAN_ATTEMPTS_PER_PART_INSTANCE'] = lMeanAttemptsMinus1\n",
    "# Populate the MEAN_HINTS_PER_PART_INSTANCE column\n",
    "dfMeanPart['MEAN_HINTS_PER_PART_INSTANCE'] = lMeanHints\n",
    "dfMeanPartMinus1['MEAN_HINTS_PER_PART_INSTANCE'] = lMeanHintsMinus1\n",
    "# Populate the ATTEMPTS/HINTS_RATIO column\n",
    "dfMeanPart['ATTEMPTS/HINTS_RATIO'] = lAttemptsHintRatio\n",
    "dfMeanPartMinus1['ATTEMPTS/HINTS_RATIO'] = lAttemptsHintRatioMinus1\n",
    "# Merge the new DF with students\n",
    "dfMeanPart = pd.merge(dfMeanPart, students[['STUDENT_ID', 'STUDENT_NAME_ENGLISH', 'CLASS_ID']], how = 'inner', on = 'STUDENT_ID')\n",
    "dfMeanPartMinus1 = pd.merge(dfMeanPartMinus1, students[['STUDENT_ID', 'STUDENT_NAME_ENGLISH', 'CLASS_ID']], how = 'inner', on = 'STUDENT_ID')\n",
    "# Reorder the columns\n",
    "dfMeanPart = dfMeanPart[['STUDENT_ID', 'STUDENT_NAME_ENGLISH', 'CLASS_ID', 'MEAN_PARTICIPATIONS_PER_CLASS', 'MEAN_ATTEMPTS_PER_PART_INSTANCE', 'MEAN_HINTS_PER_PART_INSTANCE', 'ATTEMPTS/HINTS_RATIO']]\n",
    "dfMeanPartMinus1 = dfMeanPartMinus1[['STUDENT_ID', 'STUDENT_NAME_ENGLISH', 'CLASS_ID', 'MEAN_PARTICIPATIONS_PER_CLASS', 'MEAN_ATTEMPTS_PER_PART_INSTANCE', 'MEAN_HINTS_PER_PART_INSTANCE', 'ATTEMPTS/HINTS_RATIO']]"
   ]
  },
  {
   "cell_type": "code",
   "execution_count": 18,
   "metadata": {},
   "outputs": [],
   "source": [
    "# DataFrame of all students and their Cold/Volunteer ratio\n",
    "\n",
    "# Define an empty DF to store the students\n",
    "dfPartTypeColdvsVol = pd.DataFrame(columns= ['STUDENT_ID', 'STUDENT_NAME_ENGLISH', 'COLD/VOL_RATIO'])\n",
    "# List of students how have more cold calls than volunteers\n",
    "for index, row in dfParticipationDateTypePivot.iterrows():\n",
    "    oID = dfParticipationDateTypePivot['STUDENT_ID'][index]\n",
    "    oCold = dfParticipationDateTypePivot['cold call'][index]\n",
    "    oVol = dfParticipationDateTypePivot['volunteer'][index]\n",
    "    oName = dfParticipationDateCount['STUDENT_NAME_ENGLISH'][index]\n",
    "    oRatio = oCold/oVol\n",
    "    # Append a row to the DF\n",
    "    dfPartTypeColdvsVol = dfPartTypeColdvsVol.append({'STUDENT_ID': oID, 'STUDENT_NAME_ENGLISH': oName, 'COLD/VOL_RATIO':oRatio, 'MORE_VOL_NEEDED':''}, ignore_index = True)\n",
    "    # Determine whether they need to volunteer more\n",
    "    if dfPartTypeColdvsVol['COLD/VOL_RATIO'][index] > 1.00:\n",
    "        dfPartTypeColdvsVol['MORE_VOL_NEEDED'][index] = True\n",
    "    else:\n",
    "        dfPartTypeColdvsVol['MORE_VOL_NEEDED'][index] = False"
   ]
  },
  {
   "source": [
    "#### *Plots*"
   ],
   "cell_type": "markdown",
   "metadata": {}
  },
  {
   "cell_type": "code",
   "execution_count": 19,
   "metadata": {},
   "outputs": [],
   "source": [
    "# Define a list to store the plot names\n",
    "lParticipationPlots = []"
   ]
  },
  {
   "source": [
    "##### Total Participation Instances This Month"
   ],
   "cell_type": "markdown",
   "metadata": {}
  },
  {
   "cell_type": "code",
   "execution_count": 20,
   "metadata": {},
   "outputs": [],
   "source": [
    "# Set the title\n",
    "oTitle = f\"({tiMonth}-{tiYear}) Class {tiClassID} - Participations Count\"\n",
    "# Create the plot\n",
    "ax = dfParticipationDateCount.plot.bar(x = 'STUDENT_NAME_ENGLISH', y = 'PART_COUNT', figsize = (20, 8), rot = 0, label = \"# of Participation Instances\")\n",
    "# Calculate the average\n",
    "oAverage = dfParticipationDateType['PART_TYPE_COUNT'].sum() / oNumberStudents\n",
    "# Plot the class average\n",
    "plt.axhline(y = oAverage, color = 'darkorange', linestyle = 'dashed', label = '{} Average'.format(oMonth))\n",
    "# Set up the legend\n",
    "plt.legend(bbox_to_anchor=(1.01, 0.5), loc='center left', borderaxespad=0)\n",
    "# Format the graph\n",
    "tSubtitle = 'Class {} - {}, {}'.format(tiClassID, oMonth, tiYear)\n",
    "plt.suptitle(\"Particpations Count\", size = 28, fontweight = \"bold\", y = 0.96, ha = 'center')\n",
    "ax.set_title(tSubtitle, size = 14, ha = 'center')\n",
    "ax.set_xlabel(\"Name\", size = 18, style=\"italic\")\n",
    "ax.set_ylabel(\"Count of Participation Instances\", size = 18, style=\"italic\")\n",
    "# Add labels\n",
    "fShowValuesOnBars(ax, 0)\n",
    "# Save the figure as png\n",
    "ax.figure.savefig(f\"Images\\{oTitle}.png\", bbox_inches = 'tight')\n",
    "# Append the plot to a list\n",
    "lParticipationPlots.append(f\"{oTitle}.png\")\n",
    "# Close the plot to stop it dislaying\n",
    "plt.close()"
   ]
  },
  {
   "source": [
    "##### Particpation by Type Distribution"
   ],
   "cell_type": "markdown",
   "metadata": {}
  },
  {
   "cell_type": "code",
   "execution_count": 21,
   "metadata": {},
   "outputs": [],
   "source": [
    "# Prepare the DF\n",
    "dfTest = dfParticipationDateTypePivot.drop(columns = ['STUDENT_ID'], axis = 1)\n",
    "# Set the title\n",
    "oTitle = f\"({tiMonth}-{tiYear}) Class {tiClassID} - Participation by Type\"\n",
    "# Create the plot\n",
    "ax = dfTest.plot.bar(x = 'STUDENT_NAME_ENGLISH', figsize = (20, 8), rot = 0)\n",
    "# Format the graph\n",
    "tSubtitle = 'Class {} - {}, {}'.format(tiClassID, oMonth, tiYear)\n",
    "plt.suptitle(\"Participation by Type\", size = 28, fontweight = \"bold\", y = 0.96, ha = 'center')\n",
    "ax.set_title(tSubtitle, size = 14, ha = 'center')\n",
    "ax.set_xlabel(\"Name\", size = 18, style=\"italic\")\n",
    "ax.set_ylabel(\"Count of Participations\", size = 18, style=\"italic\")\n",
    "# Set up the legend\n",
    "plt.legend(bbox_to_anchor=(1.01, 0.5), loc='center left', borderaxespad=0)\n",
    "# Show values on the bars\n",
    "fShowValuesOnBars(ax, 0)\n",
    "# Save the figure as png\n",
    "ax.figure.savefig(f\"Images\\{oTitle}.png\", bbox_inches = 'tight')\n",
    "# Append the plot to a list\n",
    "lParticipationPlots.append(f\"{oTitle}.png\")\n",
    "# Close the plot to stop it dislaying\n",
    "plt.close()"
   ]
  },
  {
   "source": [
    "##### Volunteer/Cold Call Ratio"
   ],
   "cell_type": "markdown",
   "metadata": {}
  },
  {
   "cell_type": "code",
   "execution_count": 22,
   "metadata": {},
   "outputs": [],
   "source": [
    "# Set the title\n",
    "oTitle = f\"({tiMonth}-{tiYear}) Class {tiClassID} - Cold-Volunteer Ratio\"\n",
    "# Create the plot\n",
    "ax = dfPartTypeColdvsVol.plot.bar(x = 'STUDENT_NAME_ENGLISH', y = 'COLD/VOL_RATIO', figsize=(20, 8), label = 'Cold/Vol Ratio (lower is better)', rot = 0)\n",
    "# Calculate the average\n",
    "oAverage = dfPartTypeColdvsVol['COLD/VOL_RATIO'].mean()\n",
    "# Plot the class average\n",
    "plt.axhline(y = oAverage, color = 'darkorange', linestyle = 'dashed', label = '{} Average'.format(oMonth))\n",
    "# Format the graph\n",
    "tSubtitle = 'Class {} - {}, {}'.format(tiClassID, oMonth, tiYear)\n",
    "plt.suptitle(\"Cold/Volunteer Ratio\", size = 28, fontweight = \"bold\", y = 0.96, ha = 'center')\n",
    "ax.set_title(tSubtitle, size = 14, ha = 'center')\n",
    "ax.set_xlabel(\"Name\", size = 18, style=\"italic\")\n",
    "ax.set_ylabel(\"Cold/Vol Ratio\", size = 18, style=\"italic\")\n",
    "# Set up the legend\n",
    "plt.legend(bbox_to_anchor=(1.01, 0.5), loc='center left', borderaxespad=0)\n",
    "# Show values on the bars\n",
    "fShowValuesOnBars(ax, 2)\n",
    "# Save the figure as png\n",
    "ax.figure.savefig(f\"Images\\{oTitle}.png\", bbox_inches = 'tight')\n",
    "# Append the plot to a list\n",
    "lParticipationPlots.append(f\"{oTitle}.png\")\n",
    "# Close the plot to stop it dislaying\n",
    "plt.close()"
   ]
  },
  {
   "source": [
    "##### Mean Participations per Class"
   ],
   "cell_type": "markdown",
   "metadata": {}
  },
  {
   "cell_type": "code",
   "execution_count": 23,
   "metadata": {},
   "outputs": [],
   "source": [
    "# Set the title\n",
    "oTitle = f\"({tiMonth}-{tiYear}) Class {tiClassID} - Mean Participations per Class\"\n",
    "# Create the plot\n",
    "ax = dfMeanPart.plot.bar(x = 'STUDENT_NAME_ENGLISH', y = 'MEAN_PARTICIPATIONS_PER_CLASS', figsize = (20, 8), rot = 0, label = \"Mean Participations per Class\")\n",
    "# Calculate the average\n",
    "oAverage = dfMeanPart['MEAN_PARTICIPATIONS_PER_CLASS'].mean()\n",
    "# Plot the class average\n",
    "plt.axhline(y = oAverage, color = 'darkorange', linestyle = 'dashed', label = '{} Average'.format(oMonth))\n",
    "# Set up the legend\n",
    "plt.legend(bbox_to_anchor=(1.01, 0.5), loc='center left', borderaxespad=0)\n",
    "# Format the graph\n",
    "tSubtitle = 'Class {} - {}, {}'.format(tiClassID, oMonth, tiYear)\n",
    "plt.suptitle(\"Mean Participations per Class\", size = 28, fontweight = \"bold\", y = 0.96, ha = 'center')\n",
    "ax.set_title(tSubtitle, size = 14, ha = 'center')\n",
    "ax.set_xlabel(\"Name\", size = 18, style=\"italic\")\n",
    "ax.set_ylabel(\"Participations Count\", size = 18, style=\"italic\")\n",
    "# Add labels\n",
    "fShowValuesOnBars(ax, 2)\n",
    "# Save the figure as png\n",
    "ax.figure.savefig(f\"Images\\{oTitle}.png\", bbox_inches = 'tight')\n",
    "# Append the plot to a list\n",
    "lParticipationPlots.append(f\"{oTitle}.png\")\n",
    "# Close the plot to stop it dislaying\n",
    "plt.close()"
   ]
  },
  {
   "source": [
    "##### Attempts per Participation Instance"
   ],
   "cell_type": "markdown",
   "metadata": {}
  },
  {
   "source": [
    "# Set the title\n",
    "oTitle = f\"({tiMonth}-{tiYear}) Class {tiClassID} - Attempts per Participation Instance\"\n",
    "# Create the plot\n",
    "ax = dfMeanPart.plot.bar(x = 'STUDENT_NAME_ENGLISH', y = 'MEAN_ATTEMPTS_PER_PART_INSTANCE', figsize = (20, 8), label = 'Mean Attempts (lower is better)', rot = 0)\n",
    "# Calculate the average\n",
    "oAverage = dfMeanPart['MEAN_ATTEMPTS_PER_PART_INSTANCE'].mean()\n",
    "# Plot the class average\n",
    "plt.axhline(y = oAverage, color = 'darkorange', linestyle = 'dashed', label = '{} Average'.format(oMonth))\n",
    "# Set up the legend\n",
    "plt.legend(bbox_to_anchor=(1.01, 0.5), loc='center left', borderaxespad=0)\n",
    "# Format the graph\n",
    "tSubtitle = 'Class {} - {}, {}'.format(tiClassID, oMonth, tiYear)\n",
    "plt.suptitle(\"Mean Attempts per Participation Instance\", size = 28, fontweight = \"bold\", y = 0.96, ha = 'center')\n",
    "ax.set_title(tSubtitle, size = 14, ha = 'center')\n",
    "ax.set_xlabel(\"Name\", size = 18, style=\"italic\")\n",
    "ax.set_ylabel(\"Mean Attempts\", size = 18, style=\"italic\")\n",
    "# Add labels\n",
    "fShowValuesOnBars(ax, 2)\n",
    "# Save the figure as png\n",
    "ax.figure.savefig(f\"Images\\{oTitle}.png\", bbox_inches = 'tight')\n",
    "# Append the plot to a list\n",
    "lParticipationPlots.append(f\"{oTitle}.png\")\n",
    "# Close the plot to stop it dislaying\n",
    "plt.close()"
   ],
   "cell_type": "code",
   "metadata": {},
   "execution_count": 24,
   "outputs": []
  },
  {
   "source": [
    "##### Hints per Participation Instance"
   ],
   "cell_type": "markdown",
   "metadata": {}
  },
  {
   "cell_type": "code",
   "execution_count": 25,
   "metadata": {},
   "outputs": [],
   "source": [
    "# Set the title\n",
    "oTitle = f\"({tiMonth}-{tiYear}) Class {tiClassID} - Hints per Participation Instance\"\n",
    "# Create the plot\n",
    "ax = dfMeanPart.plot.bar(x = 'STUDENT_NAME_ENGLISH', y = 'MEAN_HINTS_PER_PART_INSTANCE', figsize = (20, 8), label = 'Mean Hints (lower is better)', rot = 0)\n",
    "# Calculate the average\n",
    "oAverage = dfMeanPart['MEAN_HINTS_PER_PART_INSTANCE'].mean()\n",
    "# Plot the class average\n",
    "plt.axhline(y = oAverage, color = 'darkorange', linestyle = 'dashed', label = '{} Average'.format(oMonth))\n",
    "# Set up the legend\n",
    "plt.legend(bbox_to_anchor=(1.01, 0.5), loc='center left', borderaxespad=0)\n",
    "# Format the graph\n",
    "tSubtitle = 'Class {} - {}, {}'.format(tiClassID, oMonth, tiYear)\n",
    "plt.suptitle(\"Mean Hints per Participation Instance\", size = 28, fontweight = \"bold\", y = 0.96, ha = 'center')\n",
    "ax.set_title(tSubtitle, size = 14, ha = 'center')\n",
    "ax.set_xlabel(\"Name\", size = 18, style=\"italic\")\n",
    "ax.set_ylabel(\"Mean Hints\", size = 18, style=\"italic\")\n",
    "# Add labels\n",
    "fShowValuesOnBars(ax, 2)\n",
    "# Save the figure as png\n",
    "ax.figure.savefig(f\"Images\\{oTitle}.png\", bbox_inches = 'tight')\n",
    "# Append the plot to a list\n",
    "lParticipationPlots.append(f\"{oTitle}.png\")\n",
    "# Close the plot to stop it dislaying\n",
    "plt.close()"
   ]
  },
  {
   "source": [
    "##### *Attempts/Hints Ratio*"
   ],
   "cell_type": "markdown",
   "metadata": {}
  },
  {
   "cell_type": "code",
   "execution_count": 26,
   "metadata": {},
   "outputs": [],
   "source": [
    "# Set the title\n",
    "oTitle = f\"({tiMonth}-{tiYear}) Class {tiClassID} - Attempt-Hint Ratio\"\n",
    "# Create the plot\n",
    "ax = dfMeanPart.plot.bar(x = 'STUDENT_NAME_ENGLISH', y = 'ATTEMPTS/HINTS_RATIO', figsize = (20, 8), label = 'Attempt/Hint Ratio (higher is better)', rot = 0)\n",
    "# Calculate the average\n",
    "oAverage = dfMeanPart['ATTEMPTS/HINTS_RATIO'].mean()\n",
    "# Plot the class average\n",
    "plt.axhline(y = oAverage, color = 'darkorange', linestyle = 'dashed', label = '{} Average'.format(oMonth))\n",
    "# Set up the legend\n",
    "plt.legend(bbox_to_anchor=(1.01, 0.5), loc='center left', borderaxespad=0)\n",
    "# Format the graph\n",
    "tSubtitle = 'Class {} - {}, {}'.format(tiClassID, oMonth, tiYear)\n",
    "plt.suptitle(\"Attempt/Hint Ratio\", size = 28, fontweight = \"bold\", y = 0.96, ha = 'center')\n",
    "ax.set_title(tSubtitle, size = 14, ha = 'center')\n",
    "ax.set_xlabel(\"Name\", size = 18, style=\"italic\")\n",
    "ax.set_ylabel(\"Attempt/Hint Ratio\", size = 18, style=\"italic\")\n",
    "# Add labels\n",
    "fShowValuesOnBars(ax, 2)\n",
    "# Save the figure as png\n",
    "ax.figure.savefig(f\"Images\\{oTitle}.png\", bbox_inches = 'tight')\n",
    "# Append the plot to a list\n",
    "lParticipationPlots.append(f\"{oTitle}.png\")\n",
    "# Close the plot to stop it dislaying\n",
    "plt.close()"
   ]
  },
  {
   "source": [
    "##### *Strings/Lists/Dictionaries/Tables*"
   ],
   "cell_type": "markdown",
   "metadata": {}
  },
  {
   "cell_type": "code",
   "execution_count": 27,
   "metadata": {},
   "outputs": [
    {
     "output_type": "execute_result",
     "data": {
      "text/plain": [
       "{88.0: 'Zelda',\n",
       " 149.0: 'Herbert',\n",
       " 209.0: 'Jewel',\n",
       " 393.0: 'May',\n",
       " 411.0: 'Philip',\n",
       " 440.0: 'Florence',\n",
       " 489.0: 'Bernice'}"
      ]
     },
     "metadata": {},
     "execution_count": 27
    }
   ],
   "source": [
    "# Dictionary of students who have below average participation instances\n",
    "\n",
    "# Define an empty dictionary to store the students\n",
    "dBelowAveragePartCount = {}\n",
    "# Calculate the average\n",
    "oAverage = dfParticipationDateType['PART_TYPE_COUNT'].sum() / oNumberStudents\n",
    "# Loop through the rows to find those lower than average\n",
    "for index, row in dfParticipationDateCount.iterrows():\n",
    "    oPartCount = dfParticipationDateCount['PART_COUNT'][index]\n",
    "    oID = dfParticipationDateCount['STUDENT_ID'][index]\n",
    "    oName = dfParticipationDateCount['STUDENT_NAME_ENGLISH'][index]\n",
    "    if oPartCount < oAverage:\n",
    "        dBelowAveragePartCount.update({oID:oName})\n",
    "# Display the Dictionary\n",
    "dBelowAveragePartCount"
   ]
  },
  {
   "source": [
    "#### PDF Generation"
   ],
   "cell_type": "markdown",
   "metadata": {}
  },
  {
   "cell_type": "code",
   "execution_count": 28,
   "metadata": {},
   "outputs": [],
   "source": [
    "# Instantiate an FPDF object\n",
    "pdf = FPDF()\n",
    "# Add a page to the PDF doc\n",
    "pdf.add_page()\n",
    "# Effective page width, or just epw\n",
    "epw = pdf.w - 2*pdf.l_margin\n",
    "# Set column width to 1/4 of effective page width to distribute content evenly across table and page\n",
    "col_width = epw/3\n",
    "# Document Title\n",
    "title = 'Participation Report'\n",
    "pdf.set_font('Times', 'B', 18)\n",
    "pdf.cell(epw, 10, title, 0, 1, 'C')\n",
    "# Add the lines\n",
    "pdf.cell(0, 10, \"{}\".format(tiClassID), 0, 1, 'C')\n",
    "pdf.add_font('simhei', '', r'C:\\Windows\\Fonts\\simhei.ttf', uni=True)\n",
    "pdf.set_font('simhei', '', 14)\n",
    "pdf.cell(0, 10, \"{}\".format(tiClassID), 0, 1, 'C')\n",
    "# Add the plots\n",
    "for i in lParticipationPlots:\n",
    "    pdf.image(f\"Images\\{i}\", x = None, y = None, w = 190, h = 80)\n",
    "# Save the PDF and export it\n",
    "pdf.output(\"Reports\\poop.pdf\").encode('latin-1','ignore')\n",
    "os.startfile(\"Reports\\poop.pdf\")"
   ]
  },
  {
   "source": [
    "### Points"
   ],
   "cell_type": "markdown",
   "metadata": {}
  },
  {
   "source": [
    "##### *Prepare the DataFrames*"
   ],
   "cell_type": "markdown",
   "metadata": {}
  },
  {
   "cell_type": "code",
   "execution_count": 26,
   "metadata": {},
   "outputs": [],
   "source": [
    "# Define empty lists to store the points\n",
    "partTotalsList = []\n",
    "hwTotalsList = []\n",
    "testTotalsList = []\n",
    "attTotalsList = []\n",
    "\n",
    "# Loop through the student IDs to build the lists\n",
    "for i in lStudentsInCurrentClass:\n",
    "    # Calculate each student's PARTICIPATION_POINTS\n",
    "    a = dfParticipationDate.loc[dfParticipationDate['STUDENT_ID'] == i]\n",
    "    ag = a.groupby(by = 'PARTICIPATION_TYPE').agg('count')\n",
    "    coldCalls = ag['STUDENT_ID'][0]\n",
    "    volunteer = ag['STUDENT_ID'][1]*2\n",
    "    total1 = coldCalls + volunteer\n",
    "    partTotalsList.append(total1)\n",
    "    # Calculate each student's HW_POINTS\n",
    "    total2 = dfHWScoresDate['HW_SCORE'].loc[dfHWScoresDate['STUDENT_ID'] == i].agg('sum')\n",
    "    hwTotalsList.append(total2)\n",
    "    # Calculate each student's TEST_POINTS\n",
    "    total3 = dfTestScoresDate['TEST_SCORE'].loc[dfTestScoresDate['STUDENT_ID'] == i].agg('sum')\n",
    "    testTotalsList.append(total3)\n",
    "    # Calculate each student's ATTENDANCE_POINTS\n",
    "    b = dfAttendanceDate.loc[dfAttendanceDate['STUDENT_ID'] == i]\n",
    "    bg = b.groupby(by = 'ATTENDANCE_STATUS').agg('count')\n",
    "    try:\n",
    "        total4 = bg['STUDENT_ID'][1]\n",
    "    except Exception:\n",
    "        total4 = bg['STUDENT_ID'][0]\n",
    "    attTotalsList.append(total4)\n",
    "\n",
    "# Define the column names for the Points DataFrame\n",
    "column_names = ['STUDENT_ID', 'PARTICIPATION_POINTS', 'HW_POINTS', 'TEST_POINTS', 'ATTENDANCE_POINTS', 'TOTAL_POINTS']\n",
    "# Create the DataFrame using the above column names\n",
    "dfPoints = pd.DataFrame(columns = column_names)\n",
    "# Set the STUDENT_ID column to all student IDs\n",
    "dfPoints['STUDENT_ID'] = lStudentsInCurrentClass\n",
    "# Set the PARTICIPATION_POINTS column\n",
    "dfPoints['PARTICIPATION_POINTS'] = partTotalsList\n",
    "# Set the HW_POINTS column\n",
    "dfPoints['HW_POINTS'] = hwTotalsList\n",
    "# Set the TEST_POINTS column\n",
    "dfPoints['TEST_POINTS'] = testTotalsList\n",
    "# Set the ATTENDANCE_POINTS column\n",
    "dfPoints['ATTENDANCE_POINTS'] = attTotalsList\n",
    "# Define the sum of all point columns as an object for the sum() function\n",
    "total = [dfPoints['PARTICIPATION_POINTS'], dfPoints['HW_POINTS'], dfPoints['TEST_POINTS'], dfPoints['ATTENDANCE_POINTS']]\n",
    "# Set the TOTAL_POINTS column to the sum of the previously declared total object\n",
    "dfPoints['TOTAL_POINTS'] = sum(total)\n",
    "\n",
    "# Merge dfPoints with STUDENT_NAME_ENGLISH\n",
    "dfPoints = pd.merge(dfPoints, dfStudents[['STUDENT_ID', 'CLASS_ID', 'STUDENT_NAME_ENGLISH']], on = 'STUDENT_ID')\n",
    "# Cast the floats to ints as that granularity isn't necessary\n",
    "dfPoints = dfPoints.astype({'HW_POINTS':'int32', 'TEST_POINTS':'int32', 'TOTAL_POINTS':'int32'})\n",
    "# Sort by TOTAL_POINTS in descending order\n",
    "dfPoints = dfPoints.sort_values(by = 'TOTAL_POINTS', ascending = False)"
   ]
  },
  {
   "source": [
    "##### *Plots*"
   ],
   "cell_type": "markdown",
   "metadata": {}
  },
  {
   "cell_type": "code",
   "execution_count": 71,
   "metadata": {},
   "outputs": [
    {
     "output_type": "display_data",
     "data": {
      "text/plain": "<Figure size 1440x576 with 1 Axes>",
      "image/svg+xml": "<?xml version=\"1.0\" encoding=\"utf-8\" standalone=\"no\"?>\r\n<!DOCTYPE svg PUBLIC \"-//W3C//DTD SVG 1.1//EN\"\r\n  \"http://www.w3.org/Graphics/SVG/1.1/DTD/svg11.dtd\">\r\n<!-- Created with matplotlib (https://matplotlib.org/) -->\r\n<svg height=\"511.615pt\" version=\"1.1\" viewBox=\"0 0 1327.065 511.615\" width=\"1327.065pt\" xmlns=\"http://www.w3.org/2000/svg\" xmlns:xlink=\"http://www.w3.org/1999/xlink\">\r\n <defs>\r\n  <style type=\"text/css\">\r\n*{stroke-linecap:butt;stroke-linejoin:round;}\r\n  </style>\r\n </defs>\r\n <g id=\"figure_1\">\r\n  <g id=\"patch_1\">\r\n   <path d=\"M 0 511.615 \r\nL 1327.065 511.615 \r\nL 1327.065 0 \r\nL 0 0 \r\nz\r\n\" style=\"fill:none;\"/>\r\n  </g>\r\n  <g id=\"axes_1\">\r\n   <g id=\"patch_2\">\r\n    <path d=\"M 61.070625 466.31625 \r\nL 1177.070625 466.31625 \r\nL 1177.070625 31.43625 \r\nL 61.070625 31.43625 \r\nz\r\n\" style=\"fill:#ffffff;\"/>\r\n   </g>\r\n   <g id=\"patch_3\">\r\n    <path clip-path=\"url(#p6b80da4161)\" d=\"M 79.670625 466.31625 \r\nL 116.870625 466.31625 \r\nL 116.870625 318.181943 \r\nL 79.670625 318.181943 \r\nz\r\n\" style=\"fill:#add8e6;\"/>\r\n   </g>\r\n   <g id=\"patch_4\">\r\n    <path clip-path=\"url(#p6b80da4161)\" d=\"M 154.070625 466.31625 \r\nL 191.270625 466.31625 \r\nL 191.270625 308.10478 \r\nL 154.070625 308.10478 \r\nz\r\n\" style=\"fill:#add8e6;\"/>\r\n   </g>\r\n   <g id=\"patch_5\">\r\n    <path clip-path=\"url(#p6b80da4161)\" d=\"M 228.470625 466.31625 \r\nL 265.670625 466.31625 \r\nL 265.670625 323.388478 \r\nL 228.470625 323.388478 \r\nz\r\n\" style=\"fill:#add8e6;\"/>\r\n   </g>\r\n   <g id=\"patch_6\">\r\n    <path clip-path=\"url(#p6b80da4161)\" d=\"M 302.870625 466.31625 \r\nL 340.070625 466.31625 \r\nL 340.070625 313.311314 \r\nL 302.870625 313.311314 \r\nz\r\n\" style=\"fill:#add8e6;\"/>\r\n   </g>\r\n   <g id=\"patch_7\">\r\n    <path clip-path=\"url(#p6b80da4161)\" d=\"M 377.270625 466.31625 \r\nL 414.470625 466.31625 \r\nL 414.470625 318.685802 \r\nL 377.270625 318.685802 \r\nz\r\n\" style=\"fill:#add8e6;\"/>\r\n   </g>\r\n   <g id=\"patch_8\">\r\n    <path clip-path=\"url(#p6b80da4161)\" d=\"M 451.670625 466.31625 \r\nL 488.870625 466.31625 \r\nL 488.870625 315.158794 \r\nL 451.670625 315.158794 \r\nz\r\n\" style=\"fill:#add8e6;\"/>\r\n   </g>\r\n   <g id=\"patch_9\">\r\n    <path clip-path=\"url(#p6b80da4161)\" d=\"M 526.070625 466.31625 \r\nL 563.270625 466.31625 \r\nL 563.270625 301.050765 \r\nL 526.070625 301.050765 \r\nz\r\n\" style=\"fill:#add8e6;\"/>\r\n   </g>\r\n   <g id=\"patch_10\">\r\n    <path clip-path=\"url(#p6b80da4161)\" d=\"M 600.470625 466.31625 \r\nL 637.670625 466.31625 \r\nL 637.670625 312.807456 \r\nL 600.470625 312.807456 \r\nz\r\n\" style=\"fill:#add8e6;\"/>\r\n   </g>\r\n   <g id=\"patch_11\">\r\n    <path clip-path=\"url(#p6b80da4161)\" d=\"M 674.870625 466.31625 \r\nL 712.070625 466.31625 \r\nL 712.070625 312.639503 \r\nL 674.870625 312.639503 \r\nz\r\n\" style=\"fill:#add8e6;\"/>\r\n   </g>\r\n   <g id=\"patch_12\">\r\n    <path clip-path=\"url(#p6b80da4161)\" d=\"M 749.270625 466.31625 \r\nL 786.470625 466.31625 \r\nL 786.470625 311.127929 \r\nL 749.270625 311.127929 \r\nz\r\n\" style=\"fill:#add8e6;\"/>\r\n   </g>\r\n   <g id=\"patch_13\">\r\n    <path clip-path=\"url(#p6b80da4161)\" d=\"M 823.670625 466.31625 \r\nL 860.870625 466.31625 \r\nL 860.870625 330.946351 \r\nL 823.670625 330.946351 \r\nz\r\n\" style=\"fill:#add8e6;\"/>\r\n   </g>\r\n   <g id=\"patch_14\">\r\n    <path clip-path=\"url(#p6b80da4161)\" d=\"M 898.070625 466.31625 \r\nL 935.270625 466.31625 \r\nL 935.270625 319.525565 \r\nL 898.070625 319.525565 \r\nz\r\n\" style=\"fill:#add8e6;\"/>\r\n   </g>\r\n   <g id=\"patch_15\">\r\n    <path clip-path=\"url(#p6b80da4161)\" d=\"M 972.470625 466.31625 \r\nL 1009.670625 466.31625 \r\nL 1009.670625 319.525565 \r\nL 972.470625 319.525565 \r\nz\r\n\" style=\"fill:#add8e6;\"/>\r\n   </g>\r\n   <g id=\"patch_16\">\r\n    <path clip-path=\"url(#p6b80da4161)\" d=\"M 1046.870625 466.31625 \r\nL 1084.070625 466.31625 \r\nL 1084.070625 312.807456 \r\nL 1046.870625 312.807456 \r\nz\r\n\" style=\"fill:#add8e6;\"/>\r\n   </g>\r\n   <g id=\"patch_17\">\r\n    <path clip-path=\"url(#p6b80da4161)\" d=\"M 1121.270625 466.31625 \r\nL 1158.470625 466.31625 \r\nL 1158.470625 317.846038 \r\nL 1121.270625 317.846038 \r\nz\r\n\" style=\"fill:#add8e6;\"/>\r\n   </g>\r\n   <g id=\"patch_18\">\r\n    <path clip-path=\"url(#p6b80da4161)\" d=\"M 79.670625 318.181943 \r\nL 116.870625 318.181943 \r\nL 116.870625 231.686288 \r\nL 79.670625 231.686288 \r\nz\r\n\" style=\"fill:#ff0000;\"/>\r\n   </g>\r\n   <g id=\"patch_19\">\r\n    <path clip-path=\"url(#p6b80da4161)\" d=\"M 154.070625 308.10478 \r\nL 191.270625 308.10478 \r\nL 191.270625 213.547394 \r\nL 154.070625 213.547394 \r\nz\r\n\" style=\"fill:#ff0000;\"/>\r\n   </g>\r\n   <g id=\"patch_20\">\r\n    <path clip-path=\"url(#p6b80da4161)\" d=\"M 228.470625 323.388478 \r\nL 265.670625 323.388478 \r\nL 265.670625 231.014477 \r\nL 228.470625 231.014477 \r\nz\r\n\" style=\"fill:#ff0000;\"/>\r\n   </g>\r\n   <g id=\"patch_21\">\r\n    <path clip-path=\"url(#p6b80da4161)\" d=\"M 302.870625 313.311314 \r\nL 340.070625 313.311314 \r\nL 340.070625 215.562826 \r\nL 302.870625 215.562826 \r\nz\r\n\" style=\"fill:#ff0000;\"/>\r\n   </g>\r\n   <g id=\"patch_22\">\r\n    <path clip-path=\"url(#p6b80da4161)\" d=\"M 377.270625 318.685802 \r\nL 414.470625 318.685802 \r\nL 414.470625 217.074401 \r\nL 377.270625 217.074401 \r\nz\r\n\" style=\"fill:#ff0000;\"/>\r\n   </g>\r\n   <g id=\"patch_23\">\r\n    <path clip-path=\"url(#p6b80da4161)\" d=\"M 451.670625 315.158794 \r\nL 488.870625 315.158794 \r\nL 488.870625 209.348575 \r\nL 451.670625 209.348575 \r\nz\r\n\" style=\"fill:#ff0000;\"/>\r\n   </g>\r\n   <g id=\"patch_24\">\r\n    <path clip-path=\"url(#p6b80da4161)\" d=\"M 526.070625 301.050765 \r\nL 563.270625 301.050765 \r\nL 563.270625 202.630466 \r\nL 526.070625 202.630466 \r\nz\r\n\" style=\"fill:#ff0000;\"/>\r\n   </g>\r\n   <g id=\"patch_25\">\r\n    <path clip-path=\"url(#p6b80da4161)\" d=\"M 600.470625 312.807456 \r\nL 637.670625 312.807456 \r\nL 637.670625 219.257786 \r\nL 600.470625 219.257786 \r\nz\r\n\" style=\"fill:#ff0000;\"/>\r\n   </g>\r\n   <g id=\"patch_26\">\r\n    <path clip-path=\"url(#p6b80da4161)\" d=\"M 674.870625 312.639503 \r\nL 712.070625 312.639503 \r\nL 712.070625 216.234637 \r\nL 674.870625 216.234637 \r\nz\r\n\" style=\"fill:#ff0000;\"/>\r\n   </g>\r\n   <g id=\"patch_27\">\r\n    <path clip-path=\"url(#p6b80da4161)\" d=\"M 749.270625 311.127929 \r\nL 786.470625 311.127929 \r\nL 786.470625 216.40259 \r\nL 749.270625 216.40259 \r\nz\r\n\" style=\"fill:#ff0000;\"/>\r\n   </g>\r\n   <g id=\"patch_28\">\r\n    <path clip-path=\"url(#p6b80da4161)\" d=\"M 823.670625 330.946351 \r\nL 860.870625 330.946351 \r\nL 860.870625 239.748019 \r\nL 823.670625 239.748019 \r\nz\r\n\" style=\"fill:#ff0000;\"/>\r\n   </g>\r\n   <g id=\"patch_29\">\r\n    <path clip-path=\"url(#p6b80da4161)\" d=\"M 898.070625 319.525565 \r\nL 935.270625 319.525565 \r\nL 935.270625 222.784794 \r\nL 898.070625 222.784794 \r\nz\r\n\" style=\"fill:#ff0000;\"/>\r\n   </g>\r\n   <g id=\"patch_30\">\r\n    <path clip-path=\"url(#p6b80da4161)\" d=\"M 972.470625 319.525565 \r\nL 1009.670625 319.525565 \r\nL 1009.670625 221.105266 \r\nL 972.470625 221.105266 \r\nz\r\n\" style=\"fill:#ff0000;\"/>\r\n   </g>\r\n   <g id=\"patch_31\">\r\n    <path clip-path=\"url(#p6b80da4161)\" d=\"M 1046.870625 312.807456 \r\nL 1084.070625 312.807456 \r\nL 1084.070625 213.715346 \r\nL 1046.870625 213.715346 \r\nz\r\n\" style=\"fill:#ff0000;\"/>\r\n   </g>\r\n   <g id=\"patch_32\">\r\n    <path clip-path=\"url(#p6b80da4161)\" d=\"M 1121.270625 317.846038 \r\nL 1158.470625 317.846038 \r\nL 1158.470625 229.33495 \r\nL 1121.270625 229.33495 \r\nz\r\n\" style=\"fill:#ff0000;\"/>\r\n   </g>\r\n   <g id=\"patch_33\">\r\n    <path clip-path=\"url(#p6b80da4161)\" d=\"M 79.670625 231.686288 \r\nL 116.870625 231.686288 \r\nL 116.870625 106.561505 \r\nL 79.670625 106.561505 \r\nz\r\n\" style=\"fill:#ffa500;\"/>\r\n   </g>\r\n   <g id=\"patch_34\">\r\n    <path clip-path=\"url(#p6b80da4161)\" d=\"M 154.070625 213.547394 \r\nL 191.270625 213.547394 \r\nL 191.270625 119.829771 \r\nL 154.070625 119.829771 \r\nz\r\n\" style=\"fill:#ffa500;\"/>\r\n   </g>\r\n   <g id=\"patch_35\">\r\n    <path clip-path=\"url(#p6b80da4161)\" d=\"M 228.470625 231.014477 \r\nL 265.670625 231.014477 \r\nL 265.670625 126.379927 \r\nL 228.470625 126.379927 \r\nz\r\n\" style=\"fill:#ffa500;\"/>\r\n   </g>\r\n   <g id=\"patch_36\">\r\n    <path clip-path=\"url(#p6b80da4161)\" d=\"M 302.870625 215.562826 \r\nL 340.070625 215.562826 \r\nL 340.070625 103.874262 \r\nL 302.870625 103.874262 \r\nz\r\n\" style=\"fill:#ffa500;\"/>\r\n   </g>\r\n   <g id=\"patch_37\">\r\n    <path clip-path=\"url(#p6b80da4161)\" d=\"M 377.270625 217.074401 \r\nL 414.470625 217.074401 \r\nL 414.470625 127.219691 \r\nL 377.270625 127.219691 \r\nz\r\n\" style=\"fill:#ffa500;\"/>\r\n   </g>\r\n   <g id=\"patch_38\">\r\n    <path clip-path=\"url(#p6b80da4161)\" d=\"M 451.670625 209.348575 \r\nL 488.870625 209.348575 \r\nL 488.870625 102.866545 \r\nL 451.670625 102.866545 \r\nz\r\n\" style=\"fill:#ffa500;\"/>\r\n   </g>\r\n   <g id=\"patch_39\">\r\n    <path clip-path=\"url(#p6b80da4161)\" d=\"M 526.070625 202.630466 \r\nL 563.270625 202.630466 \r\nL 563.270625 72.803007 \r\nL 526.070625 72.803007 \r\nz\r\n\" style=\"fill:#ffa500;\"/>\r\n   </g>\r\n   <g id=\"patch_40\">\r\n    <path clip-path=\"url(#p6b80da4161)\" d=\"M 600.470625 219.257786 \r\nL 637.670625 219.257786 \r\nL 637.670625 87.246942 \r\nL 600.470625 87.246942 \r\nz\r\n\" style=\"fill:#ffa500;\"/>\r\n   </g>\r\n   <g id=\"patch_41\">\r\n    <path clip-path=\"url(#p6b80da4161)\" d=\"M 674.870625 216.234637 \r\nL 712.070625 216.234637 \r\nL 712.070625 92.117571 \r\nL 674.870625 92.117571 \r\nz\r\n\" style=\"fill:#ffa500;\"/>\r\n   </g>\r\n   <g id=\"patch_42\">\r\n    <path clip-path=\"url(#p6b80da4161)\" d=\"M 749.270625 216.40259 \r\nL 786.470625 216.40259 \r\nL 786.470625 108.241033 \r\nL 749.270625 108.241033 \r\nz\r\n\" style=\"fill:#ffa500;\"/>\r\n   </g>\r\n   <g id=\"patch_43\">\r\n    <path clip-path=\"url(#p6b80da4161)\" d=\"M 823.670625 239.748019 \r\nL 860.870625 239.748019 \r\nL 860.870625 122.684967 \r\nL 823.670625 122.684967 \r\nz\r\n\" style=\"fill:#ffa500;\"/>\r\n   </g>\r\n   <g id=\"patch_44\">\r\n    <path clip-path=\"url(#p6b80da4161)\" d=\"M 898.070625 222.784794 \r\nL 935.270625 222.784794 \r\nL 935.270625 94.804814 \r\nL 898.070625 94.804814 \r\nz\r\n\" style=\"fill:#ffa500;\"/>\r\n   </g>\r\n   <g id=\"patch_45\">\r\n    <path clip-path=\"url(#p6b80da4161)\" d=\"M 972.470625 221.105266 \r\nL 1009.670625 221.105266 \r\nL 1009.670625 106.393553 \r\nL 972.470625 106.393553 \r\nz\r\n\" style=\"fill:#ffa500;\"/>\r\n   </g>\r\n   <g id=\"patch_46\">\r\n    <path clip-path=\"url(#p6b80da4161)\" d=\"M 1046.870625 213.715346 \r\nL 1084.070625 213.715346 \r\nL 1084.070625 102.362687 \r\nL 1046.870625 102.362687 \r\nz\r\n\" style=\"fill:#ffa500;\"/>\r\n   </g>\r\n   <g id=\"patch_47\">\r\n    <path clip-path=\"url(#p6b80da4161)\" d=\"M 1121.270625 229.33495 \r\nL 1158.470625 229.33495 \r\nL 1158.470625 128.059455 \r\nL 1121.270625 128.059455 \r\nz\r\n\" style=\"fill:#ffa500;\"/>\r\n   </g>\r\n   <g id=\"patch_48\">\r\n    <path clip-path=\"url(#p6b80da4161)\" d=\"M 79.670625 106.561505 \r\nL 116.870625 106.561505 \r\nL 116.870625 85.90332 \r\nL 79.670625 85.90332 \r\nz\r\n\" style=\"fill:#90ee90;\"/>\r\n   </g>\r\n   <g id=\"patch_49\">\r\n    <path clip-path=\"url(#p6b80da4161)\" d=\"M 154.070625 119.829771 \r\nL 191.270625 119.829771 \r\nL 191.270625 99.171585 \r\nL 154.070625 99.171585 \r\nz\r\n\" style=\"fill:#90ee90;\"/>\r\n   </g>\r\n   <g id=\"patch_50\">\r\n    <path clip-path=\"url(#p6b80da4161)\" d=\"M 228.470625 126.379927 \r\nL 265.670625 126.379927 \r\nL 265.670625 105.721742 \r\nL 228.470625 105.721742 \r\nz\r\n\" style=\"fill:#90ee90;\"/>\r\n   </g>\r\n   <g id=\"patch_51\">\r\n    <path clip-path=\"url(#p6b80da4161)\" d=\"M 302.870625 103.874262 \r\nL 340.070625 103.874262 \r\nL 340.070625 83.216076 \r\nL 302.870625 83.216076 \r\nz\r\n\" style=\"fill:#90ee90;\"/>\r\n   </g>\r\n   <g id=\"patch_52\">\r\n    <path clip-path=\"url(#p6b80da4161)\" d=\"M 377.270625 127.219691 \r\nL 414.470625 127.219691 \r\nL 414.470625 106.561505 \r\nL 377.270625 106.561505 \r\nz\r\n\" style=\"fill:#90ee90;\"/>\r\n   </g>\r\n   <g id=\"patch_53\">\r\n    <path clip-path=\"url(#p6b80da4161)\" d=\"M 451.670625 102.866545 \r\nL 488.870625 102.866545 \r\nL 488.870625 82.20836 \r\nL 451.670625 82.20836 \r\nz\r\n\" style=\"fill:#90ee90;\"/>\r\n   </g>\r\n   <g id=\"patch_54\">\r\n    <path clip-path=\"url(#p6b80da4161)\" d=\"M 526.070625 72.803007 \r\nL 563.270625 72.803007 \r\nL 563.270625 52.144821 \r\nL 526.070625 52.144821 \r\nz\r\n\" style=\"fill:#90ee90;\"/>\r\n   </g>\r\n   <g id=\"patch_55\">\r\n    <path clip-path=\"url(#p6b80da4161)\" d=\"M 600.470625 87.246942 \r\nL 637.670625 87.246942 \r\nL 637.670625 66.588756 \r\nL 600.470625 66.588756 \r\nz\r\n\" style=\"fill:#90ee90;\"/>\r\n   </g>\r\n   <g id=\"patch_56\">\r\n    <path clip-path=\"url(#p6b80da4161)\" d=\"M 674.870625 92.117571 \r\nL 712.070625 92.117571 \r\nL 712.070625 71.459385 \r\nL 674.870625 71.459385 \r\nz\r\n\" style=\"fill:#90ee90;\"/>\r\n   </g>\r\n   <g id=\"patch_57\">\r\n    <path clip-path=\"url(#p6b80da4161)\" d=\"M 749.270625 108.241033 \r\nL 786.470625 108.241033 \r\nL 786.470625 87.582847 \r\nL 749.270625 87.582847 \r\nz\r\n\" style=\"fill:#90ee90;\"/>\r\n   </g>\r\n   <g id=\"patch_58\">\r\n    <path clip-path=\"url(#p6b80da4161)\" d=\"M 823.670625 122.684967 \r\nL 860.870625 122.684967 \r\nL 860.870625 102.026782 \r\nL 823.670625 102.026782 \r\nz\r\n\" style=\"fill:#90ee90;\"/>\r\n   </g>\r\n   <g id=\"patch_59\">\r\n    <path clip-path=\"url(#p6b80da4161)\" d=\"M 898.070625 94.804814 \r\nL 935.270625 94.804814 \r\nL 935.270625 74.146629 \r\nL 898.070625 74.146629 \r\nz\r\n\" style=\"fill:#90ee90;\"/>\r\n   </g>\r\n   <g id=\"patch_60\">\r\n    <path clip-path=\"url(#p6b80da4161)\" d=\"M 972.470625 106.393553 \r\nL 1009.670625 106.393553 \r\nL 1009.670625 85.735367 \r\nL 972.470625 85.735367 \r\nz\r\n\" style=\"fill:#90ee90;\"/>\r\n   </g>\r\n   <g id=\"patch_61\">\r\n    <path clip-path=\"url(#p6b80da4161)\" d=\"M 1046.870625 102.362687 \r\nL 1084.070625 102.362687 \r\nL 1084.070625 81.704502 \r\nL 1046.870625 81.704502 \r\nz\r\n\" style=\"fill:#90ee90;\"/>\r\n   </g>\r\n   <g id=\"patch_62\">\r\n    <path clip-path=\"url(#p6b80da4161)\" d=\"M 1121.270625 128.059455 \r\nL 1158.470625 128.059455 \r\nL 1158.470625 107.401269 \r\nL 1121.270625 107.401269 \r\nz\r\n\" style=\"fill:#90ee90;\"/>\r\n   </g>\r\n   <g id=\"matplotlib.axis_1\">\r\n    <g id=\"xtick_1\">\r\n     <g id=\"line2d_1\">\r\n      <defs>\r\n       <path d=\"M 0 0 \r\nL 0 3.5 \r\n\" id=\"m3bca542e3d\" style=\"stroke:#000000;stroke-width:0.8;\"/>\r\n      </defs>\r\n      <g>\r\n       <use style=\"stroke:#000000;stroke-width:0.8;\" x=\"98.270625\" xlink:href=\"#m3bca542e3d\" y=\"466.31625\"/>\r\n      </g>\r\n     </g>\r\n     <g id=\"text_1\">\r\n      <!-- James -->\r\n      <defs>\r\n       <path d=\"M 9.8125 72.90625 \r\nL 19.671875 72.90625 \r\nL 19.671875 5.078125 \r\nQ 19.671875 -8.109375 14.671875 -14.0625 \r\nQ 9.671875 -20.015625 -1.421875 -20.015625 \r\nL -5.171875 -20.015625 \r\nL -5.171875 -11.71875 \r\nL -2.09375 -11.71875 \r\nQ 4.4375 -11.71875 7.125 -8.046875 \r\nQ 9.8125 -4.390625 9.8125 5.078125 \r\nz\r\n\" id=\"DejaVuSans-74\"/>\r\n       <path d=\"M 34.28125 27.484375 \r\nQ 23.390625 27.484375 19.1875 25 \r\nQ 14.984375 22.515625 14.984375 16.5 \r\nQ 14.984375 11.71875 18.140625 8.90625 \r\nQ 21.296875 6.109375 26.703125 6.109375 \r\nQ 34.1875 6.109375 38.703125 11.40625 \r\nQ 43.21875 16.703125 43.21875 25.484375 \r\nL 43.21875 27.484375 \r\nz\r\nM 52.203125 31.203125 \r\nL 52.203125 0 \r\nL 43.21875 0 \r\nL 43.21875 8.296875 \r\nQ 40.140625 3.328125 35.546875 0.953125 \r\nQ 30.953125 -1.421875 24.3125 -1.421875 \r\nQ 15.921875 -1.421875 10.953125 3.296875 \r\nQ 6 8.015625 6 15.921875 \r\nQ 6 25.140625 12.171875 29.828125 \r\nQ 18.359375 34.515625 30.609375 34.515625 \r\nL 43.21875 34.515625 \r\nL 43.21875 35.40625 \r\nQ 43.21875 41.609375 39.140625 45 \r\nQ 35.0625 48.390625 27.6875 48.390625 \r\nQ 23 48.390625 18.546875 47.265625 \r\nQ 14.109375 46.140625 10.015625 43.890625 \r\nL 10.015625 52.203125 \r\nQ 14.9375 54.109375 19.578125 55.046875 \r\nQ 24.21875 56 28.609375 56 \r\nQ 40.484375 56 46.34375 49.84375 \r\nQ 52.203125 43.703125 52.203125 31.203125 \r\nz\r\n\" id=\"DejaVuSans-97\"/>\r\n       <path d=\"M 52 44.1875 \r\nQ 55.375 50.25 60.0625 53.125 \r\nQ 64.75 56 71.09375 56 \r\nQ 79.640625 56 84.28125 50.015625 \r\nQ 88.921875 44.046875 88.921875 33.015625 \r\nL 88.921875 0 \r\nL 79.890625 0 \r\nL 79.890625 32.71875 \r\nQ 79.890625 40.578125 77.09375 44.375 \r\nQ 74.3125 48.1875 68.609375 48.1875 \r\nQ 61.625 48.1875 57.5625 43.546875 \r\nQ 53.515625 38.921875 53.515625 30.90625 \r\nL 53.515625 0 \r\nL 44.484375 0 \r\nL 44.484375 32.71875 \r\nQ 44.484375 40.625 41.703125 44.40625 \r\nQ 38.921875 48.1875 33.109375 48.1875 \r\nQ 26.21875 48.1875 22.15625 43.53125 \r\nQ 18.109375 38.875 18.109375 30.90625 \r\nL 18.109375 0 \r\nL 9.078125 0 \r\nL 9.078125 54.6875 \r\nL 18.109375 54.6875 \r\nL 18.109375 46.1875 \r\nQ 21.1875 51.21875 25.484375 53.609375 \r\nQ 29.78125 56 35.6875 56 \r\nQ 41.65625 56 45.828125 52.96875 \r\nQ 50 49.953125 52 44.1875 \r\nz\r\n\" id=\"DejaVuSans-109\"/>\r\n       <path d=\"M 56.203125 29.59375 \r\nL 56.203125 25.203125 \r\nL 14.890625 25.203125 \r\nQ 15.484375 15.921875 20.484375 11.0625 \r\nQ 25.484375 6.203125 34.421875 6.203125 \r\nQ 39.59375 6.203125 44.453125 7.46875 \r\nQ 49.3125 8.734375 54.109375 11.28125 \r\nL 54.109375 2.78125 \r\nQ 49.265625 0.734375 44.1875 -0.34375 \r\nQ 39.109375 -1.421875 33.890625 -1.421875 \r\nQ 20.796875 -1.421875 13.15625 6.1875 \r\nQ 5.515625 13.8125 5.515625 26.8125 \r\nQ 5.515625 40.234375 12.765625 48.109375 \r\nQ 20.015625 56 32.328125 56 \r\nQ 43.359375 56 49.78125 48.890625 \r\nQ 56.203125 41.796875 56.203125 29.59375 \r\nz\r\nM 47.21875 32.234375 \r\nQ 47.125 39.59375 43.09375 43.984375 \r\nQ 39.0625 48.390625 32.421875 48.390625 \r\nQ 24.90625 48.390625 20.390625 44.140625 \r\nQ 15.875 39.890625 15.1875 32.171875 \r\nz\r\n\" id=\"DejaVuSans-101\"/>\r\n       <path d=\"M 44.28125 53.078125 \r\nL 44.28125 44.578125 \r\nQ 40.484375 46.53125 36.375 47.5 \r\nQ 32.28125 48.484375 27.875 48.484375 \r\nQ 21.1875 48.484375 17.84375 46.4375 \r\nQ 14.5 44.390625 14.5 40.28125 \r\nQ 14.5 37.15625 16.890625 35.375 \r\nQ 19.28125 33.59375 26.515625 31.984375 \r\nL 29.59375 31.296875 \r\nQ 39.15625 29.25 43.1875 25.515625 \r\nQ 47.21875 21.78125 47.21875 15.09375 \r\nQ 47.21875 7.46875 41.1875 3.015625 \r\nQ 35.15625 -1.421875 24.609375 -1.421875 \r\nQ 20.21875 -1.421875 15.453125 -0.5625 \r\nQ 10.6875 0.296875 5.421875 2 \r\nL 5.421875 11.28125 \r\nQ 10.40625 8.6875 15.234375 7.390625 \r\nQ 20.0625 6.109375 24.8125 6.109375 \r\nQ 31.15625 6.109375 34.5625 8.28125 \r\nQ 37.984375 10.453125 37.984375 14.40625 \r\nQ 37.984375 18.0625 35.515625 20.015625 \r\nQ 33.0625 21.96875 24.703125 23.78125 \r\nL 21.578125 24.515625 \r\nQ 13.234375 26.265625 9.515625 29.90625 \r\nQ 5.8125 33.546875 5.8125 39.890625 \r\nQ 5.8125 47.609375 11.28125 51.796875 \r\nQ 16.75 56 26.8125 56 \r\nQ 31.78125 56 36.171875 55.265625 \r\nQ 40.578125 54.546875 44.28125 53.078125 \r\nz\r\n\" id=\"DejaVuSans-115\"/>\r\n      </defs>\r\n      <g transform=\"translate(83.18 480.914688)scale(0.1 -0.1)\">\r\n       <use xlink:href=\"#DejaVuSans-74\"/>\r\n       <use x=\"29.492188\" xlink:href=\"#DejaVuSans-97\"/>\r\n       <use x=\"90.771484\" xlink:href=\"#DejaVuSans-109\"/>\r\n       <use x=\"188.183594\" xlink:href=\"#DejaVuSans-101\"/>\r\n       <use x=\"249.707031\" xlink:href=\"#DejaVuSans-115\"/>\r\n      </g>\r\n     </g>\r\n    </g>\r\n    <g id=\"xtick_2\">\r\n     <g id=\"line2d_2\">\r\n      <g>\r\n       <use style=\"stroke:#000000;stroke-width:0.8;\" x=\"172.670625\" xlink:href=\"#m3bca542e3d\" y=\"466.31625\"/>\r\n      </g>\r\n     </g>\r\n     <g id=\"text_2\">\r\n      <!-- Joseph -->\r\n      <defs>\r\n       <path d=\"M 30.609375 48.390625 \r\nQ 23.390625 48.390625 19.1875 42.75 \r\nQ 14.984375 37.109375 14.984375 27.296875 \r\nQ 14.984375 17.484375 19.15625 11.84375 \r\nQ 23.34375 6.203125 30.609375 6.203125 \r\nQ 37.796875 6.203125 41.984375 11.859375 \r\nQ 46.1875 17.53125 46.1875 27.296875 \r\nQ 46.1875 37.015625 41.984375 42.703125 \r\nQ 37.796875 48.390625 30.609375 48.390625 \r\nz\r\nM 30.609375 56 \r\nQ 42.328125 56 49.015625 48.375 \r\nQ 55.71875 40.765625 55.71875 27.296875 \r\nQ 55.71875 13.875 49.015625 6.21875 \r\nQ 42.328125 -1.421875 30.609375 -1.421875 \r\nQ 18.84375 -1.421875 12.171875 6.21875 \r\nQ 5.515625 13.875 5.515625 27.296875 \r\nQ 5.515625 40.765625 12.171875 48.375 \r\nQ 18.84375 56 30.609375 56 \r\nz\r\n\" id=\"DejaVuSans-111\"/>\r\n       <path d=\"M 18.109375 8.203125 \r\nL 18.109375 -20.796875 \r\nL 9.078125 -20.796875 \r\nL 9.078125 54.6875 \r\nL 18.109375 54.6875 \r\nL 18.109375 46.390625 \r\nQ 20.953125 51.265625 25.265625 53.625 \r\nQ 29.59375 56 35.59375 56 \r\nQ 45.5625 56 51.78125 48.09375 \r\nQ 58.015625 40.1875 58.015625 27.296875 \r\nQ 58.015625 14.40625 51.78125 6.484375 \r\nQ 45.5625 -1.421875 35.59375 -1.421875 \r\nQ 29.59375 -1.421875 25.265625 0.953125 \r\nQ 20.953125 3.328125 18.109375 8.203125 \r\nz\r\nM 48.6875 27.296875 \r\nQ 48.6875 37.203125 44.609375 42.84375 \r\nQ 40.53125 48.484375 33.40625 48.484375 \r\nQ 26.265625 48.484375 22.1875 42.84375 \r\nQ 18.109375 37.203125 18.109375 27.296875 \r\nQ 18.109375 17.390625 22.1875 11.75 \r\nQ 26.265625 6.109375 33.40625 6.109375 \r\nQ 40.53125 6.109375 44.609375 11.75 \r\nQ 48.6875 17.390625 48.6875 27.296875 \r\nz\r\n\" id=\"DejaVuSans-112\"/>\r\n       <path d=\"M 54.890625 33.015625 \r\nL 54.890625 0 \r\nL 45.90625 0 \r\nL 45.90625 32.71875 \r\nQ 45.90625 40.484375 42.875 44.328125 \r\nQ 39.84375 48.1875 33.796875 48.1875 \r\nQ 26.515625 48.1875 22.3125 43.546875 \r\nQ 18.109375 38.921875 18.109375 30.90625 \r\nL 18.109375 0 \r\nL 9.078125 0 \r\nL 9.078125 75.984375 \r\nL 18.109375 75.984375 \r\nL 18.109375 46.1875 \r\nQ 21.34375 51.125 25.703125 53.5625 \r\nQ 30.078125 56 35.796875 56 \r\nQ 45.21875 56 50.046875 50.171875 \r\nQ 54.890625 44.34375 54.890625 33.015625 \r\nz\r\n\" id=\"DejaVuSans-104\"/>\r\n      </defs>\r\n      <g transform=\"translate(156.112031 480.914688)scale(0.1 -0.1)\">\r\n       <use xlink:href=\"#DejaVuSans-74\"/>\r\n       <use x=\"29.492188\" xlink:href=\"#DejaVuSans-111\"/>\r\n       <use x=\"90.673828\" xlink:href=\"#DejaVuSans-115\"/>\r\n       <use x=\"142.773438\" xlink:href=\"#DejaVuSans-101\"/>\r\n       <use x=\"204.296875\" xlink:href=\"#DejaVuSans-112\"/>\r\n       <use x=\"267.773438\" xlink:href=\"#DejaVuSans-104\"/>\r\n      </g>\r\n     </g>\r\n    </g>\r\n    <g id=\"xtick_3\">\r\n     <g id=\"line2d_3\">\r\n      <g>\r\n       <use style=\"stroke:#000000;stroke-width:0.8;\" x=\"247.070625\" xlink:href=\"#m3bca542e3d\" y=\"466.31625\"/>\r\n      </g>\r\n     </g>\r\n     <g id=\"text_3\">\r\n      <!-- Zelda -->\r\n      <defs>\r\n       <path d=\"M 5.609375 72.90625 \r\nL 62.890625 72.90625 \r\nL 62.890625 65.375 \r\nL 16.796875 8.296875 \r\nL 64.015625 8.296875 \r\nL 64.015625 0 \r\nL 4.5 0 \r\nL 4.5 7.515625 \r\nL 50.59375 64.59375 \r\nL 5.609375 64.59375 \r\nz\r\n\" id=\"DejaVuSans-90\"/>\r\n       <path d=\"M 9.421875 75.984375 \r\nL 18.40625 75.984375 \r\nL 18.40625 0 \r\nL 9.421875 0 \r\nz\r\n\" id=\"DejaVuSans-108\"/>\r\n       <path d=\"M 45.40625 46.390625 \r\nL 45.40625 75.984375 \r\nL 54.390625 75.984375 \r\nL 54.390625 0 \r\nL 45.40625 0 \r\nL 45.40625 8.203125 \r\nQ 42.578125 3.328125 38.25 0.953125 \r\nQ 33.9375 -1.421875 27.875 -1.421875 \r\nQ 17.96875 -1.421875 11.734375 6.484375 \r\nQ 5.515625 14.40625 5.515625 27.296875 \r\nQ 5.515625 40.1875 11.734375 48.09375 \r\nQ 17.96875 56 27.875 56 \r\nQ 33.9375 56 38.25 53.625 \r\nQ 42.578125 51.265625 45.40625 46.390625 \r\nz\r\nM 14.796875 27.296875 \r\nQ 14.796875 17.390625 18.875 11.75 \r\nQ 22.953125 6.109375 30.078125 6.109375 \r\nQ 37.203125 6.109375 41.296875 11.75 \r\nQ 45.40625 17.390625 45.40625 27.296875 \r\nQ 45.40625 37.203125 41.296875 42.84375 \r\nQ 37.203125 48.484375 30.078125 48.484375 \r\nQ 22.953125 48.484375 18.875 42.84375 \r\nQ 14.796875 37.203125 14.796875 27.296875 \r\nz\r\n\" id=\"DejaVuSans-100\"/>\r\n      </defs>\r\n      <g transform=\"translate(232.941719 480.914688)scale(0.1 -0.1)\">\r\n       <use xlink:href=\"#DejaVuSans-90\"/>\r\n       <use x=\"68.505859\" xlink:href=\"#DejaVuSans-101\"/>\r\n       <use x=\"130.029297\" xlink:href=\"#DejaVuSans-108\"/>\r\n       <use x=\"157.8125\" xlink:href=\"#DejaVuSans-100\"/>\r\n       <use x=\"221.289062\" xlink:href=\"#DejaVuSans-97\"/>\r\n      </g>\r\n     </g>\r\n    </g>\r\n    <g id=\"xtick_4\">\r\n     <g id=\"line2d_4\">\r\n      <g>\r\n       <use style=\"stroke:#000000;stroke-width:0.8;\" x=\"321.470625\" xlink:href=\"#m3bca542e3d\" y=\"466.31625\"/>\r\n      </g>\r\n     </g>\r\n     <g id=\"text_4\">\r\n      <!-- Herbert -->\r\n      <defs>\r\n       <path d=\"M 9.8125 72.90625 \r\nL 19.671875 72.90625 \r\nL 19.671875 43.015625 \r\nL 55.515625 43.015625 \r\nL 55.515625 72.90625 \r\nL 65.375 72.90625 \r\nL 65.375 0 \r\nL 55.515625 0 \r\nL 55.515625 34.71875 \r\nL 19.671875 34.71875 \r\nL 19.671875 0 \r\nL 9.8125 0 \r\nz\r\n\" id=\"DejaVuSans-72\"/>\r\n       <path d=\"M 41.109375 46.296875 \r\nQ 39.59375 47.171875 37.8125 47.578125 \r\nQ 36.03125 48 33.890625 48 \r\nQ 26.265625 48 22.1875 43.046875 \r\nQ 18.109375 38.09375 18.109375 28.8125 \r\nL 18.109375 0 \r\nL 9.078125 0 \r\nL 9.078125 54.6875 \r\nL 18.109375 54.6875 \r\nL 18.109375 46.1875 \r\nQ 20.953125 51.171875 25.484375 53.578125 \r\nQ 30.03125 56 36.53125 56 \r\nQ 37.453125 56 38.578125 55.875 \r\nQ 39.703125 55.765625 41.0625 55.515625 \r\nz\r\n\" id=\"DejaVuSans-114\"/>\r\n       <path d=\"M 48.6875 27.296875 \r\nQ 48.6875 37.203125 44.609375 42.84375 \r\nQ 40.53125 48.484375 33.40625 48.484375 \r\nQ 26.265625 48.484375 22.1875 42.84375 \r\nQ 18.109375 37.203125 18.109375 27.296875 \r\nQ 18.109375 17.390625 22.1875 11.75 \r\nQ 26.265625 6.109375 33.40625 6.109375 \r\nQ 40.53125 6.109375 44.609375 11.75 \r\nQ 48.6875 17.390625 48.6875 27.296875 \r\nz\r\nM 18.109375 46.390625 \r\nQ 20.953125 51.265625 25.265625 53.625 \r\nQ 29.59375 56 35.59375 56 \r\nQ 45.5625 56 51.78125 48.09375 \r\nQ 58.015625 40.1875 58.015625 27.296875 \r\nQ 58.015625 14.40625 51.78125 6.484375 \r\nQ 45.5625 -1.421875 35.59375 -1.421875 \r\nQ 29.59375 -1.421875 25.265625 0.953125 \r\nQ 20.953125 3.328125 18.109375 8.203125 \r\nL 18.109375 0 \r\nL 9.078125 0 \r\nL 9.078125 75.984375 \r\nL 18.109375 75.984375 \r\nz\r\n\" id=\"DejaVuSans-98\"/>\r\n       <path d=\"M 18.3125 70.21875 \r\nL 18.3125 54.6875 \r\nL 36.8125 54.6875 \r\nL 36.8125 47.703125 \r\nL 18.3125 47.703125 \r\nL 18.3125 18.015625 \r\nQ 18.3125 11.328125 20.140625 9.421875 \r\nQ 21.96875 7.515625 27.59375 7.515625 \r\nL 36.8125 7.515625 \r\nL 36.8125 0 \r\nL 27.59375 0 \r\nQ 17.1875 0 13.234375 3.875 \r\nQ 9.28125 7.765625 9.28125 18.015625 \r\nL 9.28125 47.703125 \r\nL 2.6875 47.703125 \r\nL 2.6875 54.6875 \r\nL 9.28125 54.6875 \r\nL 9.28125 70.21875 \r\nz\r\n\" id=\"DejaVuSans-116\"/>\r\n      </defs>\r\n      <g transform=\"translate(302.312031 480.914688)scale(0.1 -0.1)\">\r\n       <use xlink:href=\"#DejaVuSans-72\"/>\r\n       <use x=\"75.195312\" xlink:href=\"#DejaVuSans-101\"/>\r\n       <use x=\"136.71875\" xlink:href=\"#DejaVuSans-114\"/>\r\n       <use x=\"177.832031\" xlink:href=\"#DejaVuSans-98\"/>\r\n       <use x=\"241.308594\" xlink:href=\"#DejaVuSans-101\"/>\r\n       <use x=\"302.832031\" xlink:href=\"#DejaVuSans-114\"/>\r\n       <use x=\"343.945312\" xlink:href=\"#DejaVuSans-116\"/>\r\n      </g>\r\n     </g>\r\n    </g>\r\n    <g id=\"xtick_5\">\r\n     <g id=\"line2d_5\">\r\n      <g>\r\n       <use style=\"stroke:#000000;stroke-width:0.8;\" x=\"395.870625\" xlink:href=\"#m3bca542e3d\" y=\"466.31625\"/>\r\n      </g>\r\n     </g>\r\n     <g id=\"text_5\">\r\n      <!-- Jeanette -->\r\n      <defs>\r\n       <path d=\"M 54.890625 33.015625 \r\nL 54.890625 0 \r\nL 45.90625 0 \r\nL 45.90625 32.71875 \r\nQ 45.90625 40.484375 42.875 44.328125 \r\nQ 39.84375 48.1875 33.796875 48.1875 \r\nQ 26.515625 48.1875 22.3125 43.546875 \r\nQ 18.109375 38.921875 18.109375 30.90625 \r\nL 18.109375 0 \r\nL 9.078125 0 \r\nL 9.078125 54.6875 \r\nL 18.109375 54.6875 \r\nL 18.109375 46.1875 \r\nQ 21.34375 51.125 25.703125 53.5625 \r\nQ 30.078125 56 35.796875 56 \r\nQ 45.21875 56 50.046875 50.171875 \r\nQ 54.890625 44.34375 54.890625 33.015625 \r\nz\r\n\" id=\"DejaVuSans-110\"/>\r\n      </defs>\r\n      <g transform=\"translate(375.012812 480.914688)scale(0.1 -0.1)\">\r\n       <use xlink:href=\"#DejaVuSans-74\"/>\r\n       <use x=\"29.492188\" xlink:href=\"#DejaVuSans-101\"/>\r\n       <use x=\"91.015625\" xlink:href=\"#DejaVuSans-97\"/>\r\n       <use x=\"152.294922\" xlink:href=\"#DejaVuSans-110\"/>\r\n       <use x=\"215.673828\" xlink:href=\"#DejaVuSans-101\"/>\r\n       <use x=\"277.197266\" xlink:href=\"#DejaVuSans-116\"/>\r\n       <use x=\"316.40625\" xlink:href=\"#DejaVuSans-116\"/>\r\n       <use x=\"355.615234\" xlink:href=\"#DejaVuSans-101\"/>\r\n      </g>\r\n     </g>\r\n    </g>\r\n    <g id=\"xtick_6\">\r\n     <g id=\"line2d_6\">\r\n      <g>\r\n       <use style=\"stroke:#000000;stroke-width:0.8;\" x=\"470.270625\" xlink:href=\"#m3bca542e3d\" y=\"466.31625\"/>\r\n      </g>\r\n     </g>\r\n     <g id=\"text_6\">\r\n      <!-- Jewel -->\r\n      <defs>\r\n       <path d=\"M 4.203125 54.6875 \r\nL 13.1875 54.6875 \r\nL 24.421875 12.015625 \r\nL 35.59375 54.6875 \r\nL 46.1875 54.6875 \r\nL 57.421875 12.015625 \r\nL 68.609375 54.6875 \r\nL 77.59375 54.6875 \r\nL 63.28125 0 \r\nL 52.6875 0 \r\nL 40.921875 44.828125 \r\nL 29.109375 0 \r\nL 18.5 0 \r\nz\r\n\" id=\"DejaVuSans-119\"/>\r\n      </defs>\r\n      <g transform=\"translate(457.164375 480.914688)scale(0.1 -0.1)\">\r\n       <use xlink:href=\"#DejaVuSans-74\"/>\r\n       <use x=\"29.492188\" xlink:href=\"#DejaVuSans-101\"/>\r\n       <use x=\"91.015625\" xlink:href=\"#DejaVuSans-119\"/>\r\n       <use x=\"172.802734\" xlink:href=\"#DejaVuSans-101\"/>\r\n       <use x=\"234.326172\" xlink:href=\"#DejaVuSans-108\"/>\r\n      </g>\r\n     </g>\r\n    </g>\r\n    <g id=\"xtick_7\">\r\n     <g id=\"line2d_7\">\r\n      <g>\r\n       <use style=\"stroke:#000000;stroke-width:0.8;\" x=\"544.670625\" xlink:href=\"#m3bca542e3d\" y=\"466.31625\"/>\r\n      </g>\r\n     </g>\r\n     <g id=\"text_7\">\r\n      <!-- Dale -->\r\n      <defs>\r\n       <path d=\"M 19.671875 64.796875 \r\nL 19.671875 8.109375 \r\nL 31.59375 8.109375 \r\nQ 46.6875 8.109375 53.6875 14.9375 \r\nQ 60.6875 21.78125 60.6875 36.53125 \r\nQ 60.6875 51.171875 53.6875 57.984375 \r\nQ 46.6875 64.796875 31.59375 64.796875 \r\nz\r\nM 9.8125 72.90625 \r\nL 30.078125 72.90625 \r\nQ 51.265625 72.90625 61.171875 64.09375 \r\nQ 71.09375 55.28125 71.09375 36.53125 \r\nQ 71.09375 17.671875 61.125 8.828125 \r\nQ 51.171875 0 30.078125 0 \r\nL 9.8125 0 \r\nz\r\n\" id=\"DejaVuSans-68\"/>\r\n      </defs>\r\n      <g transform=\"translate(533.290937 480.914688)scale(0.1 -0.1)\">\r\n       <use xlink:href=\"#DejaVuSans-68\"/>\r\n       <use x=\"77.001953\" xlink:href=\"#DejaVuSans-97\"/>\r\n       <use x=\"138.28125\" xlink:href=\"#DejaVuSans-108\"/>\r\n       <use x=\"166.064453\" xlink:href=\"#DejaVuSans-101\"/>\r\n      </g>\r\n     </g>\r\n    </g>\r\n    <g id=\"xtick_8\">\r\n     <g id=\"line2d_8\">\r\n      <g>\r\n       <use style=\"stroke:#000000;stroke-width:0.8;\" x=\"619.070625\" xlink:href=\"#m3bca542e3d\" y=\"466.31625\"/>\r\n      </g>\r\n     </g>\r\n     <g id=\"text_8\">\r\n      <!-- Maria -->\r\n      <defs>\r\n       <path d=\"M 9.8125 72.90625 \r\nL 24.515625 72.90625 \r\nL 43.109375 23.296875 \r\nL 61.8125 72.90625 \r\nL 76.515625 72.90625 \r\nL 76.515625 0 \r\nL 66.890625 0 \r\nL 66.890625 64.015625 \r\nL 48.09375 14.015625 \r\nL 38.1875 14.015625 \r\nL 19.390625 64.015625 \r\nL 19.390625 0 \r\nL 9.8125 0 \r\nz\r\n\" id=\"DejaVuSans-77\"/>\r\n       <path d=\"M 9.421875 54.6875 \r\nL 18.40625 54.6875 \r\nL 18.40625 0 \r\nL 9.421875 0 \r\nz\r\nM 9.421875 75.984375 \r\nL 18.40625 75.984375 \r\nL 18.40625 64.59375 \r\nL 9.421875 64.59375 \r\nz\r\n\" id=\"DejaVuSans-105\"/>\r\n      </defs>\r\n      <g transform=\"translate(605.183906 480.914688)scale(0.1 -0.1)\">\r\n       <use xlink:href=\"#DejaVuSans-77\"/>\r\n       <use x=\"86.279297\" xlink:href=\"#DejaVuSans-97\"/>\r\n       <use x=\"147.558594\" xlink:href=\"#DejaVuSans-114\"/>\r\n       <use x=\"188.671875\" xlink:href=\"#DejaVuSans-105\"/>\r\n       <use x=\"216.455078\" xlink:href=\"#DejaVuSans-97\"/>\r\n      </g>\r\n     </g>\r\n    </g>\r\n    <g id=\"xtick_9\">\r\n     <g id=\"line2d_9\">\r\n      <g>\r\n       <use style=\"stroke:#000000;stroke-width:0.8;\" x=\"693.470625\" xlink:href=\"#m3bca542e3d\" y=\"466.31625\"/>\r\n      </g>\r\n     </g>\r\n     <g id=\"text_9\">\r\n      <!-- Marie -->\r\n      <g transform=\"translate(679.571406 480.914688)scale(0.1 -0.1)\">\r\n       <use xlink:href=\"#DejaVuSans-77\"/>\r\n       <use x=\"86.279297\" xlink:href=\"#DejaVuSans-97\"/>\r\n       <use x=\"147.558594\" xlink:href=\"#DejaVuSans-114\"/>\r\n       <use x=\"188.671875\" xlink:href=\"#DejaVuSans-105\"/>\r\n       <use x=\"216.455078\" xlink:href=\"#DejaVuSans-101\"/>\r\n      </g>\r\n     </g>\r\n    </g>\r\n    <g id=\"xtick_10\">\r\n     <g id=\"line2d_10\">\r\n      <g>\r\n       <use style=\"stroke:#000000;stroke-width:0.8;\" x=\"767.870625\" xlink:href=\"#m3bca542e3d\" y=\"466.31625\"/>\r\n      </g>\r\n     </g>\r\n     <g id=\"text_10\">\r\n      <!-- Jess -->\r\n      <g transform=\"translate(758.109688 480.914688)scale(0.1 -0.1)\">\r\n       <use xlink:href=\"#DejaVuSans-74\"/>\r\n       <use x=\"29.492188\" xlink:href=\"#DejaVuSans-101\"/>\r\n       <use x=\"91.015625\" xlink:href=\"#DejaVuSans-115\"/>\r\n       <use x=\"143.115234\" xlink:href=\"#DejaVuSans-115\"/>\r\n      </g>\r\n     </g>\r\n    </g>\r\n    <g id=\"xtick_11\">\r\n     <g id=\"line2d_11\">\r\n      <g>\r\n       <use style=\"stroke:#000000;stroke-width:0.8;\" x=\"842.270625\" xlink:href=\"#m3bca542e3d\" y=\"466.31625\"/>\r\n      </g>\r\n     </g>\r\n     <g id=\"text_11\">\r\n      <!-- May -->\r\n      <defs>\r\n       <path d=\"M 32.171875 -5.078125 \r\nQ 28.375 -14.84375 24.75 -17.8125 \r\nQ 21.140625 -20.796875 15.09375 -20.796875 \r\nL 7.90625 -20.796875 \r\nL 7.90625 -13.28125 \r\nL 13.1875 -13.28125 \r\nQ 16.890625 -13.28125 18.9375 -11.515625 \r\nQ 21 -9.765625 23.484375 -3.21875 \r\nL 25.09375 0.875 \r\nL 2.984375 54.6875 \r\nL 12.5 54.6875 \r\nL 29.59375 11.921875 \r\nL 46.6875 54.6875 \r\nL 56.203125 54.6875 \r\nz\r\n\" id=\"DejaVuSans-121\"/>\r\n      </defs>\r\n      <g transform=\"translate(831.933125 480.914688)scale(0.1 -0.1)\">\r\n       <use xlink:href=\"#DejaVuSans-77\"/>\r\n       <use x=\"86.279297\" xlink:href=\"#DejaVuSans-97\"/>\r\n       <use x=\"147.558594\" xlink:href=\"#DejaVuSans-121\"/>\r\n      </g>\r\n     </g>\r\n    </g>\r\n    <g id=\"xtick_12\">\r\n     <g id=\"line2d_12\">\r\n      <g>\r\n       <use style=\"stroke:#000000;stroke-width:0.8;\" x=\"916.670625\" xlink:href=\"#m3bca542e3d\" y=\"466.31625\"/>\r\n      </g>\r\n     </g>\r\n     <g id=\"text_12\">\r\n      <!-- Philip -->\r\n      <defs>\r\n       <path d=\"M 19.671875 64.796875 \r\nL 19.671875 37.40625 \r\nL 32.078125 37.40625 \r\nQ 38.96875 37.40625 42.71875 40.96875 \r\nQ 46.484375 44.53125 46.484375 51.125 \r\nQ 46.484375 57.671875 42.71875 61.234375 \r\nQ 38.96875 64.796875 32.078125 64.796875 \r\nz\r\nM 9.8125 72.90625 \r\nL 32.078125 72.90625 \r\nQ 44.34375 72.90625 50.609375 67.359375 \r\nQ 56.890625 61.8125 56.890625 51.125 \r\nQ 56.890625 40.328125 50.609375 34.8125 \r\nQ 44.34375 29.296875 32.078125 29.296875 \r\nL 19.671875 29.296875 \r\nL 19.671875 0 \r\nL 9.8125 0 \r\nz\r\n\" id=\"DejaVuSans-80\"/>\r\n      </defs>\r\n      <g transform=\"translate(903.145625 480.914688)scale(0.1 -0.1)\">\r\n       <use xlink:href=\"#DejaVuSans-80\"/>\r\n       <use x=\"60.302734\" xlink:href=\"#DejaVuSans-104\"/>\r\n       <use x=\"123.681641\" xlink:href=\"#DejaVuSans-105\"/>\r\n       <use x=\"151.464844\" xlink:href=\"#DejaVuSans-108\"/>\r\n       <use x=\"179.248047\" xlink:href=\"#DejaVuSans-105\"/>\r\n       <use x=\"207.03125\" xlink:href=\"#DejaVuSans-112\"/>\r\n      </g>\r\n     </g>\r\n    </g>\r\n    <g id=\"xtick_13\">\r\n     <g id=\"line2d_13\">\r\n      <g>\r\n       <use style=\"stroke:#000000;stroke-width:0.8;\" x=\"991.070625\" xlink:href=\"#m3bca542e3d\" y=\"466.31625\"/>\r\n      </g>\r\n     </g>\r\n     <g id=\"text_13\">\r\n      <!-- Florence -->\r\n      <defs>\r\n       <path d=\"M 9.8125 72.90625 \r\nL 51.703125 72.90625 \r\nL 51.703125 64.59375 \r\nL 19.671875 64.59375 \r\nL 19.671875 43.109375 \r\nL 48.578125 43.109375 \r\nL 48.578125 34.8125 \r\nL 19.671875 34.8125 \r\nL 19.671875 0 \r\nL 9.8125 0 \r\nz\r\n\" id=\"DejaVuSans-70\"/>\r\n       <path d=\"M 48.78125 52.59375 \r\nL 48.78125 44.1875 \r\nQ 44.96875 46.296875 41.140625 47.34375 \r\nQ 37.3125 48.390625 33.40625 48.390625 \r\nQ 24.65625 48.390625 19.8125 42.84375 \r\nQ 14.984375 37.3125 14.984375 27.296875 \r\nQ 14.984375 17.28125 19.8125 11.734375 \r\nQ 24.65625 6.203125 33.40625 6.203125 \r\nQ 37.3125 6.203125 41.140625 7.25 \r\nQ 44.96875 8.296875 48.78125 10.40625 \r\nL 48.78125 2.09375 \r\nQ 45.015625 0.34375 40.984375 -0.53125 \r\nQ 36.96875 -1.421875 32.421875 -1.421875 \r\nQ 20.0625 -1.421875 12.78125 6.34375 \r\nQ 5.515625 14.109375 5.515625 27.296875 \r\nQ 5.515625 40.671875 12.859375 48.328125 \r\nQ 20.21875 56 33.015625 56 \r\nQ 37.15625 56 41.109375 55.140625 \r\nQ 45.0625 54.296875 48.78125 52.59375 \r\nz\r\n\" id=\"DejaVuSans-99\"/>\r\n      </defs>\r\n      <g transform=\"translate(969.732344 480.914688)scale(0.1 -0.1)\">\r\n       <use xlink:href=\"#DejaVuSans-70\"/>\r\n       <use x=\"57.519531\" xlink:href=\"#DejaVuSans-108\"/>\r\n       <use x=\"85.302734\" xlink:href=\"#DejaVuSans-111\"/>\r\n       <use x=\"146.484375\" xlink:href=\"#DejaVuSans-114\"/>\r\n       <use x=\"185.347656\" xlink:href=\"#DejaVuSans-101\"/>\r\n       <use x=\"246.871094\" xlink:href=\"#DejaVuSans-110\"/>\r\n       <use x=\"310.25\" xlink:href=\"#DejaVuSans-99\"/>\r\n       <use x=\"365.230469\" xlink:href=\"#DejaVuSans-101\"/>\r\n      </g>\r\n     </g>\r\n    </g>\r\n    <g id=\"xtick_14\">\r\n     <g id=\"line2d_14\">\r\n      <g>\r\n       <use style=\"stroke:#000000;stroke-width:0.8;\" x=\"1065.470625\" xlink:href=\"#m3bca542e3d\" y=\"466.31625\"/>\r\n      </g>\r\n     </g>\r\n     <g id=\"text_14\">\r\n      <!-- Rachel -->\r\n      <defs>\r\n       <path d=\"M 44.390625 34.1875 \r\nQ 47.5625 33.109375 50.5625 29.59375 \r\nQ 53.5625 26.078125 56.59375 19.921875 \r\nL 66.609375 0 \r\nL 56 0 \r\nL 46.6875 18.703125 \r\nQ 43.0625 26.03125 39.671875 28.421875 \r\nQ 36.28125 30.8125 30.421875 30.8125 \r\nL 19.671875 30.8125 \r\nL 19.671875 0 \r\nL 9.8125 0 \r\nL 9.8125 72.90625 \r\nL 32.078125 72.90625 \r\nQ 44.578125 72.90625 50.734375 67.671875 \r\nQ 56.890625 62.453125 56.890625 51.90625 \r\nQ 56.890625 45.015625 53.6875 40.46875 \r\nQ 50.484375 35.9375 44.390625 34.1875 \r\nz\r\nM 19.671875 64.796875 \r\nL 19.671875 38.921875 \r\nL 32.078125 38.921875 \r\nQ 39.203125 38.921875 42.84375 42.21875 \r\nQ 46.484375 45.515625 46.484375 51.90625 \r\nQ 46.484375 58.296875 42.84375 61.546875 \r\nQ 39.203125 64.796875 32.078125 64.796875 \r\nz\r\n\" id=\"DejaVuSans-82\"/>\r\n      </defs>\r\n      <g transform=\"translate(1048.66125 480.914688)scale(0.1 -0.1)\">\r\n       <use xlink:href=\"#DejaVuSans-82\"/>\r\n       <use x=\"67.232422\" xlink:href=\"#DejaVuSans-97\"/>\r\n       <use x=\"128.511719\" xlink:href=\"#DejaVuSans-99\"/>\r\n       <use x=\"183.492188\" xlink:href=\"#DejaVuSans-104\"/>\r\n       <use x=\"246.871094\" xlink:href=\"#DejaVuSans-101\"/>\r\n       <use x=\"308.394531\" xlink:href=\"#DejaVuSans-108\"/>\r\n      </g>\r\n     </g>\r\n    </g>\r\n    <g id=\"xtick_15\">\r\n     <g id=\"line2d_15\">\r\n      <g>\r\n       <use style=\"stroke:#000000;stroke-width:0.8;\" x=\"1139.870625\" xlink:href=\"#m3bca542e3d\" y=\"466.31625\"/>\r\n      </g>\r\n     </g>\r\n     <g id=\"text_15\">\r\n      <!-- Bernice -->\r\n      <defs>\r\n       <path d=\"M 19.671875 34.8125 \r\nL 19.671875 8.109375 \r\nL 35.5 8.109375 \r\nQ 43.453125 8.109375 47.28125 11.40625 \r\nQ 51.125 14.703125 51.125 21.484375 \r\nQ 51.125 28.328125 47.28125 31.5625 \r\nQ 43.453125 34.8125 35.5 34.8125 \r\nz\r\nM 19.671875 64.796875 \r\nL 19.671875 42.828125 \r\nL 34.28125 42.828125 \r\nQ 41.5 42.828125 45.03125 45.53125 \r\nQ 48.578125 48.25 48.578125 53.8125 \r\nQ 48.578125 59.328125 45.03125 62.0625 \r\nQ 41.5 64.796875 34.28125 64.796875 \r\nz\r\nM 9.8125 72.90625 \r\nL 35.015625 72.90625 \r\nQ 46.296875 72.90625 52.390625 68.21875 \r\nQ 58.5 63.53125 58.5 54.890625 \r\nQ 58.5 48.1875 55.375 44.234375 \r\nQ 52.25 40.28125 46.1875 39.3125 \r\nQ 53.46875 37.75 57.5 32.78125 \r\nQ 61.53125 27.828125 61.53125 20.40625 \r\nQ 61.53125 10.640625 54.890625 5.3125 \r\nQ 48.25 0 35.984375 0 \r\nL 9.8125 0 \r\nz\r\n\" id=\"DejaVuSans-66\"/>\r\n      </defs>\r\n      <g transform=\"translate(1121.012031 480.914688)scale(0.1 -0.1)\">\r\n       <use xlink:href=\"#DejaVuSans-66\"/>\r\n       <use x=\"68.603516\" xlink:href=\"#DejaVuSans-101\"/>\r\n       <use x=\"130.126953\" xlink:href=\"#DejaVuSans-114\"/>\r\n       <use x=\"169.490234\" xlink:href=\"#DejaVuSans-110\"/>\r\n       <use x=\"232.869141\" xlink:href=\"#DejaVuSans-105\"/>\r\n       <use x=\"260.652344\" xlink:href=\"#DejaVuSans-99\"/>\r\n       <use x=\"315.632812\" xlink:href=\"#DejaVuSans-101\"/>\r\n      </g>\r\n     </g>\r\n    </g>\r\n    <g id=\"text_16\">\r\n     <!-- Name -->\r\n     <defs>\r\n      <path d=\"M 16.890625 72.90625 \r\nL 30.171875 72.90625 \r\nL 50.296875 10.40625 \r\nL 62.5 72.90625 \r\nL 72.125 72.90625 \r\nL 57.90625 0 \r\nL 44.578125 0 \r\nL 24.515625 62.890625 \r\nL 12.3125 0 \r\nL 2.6875 0 \r\nz\r\n\" id=\"DejaVuSans-Oblique-78\"/>\r\n      <path d=\"M 53.71875 31.203125 \r\nL 47.609375 0 \r\nL 38.625 0 \r\nL 40.28125 8.296875 \r\nQ 36.328125 3.421875 31.265625 1 \r\nQ 26.21875 -1.421875 20.015625 -1.421875 \r\nQ 13.03125 -1.421875 8.5625 2.84375 \r\nQ 4.109375 7.125 4.109375 13.8125 \r\nQ 4.109375 23.390625 11.75 28.953125 \r\nQ 19.390625 34.515625 32.8125 34.515625 \r\nL 45.3125 34.515625 \r\nL 45.796875 36.921875 \r\nQ 45.90625 37.3125 45.953125 37.765625 \r\nQ 46 38.234375 46 39.203125 \r\nQ 46 43.5625 42.453125 45.96875 \r\nQ 38.921875 48.390625 32.515625 48.390625 \r\nQ 28.125 48.390625 23.5 47.265625 \r\nQ 18.890625 46.140625 14.015625 43.890625 \r\nL 15.578125 52.203125 \r\nQ 20.65625 54.109375 25.515625 55.046875 \r\nQ 30.375 56 34.90625 56 \r\nQ 44.578125 56 49.625 51.796875 \r\nQ 54.6875 47.609375 54.6875 39.59375 \r\nQ 54.6875 37.984375 54.4375 35.8125 \r\nQ 54.203125 33.640625 53.71875 31.203125 \r\nz\r\nM 44 27.484375 \r\nL 35.015625 27.484375 \r\nQ 23.96875 27.484375 18.671875 24.53125 \r\nQ 13.375 21.578125 13.375 15.375 \r\nQ 13.375 11.078125 16.078125 8.640625 \r\nQ 18.796875 6.203125 23.578125 6.203125 \r\nQ 30.90625 6.203125 36.375 11.453125 \r\nQ 41.84375 16.703125 43.609375 25.484375 \r\nz\r\n\" id=\"DejaVuSans-Oblique-97\"/>\r\n      <path d=\"M 89.796875 33.015625 \r\nL 83.40625 0 \r\nL 74.421875 0 \r\nL 80.71875 32.71875 \r\nQ 81.109375 34.8125 81.296875 36.328125 \r\nQ 81.5 37.84375 81.5 38.921875 \r\nQ 81.5 43.3125 79.046875 45.75 \r\nQ 76.609375 48.1875 72.21875 48.1875 \r\nQ 65.671875 48.1875 60.546875 43.28125 \r\nQ 55.421875 38.375 53.90625 30.515625 \r\nL 47.90625 0 \r\nL 38.921875 0 \r\nL 45.3125 32.71875 \r\nQ 45.703125 34.515625 45.890625 36.046875 \r\nQ 46.09375 37.59375 46.09375 38.8125 \r\nQ 46.09375 43.265625 43.65625 45.71875 \r\nQ 41.21875 48.1875 36.921875 48.1875 \r\nQ 30.28125 48.1875 25.140625 43.28125 \r\nQ 20.015625 38.375 18.5 30.515625 \r\nL 12.5 0 \r\nL 3.515625 0 \r\nL 14.203125 54.6875 \r\nL 23.1875 54.6875 \r\nL 21.484375 46.1875 \r\nQ 25.140625 50.984375 30.046875 53.484375 \r\nQ 34.96875 56 40.578125 56 \r\nQ 46.53125 56 50.359375 52.875 \r\nQ 54.203125 49.75 54.984375 44.1875 \r\nQ 59.078125 49.953125 64.46875 52.96875 \r\nQ 69.875 56 75.875 56 \r\nQ 82.90625 56 86.734375 51.953125 \r\nQ 90.578125 47.90625 90.578125 40.484375 \r\nQ 90.578125 38.875 90.375 36.9375 \r\nQ 90.1875 35.015625 89.796875 33.015625 \r\nz\r\n\" id=\"DejaVuSans-Oblique-109\"/>\r\n      <path d=\"M 48.09375 32.234375 \r\nQ 48.25 33.015625 48.3125 33.84375 \r\nQ 48.390625 34.671875 48.390625 35.5 \r\nQ 48.390625 41.453125 44.890625 44.921875 \r\nQ 41.40625 48.390625 35.40625 48.390625 \r\nQ 28.71875 48.390625 23.578125 44.15625 \r\nQ 18.453125 39.9375 15.828125 32.171875 \r\nz\r\nM 55.90625 25.203125 \r\nL 14.109375 25.203125 \r\nQ 13.8125 23.34375 13.71875 22.265625 \r\nQ 13.625 21.1875 13.625 20.40625 \r\nQ 13.625 13.625 17.796875 9.90625 \r\nQ 21.96875 6.203125 29.59375 6.203125 \r\nQ 35.453125 6.203125 40.671875 7.515625 \r\nQ 45.90625 8.84375 50.390625 11.375 \r\nL 48.6875 2.484375 \r\nQ 43.84375 0.53125 38.6875 -0.4375 \r\nQ 33.546875 -1.421875 28.21875 -1.421875 \r\nQ 16.84375 -1.421875 10.71875 4.015625 \r\nQ 4.59375 9.46875 4.59375 19.484375 \r\nQ 4.59375 28.03125 7.640625 35.375 \r\nQ 10.6875 42.71875 16.609375 48.484375 \r\nQ 20.40625 52.09375 25.65625 54.046875 \r\nQ 30.90625 56 36.8125 56 \r\nQ 46.09375 56 51.578125 50.4375 \r\nQ 57.078125 44.875 57.078125 35.5 \r\nQ 57.078125 33.25 56.78125 30.6875 \r\nQ 56.5 28.125 55.90625 25.203125 \r\nz\r\n\" id=\"DejaVuSans-Oblique-101\"/>\r\n     </defs>\r\n     <g transform=\"translate(592.517812 500.671562)scale(0.18 -0.18)\">\r\n      <use xlink:href=\"#DejaVuSans-Oblique-78\"/>\r\n      <use x=\"74.804688\" xlink:href=\"#DejaVuSans-Oblique-97\"/>\r\n      <use x=\"136.083984\" xlink:href=\"#DejaVuSans-Oblique-109\"/>\r\n      <use x=\"233.496094\" xlink:href=\"#DejaVuSans-Oblique-101\"/>\r\n     </g>\r\n    </g>\r\n   </g>\r\n   <g id=\"matplotlib.axis_2\">\r\n    <g id=\"ytick_1\">\r\n     <g id=\"line2d_16\">\r\n      <defs>\r\n       <path d=\"M 0 0 \r\nL -3.5 0 \r\n\" id=\"m33440fd192\" style=\"stroke:#000000;stroke-width:0.8;\"/>\r\n      </defs>\r\n      <g>\r\n       <use style=\"stroke:#000000;stroke-width:0.8;\" x=\"61.070625\" xlink:href=\"#m33440fd192\" y=\"466.31625\"/>\r\n      </g>\r\n     </g>\r\n     <g id=\"text_17\">\r\n      <!-- 0 -->\r\n      <defs>\r\n       <path d=\"M 31.78125 66.40625 \r\nQ 24.171875 66.40625 20.328125 58.90625 \r\nQ 16.5 51.421875 16.5 36.375 \r\nQ 16.5 21.390625 20.328125 13.890625 \r\nQ 24.171875 6.390625 31.78125 6.390625 \r\nQ 39.453125 6.390625 43.28125 13.890625 \r\nQ 47.125 21.390625 47.125 36.375 \r\nQ 47.125 51.421875 43.28125 58.90625 \r\nQ 39.453125 66.40625 31.78125 66.40625 \r\nz\r\nM 31.78125 74.21875 \r\nQ 44.046875 74.21875 50.515625 64.515625 \r\nQ 56.984375 54.828125 56.984375 36.375 \r\nQ 56.984375 17.96875 50.515625 8.265625 \r\nQ 44.046875 -1.421875 31.78125 -1.421875 \r\nQ 19.53125 -1.421875 13.0625 8.265625 \r\nQ 6.59375 17.96875 6.59375 36.375 \r\nQ 6.59375 54.828125 13.0625 64.515625 \r\nQ 19.53125 74.21875 31.78125 74.21875 \r\nz\r\n\" id=\"DejaVuSans-48\"/>\r\n      </defs>\r\n      <g transform=\"translate(47.708125 470.115469)scale(0.1 -0.1)\">\r\n       <use xlink:href=\"#DejaVuSans-48\"/>\r\n      </g>\r\n     </g>\r\n    </g>\r\n    <g id=\"ytick_2\">\r\n     <g id=\"line2d_17\">\r\n      <g>\r\n       <use style=\"stroke:#000000;stroke-width:0.8;\" x=\"61.070625\" xlink:href=\"#m33440fd192\" y=\"382.339886\"/>\r\n      </g>\r\n     </g>\r\n     <g id=\"text_18\">\r\n      <!-- 500 -->\r\n      <defs>\r\n       <path d=\"M 10.796875 72.90625 \r\nL 49.515625 72.90625 \r\nL 49.515625 64.59375 \r\nL 19.828125 64.59375 \r\nL 19.828125 46.734375 \r\nQ 21.96875 47.46875 24.109375 47.828125 \r\nQ 26.265625 48.1875 28.421875 48.1875 \r\nQ 40.625 48.1875 47.75 41.5 \r\nQ 54.890625 34.8125 54.890625 23.390625 \r\nQ 54.890625 11.625 47.5625 5.09375 \r\nQ 40.234375 -1.421875 26.90625 -1.421875 \r\nQ 22.3125 -1.421875 17.546875 -0.640625 \r\nQ 12.796875 0.140625 7.71875 1.703125 \r\nL 7.71875 11.625 \r\nQ 12.109375 9.234375 16.796875 8.0625 \r\nQ 21.484375 6.890625 26.703125 6.890625 \r\nQ 35.15625 6.890625 40.078125 11.328125 \r\nQ 45.015625 15.765625 45.015625 23.390625 \r\nQ 45.015625 31 40.078125 35.4375 \r\nQ 35.15625 39.890625 26.703125 39.890625 \r\nQ 22.75 39.890625 18.8125 39.015625 \r\nQ 14.890625 38.140625 10.796875 36.28125 \r\nz\r\n\" id=\"DejaVuSans-53\"/>\r\n      </defs>\r\n      <g transform=\"translate(34.983125 386.139104)scale(0.1 -0.1)\">\r\n       <use xlink:href=\"#DejaVuSans-53\"/>\r\n       <use x=\"63.623047\" xlink:href=\"#DejaVuSans-48\"/>\r\n       <use x=\"127.246094\" xlink:href=\"#DejaVuSans-48\"/>\r\n      </g>\r\n     </g>\r\n    </g>\r\n    <g id=\"ytick_3\">\r\n     <g id=\"line2d_18\">\r\n      <g>\r\n       <use style=\"stroke:#000000;stroke-width:0.8;\" x=\"61.070625\" xlink:href=\"#m33440fd192\" y=\"298.363521\"/>\r\n      </g>\r\n     </g>\r\n     <g id=\"text_19\">\r\n      <!-- 1000 -->\r\n      <defs>\r\n       <path d=\"M 12.40625 8.296875 \r\nL 28.515625 8.296875 \r\nL 28.515625 63.921875 \r\nL 10.984375 60.40625 \r\nL 10.984375 69.390625 \r\nL 28.421875 72.90625 \r\nL 38.28125 72.90625 \r\nL 38.28125 8.296875 \r\nL 54.390625 8.296875 \r\nL 54.390625 0 \r\nL 12.40625 0 \r\nz\r\n\" id=\"DejaVuSans-49\"/>\r\n      </defs>\r\n      <g transform=\"translate(28.620625 302.16274)scale(0.1 -0.1)\">\r\n       <use xlink:href=\"#DejaVuSans-49\"/>\r\n       <use x=\"63.623047\" xlink:href=\"#DejaVuSans-48\"/>\r\n       <use x=\"127.246094\" xlink:href=\"#DejaVuSans-48\"/>\r\n       <use x=\"190.869141\" xlink:href=\"#DejaVuSans-48\"/>\r\n      </g>\r\n     </g>\r\n    </g>\r\n    <g id=\"ytick_4\">\r\n     <g id=\"line2d_19\">\r\n      <g>\r\n       <use style=\"stroke:#000000;stroke-width:0.8;\" x=\"61.070625\" xlink:href=\"#m33440fd192\" y=\"214.387157\"/>\r\n      </g>\r\n     </g>\r\n     <g id=\"text_20\">\r\n      <!-- 1500 -->\r\n      <g transform=\"translate(28.620625 218.186376)scale(0.1 -0.1)\">\r\n       <use xlink:href=\"#DejaVuSans-49\"/>\r\n       <use x=\"63.623047\" xlink:href=\"#DejaVuSans-53\"/>\r\n       <use x=\"127.246094\" xlink:href=\"#DejaVuSans-48\"/>\r\n       <use x=\"190.869141\" xlink:href=\"#DejaVuSans-48\"/>\r\n      </g>\r\n     </g>\r\n    </g>\r\n    <g id=\"ytick_5\">\r\n     <g id=\"line2d_20\">\r\n      <g>\r\n       <use style=\"stroke:#000000;stroke-width:0.8;\" x=\"61.070625\" xlink:href=\"#m33440fd192\" y=\"130.410793\"/>\r\n      </g>\r\n     </g>\r\n     <g id=\"text_21\">\r\n      <!-- 2000 -->\r\n      <defs>\r\n       <path d=\"M 19.1875 8.296875 \r\nL 53.609375 8.296875 \r\nL 53.609375 0 \r\nL 7.328125 0 \r\nL 7.328125 8.296875 \r\nQ 12.9375 14.109375 22.625 23.890625 \r\nQ 32.328125 33.6875 34.8125 36.53125 \r\nQ 39.546875 41.84375 41.421875 45.53125 \r\nQ 43.3125 49.21875 43.3125 52.78125 \r\nQ 43.3125 58.59375 39.234375 62.25 \r\nQ 35.15625 65.921875 28.609375 65.921875 \r\nQ 23.96875 65.921875 18.8125 64.3125 \r\nQ 13.671875 62.703125 7.8125 59.421875 \r\nL 7.8125 69.390625 \r\nQ 13.765625 71.78125 18.9375 73 \r\nQ 24.125 74.21875 28.421875 74.21875 \r\nQ 39.75 74.21875 46.484375 68.546875 \r\nQ 53.21875 62.890625 53.21875 53.421875 \r\nQ 53.21875 48.921875 51.53125 44.890625 \r\nQ 49.859375 40.875 45.40625 35.40625 \r\nQ 44.1875 33.984375 37.640625 27.21875 \r\nQ 31.109375 20.453125 19.1875 8.296875 \r\nz\r\n\" id=\"DejaVuSans-50\"/>\r\n      </defs>\r\n      <g transform=\"translate(28.620625 134.210012)scale(0.1 -0.1)\">\r\n       <use xlink:href=\"#DejaVuSans-50\"/>\r\n       <use x=\"63.623047\" xlink:href=\"#DejaVuSans-48\"/>\r\n       <use x=\"127.246094\" xlink:href=\"#DejaVuSans-48\"/>\r\n       <use x=\"190.869141\" xlink:href=\"#DejaVuSans-48\"/>\r\n      </g>\r\n     </g>\r\n    </g>\r\n    <g id=\"ytick_6\">\r\n     <g id=\"line2d_21\">\r\n      <g>\r\n       <use style=\"stroke:#000000;stroke-width:0.8;\" x=\"61.070625\" xlink:href=\"#m33440fd192\" y=\"46.434429\"/>\r\n      </g>\r\n     </g>\r\n     <g id=\"text_22\">\r\n      <!-- 2500 -->\r\n      <g transform=\"translate(28.620625 50.233647)scale(0.1 -0.1)\">\r\n       <use xlink:href=\"#DejaVuSans-50\"/>\r\n       <use x=\"63.623047\" xlink:href=\"#DejaVuSans-53\"/>\r\n       <use x=\"127.246094\" xlink:href=\"#DejaVuSans-48\"/>\r\n       <use x=\"190.869141\" xlink:href=\"#DejaVuSans-48\"/>\r\n      </g>\r\n     </g>\r\n    </g>\r\n    <g id=\"text_23\">\r\n     <!-- Points -->\r\n     <defs>\r\n      <path d=\"M 16.890625 72.90625 \r\nL 39.703125 72.90625 \r\nQ 49.65625 72.90625 54.875 68.265625 \r\nQ 60.109375 63.625 60.109375 54.6875 \r\nQ 60.109375 42.671875 52.390625 35.984375 \r\nQ 44.671875 29.296875 30.71875 29.296875 \r\nL 18.3125 29.296875 \r\nL 12.59375 0 \r\nL 2.6875 0 \r\nz\r\nM 25.203125 64.796875 \r\nL 19.921875 37.40625 \r\nL 32.328125 37.40625 \r\nQ 40.71875 37.40625 45.203125 41.703125 \r\nQ 49.703125 46 49.703125 54 \r\nQ 49.703125 59.125 46.65625 61.953125 \r\nQ 43.609375 64.796875 38.09375 64.796875 \r\nz\r\n\" id=\"DejaVuSans-Oblique-80\"/>\r\n      <path d=\"M 25.390625 -1.421875 \r\nQ 15.765625 -1.421875 10.171875 4.515625 \r\nQ 4.59375 10.453125 4.59375 20.703125 \r\nQ 4.59375 26.65625 6.515625 32.828125 \r\nQ 8.453125 39.015625 11.53125 43.21875 \r\nQ 16.359375 49.75 22.3125 52.875 \r\nQ 28.265625 56 35.796875 56 \r\nQ 45.125 56 50.859375 50.1875 \r\nQ 56.59375 44.390625 56.59375 35.015625 \r\nQ 56.59375 28.515625 54.6875 22.0625 \r\nQ 52.78125 15.625 49.703125 11.375 \r\nQ 44.921875 4.828125 38.96875 1.703125 \r\nQ 33.015625 -1.421875 25.390625 -1.421875 \r\nz\r\nM 13.921875 21 \r\nQ 13.921875 13.578125 17.015625 9.890625 \r\nQ 20.125 6.203125 26.421875 6.203125 \r\nQ 35.453125 6.203125 41.375 14.078125 \r\nQ 47.3125 21.96875 47.3125 34.078125 \r\nQ 47.3125 41.15625 44.140625 44.765625 \r\nQ 40.96875 48.390625 34.8125 48.390625 \r\nQ 29.734375 48.390625 25.78125 46.015625 \r\nQ 21.828125 43.65625 18.703125 38.8125 \r\nQ 16.40625 35.203125 15.15625 30.5625 \r\nQ 13.921875 25.921875 13.921875 21 \r\nz\r\n\" id=\"DejaVuSans-Oblique-111\"/>\r\n      <path d=\"M 18.3125 75.984375 \r\nL 27.296875 75.984375 \r\nL 25.09375 64.59375 \r\nL 16.109375 64.59375 \r\nz\r\nM 14.203125 54.6875 \r\nL 23.1875 54.6875 \r\nL 12.5 0 \r\nL 3.515625 0 \r\nz\r\n\" id=\"DejaVuSans-Oblique-105\"/>\r\n      <path d=\"M 55.71875 33.015625 \r\nL 49.3125 0 \r\nL 40.28125 0 \r\nL 46.6875 32.671875 \r\nQ 47.125 34.96875 47.359375 36.71875 \r\nQ 47.609375 38.484375 47.609375 39.5 \r\nQ 47.609375 43.609375 45.015625 45.890625 \r\nQ 42.4375 48.1875 37.796875 48.1875 \r\nQ 30.5625 48.1875 25.34375 43.375 \r\nQ 20.125 38.578125 18.5 30.328125 \r\nL 12.5 0 \r\nL 3.515625 0 \r\nL 14.109375 54.6875 \r\nL 23.09375 54.6875 \r\nL 21.296875 46.09375 \r\nQ 25.046875 50.828125 30.3125 53.40625 \r\nQ 35.59375 56 41.40625 56 \r\nQ 48.640625 56 52.609375 52.09375 \r\nQ 56.59375 48.1875 56.59375 41.109375 \r\nQ 56.59375 39.359375 56.375 37.359375 \r\nQ 56.15625 35.359375 55.71875 33.015625 \r\nz\r\n\" id=\"DejaVuSans-Oblique-110\"/>\r\n      <path d=\"M 42.28125 54.6875 \r\nL 40.921875 47.703125 \r\nL 23 47.703125 \r\nL 17.1875 18.015625 \r\nQ 16.890625 16.359375 16.75 15.234375 \r\nQ 16.609375 14.109375 16.609375 13.484375 \r\nQ 16.609375 10.359375 18.484375 8.9375 \r\nQ 20.359375 7.515625 24.515625 7.515625 \r\nL 33.59375 7.515625 \r\nL 32.078125 0 \r\nL 23.484375 0 \r\nQ 15.484375 0 11.546875 3.125 \r\nQ 7.625 6.25 7.625 12.59375 \r\nQ 7.625 13.71875 7.765625 15.0625 \r\nQ 7.90625 16.40625 8.203125 18.015625 \r\nL 14.015625 47.703125 \r\nL 6.390625 47.703125 \r\nL 7.8125 54.6875 \r\nL 15.28125 54.6875 \r\nL 18.3125 70.21875 \r\nL 27.296875 70.21875 \r\nL 24.3125 54.6875 \r\nz\r\n\" id=\"DejaVuSans-Oblique-116\"/>\r\n      <path d=\"M 50 53.078125 \r\nL 48.296875 44.578125 \r\nQ 44.734375 46.53125 40.765625 47.5 \r\nQ 36.8125 48.484375 32.625 48.484375 \r\nQ 25.53125 48.484375 21.453125 46.0625 \r\nQ 17.390625 43.65625 17.390625 39.5 \r\nQ 17.390625 34.671875 26.859375 32.078125 \r\nQ 27.59375 31.890625 27.9375 31.78125 \r\nL 30.8125 30.90625 \r\nQ 39.796875 28.421875 42.796875 25.6875 \r\nQ 45.796875 22.953125 45.796875 18.21875 \r\nQ 45.796875 9.515625 38.890625 4.046875 \r\nQ 31.984375 -1.421875 20.796875 -1.421875 \r\nQ 16.453125 -1.421875 11.671875 -0.578125 \r\nQ 6.890625 0.25 1.125 2 \r\nL 2.875 11.28125 \r\nQ 7.8125 8.734375 12.59375 7.421875 \r\nQ 17.390625 6.109375 21.78125 6.109375 \r\nQ 28.375 6.109375 32.5 8.9375 \r\nQ 36.625 11.765625 36.625 16.109375 \r\nQ 36.625 20.796875 25.78125 23.6875 \r\nL 24.859375 23.921875 \r\nL 21.78125 24.703125 \r\nQ 14.9375 26.515625 11.765625 29.46875 \r\nQ 8.59375 32.421875 8.59375 37.015625 \r\nQ 8.59375 45.75 15.15625 50.875 \r\nQ 21.734375 56 33.015625 56 \r\nQ 37.453125 56 41.671875 55.265625 \r\nQ 45.90625 54.546875 50 53.078125 \r\nz\r\n\" id=\"DejaVuSans-Oblique-115\"/>\r\n     </defs>\r\n     <g transform=\"translate(20.877187 276.230625)rotate(-90)scale(0.18 -0.18)\">\r\n      <use xlink:href=\"#DejaVuSans-Oblique-80\"/>\r\n      <use x=\"60.302734\" xlink:href=\"#DejaVuSans-Oblique-111\"/>\r\n      <use x=\"121.484375\" xlink:href=\"#DejaVuSans-Oblique-105\"/>\r\n      <use x=\"149.267578\" xlink:href=\"#DejaVuSans-Oblique-110\"/>\r\n      <use x=\"212.646484\" xlink:href=\"#DejaVuSans-Oblique-116\"/>\r\n      <use x=\"251.855469\" xlink:href=\"#DejaVuSans-Oblique-115\"/>\r\n     </g>\r\n    </g>\r\n   </g>\r\n   <g id=\"patch_63\">\r\n    <path d=\"M 61.070625 466.31625 \r\nL 61.070625 31.43625 \r\n\" style=\"fill:none;stroke:#000000;stroke-linecap:square;stroke-linejoin:miter;stroke-width:0.8;\"/>\r\n   </g>\r\n   <g id=\"patch_64\">\r\n    <path d=\"M 1177.070625 466.31625 \r\nL 1177.070625 31.43625 \r\n\" style=\"fill:none;stroke:#000000;stroke-linecap:square;stroke-linejoin:miter;stroke-width:0.8;\"/>\r\n   </g>\r\n   <g id=\"patch_65\">\r\n    <path d=\"M 61.070625 466.31625 \r\nL 1177.070625 466.31625 \r\n\" style=\"fill:none;stroke:#000000;stroke-linecap:square;stroke-linejoin:miter;stroke-width:0.8;\"/>\r\n   </g>\r\n   <g id=\"patch_66\">\r\n    <path d=\"M 61.070625 31.43625 \r\nL 1177.070625 31.43625 \r\n\" style=\"fill:none;stroke:#000000;stroke-linecap:square;stroke-linejoin:miter;stroke-width:0.8;\"/>\r\n   </g>\r\n   <g id=\"text_24\">\r\n    <!-- 882 -->\r\n    <defs>\r\n     <path d=\"M 31.78125 34.625 \r\nQ 24.75 34.625 20.71875 30.859375 \r\nQ 16.703125 27.09375 16.703125 20.515625 \r\nQ 16.703125 13.921875 20.71875 10.15625 \r\nQ 24.75 6.390625 31.78125 6.390625 \r\nQ 38.8125 6.390625 42.859375 10.171875 \r\nQ 46.921875 13.96875 46.921875 20.515625 \r\nQ 46.921875 27.09375 42.890625 30.859375 \r\nQ 38.875 34.625 31.78125 34.625 \r\nz\r\nM 21.921875 38.8125 \r\nQ 15.578125 40.375 12.03125 44.71875 \r\nQ 8.5 49.078125 8.5 55.328125 \r\nQ 8.5 64.0625 14.71875 69.140625 \r\nQ 20.953125 74.21875 31.78125 74.21875 \r\nQ 42.671875 74.21875 48.875 69.140625 \r\nQ 55.078125 64.0625 55.078125 55.328125 \r\nQ 55.078125 49.078125 51.53125 44.71875 \r\nQ 48 40.375 41.703125 38.8125 \r\nQ 48.828125 37.15625 52.796875 32.3125 \r\nQ 56.78125 27.484375 56.78125 20.515625 \r\nQ 56.78125 9.90625 50.3125 4.234375 \r\nQ 43.84375 -1.421875 31.78125 -1.421875 \r\nQ 19.734375 -1.421875 13.25 4.234375 \r\nQ 6.78125 9.90625 6.78125 20.515625 \r\nQ 6.78125 27.484375 10.78125 32.3125 \r\nQ 14.796875 37.15625 21.921875 38.8125 \r\nz\r\nM 18.3125 54.390625 \r\nQ 18.3125 48.734375 21.84375 45.5625 \r\nQ 25.390625 42.390625 31.78125 42.390625 \r\nQ 38.140625 42.390625 41.71875 45.5625 \r\nQ 45.3125 48.734375 45.3125 54.390625 \r\nQ 45.3125 60.0625 41.71875 63.234375 \r\nQ 38.140625 66.40625 31.78125 66.40625 \r\nQ 25.390625 66.40625 21.84375 63.234375 \r\nQ 18.3125 60.0625 18.3125 54.390625 \r\nz\r\n\" id=\"DejaVuSans-56\"/>\r\n    </defs>\r\n    <g transform=\"translate(88.726875 392.249097)scale(0.1 -0.1)\">\r\n     <use xlink:href=\"#DejaVuSans-56\"/>\r\n     <use x=\"63.623047\" xlink:href=\"#DejaVuSans-56\"/>\r\n     <use x=\"127.246094\" xlink:href=\"#DejaVuSans-50\"/>\r\n    </g>\r\n   </g>\r\n   <g id=\"text_25\">\r\n    <!-- 942 -->\r\n    <defs>\r\n     <path d=\"M 10.984375 1.515625 \r\nL 10.984375 10.5 \r\nQ 14.703125 8.734375 18.5 7.8125 \r\nQ 22.3125 6.890625 25.984375 6.890625 \r\nQ 35.75 6.890625 40.890625 13.453125 \r\nQ 46.046875 20.015625 46.78125 33.40625 \r\nQ 43.953125 29.203125 39.59375 26.953125 \r\nQ 35.25 24.703125 29.984375 24.703125 \r\nQ 19.046875 24.703125 12.671875 31.3125 \r\nQ 6.296875 37.9375 6.296875 49.421875 \r\nQ 6.296875 60.640625 12.9375 67.421875 \r\nQ 19.578125 74.21875 30.609375 74.21875 \r\nQ 43.265625 74.21875 49.921875 64.515625 \r\nQ 56.59375 54.828125 56.59375 36.375 \r\nQ 56.59375 19.140625 48.40625 8.859375 \r\nQ 40.234375 -1.421875 26.421875 -1.421875 \r\nQ 22.703125 -1.421875 18.890625 -0.6875 \r\nQ 15.09375 0.046875 10.984375 1.515625 \r\nz\r\nM 30.609375 32.421875 \r\nQ 37.25 32.421875 41.125 36.953125 \r\nQ 45.015625 41.5 45.015625 49.421875 \r\nQ 45.015625 57.28125 41.125 61.84375 \r\nQ 37.25 66.40625 30.609375 66.40625 \r\nQ 23.96875 66.40625 20.09375 61.84375 \r\nQ 16.21875 57.28125 16.21875 49.421875 \r\nQ 16.21875 41.5 20.09375 36.953125 \r\nQ 23.96875 32.421875 30.609375 32.421875 \r\nz\r\n\" id=\"DejaVuSans-57\"/>\r\n     <path d=\"M 37.796875 64.3125 \r\nL 12.890625 25.390625 \r\nL 37.796875 25.390625 \r\nz\r\nM 35.203125 72.90625 \r\nL 47.609375 72.90625 \r\nL 47.609375 25.390625 \r\nL 58.015625 25.390625 \r\nL 58.015625 17.1875 \r\nL 47.609375 17.1875 \r\nL 47.609375 0 \r\nL 37.796875 0 \r\nL 37.796875 17.1875 \r\nL 4.890625 17.1875 \r\nL 4.890625 26.703125 \r\nz\r\n\" id=\"DejaVuSans-52\"/>\r\n    </defs>\r\n    <g transform=\"translate(163.126875 387.210515)scale(0.1 -0.1)\">\r\n     <use xlink:href=\"#DejaVuSans-57\"/>\r\n     <use x=\"63.623047\" xlink:href=\"#DejaVuSans-52\"/>\r\n     <use x=\"127.246094\" xlink:href=\"#DejaVuSans-50\"/>\r\n    </g>\r\n   </g>\r\n   <g id=\"text_26\">\r\n    <!-- 851 -->\r\n    <g transform=\"translate(237.526875 394.852364)scale(0.1 -0.1)\">\r\n     <use xlink:href=\"#DejaVuSans-56\"/>\r\n     <use x=\"63.623047\" xlink:href=\"#DejaVuSans-53\"/>\r\n     <use x=\"127.246094\" xlink:href=\"#DejaVuSans-49\"/>\r\n    </g>\r\n   </g>\r\n   <g id=\"text_27\">\r\n    <!-- 911 -->\r\n    <g transform=\"translate(311.926875 389.813782)scale(0.1 -0.1)\">\r\n     <use xlink:href=\"#DejaVuSans-57\"/>\r\n     <use x=\"63.623047\" xlink:href=\"#DejaVuSans-49\"/>\r\n     <use x=\"127.246094\" xlink:href=\"#DejaVuSans-49\"/>\r\n    </g>\r\n   </g>\r\n   <g id=\"text_28\">\r\n    <!-- 879 -->\r\n    <defs>\r\n     <path d=\"M 8.203125 72.90625 \r\nL 55.078125 72.90625 \r\nL 55.078125 68.703125 \r\nL 28.609375 0 \r\nL 18.3125 0 \r\nL 43.21875 64.59375 \r\nL 8.203125 64.59375 \r\nz\r\n\" id=\"DejaVuSans-55\"/>\r\n    </defs>\r\n    <g transform=\"translate(386.326875 392.501026)scale(0.1 -0.1)\">\r\n     <use xlink:href=\"#DejaVuSans-56\"/>\r\n     <use x=\"63.623047\" xlink:href=\"#DejaVuSans-55\"/>\r\n     <use x=\"127.246094\" xlink:href=\"#DejaVuSans-57\"/>\r\n    </g>\r\n   </g>\r\n   <g id=\"text_29\">\r\n    <!-- 900 -->\r\n    <g transform=\"translate(460.726875 390.737522)scale(0.1 -0.1)\">\r\n     <use xlink:href=\"#DejaVuSans-57\"/>\r\n     <use x=\"63.623047\" xlink:href=\"#DejaVuSans-48\"/>\r\n     <use x=\"127.246094\" xlink:href=\"#DejaVuSans-48\"/>\r\n    </g>\r\n   </g>\r\n   <g id=\"text_30\">\r\n    <!-- 984 -->\r\n    <g transform=\"translate(535.126875 383.683508)scale(0.1 -0.1)\">\r\n     <use xlink:href=\"#DejaVuSans-57\"/>\r\n     <use x=\"63.623047\" xlink:href=\"#DejaVuSans-56\"/>\r\n     <use x=\"127.246094\" xlink:href=\"#DejaVuSans-52\"/>\r\n    </g>\r\n   </g>\r\n   <g id=\"text_31\">\r\n    <!-- 914 -->\r\n    <g transform=\"translate(609.526875 389.561853)scale(0.1 -0.1)\">\r\n     <use xlink:href=\"#DejaVuSans-57\"/>\r\n     <use x=\"63.623047\" xlink:href=\"#DejaVuSans-49\"/>\r\n     <use x=\"127.246094\" xlink:href=\"#DejaVuSans-52\"/>\r\n    </g>\r\n   </g>\r\n   <g id=\"text_32\">\r\n    <!-- 915 -->\r\n    <g transform=\"translate(683.926875 389.477877)scale(0.1 -0.1)\">\r\n     <use xlink:href=\"#DejaVuSans-57\"/>\r\n     <use x=\"63.623047\" xlink:href=\"#DejaVuSans-49\"/>\r\n     <use x=\"127.246094\" xlink:href=\"#DejaVuSans-53\"/>\r\n    </g>\r\n   </g>\r\n   <g id=\"text_33\">\r\n    <!-- 924 -->\r\n    <g transform=\"translate(758.326875 388.722089)scale(0.1 -0.1)\">\r\n     <use xlink:href=\"#DejaVuSans-57\"/>\r\n     <use x=\"63.623047\" xlink:href=\"#DejaVuSans-50\"/>\r\n     <use x=\"127.246094\" xlink:href=\"#DejaVuSans-52\"/>\r\n    </g>\r\n   </g>\r\n   <g id=\"text_34\">\r\n    <!-- 806 -->\r\n    <defs>\r\n     <path d=\"M 33.015625 40.375 \r\nQ 26.375 40.375 22.484375 35.828125 \r\nQ 18.609375 31.296875 18.609375 23.390625 \r\nQ 18.609375 15.53125 22.484375 10.953125 \r\nQ 26.375 6.390625 33.015625 6.390625 \r\nQ 39.65625 6.390625 43.53125 10.953125 \r\nQ 47.40625 15.53125 47.40625 23.390625 \r\nQ 47.40625 31.296875 43.53125 35.828125 \r\nQ 39.65625 40.375 33.015625 40.375 \r\nz\r\nM 52.59375 71.296875 \r\nL 52.59375 62.3125 \r\nQ 48.875 64.0625 45.09375 64.984375 \r\nQ 41.3125 65.921875 37.59375 65.921875 \r\nQ 27.828125 65.921875 22.671875 59.328125 \r\nQ 17.53125 52.734375 16.796875 39.40625 \r\nQ 19.671875 43.65625 24.015625 45.921875 \r\nQ 28.375 48.1875 33.59375 48.1875 \r\nQ 44.578125 48.1875 50.953125 41.515625 \r\nQ 57.328125 34.859375 57.328125 23.390625 \r\nQ 57.328125 12.15625 50.6875 5.359375 \r\nQ 44.046875 -1.421875 33.015625 -1.421875 \r\nQ 20.359375 -1.421875 13.671875 8.265625 \r\nQ 6.984375 17.96875 6.984375 36.375 \r\nQ 6.984375 53.65625 15.1875 63.9375 \r\nQ 23.390625 74.21875 37.203125 74.21875 \r\nQ 40.921875 74.21875 44.703125 73.484375 \r\nQ 48.484375 72.75 52.59375 71.296875 \r\nz\r\n\" id=\"DejaVuSans-54\"/>\r\n    </defs>\r\n    <g transform=\"translate(832.726875 398.6313)scale(0.1 -0.1)\">\r\n     <use xlink:href=\"#DejaVuSans-56\"/>\r\n     <use x=\"63.623047\" xlink:href=\"#DejaVuSans-48\"/>\r\n     <use x=\"127.246094\" xlink:href=\"#DejaVuSans-54\"/>\r\n    </g>\r\n   </g>\r\n   <g id=\"text_35\">\r\n    <!-- 874 -->\r\n    <g transform=\"translate(907.126875 392.920908)scale(0.1 -0.1)\">\r\n     <use xlink:href=\"#DejaVuSans-56\"/>\r\n     <use x=\"63.623047\" xlink:href=\"#DejaVuSans-55\"/>\r\n     <use x=\"127.246094\" xlink:href=\"#DejaVuSans-52\"/>\r\n    </g>\r\n   </g>\r\n   <g id=\"text_36\">\r\n    <!-- 874 -->\r\n    <g transform=\"translate(981.526875 392.920908)scale(0.1 -0.1)\">\r\n     <use xlink:href=\"#DejaVuSans-56\"/>\r\n     <use x=\"63.623047\" xlink:href=\"#DejaVuSans-55\"/>\r\n     <use x=\"127.246094\" xlink:href=\"#DejaVuSans-52\"/>\r\n    </g>\r\n   </g>\r\n   <g id=\"text_37\">\r\n    <!-- 914 -->\r\n    <g transform=\"translate(1055.926875 389.561853)scale(0.1 -0.1)\">\r\n     <use xlink:href=\"#DejaVuSans-57\"/>\r\n     <use x=\"63.623047\" xlink:href=\"#DejaVuSans-49\"/>\r\n     <use x=\"127.246094\" xlink:href=\"#DejaVuSans-52\"/>\r\n    </g>\r\n   </g>\r\n   <g id=\"text_38\">\r\n    <!-- 884 -->\r\n    <g transform=\"translate(1130.326875 392.081144)scale(0.1 -0.1)\">\r\n     <use xlink:href=\"#DejaVuSans-56\"/>\r\n     <use x=\"63.623047\" xlink:href=\"#DejaVuSans-56\"/>\r\n     <use x=\"127.246094\" xlink:href=\"#DejaVuSans-52\"/>\r\n    </g>\r\n   </g>\r\n   <g id=\"text_39\">\r\n    <!-- 515 -->\r\n    <g transform=\"translate(88.726875 274.934116)scale(0.1 -0.1)\">\r\n     <use xlink:href=\"#DejaVuSans-53\"/>\r\n     <use x=\"63.623047\" xlink:href=\"#DejaVuSans-49\"/>\r\n     <use x=\"127.246094\" xlink:href=\"#DejaVuSans-53\"/>\r\n    </g>\r\n   </g>\r\n   <g id=\"text_40\">\r\n    <!-- 563 -->\r\n    <defs>\r\n     <path d=\"M 40.578125 39.3125 \r\nQ 47.65625 37.796875 51.625 33 \r\nQ 55.609375 28.21875 55.609375 21.1875 \r\nQ 55.609375 10.40625 48.1875 4.484375 \r\nQ 40.765625 -1.421875 27.09375 -1.421875 \r\nQ 22.515625 -1.421875 17.65625 -0.515625 \r\nQ 12.796875 0.390625 7.625 2.203125 \r\nL 7.625 11.71875 \r\nQ 11.71875 9.328125 16.59375 8.109375 \r\nQ 21.484375 6.890625 26.8125 6.890625 \r\nQ 36.078125 6.890625 40.9375 10.546875 \r\nQ 45.796875 14.203125 45.796875 21.1875 \r\nQ 45.796875 27.640625 41.28125 31.265625 \r\nQ 36.765625 34.90625 28.71875 34.90625 \r\nL 20.21875 34.90625 \r\nL 20.21875 43.015625 \r\nL 29.109375 43.015625 \r\nQ 36.375 43.015625 40.234375 45.921875 \r\nQ 44.09375 48.828125 44.09375 54.296875 \r\nQ 44.09375 59.90625 40.109375 62.90625 \r\nQ 36.140625 65.921875 28.71875 65.921875 \r\nQ 24.65625 65.921875 20.015625 65.03125 \r\nQ 15.375 64.15625 9.8125 62.3125 \r\nL 9.8125 71.09375 \r\nQ 15.4375 72.65625 20.34375 73.4375 \r\nQ 25.25 74.21875 29.59375 74.21875 \r\nQ 40.828125 74.21875 47.359375 69.109375 \r\nQ 53.90625 64.015625 53.90625 55.328125 \r\nQ 53.90625 49.265625 50.4375 45.09375 \r\nQ 46.96875 40.921875 40.578125 39.3125 \r\nz\r\n\" id=\"DejaVuSans-51\"/>\r\n    </defs>\r\n    <g transform=\"translate(163.126875 260.826087)scale(0.1 -0.1)\">\r\n     <use xlink:href=\"#DejaVuSans-53\"/>\r\n     <use x=\"63.623047\" xlink:href=\"#DejaVuSans-54\"/>\r\n     <use x=\"127.246094\" xlink:href=\"#DejaVuSans-51\"/>\r\n    </g>\r\n   </g>\r\n   <g id=\"text_41\">\r\n    <!-- 550 -->\r\n    <g transform=\"translate(237.526875 277.201478)scale(0.1 -0.1)\">\r\n     <use xlink:href=\"#DejaVuSans-53\"/>\r\n     <use x=\"63.623047\" xlink:href=\"#DejaVuSans-53\"/>\r\n     <use x=\"127.246094\" xlink:href=\"#DejaVuSans-48\"/>\r\n    </g>\r\n   </g>\r\n   <g id=\"text_42\">\r\n    <!-- 582 -->\r\n    <g transform=\"translate(311.926875 264.43707)scale(0.1 -0.1)\">\r\n     <use xlink:href=\"#DejaVuSans-53\"/>\r\n     <use x=\"63.623047\" xlink:href=\"#DejaVuSans-56\"/>\r\n     <use x=\"127.246094\" xlink:href=\"#DejaVuSans-50\"/>\r\n    </g>\r\n   </g>\r\n   <g id=\"text_43\">\r\n    <!-- 605 -->\r\n    <g transform=\"translate(386.326875 267.880101)scale(0.1 -0.1)\">\r\n     <use xlink:href=\"#DejaVuSans-54\"/>\r\n     <use x=\"63.623047\" xlink:href=\"#DejaVuSans-48\"/>\r\n     <use x=\"127.246094\" xlink:href=\"#DejaVuSans-53\"/>\r\n    </g>\r\n   </g>\r\n   <g id=\"text_44\">\r\n    <!-- 630 -->\r\n    <g transform=\"translate(460.726875 262.253685)scale(0.1 -0.1)\">\r\n     <use xlink:href=\"#DejaVuSans-54\"/>\r\n     <use x=\"63.623047\" xlink:href=\"#DejaVuSans-51\"/>\r\n     <use x=\"127.246094\" xlink:href=\"#DejaVuSans-48\"/>\r\n    </g>\r\n   </g>\r\n   <g id=\"text_45\">\r\n    <!-- 586 -->\r\n    <g transform=\"translate(535.126875 251.840616)scale(0.1 -0.1)\">\r\n     <use xlink:href=\"#DejaVuSans-53\"/>\r\n     <use x=\"63.623047\" xlink:href=\"#DejaVuSans-56\"/>\r\n     <use x=\"127.246094\" xlink:href=\"#DejaVuSans-54\"/>\r\n    </g>\r\n   </g>\r\n   <g id=\"text_46\">\r\n    <!-- 557 -->\r\n    <g transform=\"translate(609.526875 266.032621)scale(0.1 -0.1)\">\r\n     <use xlink:href=\"#DejaVuSans-53\"/>\r\n     <use x=\"63.623047\" xlink:href=\"#DejaVuSans-53\"/>\r\n     <use x=\"127.246094\" xlink:href=\"#DejaVuSans-55\"/>\r\n    </g>\r\n   </g>\r\n   <g id=\"text_47\">\r\n    <!-- 574 -->\r\n    <g transform=\"translate(683.926875 264.43707)scale(0.1 -0.1)\">\r\n     <use xlink:href=\"#DejaVuSans-53\"/>\r\n     <use x=\"63.623047\" xlink:href=\"#DejaVuSans-55\"/>\r\n     <use x=\"127.246094\" xlink:href=\"#DejaVuSans-52\"/>\r\n    </g>\r\n   </g>\r\n   <g id=\"text_48\">\r\n    <!-- 564 -->\r\n    <g transform=\"translate(758.326875 263.765259)scale(0.1 -0.1)\">\r\n     <use xlink:href=\"#DejaVuSans-53\"/>\r\n     <use x=\"63.623047\" xlink:href=\"#DejaVuSans-54\"/>\r\n     <use x=\"127.246094\" xlink:href=\"#DejaVuSans-52\"/>\r\n    </g>\r\n   </g>\r\n   <g id=\"text_49\">\r\n    <!-- 543 -->\r\n    <g transform=\"translate(832.726875 285.347185)scale(0.1 -0.1)\">\r\n     <use xlink:href=\"#DejaVuSans-53\"/>\r\n     <use x=\"63.623047\" xlink:href=\"#DejaVuSans-52\"/>\r\n     <use x=\"127.246094\" xlink:href=\"#DejaVuSans-51\"/>\r\n    </g>\r\n   </g>\r\n   <g id=\"text_50\">\r\n    <!-- 576 -->\r\n    <g transform=\"translate(907.126875 271.155179)scale(0.1 -0.1)\">\r\n     <use xlink:href=\"#DejaVuSans-53\"/>\r\n     <use x=\"63.623047\" xlink:href=\"#DejaVuSans-55\"/>\r\n     <use x=\"127.246094\" xlink:href=\"#DejaVuSans-54\"/>\r\n    </g>\r\n   </g>\r\n   <g id=\"text_51\">\r\n    <!-- 586 -->\r\n    <g transform=\"translate(981.526875 270.315416)scale(0.1 -0.1)\">\r\n     <use xlink:href=\"#DejaVuSans-53\"/>\r\n     <use x=\"63.623047\" xlink:href=\"#DejaVuSans-56\"/>\r\n     <use x=\"127.246094\" xlink:href=\"#DejaVuSans-54\"/>\r\n    </g>\r\n   </g>\r\n   <g id=\"text_52\">\r\n    <!-- 590 -->\r\n    <g transform=\"translate(1055.926875 263.261401)scale(0.1 -0.1)\">\r\n     <use xlink:href=\"#DejaVuSans-53\"/>\r\n     <use x=\"63.623047\" xlink:href=\"#DejaVuSans-57\"/>\r\n     <use x=\"127.246094\" xlink:href=\"#DejaVuSans-48\"/>\r\n    </g>\r\n   </g>\r\n   <g id=\"text_53\">\r\n    <!-- 527 -->\r\n    <g transform=\"translate(1130.326875 273.590494)scale(0.1 -0.1)\">\r\n     <use xlink:href=\"#DejaVuSans-53\"/>\r\n     <use x=\"63.623047\" xlink:href=\"#DejaVuSans-50\"/>\r\n     <use x=\"127.246094\" xlink:href=\"#DejaVuSans-55\"/>\r\n    </g>\r\n   </g>\r\n   <g id=\"text_54\">\r\n    <!-- 745 -->\r\n    <g transform=\"translate(88.726875 169.123897)scale(0.1 -0.1)\">\r\n     <use xlink:href=\"#DejaVuSans-55\"/>\r\n     <use x=\"63.623047\" xlink:href=\"#DejaVuSans-52\"/>\r\n     <use x=\"127.246094\" xlink:href=\"#DejaVuSans-53\"/>\r\n    </g>\r\n   </g>\r\n   <g id=\"text_55\">\r\n    <!-- 558 -->\r\n    <g transform=\"translate(163.126875 166.688582)scale(0.1 -0.1)\">\r\n     <use xlink:href=\"#DejaVuSans-53\"/>\r\n     <use x=\"63.623047\" xlink:href=\"#DejaVuSans-53\"/>\r\n     <use x=\"127.246094\" xlink:href=\"#DejaVuSans-56\"/>\r\n    </g>\r\n   </g>\r\n   <g id=\"text_56\">\r\n    <!-- 623 -->\r\n    <g transform=\"translate(237.526875 178.697202)scale(0.1 -0.1)\">\r\n     <use xlink:href=\"#DejaVuSans-54\"/>\r\n     <use x=\"63.623047\" xlink:href=\"#DejaVuSans-50\"/>\r\n     <use x=\"127.246094\" xlink:href=\"#DejaVuSans-51\"/>\r\n    </g>\r\n   </g>\r\n   <g id=\"text_57\">\r\n    <!-- 665 -->\r\n    <g transform=\"translate(311.926875 159.718544)scale(0.1 -0.1)\">\r\n     <use xlink:href=\"#DejaVuSans-54\"/>\r\n     <use x=\"63.623047\" xlink:href=\"#DejaVuSans-54\"/>\r\n     <use x=\"127.246094\" xlink:href=\"#DejaVuSans-53\"/>\r\n    </g>\r\n   </g>\r\n   <g id=\"text_58\">\r\n    <!-- 535 -->\r\n    <g transform=\"translate(386.326875 172.147046)scale(0.1 -0.1)\">\r\n     <use xlink:href=\"#DejaVuSans-53\"/>\r\n     <use x=\"63.623047\" xlink:href=\"#DejaVuSans-51\"/>\r\n     <use x=\"127.246094\" xlink:href=\"#DejaVuSans-53\"/>\r\n    </g>\r\n   </g>\r\n   <g id=\"text_59\">\r\n    <!-- 634 -->\r\n    <g transform=\"translate(460.726875 156.10756)scale(0.1 -0.1)\">\r\n     <use xlink:href=\"#DejaVuSans-54\"/>\r\n     <use x=\"63.623047\" xlink:href=\"#DejaVuSans-51\"/>\r\n     <use x=\"127.246094\" xlink:href=\"#DejaVuSans-52\"/>\r\n    </g>\r\n   </g>\r\n   <g id=\"text_60\">\r\n    <!-- 773 -->\r\n    <g transform=\"translate(535.126875 137.716737)scale(0.1 -0.1)\">\r\n     <use xlink:href=\"#DejaVuSans-55\"/>\r\n     <use x=\"63.623047\" xlink:href=\"#DejaVuSans-55\"/>\r\n     <use x=\"127.246094\" xlink:href=\"#DejaVuSans-51\"/>\r\n    </g>\r\n   </g>\r\n   <g id=\"text_61\">\r\n    <!-- 786 -->\r\n    <g transform=\"translate(609.526875 153.252364)scale(0.1 -0.1)\">\r\n     <use xlink:href=\"#DejaVuSans-55\"/>\r\n     <use x=\"63.623047\" xlink:href=\"#DejaVuSans-56\"/>\r\n     <use x=\"127.246094\" xlink:href=\"#DejaVuSans-54\"/>\r\n    </g>\r\n   </g>\r\n   <g id=\"text_62\">\r\n    <!-- 739 -->\r\n    <g transform=\"translate(683.926875 154.176104)scale(0.1 -0.1)\">\r\n     <use xlink:href=\"#DejaVuSans-55\"/>\r\n     <use x=\"63.623047\" xlink:href=\"#DejaVuSans-51\"/>\r\n     <use x=\"127.246094\" xlink:href=\"#DejaVuSans-57\"/>\r\n    </g>\r\n   </g>\r\n   <g id=\"text_63\">\r\n    <!-- 644 -->\r\n    <g transform=\"translate(758.326875 162.321811)scale(0.1 -0.1)\">\r\n     <use xlink:href=\"#DejaVuSans-54\"/>\r\n     <use x=\"63.623047\" xlink:href=\"#DejaVuSans-52\"/>\r\n     <use x=\"127.246094\" xlink:href=\"#DejaVuSans-52\"/>\r\n    </g>\r\n   </g>\r\n   <g id=\"text_64\">\r\n    <!-- 697 -->\r\n    <g transform=\"translate(832.726875 181.216493)scale(0.1 -0.1)\">\r\n     <use xlink:href=\"#DejaVuSans-54\"/>\r\n     <use x=\"63.623047\" xlink:href=\"#DejaVuSans-57\"/>\r\n     <use x=\"127.246094\" xlink:href=\"#DejaVuSans-55\"/>\r\n    </g>\r\n   </g>\r\n   <g id=\"text_65\">\r\n    <!-- 762 -->\r\n    <g transform=\"translate(907.126875 158.794804)scale(0.1 -0.1)\">\r\n     <use xlink:href=\"#DejaVuSans-55\"/>\r\n     <use x=\"63.623047\" xlink:href=\"#DejaVuSans-54\"/>\r\n     <use x=\"127.246094\" xlink:href=\"#DejaVuSans-50\"/>\r\n    </g>\r\n   </g>\r\n   <g id=\"text_66\">\r\n    <!-- 683 -->\r\n    <g transform=\"translate(981.526875 163.74941)scale(0.1 -0.1)\">\r\n     <use xlink:href=\"#DejaVuSans-54\"/>\r\n     <use x=\"63.623047\" xlink:href=\"#DejaVuSans-56\"/>\r\n     <use x=\"127.246094\" xlink:href=\"#DejaVuSans-51\"/>\r\n    </g>\r\n   </g>\r\n   <g id=\"text_67\">\r\n    <!-- 663 -->\r\n    <g transform=\"translate(1055.926875 158.039017)scale(0.1 -0.1)\">\r\n     <use xlink:href=\"#DejaVuSans-54\"/>\r\n     <use x=\"63.623047\" xlink:href=\"#DejaVuSans-54\"/>\r\n     <use x=\"127.246094\" xlink:href=\"#DejaVuSans-51\"/>\r\n    </g>\r\n   </g>\r\n   <g id=\"text_68\">\r\n    <!-- 603 -->\r\n    <g transform=\"translate(1130.326875 178.697202)scale(0.1 -0.1)\">\r\n     <use xlink:href=\"#DejaVuSans-54\"/>\r\n     <use x=\"63.623047\" xlink:href=\"#DejaVuSans-48\"/>\r\n     <use x=\"127.246094\" xlink:href=\"#DejaVuSans-51\"/>\r\n    </g>\r\n   </g>\r\n   <g id=\"text_69\">\r\n    <!-- 123 -->\r\n    <g transform=\"translate(88.726875 96.232413)scale(0.1 -0.1)\">\r\n     <use xlink:href=\"#DejaVuSans-49\"/>\r\n     <use x=\"63.623047\" xlink:href=\"#DejaVuSans-50\"/>\r\n     <use x=\"127.246094\" xlink:href=\"#DejaVuSans-51\"/>\r\n    </g>\r\n   </g>\r\n   <g id=\"text_70\">\r\n    <!-- 123 -->\r\n    <g transform=\"translate(163.126875 109.500678)scale(0.1 -0.1)\">\r\n     <use xlink:href=\"#DejaVuSans-49\"/>\r\n     <use x=\"63.623047\" xlink:href=\"#DejaVuSans-50\"/>\r\n     <use x=\"127.246094\" xlink:href=\"#DejaVuSans-51\"/>\r\n    </g>\r\n   </g>\r\n   <g id=\"text_71\">\r\n    <!-- 123 -->\r\n    <g transform=\"translate(237.526875 116.050835)scale(0.1 -0.1)\">\r\n     <use xlink:href=\"#DejaVuSans-49\"/>\r\n     <use x=\"63.623047\" xlink:href=\"#DejaVuSans-50\"/>\r\n     <use x=\"127.246094\" xlink:href=\"#DejaVuSans-51\"/>\r\n    </g>\r\n   </g>\r\n   <g id=\"text_72\">\r\n    <!-- 123 -->\r\n    <g transform=\"translate(311.926875 93.545169)scale(0.1 -0.1)\">\r\n     <use xlink:href=\"#DejaVuSans-49\"/>\r\n     <use x=\"63.623047\" xlink:href=\"#DejaVuSans-50\"/>\r\n     <use x=\"127.246094\" xlink:href=\"#DejaVuSans-51\"/>\r\n    </g>\r\n   </g>\r\n   <g id=\"text_73\">\r\n    <!-- 123 -->\r\n    <g transform=\"translate(386.326875 116.890598)scale(0.1 -0.1)\">\r\n     <use xlink:href=\"#DejaVuSans-49\"/>\r\n     <use x=\"63.623047\" xlink:href=\"#DejaVuSans-50\"/>\r\n     <use x=\"127.246094\" xlink:href=\"#DejaVuSans-51\"/>\r\n    </g>\r\n   </g>\r\n   <g id=\"text_74\">\r\n    <!-- 123 -->\r\n    <g transform=\"translate(460.726875 92.537453)scale(0.1 -0.1)\">\r\n     <use xlink:href=\"#DejaVuSans-49\"/>\r\n     <use x=\"63.623047\" xlink:href=\"#DejaVuSans-50\"/>\r\n     <use x=\"127.246094\" xlink:href=\"#DejaVuSans-51\"/>\r\n    </g>\r\n   </g>\r\n   <g id=\"text_75\">\r\n    <!-- 123 -->\r\n    <g transform=\"translate(535.126875 62.473914)scale(0.1 -0.1)\">\r\n     <use xlink:href=\"#DejaVuSans-49\"/>\r\n     <use x=\"63.623047\" xlink:href=\"#DejaVuSans-50\"/>\r\n     <use x=\"127.246094\" xlink:href=\"#DejaVuSans-51\"/>\r\n    </g>\r\n   </g>\r\n   <g id=\"text_76\">\r\n    <!-- 123 -->\r\n    <g transform=\"translate(609.526875 76.917849)scale(0.1 -0.1)\">\r\n     <use xlink:href=\"#DejaVuSans-49\"/>\r\n     <use x=\"63.623047\" xlink:href=\"#DejaVuSans-50\"/>\r\n     <use x=\"127.246094\" xlink:href=\"#DejaVuSans-51\"/>\r\n    </g>\r\n   </g>\r\n   <g id=\"text_77\">\r\n    <!-- 123 -->\r\n    <g transform=\"translate(683.926875 81.788478)scale(0.1 -0.1)\">\r\n     <use xlink:href=\"#DejaVuSans-49\"/>\r\n     <use x=\"63.623047\" xlink:href=\"#DejaVuSans-50\"/>\r\n     <use x=\"127.246094\" xlink:href=\"#DejaVuSans-51\"/>\r\n    </g>\r\n   </g>\r\n   <g id=\"text_78\">\r\n    <!-- 123 -->\r\n    <g transform=\"translate(758.326875 97.91194)scale(0.1 -0.1)\">\r\n     <use xlink:href=\"#DejaVuSans-49\"/>\r\n     <use x=\"63.623047\" xlink:href=\"#DejaVuSans-50\"/>\r\n     <use x=\"127.246094\" xlink:href=\"#DejaVuSans-51\"/>\r\n    </g>\r\n   </g>\r\n   <g id=\"text_79\">\r\n    <!-- 123 -->\r\n    <g transform=\"translate(832.726875 112.355875)scale(0.1 -0.1)\">\r\n     <use xlink:href=\"#DejaVuSans-49\"/>\r\n     <use x=\"63.623047\" xlink:href=\"#DejaVuSans-50\"/>\r\n     <use x=\"127.246094\" xlink:href=\"#DejaVuSans-51\"/>\r\n    </g>\r\n   </g>\r\n   <g id=\"text_80\">\r\n    <!-- 123 -->\r\n    <g transform=\"translate(907.126875 84.475722)scale(0.1 -0.1)\">\r\n     <use xlink:href=\"#DejaVuSans-49\"/>\r\n     <use x=\"63.623047\" xlink:href=\"#DejaVuSans-50\"/>\r\n     <use x=\"127.246094\" xlink:href=\"#DejaVuSans-51\"/>\r\n    </g>\r\n   </g>\r\n   <g id=\"text_81\">\r\n    <!-- 123 -->\r\n    <g transform=\"translate(981.526875 96.06446)scale(0.1 -0.1)\">\r\n     <use xlink:href=\"#DejaVuSans-49\"/>\r\n     <use x=\"63.623047\" xlink:href=\"#DejaVuSans-50\"/>\r\n     <use x=\"127.246094\" xlink:href=\"#DejaVuSans-51\"/>\r\n    </g>\r\n   </g>\r\n   <g id=\"text_82\">\r\n    <!-- 123 -->\r\n    <g transform=\"translate(1055.926875 92.033594)scale(0.1 -0.1)\">\r\n     <use xlink:href=\"#DejaVuSans-49\"/>\r\n     <use x=\"63.623047\" xlink:href=\"#DejaVuSans-50\"/>\r\n     <use x=\"127.246094\" xlink:href=\"#DejaVuSans-51\"/>\r\n    </g>\r\n   </g>\r\n   <g id=\"text_83\">\r\n    <!-- 123 -->\r\n    <g transform=\"translate(1130.326875 117.730362)scale(0.1 -0.1)\">\r\n     <use xlink:href=\"#DejaVuSans-49\"/>\r\n     <use x=\"63.623047\" xlink:href=\"#DejaVuSans-50\"/>\r\n     <use x=\"127.246094\" xlink:href=\"#DejaVuSans-51\"/>\r\n    </g>\r\n   </g>\r\n   <g id=\"text_84\">\r\n    <!-- Student Points -->\r\n    <defs>\r\n     <path d=\"M 59.90625 70.609375 \r\nL 59.90625 55.171875 \r\nQ 53.90625 57.859375 48.1875 59.21875 \r\nQ 42.484375 60.59375 37.40625 60.59375 \r\nQ 30.671875 60.59375 27.4375 58.734375 \r\nQ 24.21875 56.890625 24.21875 52.984375 \r\nQ 24.21875 50.046875 26.390625 48.40625 \r\nQ 28.5625 46.78125 34.28125 45.609375 \r\nL 42.28125 44 \r\nQ 54.4375 41.546875 59.5625 36.5625 \r\nQ 64.703125 31.59375 64.703125 22.40625 \r\nQ 64.703125 10.359375 57.546875 4.46875 \r\nQ 50.390625 -1.421875 35.6875 -1.421875 \r\nQ 28.765625 -1.421875 21.78125 -0.09375 \r\nQ 14.796875 1.21875 7.8125 3.8125 \r\nL 7.8125 19.671875 \r\nQ 14.796875 15.96875 21.3125 14.078125 \r\nQ 27.828125 12.203125 33.890625 12.203125 \r\nQ 40.046875 12.203125 43.3125 14.25 \r\nQ 46.578125 16.3125 46.578125 20.125 \r\nQ 46.578125 23.53125 44.359375 25.390625 \r\nQ 42.140625 27.25 35.5 28.71875 \r\nL 28.21875 30.328125 \r\nQ 17.28125 32.671875 12.21875 37.796875 \r\nQ 7.171875 42.921875 7.171875 51.609375 \r\nQ 7.171875 62.5 14.203125 68.359375 \r\nQ 21.234375 74.21875 34.421875 74.21875 \r\nQ 40.4375 74.21875 46.78125 73.3125 \r\nQ 53.125 72.40625 59.90625 70.609375 \r\nz\r\n\" id=\"DejaVuSans-Bold-83\"/>\r\n     <path d=\"M 27.484375 70.21875 \r\nL 27.484375 54.6875 \r\nL 45.515625 54.6875 \r\nL 45.515625 42.1875 \r\nL 27.484375 42.1875 \r\nL 27.484375 19 \r\nQ 27.484375 15.1875 29 13.84375 \r\nQ 30.515625 12.5 35.015625 12.5 \r\nL 44 12.5 \r\nL 44 0 \r\nL 29 0 \r\nQ 18.65625 0 14.328125 4.3125 \r\nQ 10.015625 8.640625 10.015625 19 \r\nL 10.015625 42.1875 \r\nL 1.3125 42.1875 \r\nL 1.3125 54.6875 \r\nL 10.015625 54.6875 \r\nL 10.015625 70.21875 \r\nz\r\n\" id=\"DejaVuSans-Bold-116\"/>\r\n     <path d=\"M 7.8125 21.296875 \r\nL 7.8125 54.6875 \r\nL 25.390625 54.6875 \r\nL 25.390625 49.21875 \r\nQ 25.390625 44.78125 25.34375 38.0625 \r\nQ 25.296875 31.34375 25.296875 29.109375 \r\nQ 25.296875 22.515625 25.640625 19.609375 \r\nQ 25.984375 16.703125 26.8125 15.375 \r\nQ 27.875 13.671875 29.609375 12.734375 \r\nQ 31.34375 11.8125 33.59375 11.8125 \r\nQ 39.0625 11.8125 42.1875 16.015625 \r\nQ 45.3125 20.21875 45.3125 27.6875 \r\nL 45.3125 54.6875 \r\nL 62.796875 54.6875 \r\nL 62.796875 0 \r\nL 45.3125 0 \r\nL 45.3125 7.90625 \r\nQ 41.359375 3.125 36.9375 0.84375 \r\nQ 32.515625 -1.421875 27.203125 -1.421875 \r\nQ 17.71875 -1.421875 12.765625 4.390625 \r\nQ 7.8125 10.203125 7.8125 21.296875 \r\nz\r\n\" id=\"DejaVuSans-Bold-117\"/>\r\n     <path d=\"M 45.609375 46.6875 \r\nL 45.609375 75.984375 \r\nL 63.1875 75.984375 \r\nL 63.1875 0 \r\nL 45.609375 0 \r\nL 45.609375 7.90625 \r\nQ 42 3.078125 37.640625 0.828125 \r\nQ 33.296875 -1.421875 27.59375 -1.421875 \r\nQ 17.484375 -1.421875 10.984375 6.609375 \r\nQ 4.5 14.65625 4.5 27.296875 \r\nQ 4.5 39.9375 10.984375 47.96875 \r\nQ 17.484375 56 27.59375 56 \r\nQ 33.25 56 37.625 53.734375 \r\nQ 42 51.46875 45.609375 46.6875 \r\nz\r\nM 34.078125 11.28125 \r\nQ 39.703125 11.28125 42.65625 15.375 \r\nQ 45.609375 19.484375 45.609375 27.296875 \r\nQ 45.609375 35.109375 42.65625 39.203125 \r\nQ 39.703125 43.3125 34.078125 43.3125 \r\nQ 28.515625 43.3125 25.5625 39.203125 \r\nQ 22.609375 35.109375 22.609375 27.296875 \r\nQ 22.609375 19.484375 25.5625 15.375 \r\nQ 28.515625 11.28125 34.078125 11.28125 \r\nz\r\n\" id=\"DejaVuSans-Bold-100\"/>\r\n     <path d=\"M 62.984375 27.484375 \r\nL 62.984375 22.515625 \r\nL 22.125 22.515625 \r\nQ 22.75 16.359375 26.5625 13.28125 \r\nQ 30.375 10.203125 37.203125 10.203125 \r\nQ 42.71875 10.203125 48.5 11.84375 \r\nQ 54.296875 13.484375 60.40625 16.796875 \r\nL 60.40625 3.328125 \r\nQ 54.203125 0.984375 48 -0.21875 \r\nQ 41.796875 -1.421875 35.59375 -1.421875 \r\nQ 20.75 -1.421875 12.515625 6.125 \r\nQ 4.296875 13.671875 4.296875 27.296875 \r\nQ 4.296875 40.671875 12.375 48.328125 \r\nQ 20.453125 56 34.625 56 \r\nQ 47.515625 56 55.25 48.234375 \r\nQ 62.984375 40.484375 62.984375 27.484375 \r\nz\r\nM 45.015625 33.296875 \r\nQ 45.015625 38.28125 42.109375 41.328125 \r\nQ 39.203125 44.390625 34.515625 44.390625 \r\nQ 29.4375 44.390625 26.265625 41.53125 \r\nQ 23.09375 38.671875 22.3125 33.296875 \r\nz\r\n\" id=\"DejaVuSans-Bold-101\"/>\r\n     <path d=\"M 63.375 33.296875 \r\nL 63.375 0 \r\nL 45.796875 0 \r\nL 45.796875 5.421875 \r\nL 45.796875 25.484375 \r\nQ 45.796875 32.5625 45.484375 35.25 \r\nQ 45.171875 37.9375 44.390625 39.203125 \r\nQ 43.359375 40.921875 41.59375 41.875 \r\nQ 39.84375 42.828125 37.59375 42.828125 \r\nQ 32.125 42.828125 29 38.59375 \r\nQ 25.875 34.375 25.875 26.90625 \r\nL 25.875 0 \r\nL 8.40625 0 \r\nL 8.40625 54.6875 \r\nL 25.875 54.6875 \r\nL 25.875 46.6875 \r\nQ 29.828125 51.46875 34.265625 53.734375 \r\nQ 38.71875 56 44.09375 56 \r\nQ 53.5625 56 58.46875 50.1875 \r\nQ 63.375 44.390625 63.375 33.296875 \r\nz\r\n\" id=\"DejaVuSans-Bold-110\"/>\r\n     <path id=\"DejaVuSans-Bold-32\"/>\r\n     <path d=\"M 9.1875 72.90625 \r\nL 40.375 72.90625 \r\nQ 54.296875 72.90625 61.734375 66.71875 \r\nQ 69.1875 60.546875 69.1875 49.125 \r\nQ 69.1875 37.640625 61.734375 31.46875 \r\nQ 54.296875 25.296875 40.375 25.296875 \r\nL 27.984375 25.296875 \r\nL 27.984375 0 \r\nL 9.1875 0 \r\nz\r\nM 27.984375 59.28125 \r\nL 27.984375 38.921875 \r\nL 38.375 38.921875 \r\nQ 43.84375 38.921875 46.828125 41.578125 \r\nQ 49.8125 44.234375 49.8125 49.125 \r\nQ 49.8125 54 46.828125 56.640625 \r\nQ 43.84375 59.28125 38.375 59.28125 \r\nz\r\n\" id=\"DejaVuSans-Bold-80\"/>\r\n     <path d=\"M 34.421875 43.5 \r\nQ 28.609375 43.5 25.5625 39.328125 \r\nQ 22.515625 35.15625 22.515625 27.296875 \r\nQ 22.515625 19.4375 25.5625 15.25 \r\nQ 28.609375 11.078125 34.421875 11.078125 \r\nQ 40.140625 11.078125 43.15625 15.25 \r\nQ 46.1875 19.4375 46.1875 27.296875 \r\nQ 46.1875 35.15625 43.15625 39.328125 \r\nQ 40.140625 43.5 34.421875 43.5 \r\nz\r\nM 34.421875 56 \r\nQ 48.53125 56 56.46875 48.375 \r\nQ 64.40625 40.765625 64.40625 27.296875 \r\nQ 64.40625 13.8125 56.46875 6.1875 \r\nQ 48.53125 -1.421875 34.421875 -1.421875 \r\nQ 20.265625 -1.421875 12.28125 6.1875 \r\nQ 4.296875 13.8125 4.296875 27.296875 \r\nQ 4.296875 40.765625 12.28125 48.375 \r\nQ 20.265625 56 34.421875 56 \r\nz\r\n\" id=\"DejaVuSans-Bold-111\"/>\r\n     <path d=\"M 8.40625 54.6875 \r\nL 25.875 54.6875 \r\nL 25.875 0 \r\nL 8.40625 0 \r\nz\r\nM 8.40625 75.984375 \r\nL 25.875 75.984375 \r\nL 25.875 61.71875 \r\nL 8.40625 61.71875 \r\nz\r\n\" id=\"DejaVuSans-Bold-105\"/>\r\n     <path d=\"M 51.125 52.984375 \r\nL 51.125 39.703125 \r\nQ 45.515625 42.046875 40.28125 43.21875 \r\nQ 35.0625 44.390625 30.421875 44.390625 \r\nQ 25.4375 44.390625 23.015625 43.140625 \r\nQ 20.609375 41.890625 20.609375 39.3125 \r\nQ 20.609375 37.203125 22.4375 36.078125 \r\nQ 24.265625 34.96875 29 34.421875 \r\nL 32.078125 33.984375 \r\nQ 45.515625 32.28125 50.140625 28.375 \r\nQ 54.78125 24.46875 54.78125 16.109375 \r\nQ 54.78125 7.375 48.328125 2.96875 \r\nQ 41.890625 -1.421875 29.109375 -1.421875 \r\nQ 23.6875 -1.421875 17.890625 -0.5625 \r\nQ 12.109375 0.296875 6 2 \r\nL 6 15.28125 \r\nQ 11.234375 12.75 16.71875 11.46875 \r\nQ 22.21875 10.203125 27.875 10.203125 \r\nQ 33.015625 10.203125 35.59375 11.609375 \r\nQ 38.1875 13.03125 38.1875 15.828125 \r\nQ 38.1875 18.171875 36.40625 19.3125 \r\nQ 34.625 20.453125 29.296875 21.09375 \r\nL 26.21875 21.484375 \r\nQ 14.546875 22.953125 9.859375 26.90625 \r\nQ 5.171875 30.859375 5.171875 38.921875 \r\nQ 5.171875 47.609375 11.125 51.796875 \r\nQ 17.09375 56 29.390625 56 \r\nQ 34.234375 56 39.546875 55.265625 \r\nQ 44.875 54.546875 51.125 52.984375 \r\nz\r\n\" id=\"DejaVuSans-Bold-115\"/>\r\n    </defs>\r\n    <g transform=\"translate(518.3925 25.43625)scale(0.24 -0.24)\">\r\n     <use xlink:href=\"#DejaVuSans-Bold-83\"/>\r\n     <use x=\"72.021484\" xlink:href=\"#DejaVuSans-Bold-116\"/>\r\n     <use x=\"119.824219\" xlink:href=\"#DejaVuSans-Bold-117\"/>\r\n     <use x=\"191.015625\" xlink:href=\"#DejaVuSans-Bold-100\"/>\r\n     <use x=\"262.597656\" xlink:href=\"#DejaVuSans-Bold-101\"/>\r\n     <use x=\"330.419922\" xlink:href=\"#DejaVuSans-Bold-110\"/>\r\n     <use x=\"401.611328\" xlink:href=\"#DejaVuSans-Bold-116\"/>\r\n     <use x=\"449.414062\" xlink:href=\"#DejaVuSans-Bold-32\"/>\r\n     <use x=\"484.228516\" xlink:href=\"#DejaVuSans-Bold-80\"/>\r\n     <use x=\"557.519531\" xlink:href=\"#DejaVuSans-Bold-111\"/>\r\n     <use x=\"626.220703\" xlink:href=\"#DejaVuSans-Bold-105\"/>\r\n     <use x=\"660.498047\" xlink:href=\"#DejaVuSans-Bold-110\"/>\r\n     <use x=\"731.689453\" xlink:href=\"#DejaVuSans-Bold-116\"/>\r\n     <use x=\"779.492188\" xlink:href=\"#DejaVuSans-Bold-115\"/>\r\n    </g>\r\n   </g>\r\n   <g id=\"legend_1\">\r\n    <g id=\"patch_67\">\r\n     <path d=\"M 1190.230625 279.7325 \r\nL 1317.865 279.7325 \r\nQ 1319.865 279.7325 1319.865 277.7325 \r\nL 1319.865 220.02 \r\nQ 1319.865 218.02 1317.865 218.02 \r\nL 1190.230625 218.02 \r\nQ 1188.230625 218.02 1188.230625 220.02 \r\nL 1188.230625 277.7325 \r\nQ 1188.230625 279.7325 1190.230625 279.7325 \r\nz\r\n\" style=\"fill:#ffffff;opacity:0.8;stroke:#cccccc;stroke-linejoin:miter;\"/>\r\n    </g>\r\n    <g id=\"patch_68\">\r\n     <path d=\"M 1192.230625 229.618438 \r\nL 1212.230625 229.618438 \r\nL 1212.230625 222.618438 \r\nL 1192.230625 222.618438 \r\nz\r\n\" style=\"fill:#add8e6;\"/>\r\n    </g>\r\n    <g id=\"text_85\">\r\n     <!-- Participation Points -->\r\n     <defs>\r\n      <path id=\"DejaVuSans-32\"/>\r\n     </defs>\r\n     <g transform=\"translate(1220.230625 229.618438)scale(0.1 -0.1)\">\r\n      <use xlink:href=\"#DejaVuSans-80\"/>\r\n      <use x=\"55.802734\" xlink:href=\"#DejaVuSans-97\"/>\r\n      <use x=\"117.082031\" xlink:href=\"#DejaVuSans-114\"/>\r\n      <use x=\"158.195312\" xlink:href=\"#DejaVuSans-116\"/>\r\n      <use x=\"197.404297\" xlink:href=\"#DejaVuSans-105\"/>\r\n      <use x=\"225.1875\" xlink:href=\"#DejaVuSans-99\"/>\r\n      <use x=\"280.167969\" xlink:href=\"#DejaVuSans-105\"/>\r\n      <use x=\"307.951172\" xlink:href=\"#DejaVuSans-112\"/>\r\n      <use x=\"371.427734\" xlink:href=\"#DejaVuSans-97\"/>\r\n      <use x=\"432.707031\" xlink:href=\"#DejaVuSans-116\"/>\r\n      <use x=\"471.916016\" xlink:href=\"#DejaVuSans-105\"/>\r\n      <use x=\"499.699219\" xlink:href=\"#DejaVuSans-111\"/>\r\n      <use x=\"560.880859\" xlink:href=\"#DejaVuSans-110\"/>\r\n      <use x=\"624.259766\" xlink:href=\"#DejaVuSans-32\"/>\r\n      <use x=\"656.046875\" xlink:href=\"#DejaVuSans-80\"/>\r\n      <use x=\"712.724609\" xlink:href=\"#DejaVuSans-111\"/>\r\n      <use x=\"773.90625\" xlink:href=\"#DejaVuSans-105\"/>\r\n      <use x=\"801.689453\" xlink:href=\"#DejaVuSans-110\"/>\r\n      <use x=\"865.068359\" xlink:href=\"#DejaVuSans-116\"/>\r\n      <use x=\"904.277344\" xlink:href=\"#DejaVuSans-115\"/>\r\n     </g>\r\n    </g>\r\n    <g id=\"patch_69\">\r\n     <path d=\"M 1192.230625 244.296563 \r\nL 1212.230625 244.296563 \r\nL 1212.230625 237.296563 \r\nL 1192.230625 237.296563 \r\nz\r\n\" style=\"fill:#ff0000;\"/>\r\n    </g>\r\n    <g id=\"text_86\">\r\n     <!-- HW Points -->\r\n     <defs>\r\n      <path d=\"M 3.328125 72.90625 \r\nL 13.28125 72.90625 \r\nL 28.609375 11.28125 \r\nL 43.890625 72.90625 \r\nL 54.984375 72.90625 \r\nL 70.3125 11.28125 \r\nL 85.59375 72.90625 \r\nL 95.609375 72.90625 \r\nL 77.296875 0 \r\nL 64.890625 0 \r\nL 49.515625 63.28125 \r\nL 33.984375 0 \r\nL 21.578125 0 \r\nz\r\n\" id=\"DejaVuSans-87\"/>\r\n     </defs>\r\n     <g transform=\"translate(1220.230625 244.296563)scale(0.1 -0.1)\">\r\n      <use xlink:href=\"#DejaVuSans-72\"/>\r\n      <use x=\"75.195312\" xlink:href=\"#DejaVuSans-87\"/>\r\n      <use x=\"174.072266\" xlink:href=\"#DejaVuSans-32\"/>\r\n      <use x=\"205.859375\" xlink:href=\"#DejaVuSans-80\"/>\r\n      <use x=\"262.537109\" xlink:href=\"#DejaVuSans-111\"/>\r\n      <use x=\"323.71875\" xlink:href=\"#DejaVuSans-105\"/>\r\n      <use x=\"351.501953\" xlink:href=\"#DejaVuSans-110\"/>\r\n      <use x=\"414.880859\" xlink:href=\"#DejaVuSans-116\"/>\r\n      <use x=\"454.089844\" xlink:href=\"#DejaVuSans-115\"/>\r\n     </g>\r\n    </g>\r\n    <g id=\"patch_70\">\r\n     <path d=\"M 1192.230625 258.974688 \r\nL 1212.230625 258.974688 \r\nL 1212.230625 251.974688 \r\nL 1192.230625 251.974688 \r\nz\r\n\" style=\"fill:#ffa500;\"/>\r\n    </g>\r\n    <g id=\"text_87\">\r\n     <!-- Test Points -->\r\n     <defs>\r\n      <path d=\"M -0.296875 72.90625 \r\nL 61.375 72.90625 \r\nL 61.375 64.59375 \r\nL 35.5 64.59375 \r\nL 35.5 0 \r\nL 25.59375 0 \r\nL 25.59375 64.59375 \r\nL -0.296875 64.59375 \r\nz\r\n\" id=\"DejaVuSans-84\"/>\r\n     </defs>\r\n     <g transform=\"translate(1220.230625 258.974688)scale(0.1 -0.1)\">\r\n      <use xlink:href=\"#DejaVuSans-84\"/>\r\n      <use x=\"44.083984\" xlink:href=\"#DejaVuSans-101\"/>\r\n      <use x=\"105.607422\" xlink:href=\"#DejaVuSans-115\"/>\r\n      <use x=\"157.707031\" xlink:href=\"#DejaVuSans-116\"/>\r\n      <use x=\"196.916016\" xlink:href=\"#DejaVuSans-32\"/>\r\n      <use x=\"228.703125\" xlink:href=\"#DejaVuSans-80\"/>\r\n      <use x=\"285.380859\" xlink:href=\"#DejaVuSans-111\"/>\r\n      <use x=\"346.5625\" xlink:href=\"#DejaVuSans-105\"/>\r\n      <use x=\"374.345703\" xlink:href=\"#DejaVuSans-110\"/>\r\n      <use x=\"437.724609\" xlink:href=\"#DejaVuSans-116\"/>\r\n      <use x=\"476.933594\" xlink:href=\"#DejaVuSans-115\"/>\r\n     </g>\r\n    </g>\r\n    <g id=\"patch_71\">\r\n     <path d=\"M 1192.230625 273.652813 \r\nL 1212.230625 273.652813 \r\nL 1212.230625 266.652813 \r\nL 1192.230625 266.652813 \r\nz\r\n\" style=\"fill:#90ee90;\"/>\r\n    </g>\r\n    <g id=\"text_88\">\r\n     <!-- Attendance Points -->\r\n     <defs>\r\n      <path d=\"M 34.1875 63.1875 \r\nL 20.796875 26.90625 \r\nL 47.609375 26.90625 \r\nz\r\nM 28.609375 72.90625 \r\nL 39.796875 72.90625 \r\nL 67.578125 0 \r\nL 57.328125 0 \r\nL 50.6875 18.703125 \r\nL 17.828125 18.703125 \r\nL 11.1875 0 \r\nL 0.78125 0 \r\nz\r\n\" id=\"DejaVuSans-65\"/>\r\n     </defs>\r\n     <g transform=\"translate(1220.230625 273.652813)scale(0.1 -0.1)\">\r\n      <use xlink:href=\"#DejaVuSans-65\"/>\r\n      <use x=\"66.658203\" xlink:href=\"#DejaVuSans-116\"/>\r\n      <use x=\"105.867188\" xlink:href=\"#DejaVuSans-116\"/>\r\n      <use x=\"145.076172\" xlink:href=\"#DejaVuSans-101\"/>\r\n      <use x=\"206.599609\" xlink:href=\"#DejaVuSans-110\"/>\r\n      <use x=\"269.978516\" xlink:href=\"#DejaVuSans-100\"/>\r\n      <use x=\"333.455078\" xlink:href=\"#DejaVuSans-97\"/>\r\n      <use x=\"394.734375\" xlink:href=\"#DejaVuSans-110\"/>\r\n      <use x=\"458.113281\" xlink:href=\"#DejaVuSans-99\"/>\r\n      <use x=\"513.09375\" xlink:href=\"#DejaVuSans-101\"/>\r\n      <use x=\"574.617188\" xlink:href=\"#DejaVuSans-32\"/>\r\n      <use x=\"606.404297\" xlink:href=\"#DejaVuSans-80\"/>\r\n      <use x=\"663.082031\" xlink:href=\"#DejaVuSans-111\"/>\r\n      <use x=\"724.263672\" xlink:href=\"#DejaVuSans-105\"/>\r\n      <use x=\"752.046875\" xlink:href=\"#DejaVuSans-110\"/>\r\n      <use x=\"815.425781\" xlink:href=\"#DejaVuSans-116\"/>\r\n      <use x=\"854.634766\" xlink:href=\"#DejaVuSans-115\"/>\r\n     </g>\r\n    </g>\r\n   </g>\r\n  </g>\r\n </g>\r\n <defs>\r\n  <clipPath id=\"p6b80da4161\">\r\n   <rect height=\"434.88\" width=\"1116\" x=\"61.070625\" y=\"31.43625\"/>\r\n  </clipPath>\r\n </defs>\r\n</svg>\r\n",
      "image/png": "[encoded data removed]"
     },
     "metadata": {
      "needs_background": "light"
     }
    }
   ],
   "source": [
    "# Set the title\n",
    "oTitle = f\"({tiMonth}-{tiYear}) Class {tiClassID} - Points\"\n",
    "# Prepare DataFrame\n",
    "dfPointsBLAH = dfPoints[['PARTICIPATION_POINTS', 'HW_POINTS', 'TEST_POINTS', 'ATTENDANCE_POINTS', 'STUDENT_NAME_ENGLISH']]\n",
    "# Define color deficient-friendly colors\n",
    "my_colors = list(islice(cycle(['lightblue', 'red', 'orange', 'lightgreen']), None, len(dfPointsBLAH)))\n",
    "# Plot it\n",
    "ax = dfPointsBLAH.plot.bar(x = 'STUDENT_NAME_ENGLISH', figsize=(20,8), stacked = True, color = my_colors, rot = 0)\n",
    "# Set up the legend\n",
    "ax.legend(['Participation Points', 'HW Points', 'Test Points', 'Attendance Points'], bbox_to_anchor=(1.01, 0.5), loc='center left', borderaxespad=0)\n",
    "# Format the graph\n",
    "ax.set_title(\"Student Points\", size = 24, ha = 'center', fontweight = 'bold')\n",
    "ax.set_xlabel(\"Name\", size = 18, style=\"italic\")\n",
    "ax.set_ylabel(\"Points\", size = 18, style=\"italic\")\n",
    "# Add Labels\n",
    "fShowValuesOnBarsCenter(ax, 0, 2)\n",
    "# Save the figure as png\n",
    "ax.figure.savefig(f\"Images\\{oTitle}.png\", bbox_inches = 'tight')\n",
    "# Append the plot to a list\n",
    "lParticipationPlots.append(f\"{oTitle}.png\")\n",
    "# Close the plot to stop it dislaying\n",
    "#plt.close()"
   ]
  },
  {
   "cell_type": "code",
   "execution_count": null,
   "metadata": {},
   "outputs": [],
   "source": []
  }
 ]
}