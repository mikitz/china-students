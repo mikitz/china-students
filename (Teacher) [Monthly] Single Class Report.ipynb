{
 "metadata": {
  "language_info": {
   "codemirror_mode": {
    "name": "ipython",
    "version": 3
   },
   "file_extension": ".py",
   "mimetype": "text/x-python",
   "name": "python",
   "nbconvert_exporter": "python",
   "pygments_lexer": "ipython3",
   "version": "3.8.3-final"
  },
  "orig_nbformat": 2,
  "kernelspec": {
   "name": "python3",
   "display_name": "Python 3",
   "language": "python"
  }
 },
 "nbformat": 4,
 "nbformat_minor": 2,
 "cells": [
  {
   "cell_type": "code",
   "execution_count": 71,
   "metadata": {},
   "outputs": [],
   "source": [
    "# Take User Input in the form of the Class ID\n",
    "classID = int(input(\"Please enter the Class ID:\\n\"))"
   ]
  },
  {
   "cell_type": "code",
   "execution_count": 72,
   "metadata": {},
   "outputs": [],
   "source": [
    "# Import necessary modules\n",
    "import math\n",
    "import datetime\n",
    "import numpy as np\n",
    "import pandas as pd\n",
    "from fpdf import FPDF\n",
    "from PIL import Image\n",
    "import seaborn as sns\n",
    "import matplotlib.pyplot as plt\n",
    "from itertools import cycle, islice"
   ]
  },
  {
   "cell_type": "code",
   "execution_count": 73,
   "metadata": {},
   "outputs": [],
   "source": [
    "# Set the Country to be pulled\n",
    "country = 'china' # 'chinese' for China and 'korean' for Korea\n",
    "# Set user name\n",
    "UN = 'mfitz' # 'mfitz' for LAPPIE, 'Me' for GLaDOS\n",
    "# Define the path where the DBs are stored\n",
    "path = r'C:\\Users\\{}\\Documents\\GitHub Clones\\{}-students'.format(UN, country)"
   ]
  },
  {
   "cell_type": "code",
   "execution_count": 74,
   "metadata": {},
   "outputs": [],
   "source": [
    "# Set the path of the Database files\n",
    "oPath = 'database/tables'\n",
    "# Read all the sheets from the excel file.\n",
    "students = pd.read_csv('{}/students.csv'.format(oPath), header = 0)\n",
    "classes = pd.read_csv('{}/classes.csv'.format(oPath), header = 0)\n",
    "tests = pd.read_csv('{}/tests.csv'.format(oPath), header = 0)\n",
    "test_results = pd.read_csv('{}/test_results.csv'.format(oPath), header = 0)\n",
    "attendance = pd.read_csv('{}/attendance.csv'.format(oPath), header = 0)\n",
    "hw = pd.read_csv('{}/hw_assignments.csv'.format(oPath), header = 0)\n",
    "hw_results = pd.read_csv('{}/hw_grades.csv'.format(oPath), header = 0)\n",
    "participation = pd.read_csv('{}/participation.csv'.format(oPath), header = 0)\n",
    "points = pd.read_csv('{}/points.csv'.format(oPath), header = 0)\n",
    "# Merge attendance and class ID from students\n",
    "attendance = pd.merge(attendance, students[['STUDENT_ID', 'CLASS_ID']], how = 'inner', on = 'STUDENT_ID')\n",
    "# Get a list of ALL Class IDs\n",
    "lClasses = classes['CLASS_ID'].to_list()\n",
    "# Get a list of ALL Student IDs\n",
    "lStudents = students['STUDENT_ID'].to_list()"
   ]
  },
  {
   "cell_type": "code",
   "execution_count": 75,
   "metadata": {},
   "outputs": [],
   "source": [
    "# FUNCTIONS\n",
    "\n",
    "# Define a function to show values at scatter plot points\n",
    "def fShowValuesScatter(axis, x, y, decimals, ychange):\n",
    "    for i, j in zip(x, y):\n",
    "        axis.annotate('{:.{}f}'.format(j, decimals), \n",
    "                        xy = (i, j), \n",
    "                        xytext=(ychange, 0), \n",
    "                        textcoords=\"offset points\", \n",
    "                        va='center')\n",
    "        \n",
    "# Define a function to show values on bar plots\n",
    "def fShowValuesOnBars(axs, decimals):\n",
    "    def _show_on_single_plot(ax):        \n",
    "        for p in ax.patches:\n",
    "            _x = p.get_x() + p.get_width() / 2\n",
    "            _y = p.get_y() + p.get_height() + 0.05\n",
    "            value = '{:.{}f}'.format(p.get_height(), decimals)\n",
    "            ax.text(_x, _y, value, ha=\"center\") \n",
    "    if isinstance(axs, np.ndarray):\n",
    "        for idx, ax in np.ndenumerate(axs):\n",
    "            _show_on_single_plot(ax)\n",
    "    else:\n",
    "        _show_on_single_plot(axs)\n",
    "\n",
    "# Define a function to show values on bar plots\n",
    "def fShowValuesOnBarsCenter(axs, decimals, yMod):\n",
    "    def _show_on_single_plot(ax):        \n",
    "        for p in ax.patches:\n",
    "            _x = p.get_x() + p.get_width() / 2\n",
    "            _y = p.get_y() + p.get_height() / yMod\n",
    "            value = '{:.{}f}'.format(p.get_height(), decimals)\n",
    "            ax.text(_x, _y, value, ha=\"center\") \n",
    "\n",
    "    if isinstance(axs, np.ndarray):\n",
    "        for idx, ax in np.ndenumerate(axs):\n",
    "            _show_on_single_plot(ax)\n",
    "    else:\n",
    "        _show_on_single_plot(axs)\n",
    "\n",
    "# Add standard deviations to a DataFrame\n",
    "def fStandardDeviation(dataframe, column):\n",
    "    mean = dataframe[column].mean()\n",
    "    std = dataframe[column].std()\n",
    "    dataframe['MEAN_DIFF'] = ''\n",
    "    dataframe['STD_VAL'] = ''\n",
    "    for index, i in dataframe.iterrows():\n",
    "        value = dataframe[column][index]\n",
    "        meanDiff = value - mean\n",
    "        if meanDiff < 0:\n",
    "            neg = '-'\n",
    "        else:\n",
    "            neg = ''\n",
    "        if meanDiff <= std:\n",
    "            stdVal = neg + str(1)\n",
    "        elif meanDiff <= std*2:\n",
    "            stdVal = neg + str(2)\n",
    "        elif meanDiff <= std*3:\n",
    "            stdVal = neg + str(3)\n",
    "        elif meanDiff <= std*4:\n",
    "            stdVal = neg + str(4)\n",
    "        else:\n",
    "            pass\n",
    "        dataframe['MEAN_DIFF'][index] = meanDiff\n",
    "        dataframe['STD_VAL'][index] = stdVal\n",
    "    dataframe = dataframe.astype({'MEAN_DIFF':'float32', 'STD_VAL':'int32'})"
   ]
  },
  {
   "cell_type": "code",
   "execution_count": 76,
   "metadata": {},
   "outputs": [],
   "source": [
    "# Set the class ID\n",
    "tiClassID = classID\n",
    "# Get a list of Student IDs in this class\n",
    "lStudentsInCurrentClass = students['STUDENT_ID'].where(students['CLASS_ID'] == tiClassID)\n",
    "lStudentsInCurrentClass.dropna(how = 'all', inplace = True)\n",
    "lStudentsInCurrentClass = lStudentsInCurrentClass.astype({'STUDENT_ID': 'int32'})\n",
    "lStudentsInCurrentClass = lStudentsInCurrentClass.reset_index(drop = True)"
   ]
  },
  {
   "source": [
    "# Monthly Report"
   ],
   "cell_type": "markdown",
   "metadata": {}
  },
  {
   "cell_type": "code",
   "execution_count": 77,
   "metadata": {},
   "outputs": [],
   "source": [
    "# Set the month and year\n",
    "tiYear = 2014\n",
    "tiMonth = 10\n",
    "# Get the month name from its number\n",
    "oMonth = datetime.date(tiYear, tiMonth, 1).strftime('%B')\n",
    "# Get previous month name\n",
    "oMonthLast = datetime.date(tiYear, tiMonth - 1, 1).strftime('%B')\n",
    "# Get the number of students in this class\n",
    "oNumberStudents = students[students['CLASS_ID'] == tiClassID].shape[0]"
   ]
  },
  {
   "source": [
    "## For the User-defined Class"
   ],
   "cell_type": "markdown",
   "metadata": {}
  },
  {
   "source": [
    "### PREPARE DATAFRAMES"
   ],
   "cell_type": "markdown",
   "metadata": {}
  },
  {
   "cell_type": "code",
   "execution_count": 78,
   "metadata": {},
   "outputs": [],
   "source": [
    "# Students DF\n",
    "dfStudents = students.where(students['CLASS_ID'] == tiClassID)\n",
    "dfStudents.dropna(how = 'all', inplace = True)\n",
    "dfStudents = dfStudents.astype({'STUDENT_ID': 'int32', 'STUDENT_AGE': 'int32', 'CLASS_ID': 'int32'})\n",
    "dfStudents = dfStudents.reset_index(drop = True)\n",
    "# Test Scores DF\n",
    "dfTestScores = test_results.where(test_results['CLASS_ID'] == tiClassID)\n",
    "dfTestScores.dropna(how = 'all', inplace = True)\n",
    "dfTestScores = dfTestScores.astype({'STUDENT_ID': 'int32', 'TEST_ID': 'int32', 'TEST_SCORE': 'int32', 'TEST_SCORE_MAX': 'int32', 'CLASS_ID': 'int32'})\n",
    "dfTestScores['TEST_DATE'] = pd.to_datetime(dfTestScores['TEST_DATE'])\n",
    "dfTestScores = dfTestScores.reset_index(drop = True)\n",
    "# Get a list of all Test IDs\n",
    "lTestIDs = dfTestScores['TEST_ID'].unique()\n",
    "# Attendance DF\n",
    "dfAttendance = attendance.where(attendance['CLASS_ID'] == tiClassID)\n",
    "dfAttendance.dropna(how = 'all', inplace = True)\n",
    "dfAttendance = dfAttendance.astype({'STUDENT_ID': 'int32', 'CLASS_ID': 'int32'})\n",
    "dfAttendance['CLASS_DATE'] = pd.to_datetime(dfAttendance['CLASS_DATE'])\n",
    "dfAttendance = dfAttendance.reset_index(drop = True)\n",
    "# HW Scores DF\n",
    "dfHWScores = hw_results.where(hw_results['CLASS_ID'] == tiClassID)\n",
    "dfHWScores.dropna(how = 'all', inplace = True)\n",
    "dfHWScores = dfHWScores.astype({'STUDENT_ID': 'int32', 'HW_ID': 'int32', 'HW_SCORE': 'int32', 'HW_SCORE_MAX': 'int32', 'CLASS_ID': 'int32'})\n",
    "dfHWScores['HW_ASSIGNED_DATE'] = pd.to_datetime(dfHWScores['HW_ASSIGNED_DATE'])\n",
    "dfHWScores['HW_TURNED_IN_DATE'] = pd.to_datetime(dfHWScores['HW_TURNED_IN_DATE'])\n",
    "dfHWScores = dfHWScores.reset_index(drop = True)\n",
    "# Get a list of all the HW IDs\n",
    "lHWIDs = dfHWScores['HW_ID'].unique() \n",
    "# Participation DF\n",
    "dfParticipation = participation.where(participation['CLASS_ID'] == tiClassID)\n",
    "dfParticipation.dropna(how = 'all', inplace = True)\n",
    "dfParticipation = dfParticipation.astype({'STUDENT_ID': 'int32', 'PARTICIPATION_ATTEMPTS': 'int32', 'PARTICIPATION_HINTS': 'int32', 'CLASS_ID': 'int32'})\n",
    "dfParticipation['PARTICIPATION_DATETIME'] = pd.to_datetime(dfParticipation['PARTICIPATION_DATETIME'])\n",
    "dfParticipation = dfParticipation.reset_index(drop = True)\n",
    "# Tests DF\n",
    "dfTests = tests[tests['TEST_ID'].isin(lTestIDs)]\n",
    "dfTests.dropna(how = 'all', inplace = True)\n",
    "dfTests['TEST_DATE'] = pd.to_datetime(dfTests['TEST_DATE'])\n",
    "dfTests = dfTests.reset_index(drop = True)\n",
    "# HW DF\n",
    "dfHW = hw[hw['HW_ID'].isin(lHWIDs)]\n",
    "dfHW.dropna(how = 'all', inplace = True)\n",
    "dfHW['HW_ASSIGNED_DATE'] = pd.to_datetime(dfHW['HW_ASSIGNED_DATE'])\n",
    "dfHW['HW_DUE_DATE'] = pd.to_datetime(dfHW['HW_DUE_DATE'])\n",
    "dfHW = dfHW.reset_index(drop = True)\n",
    "\n",
    "# TESTS\n",
    "# Test Scores\n",
    "dfTestScoresDate = dfTestScores.where((dfTestScores['TEST_DATE'].dt.year == tiYear) & (dfTestScores['TEST_DATE'].dt.month == tiMonth))\n",
    "dfTestScoresDateMinus1 = dfTestScores.where((dfTestScores['TEST_DATE'].dt.year == tiYear) & (dfTestScores['TEST_DATE'].dt.month == tiMonth - 1))\n",
    "dfTestScoresDateMinus2 = dfTestScores.where((dfTestScores['TEST_DATE'].dt.year == tiYear) & (dfTestScores['TEST_DATE'].dt.month == tiMonth - 2))\n",
    "# Test Names\n",
    "dfTestsDate = dfTests.where((dfTests['TEST_DATE'].dt.year == tiYear) & (dfTests['TEST_DATE'].dt.month == tiMonth))\n",
    "# ATTENDANCE\n",
    "dfAttendanceDate = dfAttendance.where((dfAttendance['CLASS_DATE'].dt.year == tiYear) & (dfAttendance['CLASS_DATE'].dt.month == tiMonth))\n",
    "dfAttendanceDate.dropna(how = 'all', inplace = True)\n",
    "# PARTICIPATION\n",
    "# Current Month\n",
    "dfParticipationDate = dfParticipation.where((dfParticipation['PARTICIPATION_DATETIME'].dt.year == tiYear) & (dfParticipation['PARTICIPATION_DATETIME'].dt.month == tiMonth))\n",
    "dfParticipationDate.dropna(how = 'all', inplace = True)\n",
    "dfParticipationDate = dfParticipationDate.reset_index(drop = True)\n",
    "# Current Month - 1\n",
    "dfParticipationDateMinus1 = dfParticipation.where((dfParticipation['PARTICIPATION_DATETIME'].dt.year == tiYear) & (dfParticipation['PARTICIPATION_DATETIME'].dt.month == tiMonth - 1))\n",
    "dfParticipationDateMinus1.dropna(how = 'all', inplace = True)\n",
    "dfParticipationDateMinus1 = dfParticipationDateMinus1.reset_index(drop = True)\n",
    "# HOMEWORK\n",
    "# Homework Assignments\n",
    "dfHWDate = dfHW.where((dfHW['HW_ASSIGNED_DATE'].dt.year == tiYear) & (dfHW['HW_ASSIGNED_DATE'].dt.month == tiMonth))\n",
    "# Homework Scores\n",
    "dfHWScoresDate = dfHWScores.where((dfHWScores['HW_ASSIGNED_DATE'].dt.year == tiYear) & (dfHWScores['HW_ASSIGNED_DATE'].dt.month == tiMonth))\n",
    "\n",
    "# Can use this to loopify the above?\n",
    "lDFs = [dfStudents, dfTestScores, dfAttendance, dfHWScores, dfParticipation, dfTests, dfHW]"
   ]
  },
  {
   "cell_type": "code",
   "execution_count": 79,
   "metadata": {},
   "outputs": [],
   "source": [
    "dfAttendanceAbsent = attendance.where(attendance['ATTENDANCE_STATUS'] == 'absent')\n",
    "dfAttendanceAbsent.dropna(how = 'all', inplace = True)"
   ]
  },
  {
   "source": [
    "### Test Grades"
   ],
   "cell_type": "markdown",
   "metadata": {}
  },
  {
   "source": [
    "#### *Prepare the DataFrames*"
   ],
   "cell_type": "markdown",
   "metadata": {}
  },
  {
   "cell_type": "code",
   "execution_count": 80,
   "metadata": {},
   "outputs": [],
   "source": [
    "# Merge the test results DF with students DF for the specified class\n",
    "dfTestScoresDate = pd.merge(dfTestScoresDate, dfStudents, on = 'STUDENT_ID')\n",
    "# Sort the DF by test score in descending order\n",
    "dfTestScoresDate = dfTestScoresDate.sort_values(by = 'TEST_SCORE', ascending = False)\n",
    "# Calculate the average score for each student\n",
    "oTestScoreMean = dfTestScoresDate['TEST_SCORE'].mean()"
   ]
  },
  {
   "source": [
    "#### *Plots*"
   ],
   "cell_type": "markdown",
   "metadata": {}
  },
  {
   "cell_type": "code",
   "execution_count": 81,
   "metadata": {},
   "outputs": [],
   "source": [
    "# Define an empty list to store the plots titles\n",
    "lTestPlots = []"
   ]
  },
  {
   "cell_type": "code",
   "execution_count": 82,
   "metadata": {},
   "outputs": [],
   "source": [
    "# Current Month's Test Scores\n",
    "# Set the title\n",
    "oTitle = f\"({tiMonth}-{tiYear}) Class {tiClassID} - Test Scores\"\n",
    "# Plot the data\n",
    "ax = dfTestScoresDate.plot.bar(x = 'STUDENT_NAME_ENGLISH', y = 'TEST_SCORE', figsize=(20,8), label='Test Score', rot = 0)\n",
    "# Plot the this month's HW average score\n",
    "plt.axhline(y = oTestScoreMean, color = 'darkblue', linestyle = 'dashed', label = '{} Test Average'.format(oMonth))\n",
    "# Set up the legend\n",
    "plt.legend(bbox_to_anchor=(1.01, 0.5), loc='center left', borderaxespad=0)\n",
    "# Format the graph\n",
    "ax.set_title(\"Test Scores\", size = 24, ha = 'center', fontweight = 'bold')\n",
    "ax.set_xlabel(\"Name\", size = 18, style=\"italic\")\n",
    "ax.set_ylabel(\"Test Score\", size = 18, style=\"italic\")\n",
    "ax.yaxis.grid(True, color = 'g')\n",
    "# Add labels\n",
    "fShowValuesOnBars(ax, 0)\n",
    "# Save the figure as png\n",
    "ax.figure.savefig(f\"Images\\{oTitle}.png\", bbox_inches = 'tight')\n",
    "# Append the plot to a list\n",
    "lTestPlots.append(f\"{oTitle}.png\")\n",
    "# Close the plot to stop it dislaying\n",
    "plt.close()"
   ]
  },
  {
   "source": [
    "### Homework Grades"
   ],
   "cell_type": "markdown",
   "metadata": {}
  },
  {
   "source": [
    "#### *Prepare the DataFrames*"
   ],
   "cell_type": "markdown",
   "metadata": {}
  },
  {
   "cell_type": "code",
   "execution_count": 83,
   "metadata": {},
   "outputs": [],
   "source": [
    "# Merge the HW grades with students DF for the specified class\n",
    "dfHWScoresDate = pd.merge(dfHWScoresDate, dfStudents[['STUDENT_ID', 'STUDENT_NAME_ENGLISH']], on = 'STUDENT_ID')\n",
    "dfHWScoresDate.dropna(how = 'all', inplace = True)\n",
    "# Calculate the average score for each student\n",
    "dfHWScoresDateAverages = dfHWScoresDate.groupby(['STUDENT_NAME_ENGLISH'])['HW_SCORE'].mean()\n",
    "# Turn the above series into a DataFrame\n",
    "dfHWScoresDateAverages = pd.DataFrame(dfHWScoresDateAverages)"
   ]
  },
  {
   "source": [
    "#### *Plots*"
   ],
   "cell_type": "markdown",
   "metadata": {}
  },
  {
   "cell_type": "code",
   "execution_count": 84,
   "metadata": {},
   "outputs": [],
   "source": [
    "# Define an empty list to store the plots titles\n",
    "lHWPlots = []"
   ]
  },
  {
   "cell_type": "code",
   "execution_count": 85,
   "metadata": {},
   "outputs": [],
   "source": [
    "# Set the title\n",
    "oTitle = f\"({tiMonth}-{tiYear}) Class {tiClassID} - HW Scores\"\n",
    "# Get the number of IDs\n",
    "blah = dfHWScoresDate.sort_values(by = 'HW_ID')\n",
    "oIDCount = len(list(blah['HW_ID'].unique()))\n",
    "# Define the figure and axis\n",
    "fig, axes = plt.subplots(oIDCount)\n",
    "# Define the colors list\n",
    "lColors = ['darkblue', 'orange', 'darkgreen', 'lightgreen', 'blue', 'purple', 'red']\n",
    "# Define the color index\n",
    "oColor = 0\n",
    "# Loop through the HW_IDs\n",
    "for i in list(dfHWScoresDate['HW_ID'].unique()):\n",
    "    # Pull the scores for the specific HW_ID\n",
    "    df = dfHWScoresDate.where(dfHWScoresDate['HW_ID'] == int(i))\n",
    "    # Turn it into a DF to make it easily to manipulate\n",
    "    df = pd.DataFrame(df)\n",
    "    # Drop NANs\n",
    "    df.dropna(how = 'all', inplace = True)\n",
    "    # Plot the subplot\n",
    "    df.plot.bar(x = 'STUDENT_NAME_ENGLISH', y = 'HW_SCORE', \n",
    "                ax = axes[oColor], figsize=(30,18), \n",
    "                label = f'HW {int(i)}', color = lColors[oColor],   \n",
    "                rot = 0)\n",
    "    # Plot the average for the specific ID\n",
    "    axes[oColor].axhline(y = dfHWScoresDate['HW_SCORE'].where(dfHWScoresDate['HW_ID'] == int(i)).mean(), \n",
    "                            color = lColors[oColor], linestyle = 'dashed', label = f'HW {int(i)} Average')\n",
    "    # Set up the legend\n",
    "    axes[oColor].legend(bbox_to_anchor=(1.01, 0.5), loc='center left', borderaxespad=0)\n",
    "    oColor += 1\n",
    "\n",
    "# Format the graph\n",
    "tSubtitle = 'Class {} - {}, {}'.format(tiClassID, oMonth, tiYear)\n",
    "plt.suptitle(\"HW Scores\", size = 24, fontweight = \"bold\", y = 0.96, ha = 'center')\n",
    "# Add labels\n",
    "fShowValuesOnBars(axes, 0)\n",
    "# Set Labels\n",
    "for ax in axes.flat:\n",
    "    # ax.set(xlabel='HW Score', ylabel='Student Name')\n",
    "    ax.set_xlabel(\"Name\", size = 18, style=\"italic\")\n",
    "    ax.set_ylabel(\"HW Score\", size = 18, style=\"italic\")\n",
    "# Hide x labels and tick labels for top plots and y ticks for right plots.\n",
    "for ax in axes.flat:\n",
    "    ax.label_outer()\n",
    "# Save the figure as png\n",
    "ax.figure.savefig(f\"Images\\{oTitle}.png\", bbox_inches = 'tight')\n",
    "# Append the plot to a list\n",
    "lHWPlots.append(f\"{oTitle}.png\")\n",
    "# Close the plot to stop it dislaying\n",
    "plt.close()"
   ]
  },
  {
   "source": [
    "### Attendance"
   ],
   "cell_type": "markdown",
   "metadata": {}
  },
  {
   "source": [
    "#### *Prepare the DataFrames*"
   ],
   "cell_type": "markdown",
   "metadata": {}
  },
  {
   "cell_type": "code",
   "execution_count": 86,
   "metadata": {},
   "outputs": [],
   "source": [
    "# Merge the attendance DF with the students DF\n",
    "dfAttendanceDate = pd.merge(dfAttendanceDate, dfStudents[['STUDENT_ID', 'STUDENT_NAME_ENGLISH']], on = 'STUDENT_ID')\n",
    "# Group by name and status to get totals for each status by student\n",
    "dfAttendanceStatus = dfAttendanceDate.groupby(['STUDENT_NAME_ENGLISH', 'ATTENDANCE_STATUS']).count()\n",
    "# Create new DF of all the instances of an absent status\n",
    "dfAttendanceDateAbsent = dfAttendanceDate.where(dfAttendanceDate['ATTENDANCE_STATUS'] == 'absent')\n",
    "# Drop the NANs from this newly created DF\n",
    "dfAttendanceDateAbsent.dropna(how = 'all', inplace = True)\n",
    "# Reset the index\n",
    "dfAttendanceDateAbsent = dfAttendanceDateAbsent.reset_index(drop = True)"
   ]
  },
  {
   "source": [
    "#### *Strings/Lists*"
   ],
   "cell_type": "markdown",
   "metadata": {}
  },
  {
   "cell_type": "code",
   "execution_count": 87,
   "metadata": {},
   "outputs": [
    {
     "output_type": "stream",
     "name": "stdout",
     "text": [
      "No students were absent in October, 2014\n"
     ]
    }
   ],
   "source": [
    "oAbsentCount = dfAttendanceDate['ATTENDANCE_STATUS'].str.contains('absent').sum()\n",
    "# Print the output\n",
    "if oAbsentCount > 0:\n",
    "    # Define a list to store all the instances of absent students\n",
    "    lAbsences = []\n",
    "    # Loop through the rows to populate the list\n",
    "    for index, row in dfAttendanceDateAbsent.iterrows():\n",
    "        # Pull the name from the current row\n",
    "        oName = dfAttendanceDateAbsent['STUDENT_NAME_ENGLISH'][index]\n",
    "        # Pull the date from the current row\n",
    "        oDate = str(dfAttendanceDateAbsent['CLASS_DATE'][index])[0:10]\n",
    "        # Define a string to be appended to the list\n",
    "        sText = '{} was absent on {}'.format(oName, oDate)\n",
    "        # Append the string to the list\n",
    "        lAbsences.append(sText)   \n",
    "    print(lAbsences)\n",
    "else:\n",
    "    # Define a string to be used in the report\n",
    "    sMessage = 'No students were absent in {}, {}'.format(oMonth, tiYear)\n",
    "    print(sMessage)"
   ]
  },
  {
   "source": [
    "### Participation"
   ],
   "cell_type": "markdown",
   "metadata": {}
  },
  {
   "source": [
    "#### *Preparing the DataFrames*"
   ],
   "cell_type": "markdown",
   "metadata": {}
  },
  {
   "cell_type": "code",
   "execution_count": 88,
   "metadata": {},
   "outputs": [],
   "source": [
    "# Merge the student's name with the participation DF\n",
    "dfParticipationDate = pd.merge(dfParticipationDate, dfStudents[['STUDENT_ID', 'STUDENT_NAME_ENGLISH']], on = 'STUDENT_ID')\n",
    "dfParticipationDateMinus1 = pd.merge(dfParticipationDateMinus1, dfStudents[['STUDENT_ID', 'STUDENT_NAME_ENGLISH']], on = 'STUDENT_ID')\n",
    "# Group by participation type and student ID\n",
    "dfParticipationDateType = dfParticipationDate.groupby(['STUDENT_ID', 'PARTICIPATION_TYPE'])['PARTICIPATION_TYPE'].count()\n",
    "dfParticipationDateType = pd.DataFrame(dfParticipationDateType)\n",
    "dfParticipationDateType = dfParticipationDateType.rename(columns = {'STUDENT_ID': 'STUDENT_ID', 'PARTICIPATION_TYPE':'PARTICIPATION_TYPE', 'PARTICIPATION_TYPE':'PART_TYPE_COUNT'})\n",
    "\n",
    "dfParticipationDateTypeMinus1 = dfParticipationDateMinus1.groupby(['STUDENT_ID', 'PARTICIPATION_TYPE'])['PARTICIPATION_TYPE'].count()\n",
    "dfParticipationDateTypeMinus1 = pd.DataFrame(dfParticipationDateTypeMinus1)\n",
    "dfParticipationDateTypeMinus1 = dfParticipationDateTypeMinus1.rename(columns = {'STUDENT_ID': 'STUDENT_ID', 'PARTICIPATION_TYPE':'PARTICIPATION_TYPE', 'PARTICIPATION_TYPE':'PART_TYPE_COUNT'})\n",
    "# Create a pivot table of the same group by\n",
    "dfParticipationDateTypePivot = dfParticipationDate.pivot_table(index = 'STUDENT_ID', columns = 'PARTICIPATION_TYPE', values = 'CLASS_ID', aggfunc = 'count')\n",
    "\n",
    "\n",
    "dfParticipationDateTypePivotMinus1 = dfParticipationDateMinus1.pivot_table(index = 'STUDENT_ID', columns = 'PARTICIPATION_TYPE', values = 'CLASS_ID', aggfunc = 'count')\n",
    "# Merge it with student names\n",
    "dfParticipationDateTypePivot = pd.merge(dfParticipationDateTypePivot, dfStudents[['STUDENT_ID', 'STUDENT_NAME_ENGLISH']], on = 'STUDENT_ID')\n",
    "\n",
    "dfParticipationDateTypePivotMinus1 = pd.merge(dfParticipationDateTypePivotMinus1, dfStudents[['STUDENT_ID', 'STUDENT_NAME_ENGLISH']], on = 'STUDENT_ID')\n",
    "# Group by student ID and count them to get the total number of participation instances per student\n",
    "dfParticipationDateCount = dfParticipationDate.groupby(['STUDENT_ID'])['STUDENT_ID'].count()\n",
    "dfParticipationDateCount = pd.DataFrame(dfParticipationDateCount)\n",
    "dfParticipationDateCount = dfParticipationDateCount.rename(columns = {'STUDENT_ID': 'STUDENT_ID', 'STUDENT_ID':'PART_COUNT'})\n",
    "\n",
    "dfParticipationDateCountMinus1 = dfParticipationDateMinus1.groupby(['STUDENT_ID'])['STUDENT_ID'].count()\n",
    "dfParticipationDateCountMinus1 = pd.DataFrame(dfParticipationDateCountMinus1)\n",
    "dfParticipationDateCountMinus1 = dfParticipationDateCountMinus1.rename(columns = {'STUDENT_ID': 'STUDENT_ID', 'STUDENT_ID':'PART_COUNT'})\n",
    "# Merge the part count DF with student names\n",
    "dfParticipationDateCount = pd.merge(dfParticipationDateCount, dfStudents[['STUDENT_ID', 'STUDENT_NAME_ENGLISH']], on = 'STUDENT_ID')\n",
    "\n",
    "dfParticipationDateCountMinus1 = pd.merge(dfParticipationDateCountMinus1, dfStudents[['STUDENT_ID', 'STUDENT_NAME_ENGLISH']], on = 'STUDENT_ID')"
   ]
  },
  {
   "cell_type": "code",
   "execution_count": 89,
   "metadata": {},
   "outputs": [],
   "source": [
    "# Create new DF from students and participation\n",
    "value_counts = dfParticipationDate['STUDENT_ID'].value_counts()\n",
    "# Convert value_counts to a DataFrame\n",
    "dfPart = pd.DataFrame(value_counts)\n",
    "# Reset its index\n",
    "dfPart = dfPart.reset_index()\n",
    "# Rename the columns to make them more readable\n",
    "dfPart.columns = ['STUDENT_ID', 'PARTICIPATIONS COUNT']\n",
    "# Merge the dfPart and students DataFrames\n",
    "dfPart = pd.merge(dfPart, dfStudents[['STUDENT_ID', 'STUDENT_NAME_ENGLISH']], how = 'outer', on = 'STUDENT_ID')\n",
    "\n",
    "dfByDate = dfParticipationDate.groupby(['STUDENT_ID', 'PARTICIPATION_DATETIME'])['PARTICIPATION_DATETIME'].count()\n",
    "dfByDateMinus1 = dfParticipationDateMinus1.groupby(['STUDENT_ID', 'PARTICIPATION_DATETIME'])['PARTICIPATION_DATETIME'].count()\n",
    "dfByDate = pd.DataFrame(dfByDate)\n",
    "dfByDateMinus1 = pd.DataFrame(dfByDateMinus1)\n",
    "dfByDate = dfByDate.rename(columns = {'STUDENT_ID': 'STUDENT_ID', 'PARTICIPATION_DATETIME': 'DATETIME', 'PARTICIPATION_DATETIME': 'COUNT'})\n",
    "dfByDateMinus1 = dfByDateMinus1.rename(columns = {'STUDENT_ID': 'STUDENT_ID', 'PARTICIPATION_DATETIME': 'DATETIME', 'PARTICIPATION_DATETIME': 'COUNT'})\n",
    "\n",
    "# Define a dictionary to store each student's DF in\n",
    "dfPC = {}\n",
    "dfPCMinus1 = {}\n",
    "# Define a list of Means to store in the new dataframe\n",
    "lMeanParticipations = []\n",
    "lMeanParticipationsMinus1 = []\n",
    "# Loop through the STUDENT_IDs and calculate their mean number of participations\n",
    "for i in lStudentsInCurrentClass:\n",
    "    # Copy the DataFrame for safety resons\n",
    "    dfa = dfByDate\n",
    "    dfaMinus1 = dfByDateMinus1\n",
    "    # Create a new DF just for the one student\n",
    "    dfPC[i] = dfa.loc[i]\n",
    "    dfPCMinus1[i] = dfaMinus1.loc[i]\n",
    "    # Set their ID to their ID from the list\n",
    "    dfPC[i]['STUDENT_ID'] = i\n",
    "    dfPCMinus1[i]['STUDENT_ID'] = i\n",
    "    # Calculate the mean participations per class\n",
    "    dfPC[i]['MEAN'] = dfPC[i]['COUNT'].mean()\n",
    "    dfPCMinus1[i]['MEAN'] = dfPCMinus1[i]['COUNT'].mean()\n",
    "    # Sort from highest to lowest count\n",
    "    dfPC[i] = dfPC[i].sort_values(by = 'COUNT', ascending = False)\n",
    "    dfPCMinus1[i] = dfPCMinus1[i].sort_values(by = 'COUNT', ascending = False)\n",
    "    # Append the mean to lMeanParticipations\n",
    "    lMeanParticipations.append(dfPC[i]['MEAN'][0])\n",
    "    lMeanParticipationsMinus1.append(dfPCMinus1[i]['MEAN'][0])\n",
    "\n",
    "# Define an empty list to store the student's mean attempts\n",
    "lMeanAttempts = []\n",
    "lMeanAttemptsMinus1 = []\n",
    "# Define an empty list to store the studnt's mean hints\n",
    "lMeanHints = []\n",
    "lMeanHintsMinus1 = []\n",
    "# Define an empty list to store the student's hint/attempt ratio\n",
    "lAttemptsHintRatio = []\n",
    "lAttemptsHintRatioMinus1 = []\n",
    "# Loop throgh the STUDENT_IDs in the current class and calculate the mean attempts per participation, \n",
    "# the mean hints per participation, and the hint/attempts ratio\n",
    "for i in lStudentsInCurrentClass:\n",
    "    # Calculate the mean attempts for the specified student \n",
    "    oMeanAttempts = dfParticipationDate['PARTICIPATION_ATTEMPTS'].where(dfParticipationDate['STUDENT_ID'] == i).mean()\n",
    "    oMeanAttemptsMinus1 = dfParticipationDateMinus1['PARTICIPATION_ATTEMPTS'].where(dfParticipationDateMinus1['STUDENT_ID'] == i).mean()\n",
    "    # Append this mean to the list\n",
    "    lMeanAttempts.append(oMeanAttempts)\n",
    "    lMeanAttemptsMinus1.append(oMeanAttemptsMinus1)\n",
    "\n",
    "    # Calculate the mean hints for the specified student \n",
    "    oMeanHints = dfParticipationDate['PARTICIPATION_HINTS'].where(dfParticipationDate['STUDENT_ID'] == i).mean()\n",
    "    oMeanHintsMinus1 = dfParticipationDateMinus1['PARTICIPATION_HINTS'].where(dfParticipationDateMinus1['STUDENT_ID'] == i).mean()\n",
    "    # Append this mean to the list\n",
    "    lMeanHints.append(oMeanHints)\n",
    "    lMeanHintsMinus1.append(oMeanHintsMinus1)\n",
    "\n",
    "    # Sum the attempts\n",
    "    oHintSum = dfParticipationDate['PARTICIPATION_HINTS'].where(dfParticipationDate['STUDENT_ID'] == i).sum()\n",
    "    oHintSumMinus1 = dfParticipationDateMinus1['PARTICIPATION_HINTS'].where(dfParticipationDateMinus1['STUDENT_ID'] == i).sum()\n",
    "    # Sum the hints\n",
    "    oAttemptSum = dfParticipationDate['PARTICIPATION_ATTEMPTS'].where(dfParticipationDate['STUDENT_ID'] == i).sum()\n",
    "    oAttemptSumMinus1 = dfParticipationDateMinus1['PARTICIPATION_ATTEMPTS'].where(dfParticipationDateMinus1['STUDENT_ID'] == i).sum()\n",
    "    # Calculate the hint/attempts ratio for the specified student \n",
    "    oAttemptHintRatio = oAttemptSum / oHintSum\n",
    "    oAttemptHintRatioMinus1 = oAttemptSumMinus1 / oHintSumMinus1 \n",
    "    # Append this ratio to the list\n",
    "    lAttemptsHintRatio.append(oAttemptHintRatio)\n",
    "    lAttemptsHintRatioMinus1.append(oAttemptHintRatioMinus1)\n",
    "\n",
    "# Create a new dataframe of the students and their mean participations per class\n",
    "dfMeanPart = pd.DataFrame(columns = ['STUDENT_ID', 'MEAN_PARTICIPATIONS_PER_CLASS', 'MEAN_ATTEMPTS_PER_PART_INSTANCE', 'MEAN_HINTS_PER_PART_INSTANCE', 'ATTEMPTS/HINTS_RATIO'])\n",
    "dfMeanPartMinus1 = pd.DataFrame(columns = ['STUDENT_ID', 'MEAN_PARTICIPATIONS_PER_CLASS', 'MEAN_ATTEMPTS_PER_PART_INSTANCE', 'MEAN_HINTS_PER_PART_INSTANCE', 'ATTEMPTS/HINTS_RATIO'])\n",
    "# Set the student IDs to lStudents which is a list of student IDs\n",
    "dfMeanPart['STUDENT_ID'] = lStudentsInCurrentClass\n",
    "dfMeanPartMinus1['STUDENT_ID'] = lStudentsInCurrentClass\n",
    "# Populate the MEAN_PARTICIPATIONS_PER_CLASS column\n",
    "dfMeanPart['MEAN_PARTICIPATIONS_PER_CLASS'] = lMeanParticipations\n",
    "dfMeanPartMinus1['MEAN_PARTICIPATIONS_PER_CLASS'] = lMeanParticipationsMinus1\n",
    "# Populate the MEAN_ATTEMPTS_PER_PART_INSTANCE column\n",
    "dfMeanPart['MEAN_ATTEMPTS_PER_PART_INSTANCE'] = lMeanAttempts\n",
    "dfMeanPartMinus1['MEAN_ATTEMPTS_PER_PART_INSTANCE'] = lMeanAttemptsMinus1\n",
    "# Populate the MEAN_HINTS_PER_PART_INSTANCE column\n",
    "dfMeanPart['MEAN_HINTS_PER_PART_INSTANCE'] = lMeanHints\n",
    "dfMeanPartMinus1['MEAN_HINTS_PER_PART_INSTANCE'] = lMeanHintsMinus1\n",
    "# Populate the ATTEMPTS/HINTS_RATIO column\n",
    "dfMeanPart['ATTEMPTS/HINTS_RATIO'] = lAttemptsHintRatio\n",
    "dfMeanPartMinus1['ATTEMPTS/HINTS_RATIO'] = lAttemptsHintRatioMinus1\n",
    "# Merge the new DF with students\n",
    "dfMeanPart = pd.merge(dfMeanPart, students[['STUDENT_ID', 'STUDENT_NAME_ENGLISH', 'CLASS_ID']], how = 'inner', on = 'STUDENT_ID')\n",
    "dfMeanPartMinus1 = pd.merge(dfMeanPartMinus1, students[['STUDENT_ID', 'STUDENT_NAME_ENGLISH', 'CLASS_ID']], how = 'inner', on = 'STUDENT_ID')\n",
    "# Reorder the columns\n",
    "dfMeanPart = dfMeanPart[['STUDENT_ID', 'STUDENT_NAME_ENGLISH', 'CLASS_ID', 'MEAN_PARTICIPATIONS_PER_CLASS', 'MEAN_ATTEMPTS_PER_PART_INSTANCE', 'MEAN_HINTS_PER_PART_INSTANCE', 'ATTEMPTS/HINTS_RATIO']]\n",
    "dfMeanPartMinus1 = dfMeanPartMinus1[['STUDENT_ID', 'STUDENT_NAME_ENGLISH', 'CLASS_ID', 'MEAN_PARTICIPATIONS_PER_CLASS', 'MEAN_ATTEMPTS_PER_PART_INSTANCE', 'MEAN_HINTS_PER_PART_INSTANCE', 'ATTEMPTS/HINTS_RATIO']]"
   ]
  },
  {
   "cell_type": "code",
   "execution_count": 90,
   "metadata": {},
   "outputs": [],
   "source": [
    "# DataFrame of all students and their Cold/Volunteer ratio\n",
    "\n",
    "# Define an empty DF to store the students\n",
    "dfPartTypeColdvsVol = pd.DataFrame(columns= ['STUDENT_ID', 'STUDENT_NAME_ENGLISH', 'COLD/VOL_RATIO'])\n",
    "# List of students how have more cold calls than volunteers\n",
    "for index, row in dfParticipationDateTypePivot.iterrows():\n",
    "    oID = dfParticipationDateTypePivot['STUDENT_ID'][index]\n",
    "    oCold = dfParticipationDateTypePivot['cold call'][index]\n",
    "    oVol = dfParticipationDateTypePivot['volunteer'][index]\n",
    "    oName = dfParticipationDateCount['STUDENT_NAME_ENGLISH'][index]\n",
    "    oRatio = oCold/oVol\n",
    "    # Append a row to the DF\n",
    "    dfPartTypeColdvsVol = dfPartTypeColdvsVol.append({'STUDENT_ID': oID, 'STUDENT_NAME_ENGLISH': oName, 'COLD/VOL_RATIO':oRatio, 'MORE_VOL_NEEDED':''}, ignore_index = True)\n",
    "    # Determine whether they need to volunteer more\n",
    "    if dfPartTypeColdvsVol['COLD/VOL_RATIO'][index] > 1.00:\n",
    "        dfPartTypeColdvsVol['MORE_VOL_NEEDED'][index] = True\n",
    "    else:\n",
    "        dfPartTypeColdvsVol['MORE_VOL_NEEDED'][index] = False"
   ]
  },
  {
   "source": [
    "#### *Plots*"
   ],
   "cell_type": "markdown",
   "metadata": {}
  },
  {
   "cell_type": "code",
   "execution_count": 91,
   "metadata": {},
   "outputs": [],
   "source": [
    "# Define a list to store the plot names\n",
    "lParticipationPlots = []"
   ]
  },
  {
   "source": [
    "##### Total Participation Instances This Month"
   ],
   "cell_type": "markdown",
   "metadata": {}
  },
  {
   "cell_type": "code",
   "execution_count": 92,
   "metadata": {},
   "outputs": [],
   "source": [
    "# Set the title\n",
    "oTitle = f\"({tiMonth}-{tiYear}) Class {tiClassID} - Participations Count\"\n",
    "# Create the plot\n",
    "ax = dfParticipationDateCount.plot.bar(x = 'STUDENT_NAME_ENGLISH', y = 'PART_COUNT', figsize = (20, 8), rot = 0, label = \"# of Participation Instances\")\n",
    "# Calculate the average\n",
    "oAverage = dfParticipationDateType['PART_TYPE_COUNT'].sum() / oNumberStudents\n",
    "# Plot the class average\n",
    "plt.axhline(y = oAverage, color = 'darkorange', linestyle = 'dashed', label = '{} Average'.format(oMonth))\n",
    "# Set up the legend\n",
    "plt.legend(bbox_to_anchor=(1.01, 0.5), loc='center left', borderaxespad=0)\n",
    "# Format the graph\n",
    "ax.set_title(\"Participations Count\", size = 24, ha = 'center', fontweight = 'bold')\n",
    "ax.set_xlabel(\"Name\", size = 18, style=\"italic\")\n",
    "ax.set_ylabel(\"Count of Participation Instances\", size = 18, style=\"italic\")\n",
    "# Add labels\n",
    "fShowValuesOnBars(ax, 0)\n",
    "# Save the figure as png\n",
    "ax.figure.savefig(f\"Images\\{oTitle}.png\", bbox_inches = 'tight')\n",
    "# Append the plot to a list\n",
    "lParticipationPlots.append(f\"{oTitle}.png\")\n",
    "# Close the plot to stop it dislaying\n",
    "plt.close()"
   ]
  },
  {
   "source": [
    "##### Particpation by Type Distribution"
   ],
   "cell_type": "markdown",
   "metadata": {}
  },
  {
   "cell_type": "code",
   "execution_count": 93,
   "metadata": {},
   "outputs": [],
   "source": [
    "# Prepare the DF\n",
    "dfTest = dfParticipationDateTypePivot.drop(columns = ['STUDENT_ID'], axis = 1)\n",
    "# Set the title\n",
    "oTitle = f\"({tiMonth}-{tiYear}) Class {tiClassID} - Participation by Type\"\n",
    "# Create the plot\n",
    "ax = dfTest.plot.bar(x = 'STUDENT_NAME_ENGLISH', figsize = (20, 8), rot = 0)\n",
    "# Format the graph\n",
    "ax.set_title(\"Participation by Type\", size = 24, ha = 'center', fontweight = 'bold')\n",
    "ax.set_xlabel(\"Name\", size = 18, style=\"italic\")\n",
    "ax.set_ylabel(\"Count of Participations\", size = 18, style=\"italic\")\n",
    "# Set up the legend\n",
    "plt.legend(bbox_to_anchor=(1.01, 0.5), loc='center left', borderaxespad=0)\n",
    "# Show values on the bars\n",
    "fShowValuesOnBars(ax, 0)\n",
    "# Save the figure as png\n",
    "ax.figure.savefig(f\"Images\\{oTitle}.png\", bbox_inches = 'tight')\n",
    "# Append the plot to a list\n",
    "lParticipationPlots.append(f\"{oTitle}.png\")\n",
    "# Close the plot to stop it dislaying\n",
    "plt.close()"
   ]
  },
  {
   "source": [
    "##### Volunteer/Cold Call Ratio"
   ],
   "cell_type": "markdown",
   "metadata": {}
  },
  {
   "cell_type": "code",
   "execution_count": 94,
   "metadata": {},
   "outputs": [],
   "source": [
    "# Set the title\n",
    "oTitle = f\"({tiMonth}-{tiYear}) Class {tiClassID} - Cold-Volunteer Ratio\"\n",
    "# Create the plot\n",
    "ax = dfPartTypeColdvsVol.plot.bar(x = 'STUDENT_NAME_ENGLISH', y = 'COLD/VOL_RATIO', figsize=(20, 8), label = 'Cold/Vol Ratio (lower is better)', rot = 0)\n",
    "# Calculate the average\n",
    "oAverage = dfPartTypeColdvsVol['COLD/VOL_RATIO'].mean()\n",
    "# Plot the class average\n",
    "plt.axhline(y = oAverage, color = 'darkorange', linestyle = 'dashed', label = '{} Average'.format(oMonth))\n",
    "# Format the graph\n",
    "ax.set_title(\"Cold/Volunteer Ratio\", size = 24, ha = 'center', fontweight = 'bold')\n",
    "ax.set_xlabel(\"Name\", size = 18, style=\"italic\")\n",
    "ax.set_ylabel(\"Cold/Vol Ratio\", size = 18, style=\"italic\")\n",
    "# Set up the legend\n",
    "plt.legend(bbox_to_anchor=(1.01, 0.5), loc='center left', borderaxespad=0)\n",
    "# Show values on the bars\n",
    "fShowValuesOnBars(ax, 2)\n",
    "# Save the figure as png\n",
    "ax.figure.savefig(f\"Images\\{oTitle}.png\", bbox_inches = 'tight')\n",
    "# Append the plot to a list\n",
    "lParticipationPlots.append(f\"{oTitle}.png\")\n",
    "# Close the plot to stop it dislaying\n",
    "plt.close()"
   ]
  },
  {
   "source": [
    "##### Mean Participations per Class"
   ],
   "cell_type": "markdown",
   "metadata": {}
  },
  {
   "cell_type": "code",
   "execution_count": 95,
   "metadata": {},
   "outputs": [],
   "source": [
    "# Set the title\n",
    "oTitle = f\"({tiMonth}-{tiYear}) Class {tiClassID} - Mean Participations per Class\"\n",
    "# Create the plot\n",
    "ax = dfMeanPart.plot.bar(x = 'STUDENT_NAME_ENGLISH', y = 'MEAN_PARTICIPATIONS_PER_CLASS', figsize = (20, 8), rot = 0, label = \"Mean Participations per Class\")\n",
    "# Calculate the average\n",
    "oAverage = dfMeanPart['MEAN_PARTICIPATIONS_PER_CLASS'].mean()\n",
    "# Plot the class average\n",
    "plt.axhline(y = oAverage, color = 'darkorange', linestyle = 'dashed', label = '{} Average'.format(oMonth))\n",
    "# Set up the legend\n",
    "plt.legend(bbox_to_anchor=(1.01, 0.5), loc='center left', borderaxespad=0)\n",
    "# Format the graph\n",
    "ax.set_title(\"Mean Participations per Class\", size = 24, ha = 'center', fontweight = 'bold')\n",
    "ax.set_xlabel(\"Name\", size = 18, style=\"italic\")\n",
    "ax.set_ylabel(\"Participations Count\", size = 18, style=\"italic\")\n",
    "# Add labels\n",
    "fShowValuesOnBars(ax, 2)\n",
    "# Save the figure as png\n",
    "ax.figure.savefig(f\"Images\\{oTitle}.png\", bbox_inches = 'tight')\n",
    "# Append the plot to a list\n",
    "lParticipationPlots.append(f\"{oTitle}.png\")\n",
    "# Close the plot to stop it dislaying\n",
    "plt.close()"
   ]
  },
  {
   "source": [
    "##### Attempts per Participation Instance"
   ],
   "cell_type": "markdown",
   "metadata": {}
  },
  {
   "source": [
    "# Set the title\n",
    "oTitle = f\"({tiMonth}-{tiYear}) Class {tiClassID} - Attempts per Participation Instance\"\n",
    "# Create the plot\n",
    "ax = dfMeanPart.plot.bar(x = 'STUDENT_NAME_ENGLISH', y = 'MEAN_ATTEMPTS_PER_PART_INSTANCE', figsize = (20, 8), label = 'Mean Attempts (lower is better)', rot = 0)\n",
    "# Calculate the average\n",
    "oAverage = dfMeanPart['MEAN_ATTEMPTS_PER_PART_INSTANCE'].mean()\n",
    "# Plot the class average\n",
    "plt.axhline(y = oAverage, color = 'darkorange', linestyle = 'dashed', label = '{} Average'.format(oMonth))\n",
    "# Set up the legend\n",
    "plt.legend(bbox_to_anchor=(1.01, 0.5), loc='center left', borderaxespad=0)\n",
    "# Format the graph\n",
    "ax.set_title(\"Attempts per Participation Instance\", size = 24, ha = 'center', fontweight = 'bold')\n",
    "ax.set_xlabel(\"Name\", size = 18, style=\"italic\")\n",
    "ax.set_ylabel(\"Mean Attempts\", size = 18, style=\"italic\")\n",
    "# Add labels\n",
    "fShowValuesOnBars(ax, 2)\n",
    "# Save the figure as png\n",
    "ax.figure.savefig(f\"Images\\{oTitle}.png\", bbox_inches = 'tight')\n",
    "# Append the plot to a list\n",
    "lParticipationPlots.append(f\"{oTitle}.png\")\n",
    "# Close the plot to stop it dislaying\n",
    "plt.close()"
   ],
   "cell_type": "code",
   "metadata": {},
   "execution_count": 96,
   "outputs": []
  },
  {
   "source": [
    "##### Hints per Participation Instance"
   ],
   "cell_type": "markdown",
   "metadata": {}
  },
  {
   "cell_type": "code",
   "execution_count": 97,
   "metadata": {},
   "outputs": [],
   "source": [
    "# Set the title\n",
    "oTitle = f\"({tiMonth}-{tiYear}) Class {tiClassID} - Hints per Participation Instance\"\n",
    "# Create the plot\n",
    "ax = dfMeanPart.plot.bar(x = 'STUDENT_NAME_ENGLISH', y = 'MEAN_HINTS_PER_PART_INSTANCE', figsize = (20, 8), label = 'Mean Hints (lower is better)', rot = 0)\n",
    "# Calculate the average\n",
    "oAverage = dfMeanPart['MEAN_HINTS_PER_PART_INSTANCE'].mean()\n",
    "# Plot the class average\n",
    "plt.axhline(y = oAverage, color = 'darkorange', linestyle = 'dashed', label = '{} Average'.format(oMonth))\n",
    "# Set up the legend\n",
    "plt.legend(bbox_to_anchor=(1.01, 0.5), loc='center left', borderaxespad=0)\n",
    "# Format the graph\n",
    "ax.set_title(\"Hints per Participation Instance\", size = 24, ha = 'center', fontweight = 'bold')\n",
    "ax.set_xlabel(\"Name\", size = 18, style=\"italic\")\n",
    "ax.set_ylabel(\"Mean Hints\", size = 18, style=\"italic\")\n",
    "# Add labels\n",
    "fShowValuesOnBars(ax, 2)\n",
    "# Save the figure as png\n",
    "ax.figure.savefig(f\"Images\\{oTitle}.png\", bbox_inches = 'tight')\n",
    "# Append the plot to a list\n",
    "lParticipationPlots.append(f\"{oTitle}.png\")\n",
    "# Close the plot to stop it dislaying\n",
    "plt.close()"
   ]
  },
  {
   "source": [
    "##### *Attempts/Hints Ratio*"
   ],
   "cell_type": "markdown",
   "metadata": {}
  },
  {
   "cell_type": "code",
   "execution_count": 98,
   "metadata": {},
   "outputs": [],
   "source": [
    "# Set the title\n",
    "oTitle = f\"({tiMonth}-{tiYear}) Class {tiClassID} - Attempt-Hint Ratio\"\n",
    "# Create the plot\n",
    "ax = dfMeanPart.plot.bar(x = 'STUDENT_NAME_ENGLISH', y = 'ATTEMPTS/HINTS_RATIO', figsize = (20, 8), label = 'Attempt/Hint Ratio (higher is better)', rot = 0)\n",
    "# Calculate the average\n",
    "oAverage = dfMeanPart['ATTEMPTS/HINTS_RATIO'].mean()\n",
    "# Plot the class average\n",
    "plt.axhline(y = oAverage, color = 'darkorange', linestyle = 'dashed', label = '{} Average'.format(oMonth))\n",
    "# Set up the legend\n",
    "plt.legend(bbox_to_anchor=(1.01, 0.5), loc='center left', borderaxespad=0)\n",
    "# Format the graph\n",
    "ax.set_title(\"Attemp/Hint Ratio\", size = 24, ha = 'center', fontweight = 'bold')\n",
    "ax.set_xlabel(\"Name\", size = 18, style=\"italic\")\n",
    "ax.set_ylabel(\"Attempt/Hint Ratio\", size = 18, style=\"italic\")\n",
    "# Add labels\n",
    "fShowValuesOnBars(ax, 2)\n",
    "# Save the figure as png\n",
    "ax.figure.savefig(f\"Images\\{oTitle}.png\", bbox_inches = 'tight')\n",
    "# Append the plot to a list\n",
    "lParticipationPlots.append(f\"{oTitle}.png\")\n",
    "# Close the plot to stop it dislaying\n",
    "plt.close()"
   ]
  },
  {
   "source": [
    "##### *Strings/Lists/Dictionaries/Tables*"
   ],
   "cell_type": "markdown",
   "metadata": {}
  },
  {
   "cell_type": "code",
   "execution_count": 99,
   "metadata": {},
   "outputs": [
    {
     "output_type": "execute_result",
     "data": {
      "text/plain": [
       "{100.0: 'Julia',\n",
       " 167.0: 'Rodney',\n",
       " 182.0: 'Ricky',\n",
       " 224.0: 'Damon',\n",
       " 253.0: 'Rachelle',\n",
       " 255.0: 'Robert',\n",
       " 290.0: 'William'}"
      ]
     },
     "metadata": {},
     "execution_count": 99
    }
   ],
   "source": [
    "# Dictionary of students who have below average participation instances\n",
    "\n",
    "# Define an empty dictionary to store the students\n",
    "dBelowAveragePartCount = {}\n",
    "# Calculate the average\n",
    "oAverage = dfParticipationDateType['PART_TYPE_COUNT'].sum() / oNumberStudents\n",
    "# Loop through the rows to find those lower than average\n",
    "for index, row in dfParticipationDateCount.iterrows():\n",
    "    oPartCount = dfParticipationDateCount['PART_COUNT'][index]\n",
    "    oID = dfParticipationDateCount['STUDENT_ID'][index]\n",
    "    oName = dfParticipationDateCount['STUDENT_NAME_ENGLISH'][index]\n",
    "    if oPartCount < oAverage:\n",
    "        dBelowAveragePartCount.update({oID:oName})\n",
    "# Display the Dictionary\n",
    "dBelowAveragePartCount"
   ]
  },
  {
   "source": [
    "### Points"
   ],
   "cell_type": "markdown",
   "metadata": {}
  },
  {
   "source": [
    "##### *Prepare the DataFrames*"
   ],
   "cell_type": "markdown",
   "metadata": {}
  },
  {
   "cell_type": "code",
   "execution_count": 100,
   "metadata": {},
   "outputs": [],
   "source": [
    "# Define empty lists to store the points\n",
    "partTotalsList = []\n",
    "hwTotalsList = []\n",
    "testTotalsList = []\n",
    "attTotalsList = []\n",
    "\n",
    "# Loop through the student IDs to build the lists\n",
    "for i in lStudentsInCurrentClass:\n",
    "    # Calculate each student's PARTICIPATION_POINTS\n",
    "    a = dfParticipationDate.loc[dfParticipationDate['STUDENT_ID'] == i]\n",
    "    ag = a.groupby(by = 'PARTICIPATION_TYPE').agg('count')\n",
    "    coldCalls = ag['STUDENT_ID'][0]\n",
    "    volunteer = ag['STUDENT_ID'][1]*2\n",
    "    total1 = coldCalls + volunteer\n",
    "    partTotalsList.append(total1)\n",
    "    # Calculate each student's HW_POINTS\n",
    "    total2 = dfHWScoresDate['HW_SCORE'].loc[dfHWScoresDate['STUDENT_ID'] == i].agg('sum')\n",
    "    hwTotalsList.append(total2)\n",
    "    # Calculate each student's TEST_POINTS\n",
    "    total3 = dfTestScoresDate['TEST_SCORE'].loc[dfTestScoresDate['STUDENT_ID'] == i].agg('sum')\n",
    "    testTotalsList.append(total3)\n",
    "    # Calculate each student's ATTENDANCE_POINTS\n",
    "    b = dfAttendanceDate.loc[dfAttendanceDate['STUDENT_ID'] == i]\n",
    "    bg = b.groupby(by = 'ATTENDANCE_STATUS').agg('count')\n",
    "    try:\n",
    "        total4 = bg['STUDENT_ID'][1]\n",
    "    except Exception:\n",
    "        total4 = bg['STUDENT_ID'][0]\n",
    "    attTotalsList.append(total4)\n",
    "\n",
    "# Define the column names for the Points DataFrame\n",
    "column_names = ['STUDENT_ID', 'PARTICIPATION_POINTS', 'HW_POINTS', 'TEST_POINTS', 'ATTENDANCE_POINTS', 'TOTAL_POINTS']\n",
    "# Create the DataFrame using the above column names\n",
    "dfPoints = pd.DataFrame(columns = column_names)\n",
    "# Set the STUDENT_ID column to all student IDs\n",
    "dfPoints['STUDENT_ID'] = lStudentsInCurrentClass\n",
    "# Set the PARTICIPATION_POINTS column\n",
    "dfPoints['PARTICIPATION_POINTS'] = partTotalsList\n",
    "# Set the HW_POINTS column\n",
    "dfPoints['HW_POINTS'] = hwTotalsList\n",
    "# Set the TEST_POINTS column\n",
    "dfPoints['TEST_POINTS'] = testTotalsList\n",
    "# Set the ATTENDANCE_POINTS column\n",
    "dfPoints['ATTENDANCE_POINTS'] = attTotalsList\n",
    "# Define the sum of all point columns as an object for the sum() function\n",
    "total = [dfPoints['PARTICIPATION_POINTS'], dfPoints['HW_POINTS'], dfPoints['TEST_POINTS'], dfPoints['ATTENDANCE_POINTS']]\n",
    "# Set the TOTAL_POINTS column to the sum of the previously declared total object\n",
    "dfPoints['TOTAL_POINTS'] = sum(total)\n",
    "\n",
    "# Merge dfPoints with STUDENT_NAME_ENGLISH\n",
    "dfPoints = pd.merge(dfPoints, dfStudents[['STUDENT_ID', 'CLASS_ID', 'STUDENT_NAME_ENGLISH']], on = 'STUDENT_ID')\n",
    "# Cast the floats to ints as that granularity isn't necessary\n",
    "dfPoints = dfPoints.astype({'HW_POINTS':'int32', 'TEST_POINTS':'int32', 'TOTAL_POINTS':'int32'})\n",
    "# Sort by TOTAL_POINTS in descending order\n",
    "dfPoints = dfPoints.sort_values(by = 'TOTAL_POINTS', ascending = False)"
   ]
  },
  {
   "source": [
    "##### *Plots*"
   ],
   "cell_type": "markdown",
   "metadata": {}
  },
  {
   "cell_type": "code",
   "execution_count": 101,
   "metadata": {},
   "outputs": [],
   "source": [
    "# Define an empty list to store the plots titles\n",
    "lPointsPlots = []"
   ]
  },
  {
   "cell_type": "code",
   "execution_count": 102,
   "metadata": {},
   "outputs": [],
   "source": [
    "# Set the title\n",
    "oTitle = f\"({tiMonth}-{tiYear}) Class {tiClassID} - Points\"\n",
    "# Prepare DataFrame\n",
    "dfPointsBLAH = dfPoints[['PARTICIPATION_POINTS', 'HW_POINTS', 'TEST_POINTS', 'ATTENDANCE_POINTS', 'STUDENT_NAME_ENGLISH']]\n",
    "dfPointsBLAH['TOTAL'] = dfPointsBLAH['PARTICIPATION_POINTS'] + dfPointsBLAH['HW_POINTS'] + dfPointsBLAH['TEST_POINTS'] + dfPointsBLAH['ATTENDANCE_POINTS']\n",
    "dfPointsBLAH = dfPointsBLAH.sort_values(by = 'TOTAL', ascending = False)\n",
    "dfPointsBLAH = dfPointsBLAH.drop(columns = ['TOTAL'])\n",
    "# Define color deficient-friendly colors\n",
    "my_colors = list(islice(cycle(['lightblue', 'red', 'orange', 'lightgreen']), None, len(dfPointsBLAH)))\n",
    "# Plot it\n",
    "ax = dfPointsBLAH.plot.bar(x = 'STUDENT_NAME_ENGLISH', figsize=(20,8), stacked = True, color = my_colors, rot = 0)\n",
    "# Set up the legend\n",
    "ax.legend(['Participation Points', 'HW Points', 'Test Points', 'Attendance Points'], bbox_to_anchor=(1.01, 0.5), loc='center left', borderaxespad=0)\n",
    "# Format the graph\n",
    "ax.set_title(\"Student Points\", size = 24, ha = 'center', fontweight = 'bold')\n",
    "ax.set_xlabel(\"Name\", size = 18, style=\"italic\")\n",
    "ax.set_ylabel(\"Points\", size = 18, style=\"italic\")\n",
    "# Add Labels\n",
    "fShowValuesOnBarsCenter(ax, 0, 2)\n",
    "# Save the figure as png\n",
    "ax.figure.savefig(f\"Images\\{oTitle}.png\", bbox_inches = 'tight')\n",
    "# Append the plot to a list\n",
    "lPointsPlots.append(f\"{oTitle}.png\")\n",
    "# Close the plot to stop it dislaying\n",
    "plt.close()"
   ]
  },
  {
   "source": [
    "## PDF Generation"
   ],
   "cell_type": "markdown",
   "metadata": {}
  },
  {
   "cell_type": "code",
   "execution_count": 103,
   "metadata": {},
   "outputs": [],
   "source": [
    "class PDF(FPDF):\n",
    "    # Page header\n",
    "    def header(self):\n",
    "        # Arial bold 15\n",
    "        self.set_font('Arial', 'B', 15)\n",
    "        # Calculate width of title and position\n",
    "        w = self.get_string_width(title) + 6\n",
    "        self.set_x((210 - w) / 2)\n",
    "        # Colors of frame, background and text\n",
    "        self.set_draw_color(0, 0, 0)\n",
    "        self.set_fill_color(255, 255, 255)\n",
    "        self.set_text_color(0, 0, 0)\n",
    "        # Thickness of frame (1 mm)\n",
    "        self.set_line_width(1)\n",
    "        # Title\n",
    "        self.cell(w, 9, title, 1, 1, 'C', 1)\n",
    "        # Line break\n",
    "        self.ln(10)\n",
    "    # Page footer\n",
    "    def footer(self):\n",
    "        # Position at 1.5 cm from bottom\n",
    "        self.set_y(-15)\n",
    "        # Arial italic 8\n",
    "        self.set_font('Arial', 'I', 8)\n",
    "        # Page number\n",
    "        self.cell(0, 10, 'Page ' + str(self.page_no()) + '/{nb}', 0, 0, 'C')"
   ]
  },
  {
   "cell_type": "code",
   "execution_count": 104,
   "metadata": {},
   "outputs": [],
   "source": [
    "# Instantiate an FPDF object\n",
    "pdf = PDF()\n",
    "# Document Title\n",
    "title = f\"\"\"Monthly Class Report\\n\n",
    "            Class: {tiClassID}\\n\n",
    "            {oMonth}, {tiYear}\"\"\"\n",
    "# Add a page\n",
    "pdf.add_page()\n",
    "# Track page numbers\n",
    "pdf.alias_nb_pages()\n",
    "# Set the title\n",
    "pdf.set_title(title)\n",
    "\n",
    "# PARTICIPATION\n",
    "pdf.line(x1 = 0, y1 = 30, x2 = 210, y2 = 30)\n",
    "pdf.set_font('Times', 'BI', 18)\n",
    "pdf.cell(0, 10, \"Participation\", 0, 1, 'C')\n",
    "# Add the Participation plots\n",
    "for index, i in enumerate(lParticipationPlots):\n",
    "    if index == 0:\n",
    "        pass\n",
    "    else:\n",
    "        pdf.add_page()\n",
    "    pdf.cell(w = 0, h = 10, txt = '', border = 0, ln = 1, align = '', fill = 0, link = '')\n",
    "    pdf.image(f\"Images\\{i}\", x = None, y = None, w = 190, h = 80)\n",
    "    pdf.cell(w = 0, h = 10, txt = '', border = 0, ln = 1, align = '', fill = 0, link = '')\n",
    "    pdf.dashed_line(x1 = 0, y1 = 30, x2 = 210, y2 = 30, dash_length = 1, space_length = 1)\n",
    "\n",
    "# TESTS\n",
    "pdf.add_page()\n",
    "pdf.set_font('Times', 'BI', 18)\n",
    "pdf.cell(0, 10, \"Tests\", 0, 1, 'C')\n",
    "pdf.line(x1 = 0, y1 = 30, x2 = 210, y2 = 30)\n",
    "# Add the Test plots\n",
    "for index, i in enumerate(lTestPlots):\n",
    "    if index == 0:\n",
    "        pass\n",
    "    else:\n",
    "        pdf.add_page()\n",
    "    pdf.cell(w = 0, h = 10, txt = '', border = 0, ln = 1, align = '', fill = 0, link = '')\n",
    "    pdf.image(f\"Images\\{i}\", x = None, y = None, w = 190, h = 80)\n",
    "    pdf.cell(w = 0, h = 10, txt = '', border = 0, ln = 1, align = '', fill = 0, link = '')\n",
    "    pdf.dashed_line(x1 = 0, y1 = 30, x2 = 210, y2 = 30, dash_length = 1, space_length = 1)\n",
    "\n",
    "# HW\n",
    "pdf.add_page()\n",
    "pdf.set_font('Times', 'BI', 18)\n",
    "pdf.cell(0, 10, \"Homework\", 0, 1, 'C')\n",
    "pdf.line(x1 = 0, y1 = 30, x2 = 210, y2 = 30)\n",
    "# Add the HW plots\n",
    "for index, i in enumerate(lHWPlots):\n",
    "    if index == 0:\n",
    "        pass\n",
    "    else:\n",
    "        pdf.add_page()\n",
    "    pdf.cell(w = 0, h = 10, txt = '', border = 0, ln = 1, align = '', fill = 0, link = '')\n",
    "    pdf.image(f\"Images\\{i}\", x = None, y = None, w = 190, h = 120)\n",
    "    pdf.cell(w = 0, h = 10, txt = '', border = 0, ln = 1, align = '', fill = 0, link = '')\n",
    "    pdf.dashed_line(x1 = 0, y1 = 30, x2 = 210, y2 = 30, dash_length = 1, space_length = 1)\n",
    "\n",
    "# POINTS\n",
    "pdf.add_page()\n",
    "pdf.set_font('Times', 'BI', 18)\n",
    "pdf.cell(0, 10, \"Points\", 0, 1, 'C')\n",
    "pdf.line(x1 = 0, y1 = 30, x2 = 210, y2 = 30)\n",
    "# Add the Points plots\n",
    "for index, i in enumerate(lPointsPlots):\n",
    "    if index == 0:\n",
    "        pass\n",
    "    else:\n",
    "        pdf.add_page()\n",
    "    pdf.cell(w = 0, h = 10, txt = '', border = 0, ln = 1, align = '', fill = 0, link = '')\n",
    "    pdf.image(f\"Images\\{i}\", x = None, y = None, w = 190, h = 80)\n",
    "    pdf.cell(w = 0, h = 10, txt = '', border = 0, ln = 1, align = '', fill = 0, link = '')\n",
    "    pdf.dashed_line(x1 = 0, y1 = 30, x2 = 210, y2 = 30, dash_length = 1, space_length = 1)\n",
    "    \n",
    "# Save the PDF and export it\n",
    "pdf.output(\"Reports\\poop.pdf\").encode('latin-1','ignore')\n",
    "os.startfile(\"Reports\\poop.pdf\")"
   ]
  },
  {
   "cell_type": "code",
   "execution_count": null,
   "metadata": {},
   "outputs": [],
   "source": []
  },
  {
   "cell_type": "code",
   "execution_count": null,
   "metadata": {},
   "outputs": [],
   "source": []
  }
 ]
}