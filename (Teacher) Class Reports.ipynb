{
 "metadata": {
  "language_info": {
   "codemirror_mode": {
    "name": "ipython",
    "version": 3
   },
   "file_extension": ".py",
   "mimetype": "text/x-python",
   "name": "python",
   "nbconvert_exporter": "python",
   "pygments_lexer": "ipython3",
   "version": "3.9.0-final"
  },
  "orig_nbformat": 2,
  "kernelspec": {
   "name": "python3",
   "display_name": "Python 3.9.0 64-bit",
   "metadata": {
    "interpreter": {
     "hash": "bb34067346f80b54f07f8ed41554b355a788a517a9d24943ff71c323ae645852"
    }
   }
  }
 },
 "nbformat": 4,
 "nbformat_minor": 2,
 "cells": [
  {
   "cell_type": "code",
   "execution_count": null,
   "metadata": {},
   "outputs": [],
   "source": [
    "import numpy as np\n",
    "import pandas as pd\n",
    "import matplotlib.pyplot as plt\n",
    "import seaborn as sns"
   ]
  },
  {
   "cell_type": "code",
   "execution_count": null,
   "metadata": {},
   "outputs": [],
   "source": [
    "oPath = 'database/tables'\n",
    "# Read all the sheets from the excel file.\n",
    "students = pd.read_csv('{}/students.csv'.format(oPath), header = 0)\n",
    "classes = pd.read_csv('{}/classes.csv'.format(oPath), header = 0)\n",
    "tests = pd.read_csv('{}/tests.csv'.format(oPath), header = 0)\n",
    "test_results = pd.read_csv('{}/test_results.csv'.format(oPath), header = 0)\n",
    "attendance = pd.read_csv('{}/attendance.csv'.format(oPath), header = 0)\n",
    "hw = pd.read_csv('{}/hw_assignments.csv'.format(oPath), header = 0)\n",
    "hw_results = pd.read_csv('{}/hw_grades.csv'.format(oPath), header = 0)\n",
    "participation = pd.read_csv('{}/participation.csv'.format(oPath), header = 0)"
   ]
  },
  {
   "cell_type": "code",
   "execution_count": null,
   "metadata": {},
   "outputs": [],
   "source": [
    "# Define a function to show values\n",
    "def show_values_on_bars(axs):\n",
    "    def _show_on_single_plot(ax):        \n",
    "        for p in ax.patches:\n",
    "            _x = p.get_x() + p.get_width() / 2\n",
    "            _y = p.get_y() + p.get_height() + 0.5\n",
    "            value = '{:.0f}'.format(p.get_height())\n",
    "            ax.text(_x, _y, value, ha=\"center\") \n",
    "\n",
    "    if isinstance(axs, np.ndarray):\n",
    "        for idx, ax in np.ndenumerate(axs):\n",
    "            _show_on_single_plot(ax)\n",
    "    else:\n",
    "        _show_on_single_plot(axs)"
   ]
  },
  {
   "source": [
    "# Participation Reports by Class"
   ],
   "cell_type": "markdown",
   "metadata": {}
  },
  {
   "cell_type": "code",
   "execution_count": null,
   "metadata": {},
   "outputs": [],
   "source": [
    "dfVOL = pd.merge(students, participation, on = 'STUDENT_ID')\n",
    "value_counts = dfVOL['STUDENT_ID'].value_counts()\n",
    "# Convert value_counts to a DataFrame\n",
    "dfPart = pd.DataFrame(value_counts)\n",
    "# Reset its index\n",
    "dfPart = dfPart.reset_index()\n",
    "# Rename the columns to make them more readable\n",
    "dfPart.columns = ['STUDENT_ID', 'PARTICIPATIONS COUNT']\n",
    "# Merge the dfPart and students DataFrames\n",
    "dfPart = pd.merge(dfPart, students, how = 'outer', on = 'STUDENT_ID')"
   ]
  },
  {
   "cell_type": "code",
   "execution_count": null,
   "metadata": {},
   "outputs": [],
   "source": [
    "# Get the mean number of participations for each class\n",
    "class_mean = dfPart.groupby('CLASS_ID')['PARTICIPATIONS COUNT'].mean()\n",
    "# Convert class_mean to a DataFrame\n",
    "class_mean = pd.DataFrame(class_mean)\n",
    "# Reset its index\n",
    "class_mean = class_mean.reset_index()\n",
    "# Rename the columns\n",
    "class_mean.columns = ['CLASS_ID', 'MEAN # OF PARTICIPATIONS']\n",
    "# Merge the class_mean and the dfPart DataFrames \n",
    "dfNoPall = pd.merge(dfPart, class_mean, how = 'outer', on = 'CLASS_ID')"
   ]
  },
  {
   "source": [
    "## Participations Count by Class"
   ],
   "cell_type": "markdown",
   "metadata": {}
  },
  {
   "source": [
    "### Prepare DataFrames"
   ],
   "cell_type": "markdown",
   "metadata": {}
  },
  {
   "cell_type": "code",
   "execution_count": null,
   "metadata": {},
   "outputs": [],
   "source": [
    "# Get a list of all CLASS_IDs in ascending order\n",
    "dfSorted = dfNoPall.sort_values(by = 'CLASS_ID')\n",
    "lClasses = dfSorted['CLASS_ID'].unique()\n",
    "# Loop through all CLASS_IDs to create a DataFrame for each class\n",
    "dfNoP = {}\n",
    "for i in lClasses:\n",
    "    dfNoP[i] = dfNoPall.where(dfNoPall['CLASS_ID'] == i)\n",
    "    dfNoP[i].drop(columns = ['STUDENT_FIRST_DAY', 'STUDENT_LAST_DAY'], axis = 0, inplace = True)\n",
    "    dfNoP[i] = dfNoP[i].dropna(how = 'all')\n",
    "    dfNoP[i].reset_index(inplace = True, drop = True)\n",
    "    dfNoP[i] = dfNoP[i].sort_values(by = 'PARTICIPATIONS COUNT', ascending = False).reset_index(drop = True)\n",
    "    dfNoP[i] = dfNoP[i].astype({'STUDENT_ID': 'int32'})"
   ]
  },
  {
   "source": [
    "### Reports"
   ],
   "cell_type": "markdown",
   "metadata": {}
  },
  {
   "cell_type": "code",
   "execution_count": null,
   "metadata": {},
   "outputs": [],
   "source": [
    "for i in lClasses:\n",
    "    tTitle = \"Particpation Count by Student for Class {}\".format(i)\n",
    "    # Plot participations count\n",
    "    pBlah = dfNoP[i].plot.bar(x = \"STUDENT_NAME_ENGLISH\", y = 'PARTICIPATIONS COUNT', color = 'darkgreen', figsize=(20,12), legend = False)\n",
    "    # Plot the average as a line on the second axis\n",
    "    dfNoP[i].plot(x = \"STUDENT_NAME_ENGLISH\", y = 'MEAN # OF PARTICIPATIONS', ax = pBlah, color = 'lightblue', figsize=(20,12), lw = 4, legend = True)\n",
    "    # Format the graph\n",
    "    pBlah.set_title(tTitle, size = 30)\n",
    "    pBlah.set_xlabel(\"Name\", size = 18)\n",
    "    pBlah.set_ylabel(\"Participation Count\", size = 18)\n",
    "    pBlah.legend([\"Mean: \" + str(round(dfNoP[i]['MEAN # OF PARTICIPATIONS'][0]))])\n",
    "    # Label the bars\n",
    "    show_values_on_bars(pBlah)\n",
    "    # Save the figure\n",
    "    pBlah.figure.savefig(\"images\\{}.png\".format(tTitle))"
   ]
  },
  {
   "source": [
    "## Participation Average Per Day"
   ],
   "cell_type": "markdown",
   "metadata": {}
  },
  {
   "source": [
    "### Prepare DataFrames"
   ],
   "cell_type": "markdown",
   "metadata": {}
  },
  {
   "cell_type": "code",
   "execution_count": 263,
   "metadata": {},
   "outputs": [
    {
     "output_type": "execute_result",
     "data": {
      "text/plain": [
       "                                   COUNT\n",
       "STUDENT_ID PARTICIPATION_DATETIME       \n",
       "0          1/10/2015                   6\n",
       "           1/11/2014                   4\n",
       "           1/17/2015                   2\n",
       "           1/18/2014                   5\n",
       "           1/24/2015                   7\n",
       "...                                  ...\n",
       "499        9/18/2013                   4\n",
       "           9/24/2014                   1\n",
       "           9/25/2013                   4\n",
       "           9/3/2014                    2\n",
       "           9/4/2013                    9\n",
       "\n",
       "[62527 rows x 1 columns]"
      ],
      "text/html": "<div>\n<style scoped>\n    .dataframe tbody tr th:only-of-type {\n        vertical-align: middle;\n    }\n\n    .dataframe tbody tr th {\n        vertical-align: top;\n    }\n\n    .dataframe thead th {\n        text-align: right;\n    }\n</style>\n<table border=\"1\" class=\"dataframe\">\n  <thead>\n    <tr style=\"text-align: right;\">\n      <th></th>\n      <th></th>\n      <th>COUNT</th>\n    </tr>\n    <tr>\n      <th>STUDENT_ID</th>\n      <th>PARTICIPATION_DATETIME</th>\n      <th></th>\n    </tr>\n  </thead>\n  <tbody>\n    <tr>\n      <th rowspan=\"5\" valign=\"top\">0</th>\n      <th>1/10/2015</th>\n      <td>6</td>\n    </tr>\n    <tr>\n      <th>1/11/2014</th>\n      <td>4</td>\n    </tr>\n    <tr>\n      <th>1/17/2015</th>\n      <td>2</td>\n    </tr>\n    <tr>\n      <th>1/18/2014</th>\n      <td>5</td>\n    </tr>\n    <tr>\n      <th>1/24/2015</th>\n      <td>7</td>\n    </tr>\n    <tr>\n      <th>...</th>\n      <th>...</th>\n      <td>...</td>\n    </tr>\n    <tr>\n      <th rowspan=\"5\" valign=\"top\">499</th>\n      <th>9/18/2013</th>\n      <td>4</td>\n    </tr>\n    <tr>\n      <th>9/24/2014</th>\n      <td>1</td>\n    </tr>\n    <tr>\n      <th>9/25/2013</th>\n      <td>4</td>\n    </tr>\n    <tr>\n      <th>9/3/2014</th>\n      <td>2</td>\n    </tr>\n    <tr>\n      <th>9/4/2013</th>\n      <td>9</td>\n    </tr>\n  </tbody>\n</table>\n<p>62527 rows × 1 columns</p>\n</div>"
     },
     "metadata": {},
     "execution_count": 263
    }
   ],
   "source": [
    "dfByDate = dfVOL.groupby(['STUDENT_ID', 'PARTICIPATION_DATETIME'])['PARTICIPATION_DATETIME'].count()\n",
    "dfByDate = pd.DataFrame(dfByDate)\n",
    "dfByDate = dfByDate.rename(columns = {'STUDENT_ID': 'STUDENT_ID', 'PARTICIPATION_DATETIME': 'DATETIME', 'PARTICIPATION_DATETIME': 'COUNT'})\n",
    "dfByDate"
   ]
  },
  {
   "cell_type": "code",
   "execution_count": 272,
   "metadata": {},
   "outputs": [
    {
     "output_type": "execute_result",
     "data": {
      "text/plain": [
       "                                   COUNT  MEAN\n",
       "STUDENT_ID PARTICIPATION_DATETIME             \n",
       "0          1/10/2015                   6     6\n",
       "           1/11/2014                   4     4\n",
       "           1/17/2015                   2     2\n",
       "           1/18/2014                   5     5\n",
       "           1/24/2015                   7     7\n",
       "...                                  ...   ...\n",
       "499        9/18/2013                   4     4\n",
       "           9/24/2014                   1     1\n",
       "           9/25/2013                   4     4\n",
       "           9/3/2014                    2     2\n",
       "           9/4/2013                    9     9\n",
       "\n",
       "[62527 rows x 2 columns]"
      ],
      "text/html": "<div>\n<style scoped>\n    .dataframe tbody tr th:only-of-type {\n        vertical-align: middle;\n    }\n\n    .dataframe tbody tr th {\n        vertical-align: top;\n    }\n\n    .dataframe thead th {\n        text-align: right;\n    }\n</style>\n<table border=\"1\" class=\"dataframe\">\n  <thead>\n    <tr style=\"text-align: right;\">\n      <th></th>\n      <th></th>\n      <th>COUNT</th>\n      <th>MEAN</th>\n    </tr>\n    <tr>\n      <th>STUDENT_ID</th>\n      <th>PARTICIPATION_DATETIME</th>\n      <th></th>\n      <th></th>\n    </tr>\n  </thead>\n  <tbody>\n    <tr>\n      <th rowspan=\"5\" valign=\"top\">0</th>\n      <th>1/10/2015</th>\n      <td>6</td>\n      <td>6</td>\n    </tr>\n    <tr>\n      <th>1/11/2014</th>\n      <td>4</td>\n      <td>4</td>\n    </tr>\n    <tr>\n      <th>1/17/2015</th>\n      <td>2</td>\n      <td>2</td>\n    </tr>\n    <tr>\n      <th>1/18/2014</th>\n      <td>5</td>\n      <td>5</td>\n    </tr>\n    <tr>\n      <th>1/24/2015</th>\n      <td>7</td>\n      <td>7</td>\n    </tr>\n    <tr>\n      <th>...</th>\n      <th>...</th>\n      <td>...</td>\n      <td>...</td>\n    </tr>\n    <tr>\n      <th rowspan=\"5\" valign=\"top\">499</th>\n      <th>9/18/2013</th>\n      <td>4</td>\n      <td>4</td>\n    </tr>\n    <tr>\n      <th>9/24/2014</th>\n      <td>1</td>\n      <td>1</td>\n    </tr>\n    <tr>\n      <th>9/25/2013</th>\n      <td>4</td>\n      <td>4</td>\n    </tr>\n    <tr>\n      <th>9/3/2014</th>\n      <td>2</td>\n      <td>2</td>\n    </tr>\n    <tr>\n      <th>9/4/2013</th>\n      <td>9</td>\n      <td>9</td>\n    </tr>\n  </tbody>\n</table>\n<p>62527 rows × 2 columns</p>\n</div>"
     },
     "metadata": {},
     "execution_count": 272
    }
   ],
   "source": [
    "dfa = dfByDate\n",
    "dfa['MEAN'] = dfa.groupby(['STUDENT_ID', 'PARTICIPATION_DATETIME'])['COUNT'].mean()\n",
    "dfa"
   ]
  },
  {
   "cell_type": "code",
   "execution_count": 271,
   "metadata": {},
   "outputs": [
    {
     "output_type": "execute_result",
     "data": {
      "text/plain": [
       "                        COUNT  MEAN\n",
       "PARTICIPATION_DATETIME             \n",
       "1/1/2014                    1     1\n",
       "1/14/2015                   3     3\n",
       "1/15/2014                   3     3\n",
       "1/21/2015                   3     3\n",
       "1/22/2014                   4     4\n",
       "...                       ...   ...\n",
       "9/18/2013                   4     4\n",
       "9/24/2014                   1     1\n",
       "9/25/2013                   4     4\n",
       "9/3/2014                    2     2\n",
       "9/4/2013                    9     9\n",
       "\n",
       "[124 rows x 2 columns]"
      ],
      "text/html": "<div>\n<style scoped>\n    .dataframe tbody tr th:only-of-type {\n        vertical-align: middle;\n    }\n\n    .dataframe tbody tr th {\n        vertical-align: top;\n    }\n\n    .dataframe thead th {\n        text-align: right;\n    }\n</style>\n<table border=\"1\" class=\"dataframe\">\n  <thead>\n    <tr style=\"text-align: right;\">\n      <th></th>\n      <th>COUNT</th>\n      <th>MEAN</th>\n    </tr>\n    <tr>\n      <th>PARTICIPATION_DATETIME</th>\n      <th></th>\n      <th></th>\n    </tr>\n  </thead>\n  <tbody>\n    <tr>\n      <th>1/1/2014</th>\n      <td>1</td>\n      <td>1</td>\n    </tr>\n    <tr>\n      <th>1/14/2015</th>\n      <td>3</td>\n      <td>3</td>\n    </tr>\n    <tr>\n      <th>1/15/2014</th>\n      <td>3</td>\n      <td>3</td>\n    </tr>\n    <tr>\n      <th>1/21/2015</th>\n      <td>3</td>\n      <td>3</td>\n    </tr>\n    <tr>\n      <th>1/22/2014</th>\n      <td>4</td>\n      <td>4</td>\n    </tr>\n    <tr>\n      <th>...</th>\n      <td>...</td>\n      <td>...</td>\n    </tr>\n    <tr>\n      <th>9/18/2013</th>\n      <td>4</td>\n      <td>4</td>\n    </tr>\n    <tr>\n      <th>9/24/2014</th>\n      <td>1</td>\n      <td>1</td>\n    </tr>\n    <tr>\n      <th>9/25/2013</th>\n      <td>4</td>\n      <td>4</td>\n    </tr>\n    <tr>\n      <th>9/3/2014</th>\n      <td>2</td>\n      <td>2</td>\n    </tr>\n    <tr>\n      <th>9/4/2013</th>\n      <td>9</td>\n      <td>9</td>\n    </tr>\n  </tbody>\n</table>\n<p>124 rows × 2 columns</p>\n</div>"
     },
     "metadata": {},
     "execution_count": 271
    }
   ],
   "source": [
    "student_id = 499\n",
    "dfa.loc[student_id]"
   ]
  },
  {
   "source": [
    "### Reports"
   ],
   "cell_type": "markdown",
   "metadata": {}
  },
  {
   "cell_type": "code",
   "execution_count": null,
   "metadata": {},
   "outputs": [],
   "source": []
  }
 ]
}