{
 "metadata": {
  "language_info": {
   "codemirror_mode": {
    "name": "ipython",
    "version": 3
   },
   "file_extension": ".py",
   "mimetype": "text/x-python",
   "name": "python",
   "nbconvert_exporter": "python",
   "pygments_lexer": "ipython3",
   "version": "3.9.0-final"
  },
  "orig_nbformat": 2,
  "kernelspec": {
   "name": "python3",
   "display_name": "Python 3.9.0 64-bit",
   "metadata": {
    "interpreter": {
     "hash": "bb34067346f80b54f07f8ed41554b355a788a517a9d24943ff71c323ae645852"
    }
   }
  }
 },
 "nbformat": 4,
 "nbformat_minor": 2,
 "cells": [
  {
   "cell_type": "code",
   "execution_count": 1,
   "metadata": {},
   "outputs": [],
   "source": [
    "import numpy as np\n",
    "import pandas as pd\n",
    "import matplotlib.pyplot as plt\n",
    "import seaborn as sns"
   ]
  },
  {
   "cell_type": "code",
   "execution_count": 2,
   "metadata": {},
   "outputs": [],
   "source": [
    "oPath = 'database/tables'\n",
    "# Read all the sheets from the excel file.\n",
    "students = pd.read_csv('{}/students.csv'.format(oPath), header = 0)\n",
    "classes = pd.read_csv('{}/classes.csv'.format(oPath), header = 0)\n",
    "tests = pd.read_csv('{}/tests.csv'.format(oPath), header = 0)\n",
    "test_results = pd.read_csv('{}/test_results.csv'.format(oPath), header = 0)\n",
    "attendance = pd.read_csv('{}/attendance.csv'.format(oPath), header = 0)\n",
    "hw = pd.read_csv('{}/hw_assignments.csv'.format(oPath), header = 0)\n",
    "hw_results = pd.read_csv('{}/hw_grades.csv'.format(oPath), header = 0)\n",
    "participation = pd.read_csv('{}/participation.csv'.format(oPath), header = 0)"
   ]
  },
  {
   "cell_type": "code",
   "execution_count": 3,
   "metadata": {},
   "outputs": [],
   "source": [
    "# Define a function to show values\n",
    "def show_values_on_bars(axs):\n",
    "    def _show_on_single_plot(ax):        \n",
    "        for p in ax.patches:\n",
    "            _x = p.get_x() + p.get_width() / 2\n",
    "            _y = p.get_y() + p.get_height() + 0.05\n",
    "            value = '{:.0f}'.format(p.get_height())\n",
    "            ax.text(_x, _y, value, ha=\"center\") \n",
    "\n",
    "    if isinstance(axs, np.ndarray):\n",
    "        for idx, ax in np.ndenumerate(axs):\n",
    "            _show_on_single_plot(ax)\n",
    "    else:\n",
    "        _show_on_single_plot(axs)"
   ]
  },
  {
   "cell_type": "code",
   "execution_count": 4,
   "metadata": {},
   "outputs": [],
   "source": [
    "# Get a list of all class IDs\n",
    "lClasses = classes['CLASS_ID'].to_list()\n",
    "# Get a list of student IDs\n",
    "lStudents = students['STUDENT_ID'].to_list()"
   ]
  },
  {
   "source": [
    "# Test Scores"
   ],
   "cell_type": "markdown",
   "metadata": {}
  },
  {
   "cell_type": "code",
   "execution_count": 194,
   "metadata": {},
   "outputs": [
    {
     "output_type": "execute_result",
     "data": {
      "text/plain": [
       "       TEST_ID  STUDENT_ID  TEST_SCORE  TEST_SCORE_MAX  TEST_SCORE_PERCENTAGE  \\\n",
       "0            0          20          32              50                   0.64   \n",
       "1            0          29          45              50                   0.90   \n",
       "2            0          32          47              50                   0.94   \n",
       "3            0          56          35              50                   0.70   \n",
       "4            0          58          43              50                   0.86   \n",
       "...        ...         ...         ...             ...                    ...   \n",
       "14495      144         319          29              50                   0.58   \n",
       "14496      144         342          25              50                   0.50   \n",
       "14497      144         354           3              50                   0.06   \n",
       "14498      144         375          42              50                   0.84   \n",
       "14499      144         392          31              50                   0.62   \n",
       "\n",
       "        TEST_DATE  CLASS_ID  \n",
       "0      2013-03-27         0  \n",
       "1      2013-03-27         0  \n",
       "2      2013-03-27         0  \n",
       "3      2013-03-27         0  \n",
       "4      2013-03-27         0  \n",
       "...           ...       ...  \n",
       "14495  2015-07-26        26  \n",
       "14496  2015-07-26        26  \n",
       "14497  2015-07-26        26  \n",
       "14498  2015-07-26        26  \n",
       "14499  2015-07-26        26  \n",
       "\n",
       "[14500 rows x 7 columns]"
      ],
      "text/html": "<div>\n<style scoped>\n    .dataframe tbody tr th:only-of-type {\n        vertical-align: middle;\n    }\n\n    .dataframe tbody tr th {\n        vertical-align: top;\n    }\n\n    .dataframe thead th {\n        text-align: right;\n    }\n</style>\n<table border=\"1\" class=\"dataframe\">\n  <thead>\n    <tr style=\"text-align: right;\">\n      <th></th>\n      <th>TEST_ID</th>\n      <th>STUDENT_ID</th>\n      <th>TEST_SCORE</th>\n      <th>TEST_SCORE_MAX</th>\n      <th>TEST_SCORE_PERCENTAGE</th>\n      <th>TEST_DATE</th>\n      <th>CLASS_ID</th>\n    </tr>\n  </thead>\n  <tbody>\n    <tr>\n      <th>0</th>\n      <td>0</td>\n      <td>20</td>\n      <td>32</td>\n      <td>50</td>\n      <td>0.64</td>\n      <td>2013-03-27</td>\n      <td>0</td>\n    </tr>\n    <tr>\n      <th>1</th>\n      <td>0</td>\n      <td>29</td>\n      <td>45</td>\n      <td>50</td>\n      <td>0.90</td>\n      <td>2013-03-27</td>\n      <td>0</td>\n    </tr>\n    <tr>\n      <th>2</th>\n      <td>0</td>\n      <td>32</td>\n      <td>47</td>\n      <td>50</td>\n      <td>0.94</td>\n      <td>2013-03-27</td>\n      <td>0</td>\n    </tr>\n    <tr>\n      <th>3</th>\n      <td>0</td>\n      <td>56</td>\n      <td>35</td>\n      <td>50</td>\n      <td>0.70</td>\n      <td>2013-03-27</td>\n      <td>0</td>\n    </tr>\n    <tr>\n      <th>4</th>\n      <td>0</td>\n      <td>58</td>\n      <td>43</td>\n      <td>50</td>\n      <td>0.86</td>\n      <td>2013-03-27</td>\n      <td>0</td>\n    </tr>\n    <tr>\n      <th>...</th>\n      <td>...</td>\n      <td>...</td>\n      <td>...</td>\n      <td>...</td>\n      <td>...</td>\n      <td>...</td>\n      <td>...</td>\n    </tr>\n    <tr>\n      <th>14495</th>\n      <td>144</td>\n      <td>319</td>\n      <td>29</td>\n      <td>50</td>\n      <td>0.58</td>\n      <td>2015-07-26</td>\n      <td>26</td>\n    </tr>\n    <tr>\n      <th>14496</th>\n      <td>144</td>\n      <td>342</td>\n      <td>25</td>\n      <td>50</td>\n      <td>0.50</td>\n      <td>2015-07-26</td>\n      <td>26</td>\n    </tr>\n    <tr>\n      <th>14497</th>\n      <td>144</td>\n      <td>354</td>\n      <td>3</td>\n      <td>50</td>\n      <td>0.06</td>\n      <td>2015-07-26</td>\n      <td>26</td>\n    </tr>\n    <tr>\n      <th>14498</th>\n      <td>144</td>\n      <td>375</td>\n      <td>42</td>\n      <td>50</td>\n      <td>0.84</td>\n      <td>2015-07-26</td>\n      <td>26</td>\n    </tr>\n    <tr>\n      <th>14499</th>\n      <td>144</td>\n      <td>392</td>\n      <td>31</td>\n      <td>50</td>\n      <td>0.62</td>\n      <td>2015-07-26</td>\n      <td>26</td>\n    </tr>\n  </tbody>\n</table>\n<p>14500 rows × 7 columns</p>\n</div>"
     },
     "metadata": {},
     "execution_count": 194
    }
   ],
   "source": [
    "test_results"
   ]
  },
  {
   "cell_type": "code",
   "execution_count": 6,
   "metadata": {},
   "outputs": [],
   "source": [
    "# Create a DataFrame of test results for each class\n",
    "dfTests = {}\n",
    "# Loop through the class list\n",
    "for i in lClasses:\n",
    "    # Define a DF for the class based on its ID\n",
    "    dfTests[i] = test_results.where(test_results['CLASS_ID'] == i)\n",
    "    # Drop the rows with all nans\n",
    "    dfTests[i].dropna(how = 'all', inplace = True)\n",
    "    # Reset the index\n",
    "    dfTests[i] = dfTests[i].reset_index(drop = True)\n",
    "    # Set the types of columns\n",
    "    dfTests[i] = dfTests[i].astype({'STUDENT_ID': 'int32', 'TEST_ID': 'int32', 'TEST_SCORE': 'int32', 'TEST_SCORE_MAX': 'int32', 'CLASS_ID': 'int32'})"
   ]
  },
  {
   "cell_type": "code",
   "execution_count": 13,
   "metadata": {},
   "outputs": [
    {
     "output_type": "execute_result",
     "data": {
      "text/plain": [
       "     TEST_ID  STUDENT_ID  TEST_SCORE  TEST_SCORE_MAX  TEST_SCORE_PERCENTAGE  \\\n",
       "0          0          24          11              50                   0.22   \n",
       "1          0          70          17              50                   0.34   \n",
       "2          0          88          34              50                   0.68   \n",
       "3          0         149          35              50                   0.70   \n",
       "4          0         166          15              50                   0.30   \n",
       "..       ...         ...         ...             ...                    ...   \n",
       "430       28         393           0              50                   0.00   \n",
       "431       28         411           0              50                   0.00   \n",
       "432       28         440           7              50                   0.14   \n",
       "433       28         458          18              50                   0.36   \n",
       "434       28         489           0              50                   0.00   \n",
       "\n",
       "      TEST_DATE  CLASS_ID  \n",
       "0    2013-03-27         1  \n",
       "1    2013-03-27         1  \n",
       "2    2013-03-27         1  \n",
       "3    2013-03-27         1  \n",
       "4    2013-03-27         1  \n",
       "..          ...       ...  \n",
       "430  2015-07-29         1  \n",
       "431  2015-07-29         1  \n",
       "432  2015-07-29         1  \n",
       "433  2015-07-29         1  \n",
       "434  2015-07-29         1  \n",
       "\n",
       "[435 rows x 7 columns]"
      ],
      "text/html": "<div>\n<style scoped>\n    .dataframe tbody tr th:only-of-type {\n        vertical-align: middle;\n    }\n\n    .dataframe tbody tr th {\n        vertical-align: top;\n    }\n\n    .dataframe thead th {\n        text-align: right;\n    }\n</style>\n<table border=\"1\" class=\"dataframe\">\n  <thead>\n    <tr style=\"text-align: right;\">\n      <th></th>\n      <th>TEST_ID</th>\n      <th>STUDENT_ID</th>\n      <th>TEST_SCORE</th>\n      <th>TEST_SCORE_MAX</th>\n      <th>TEST_SCORE_PERCENTAGE</th>\n      <th>TEST_DATE</th>\n      <th>CLASS_ID</th>\n    </tr>\n  </thead>\n  <tbody>\n    <tr>\n      <th>0</th>\n      <td>0</td>\n      <td>24</td>\n      <td>11</td>\n      <td>50</td>\n      <td>0.22</td>\n      <td>2013-03-27</td>\n      <td>1</td>\n    </tr>\n    <tr>\n      <th>1</th>\n      <td>0</td>\n      <td>70</td>\n      <td>17</td>\n      <td>50</td>\n      <td>0.34</td>\n      <td>2013-03-27</td>\n      <td>1</td>\n    </tr>\n    <tr>\n      <th>2</th>\n      <td>0</td>\n      <td>88</td>\n      <td>34</td>\n      <td>50</td>\n      <td>0.68</td>\n      <td>2013-03-27</td>\n      <td>1</td>\n    </tr>\n    <tr>\n      <th>3</th>\n      <td>0</td>\n      <td>149</td>\n      <td>35</td>\n      <td>50</td>\n      <td>0.70</td>\n      <td>2013-03-27</td>\n      <td>1</td>\n    </tr>\n    <tr>\n      <th>4</th>\n      <td>0</td>\n      <td>166</td>\n      <td>15</td>\n      <td>50</td>\n      <td>0.30</td>\n      <td>2013-03-27</td>\n      <td>1</td>\n    </tr>\n    <tr>\n      <th>...</th>\n      <td>...</td>\n      <td>...</td>\n      <td>...</td>\n      <td>...</td>\n      <td>...</td>\n      <td>...</td>\n      <td>...</td>\n    </tr>\n    <tr>\n      <th>430</th>\n      <td>28</td>\n      <td>393</td>\n      <td>0</td>\n      <td>50</td>\n      <td>0.00</td>\n      <td>2015-07-29</td>\n      <td>1</td>\n    </tr>\n    <tr>\n      <th>431</th>\n      <td>28</td>\n      <td>411</td>\n      <td>0</td>\n      <td>50</td>\n      <td>0.00</td>\n      <td>2015-07-29</td>\n      <td>1</td>\n    </tr>\n    <tr>\n      <th>432</th>\n      <td>28</td>\n      <td>440</td>\n      <td>7</td>\n      <td>50</td>\n      <td>0.14</td>\n      <td>2015-07-29</td>\n      <td>1</td>\n    </tr>\n    <tr>\n      <th>433</th>\n      <td>28</td>\n      <td>458</td>\n      <td>18</td>\n      <td>50</td>\n      <td>0.36</td>\n      <td>2015-07-29</td>\n      <td>1</td>\n    </tr>\n    <tr>\n      <th>434</th>\n      <td>28</td>\n      <td>489</td>\n      <td>0</td>\n      <td>50</td>\n      <td>0.00</td>\n      <td>2015-07-29</td>\n      <td>1</td>\n    </tr>\n  </tbody>\n</table>\n<p>435 rows × 7 columns</p>\n</div>"
     },
     "metadata": {},
     "execution_count": 13
    }
   ],
   "source": [
    "dfTests[1]"
   ]
  },
  {
   "cell_type": "code",
   "execution_count": 12,
   "metadata": {},
   "outputs": [
    {
     "output_type": "execute_result",
     "data": {
      "text/plain": [
       "                  TEST_SCORE\n",
       "CLASS_ID TEST_ID            \n",
       "1        0         22.266667\n",
       "         1         24.533333\n",
       "         2         22.933333\n",
       "         3         27.066667\n",
       "         4         26.000000\n",
       "         5         22.933333\n",
       "         6         25.400000\n",
       "         7         25.000000\n",
       "         8         22.733333\n",
       "         9         25.666667\n",
       "         10        18.333333\n",
       "         11        21.200000\n",
       "         12        24.666667\n",
       "         13        27.066667\n",
       "         14        23.133333\n",
       "         15        17.733333\n",
       "         16        27.533333\n",
       "         17        19.933333\n",
       "         18        27.200000\n",
       "         19        24.466667\n",
       "         20        15.800000\n",
       "         21        21.066667\n",
       "         22        23.066667\n",
       "         23        22.933333\n",
       "         24        22.266667\n",
       "         25        25.533333\n",
       "         26        19.933333\n",
       "         27        26.200000\n",
       "         28        21.400000"
      ],
      "text/html": "<div>\n<style scoped>\n    .dataframe tbody tr th:only-of-type {\n        vertical-align: middle;\n    }\n\n    .dataframe tbody tr th {\n        vertical-align: top;\n    }\n\n    .dataframe thead th {\n        text-align: right;\n    }\n</style>\n<table border=\"1\" class=\"dataframe\">\n  <thead>\n    <tr style=\"text-align: right;\">\n      <th></th>\n      <th></th>\n      <th>TEST_SCORE</th>\n    </tr>\n    <tr>\n      <th>CLASS_ID</th>\n      <th>TEST_ID</th>\n      <th></th>\n    </tr>\n  </thead>\n  <tbody>\n    <tr>\n      <th rowspan=\"29\" valign=\"top\">1</th>\n      <th>0</th>\n      <td>22.266667</td>\n    </tr>\n    <tr>\n      <th>1</th>\n      <td>24.533333</td>\n    </tr>\n    <tr>\n      <th>2</th>\n      <td>22.933333</td>\n    </tr>\n    <tr>\n      <th>3</th>\n      <td>27.066667</td>\n    </tr>\n    <tr>\n      <th>4</th>\n      <td>26.000000</td>\n    </tr>\n    <tr>\n      <th>5</th>\n      <td>22.933333</td>\n    </tr>\n    <tr>\n      <th>6</th>\n      <td>25.400000</td>\n    </tr>\n    <tr>\n      <th>7</th>\n      <td>25.000000</td>\n    </tr>\n    <tr>\n      <th>8</th>\n      <td>22.733333</td>\n    </tr>\n    <tr>\n      <th>9</th>\n      <td>25.666667</td>\n    </tr>\n    <tr>\n      <th>10</th>\n      <td>18.333333</td>\n    </tr>\n    <tr>\n      <th>11</th>\n      <td>21.200000</td>\n    </tr>\n    <tr>\n      <th>12</th>\n      <td>24.666667</td>\n    </tr>\n    <tr>\n      <th>13</th>\n      <td>27.066667</td>\n    </tr>\n    <tr>\n      <th>14</th>\n      <td>23.133333</td>\n    </tr>\n    <tr>\n      <th>15</th>\n      <td>17.733333</td>\n    </tr>\n    <tr>\n      <th>16</th>\n      <td>27.533333</td>\n    </tr>\n    <tr>\n      <th>17</th>\n      <td>19.933333</td>\n    </tr>\n    <tr>\n      <th>18</th>\n      <td>27.200000</td>\n    </tr>\n    <tr>\n      <th>19</th>\n      <td>24.466667</td>\n    </tr>\n    <tr>\n      <th>20</th>\n      <td>15.800000</td>\n    </tr>\n    <tr>\n      <th>21</th>\n      <td>21.066667</td>\n    </tr>\n    <tr>\n      <th>22</th>\n      <td>23.066667</td>\n    </tr>\n    <tr>\n      <th>23</th>\n      <td>22.933333</td>\n    </tr>\n    <tr>\n      <th>24</th>\n      <td>22.266667</td>\n    </tr>\n    <tr>\n      <th>25</th>\n      <td>25.533333</td>\n    </tr>\n    <tr>\n      <th>26</th>\n      <td>19.933333</td>\n    </tr>\n    <tr>\n      <th>27</th>\n      <td>26.200000</td>\n    </tr>\n    <tr>\n      <th>28</th>\n      <td>21.400000</td>\n    </tr>\n  </tbody>\n</table>\n</div>"
     },
     "metadata": {},
     "execution_count": 12
    }
   ],
   "source": [
    "i = 1\n",
    "\n",
    "lTests = dfTests[i]['TEST_ID'].unique()\n",
    "dfGroup = pd.DataFrame(dfTests[i].groupby(['CLASS_ID', 'TEST_ID'])['TEST_SCORE'].mean())\n",
    "dfGroup.rename(columns = {'TEST_SCORE':'MEAN_SCORE'})\n",
    "dfGroup"
   ]
  },
  {
   "cell_type": "code",
   "execution_count": null,
   "metadata": {},
   "outputs": [],
   "source": []
  },
  {
   "cell_type": "code",
   "execution_count": null,
   "metadata": {},
   "outputs": [],
   "source": []
  },
  {
   "source": [
    "# Students"
   ],
   "cell_type": "markdown",
   "metadata": {}
  },
  {
   "cell_type": "code",
   "execution_count": null,
   "metadata": {},
   "outputs": [],
   "source": [
    "# Create a new DF by count of each name\n",
    "dfTopNames = students.groupby(['STUDENT_NAME_ENGLISH'])['STUDENT_ID'].nunique().sort_values(ascending = False)"
   ]
  },
  {
   "cell_type": "code",
   "execution_count": null,
   "metadata": {},
   "outputs": [],
   "source": [
    "# Plot Top 20 Names\n",
    "# Set the title\n",
    "tTitle = \"Top 20 Names\"\n",
    "# Index the top 20\n",
    "dfTop20Names = dfTopNames.head(20)\n",
    "# Plot the new DF\n",
    "pTop20Names = dfTop20Names.plot.bar(x = 'STUDENT_NAME_ENGLISH', figsize=(12,6))\n",
    "# Format the graph\n",
    "pTop20Names.set_title(tTitle, size = 30)\n",
    "pTop20Names.set_xlabel(\"Name\", size = 18)\n",
    "pTop20Names.set_ylabel(\"Participation Count\", size = 18)\n",
    "# Show values at the tops of the bars\n",
    "show_values_on_bars(pTop20Names)\n",
    "# Save the figure\n",
    "pTop20Names.figure.savefig(\"images\\{}.png\".format(tTitle))"
   ]
  },
  {
   "cell_type": "code",
   "execution_count": null,
   "metadata": {},
   "outputs": [],
   "source": [
    "# Plot Bottom 20 Names\n",
    "# Set the title\n",
    "tTitle = \"Bottom 20 Names\"\n",
    "# Index the top 20\n",
    "dfBottom20Names = dfTopNames.tail(20)\n",
    "# Plot the new DF\n",
    "pBottom20Names = dfBottom20Names.plot.bar(x = 'STUDENT_NAME_ENGLISH', figsize=(12, 6))\n",
    "# Format the graph\n",
    "pBottom20Names.set_title(tTitle, size = 30)\n",
    "pBottom20Names.set_xlabel(\"Name\", size = 18)\n",
    "pBottom20Names.set_ylabel(\"Participation Count\", size = 18)\n",
    "# Show values at the tops of the bars\n",
    "show_values_on_bars(pBottom20Names)"
   ]
  },
  {
   "cell_type": "code",
   "execution_count": null,
   "metadata": {},
   "outputs": [],
   "source": [
    "# Plot Student Sex Distribution\n",
    "# Set the title\n",
    "tTitle = \"Student Sex Distribution\"\n",
    "# Create figure and axis objects\n",
    "fig, ax = plt.subplots(figsize=(10, 6))\n",
    "pStudentSexDistribution = sns.countplot(x = 'STUDENT_SEX', data = students, ax = ax)\n",
    "# Format the graph\n",
    "pStudentSexDistribution.set_title(tTitle, size = 30)\n",
    "pStudentSexDistribution.set_xlabel(\"Sex\", size = 18)\n",
    "pStudentSexDistribution.set_ylabel(\"Count\", size = 18)\n",
    "# Show bar values on the tops of the bars\n",
    "show_values_on_bars(pStudentSexDistribution)\n",
    "# Save the figure\n",
    "pStudentSexDistribution.figure.savefig(\"images\\{}.png\".format(tTitle))"
   ]
  },
  {
   "cell_type": "code",
   "execution_count": null,
   "metadata": {},
   "outputs": [],
   "source": [
    "# Plot Student Sex Distribution by Enrolled Status\n",
    "# Set the title\n",
    "tTitle = \"Student Sex Distribution by Enrolled Status\"\n",
    "# Create figure and axis objects\n",
    "fig, ax = plt.subplots(figsize=(10, 6))\n",
    "pStudentSexDistribution = sns.countplot(x = 'STUDENT_SEX', data = students, ax = ax, hue = 'STUDENT_ENROLLED')\n",
    "# Format the graph\n",
    "pStudentSexDistribution.set_title(tTitle, size = 30)\n",
    "pStudentSexDistribution.set_xlabel(\"Sex\", size = 18)\n",
    "pStudentSexDistribution.set_ylabel(\"Count\", size = 18)\n",
    "# Show bar values on the tops of the bars\n",
    "show_values_on_bars(pStudentSexDistribution)\n",
    "# Save the figure\n",
    "pStudentSexDistribution.figure.savefig(\"images\\{}.png\".format(tTitle))"
   ]
  },
  {
   "cell_type": "code",
   "execution_count": null,
   "metadata": {},
   "outputs": [],
   "source": [
    "# Plot Student Age Distribution\n",
    "# Set the title\n",
    "tTitle = \"Student Age Distribution\"\n",
    "# Create figure and axis objects\n",
    "fig, ax = plt.subplots(figsize=(10, 6))\n",
    "pStudentAgeDistribution = sns.countplot(x = 'STUDENT_AGE', data = students, ax = ax)\n",
    "# Format the graph\n",
    "pStudentAgeDistribution.set_title(tTitle, size = 30)\n",
    "pStudentAgeDistribution.set_xlabel(\"Age\", size = 18)\n",
    "pStudentAgeDistribution.set_ylabel(\"Count\", size = 18)\n",
    "# Show bar values on the tops of the bars\n",
    "show_values_on_bars(pStudentAgeDistribution)\n",
    "# Save the figure\n",
    "pStudentAgeDistribution.figure.savefig(\"images\\{}.png\".format(tTitle))"
   ]
  },
  {
   "cell_type": "code",
   "execution_count": null,
   "metadata": {},
   "outputs": [],
   "source": [
    "# Plot Student Age Distribution by Sex\n",
    "# Set the title\n",
    "tTitle = \"Student Age Distribution by Sex\"\n",
    "# Create figure and axis objects\n",
    "fig, ax = plt.subplots(figsize=(10, 6))\n",
    "pStudentAgeDistribution = sns.countplot(x = 'STUDENT_AGE', data = students, ax = ax, hue = 'STUDENT_SEX')\n",
    "# Format the graph\n",
    "pStudentAgeDistribution.set_title(tTitle, size = 30)\n",
    "pStudentAgeDistribution.set_xlabel(\"Age\", size = 18)\n",
    "pStudentAgeDistribution.set_ylabel(\"Count\", size = 18)\n",
    "# Show bar values on the tops of the bars\n",
    "show_values_on_bars(pStudentAgeDistribution)\n",
    "# Save the figure\n",
    "pStudentAgeDistribution.figure.savefig(\"images\\{}.png\".format(tTitle))"
   ]
  },
  {
   "cell_type": "code",
   "execution_count": null,
   "metadata": {},
   "outputs": [],
   "source": [
    "# Plot Student Age Distribution by Enrolled Status\n",
    "# Set the title\n",
    "tTitle = \"Student Age Distribution by Enrolled Status\"\n",
    "# Create figure and axis objects\n",
    "fig, ax = plt.subplots(figsize=(10, 6))\n",
    "pStudentAgeDistribution = sns.countplot(x = 'STUDENT_AGE', data = students, ax = ax, hue = 'STUDENT_ENROLLED')\n",
    "# Format the graph\n",
    "pStudentAgeDistribution.set_title(tTitle, size = 30)\n",
    "pStudentAgeDistribution.set_xlabel(\"Age\", size = 18)\n",
    "pStudentAgeDistribution.set_ylabel(\"Count\", size = 18)\n",
    "# Show bar values on the tops of the bars\n",
    "show_values_on_bars(pStudentAgeDistribution)\n",
    "# Save the figure\n",
    "pStudentAgeDistribution.figure.savefig(\"images\\{}.png\".format(tTitle))"
   ]
  },
  {
   "cell_type": "code",
   "execution_count": null,
   "metadata": {},
   "outputs": [],
   "source": [
    "# Plot Student Class Distribution\n",
    "# Set the title\n",
    "tTitle = \"Student Class Distribution\"\n",
    "# Create figure and axis objects\n",
    "fig, ax = plt.subplots(figsize=(12, 6))\n",
    "pStudentAgeDistribution = sns.countplot(x = 'CLASS_ID', data = students, ax = ax)\n",
    "# Format the graph\n",
    "pStudentAgeDistribution.set_title(tTitle, size = 30)\n",
    "pStudentAgeDistribution.set_xlabel(\"Class\", size = 18)\n",
    "pStudentAgeDistribution.set_ylabel(\"Count\", size = 18)\n",
    "# Show bar values on the tops of the bars\n",
    "show_values_on_bars(pStudentAgeDistribution)\n",
    "# Save the figure\n",
    "pStudentAgeDistribution.figure.savefig(\"images\\{}.png\".format(tTitle))"
   ]
  },
  {
   "cell_type": "code",
   "execution_count": null,
   "metadata": {},
   "outputs": [],
   "source": [
    "# Plot Student Class Distribution grouped by sex\n",
    "# Set the title\n",
    "tTitle = \"Student Class Distribution by Sex\"\n",
    "# Create figure and axis objects\n",
    "fig, ax = plt.subplots(figsize=(15, 6))\n",
    "pStudentAgeDistribution = sns.countplot(x = 'CLASS_ID', data = students, ax = ax, hue = 'STUDENT_SEX')\n",
    "# Format the graph\n",
    "pStudentAgeDistribution.set_title(tTitle, size = 30)\n",
    "pStudentAgeDistribution.set_xlabel(\"Class\", size = 18)\n",
    "pStudentAgeDistribution.set_ylabel(\"Count\", size = 18)\n",
    "# Show bar values on the tops of the bars\n",
    "show_values_on_bars(pStudentAgeDistribution)\n",
    "# Save the figure\n",
    "pStudentAgeDistribution.figure.savefig(\"images\\{}.png\".format(tTitle))"
   ]
  },
  {
   "cell_type": "code",
   "execution_count": null,
   "metadata": {},
   "outputs": [],
   "source": [
    "# Plot Student Class Distribution grouped by enrolled\n",
    "# Set the title\n",
    "tTitle = \"Student Class Distribution by Enrolled Status\"\n",
    "# Create figure and axis objects\n",
    "fig, ax = plt.subplots(figsize=(15, 4))\n",
    "pStudentAgeDistribution = sns.countplot(x = 'CLASS_ID', data = students, ax = ax, hue = 'STUDENT_ENROLLED')\n",
    "# Format the graph\n",
    "pStudentAgeDistribution.set_title(tTitle, size = 30)\n",
    "pStudentAgeDistribution.set_xlabel(\"Class\", size = 18)\n",
    "pStudentAgeDistribution.set_ylabel(\"Count\", size = 18)\n",
    "# Show bar values on the tops of the bars\n",
    "show_values_on_bars(pStudentAgeDistribution)\n",
    "# Save the figure\n",
    "pStudentAgeDistribution.figure.savefig(\"images\\{}.png\".format(tTitle))"
   ]
  },
  {
   "source": [
    "# Participation"
   ],
   "cell_type": "markdown",
   "metadata": {}
  },
  {
   "source": [
    "## Average Attempts per Instance"
   ],
   "cell_type": "markdown",
   "metadata": {}
  },
  {
   "source": [
    "### Prepare DataFrames"
   ],
   "cell_type": "markdown",
   "metadata": {}
  },
  {
   "cell_type": "code",
   "execution_count": 26,
   "metadata": {},
   "outputs": [
    {
     "output_type": "execute_result",
     "data": {
      "text/plain": [
       "        STUDENT_ID PARTICIPATION_DATETIME PARTICIPATION_TYPE  \\\n",
       "9              0.0              4/26/2014          volunteer   \n",
       "416            0.0              1/31/2015          cold call   \n",
       "844            0.0               5/9/2015          cold call   \n",
       "2493           0.0               4/5/2014          volunteer   \n",
       "3729           0.0              5/18/2013          cold call   \n",
       "...            ...                    ...                ...   \n",
       "298811         0.0             11/15/2014          volunteer   \n",
       "299102         0.0               6/8/2013          cold call   \n",
       "299288         0.0              7/27/2013          volunteer   \n",
       "299541         0.0              4/12/2014          cold call   \n",
       "299684         0.0               8/9/2014          volunteer   \n",
       "\n",
       "        PARTICIPATION_ATTEMPTS  PARTICIPATION_HINTS  CLASS_ID CLASS_TIME  \\\n",
       "9                          1.0                  0.0      17.0   17:30:00   \n",
       "416                        3.0                  0.0      17.0   17:30:00   \n",
       "844                        2.0                  1.0      17.0   17:30:00   \n",
       "2493                       2.0                  1.0      17.0   17:30:00   \n",
       "3729                       1.0                  0.0      17.0   17:30:00   \n",
       "...                        ...                  ...       ...        ...   \n",
       "298811                     1.0                  0.0      17.0   17:30:00   \n",
       "299102                     2.0                  0.0      17.0   17:30:00   \n",
       "299288                     1.0                  0.0      17.0   17:30:00   \n",
       "299541                     1.0                  0.0      17.0   17:30:00   \n",
       "299684                     5.0                  1.0      17.0   17:30:00   \n",
       "\n",
       "       CLASS_DAY  \n",
       "9       Saturday  \n",
       "416     Saturday  \n",
       "844     Saturday  \n",
       "2493    Saturday  \n",
       "3729    Saturday  \n",
       "...          ...  \n",
       "298811  Saturday  \n",
       "299102  Saturday  \n",
       "299288  Saturday  \n",
       "299541  Saturday  \n",
       "299684  Saturday  \n",
       "\n",
       "[615 rows x 8 columns]"
      ],
      "text/html": "<div>\n<style scoped>\n    .dataframe tbody tr th:only-of-type {\n        vertical-align: middle;\n    }\n\n    .dataframe tbody tr th {\n        vertical-align: top;\n    }\n\n    .dataframe thead th {\n        text-align: right;\n    }\n</style>\n<table border=\"1\" class=\"dataframe\">\n  <thead>\n    <tr style=\"text-align: right;\">\n      <th></th>\n      <th>STUDENT_ID</th>\n      <th>PARTICIPATION_DATETIME</th>\n      <th>PARTICIPATION_TYPE</th>\n      <th>PARTICIPATION_ATTEMPTS</th>\n      <th>PARTICIPATION_HINTS</th>\n      <th>CLASS_ID</th>\n      <th>CLASS_TIME</th>\n      <th>CLASS_DAY</th>\n    </tr>\n  </thead>\n  <tbody>\n    <tr>\n      <th>9</th>\n      <td>0.0</td>\n      <td>4/26/2014</td>\n      <td>volunteer</td>\n      <td>1.0</td>\n      <td>0.0</td>\n      <td>17.0</td>\n      <td>17:30:00</td>\n      <td>Saturday</td>\n    </tr>\n    <tr>\n      <th>416</th>\n      <td>0.0</td>\n      <td>1/31/2015</td>\n      <td>cold call</td>\n      <td>3.0</td>\n      <td>0.0</td>\n      <td>17.0</td>\n      <td>17:30:00</td>\n      <td>Saturday</td>\n    </tr>\n    <tr>\n      <th>844</th>\n      <td>0.0</td>\n      <td>5/9/2015</td>\n      <td>cold call</td>\n      <td>2.0</td>\n      <td>1.0</td>\n      <td>17.0</td>\n      <td>17:30:00</td>\n      <td>Saturday</td>\n    </tr>\n    <tr>\n      <th>2493</th>\n      <td>0.0</td>\n      <td>4/5/2014</td>\n      <td>volunteer</td>\n      <td>2.0</td>\n      <td>1.0</td>\n      <td>17.0</td>\n      <td>17:30:00</td>\n      <td>Saturday</td>\n    </tr>\n    <tr>\n      <th>3729</th>\n      <td>0.0</td>\n      <td>5/18/2013</td>\n      <td>cold call</td>\n      <td>1.0</td>\n      <td>0.0</td>\n      <td>17.0</td>\n      <td>17:30:00</td>\n      <td>Saturday</td>\n    </tr>\n    <tr>\n      <th>...</th>\n      <td>...</td>\n      <td>...</td>\n      <td>...</td>\n      <td>...</td>\n      <td>...</td>\n      <td>...</td>\n      <td>...</td>\n      <td>...</td>\n    </tr>\n    <tr>\n      <th>298811</th>\n      <td>0.0</td>\n      <td>11/15/2014</td>\n      <td>volunteer</td>\n      <td>1.0</td>\n      <td>0.0</td>\n      <td>17.0</td>\n      <td>17:30:00</td>\n      <td>Saturday</td>\n    </tr>\n    <tr>\n      <th>299102</th>\n      <td>0.0</td>\n      <td>6/8/2013</td>\n      <td>cold call</td>\n      <td>2.0</td>\n      <td>0.0</td>\n      <td>17.0</td>\n      <td>17:30:00</td>\n      <td>Saturday</td>\n    </tr>\n    <tr>\n      <th>299288</th>\n      <td>0.0</td>\n      <td>7/27/2013</td>\n      <td>volunteer</td>\n      <td>1.0</td>\n      <td>0.0</td>\n      <td>17.0</td>\n      <td>17:30:00</td>\n      <td>Saturday</td>\n    </tr>\n    <tr>\n      <th>299541</th>\n      <td>0.0</td>\n      <td>4/12/2014</td>\n      <td>cold call</td>\n      <td>1.0</td>\n      <td>0.0</td>\n      <td>17.0</td>\n      <td>17:30:00</td>\n      <td>Saturday</td>\n    </tr>\n    <tr>\n      <th>299684</th>\n      <td>0.0</td>\n      <td>8/9/2014</td>\n      <td>volunteer</td>\n      <td>5.0</td>\n      <td>1.0</td>\n      <td>17.0</td>\n      <td>17:30:00</td>\n      <td>Saturday</td>\n    </tr>\n  </tbody>\n</table>\n<p>615 rows × 8 columns</p>\n</div>"
     },
     "metadata": {},
     "execution_count": 26
    }
   ],
   "source": [
    "dfPartStudent = {}\n",
    "student_id = 0\n",
    "dfPartStudent[student_id] = participation.where(participation['STUDENT_ID'] == student_id)\n",
    "dfPartStudent[student_id].dropna(how = 'all', inplace = True)\n",
    "dfPartStudent[student_id]"
   ]
  },
  {
   "cell_type": "code",
   "execution_count": 35,
   "metadata": {},
   "outputs": [
    {
     "output_type": "execute_result",
     "data": {
      "text/plain": [
       "        STUDENT_ID PARTICIPATION_DATETIME PARTICIPATION_TYPE  \\\n",
       "5              262              6/19/2013          volunteer   \n",
       "33             133              5/29/2013          cold call   \n",
       "36              29              6/11/2014          cold call   \n",
       "80             163              6/10/2015          cold call   \n",
       "128            262               4/1/2015          volunteer   \n",
       "...            ...                    ...                ...   \n",
       "299888         476               8/6/2014          volunteer   \n",
       "299915          75               4/2/2014          cold call   \n",
       "299931         499              8/13/2014          volunteer   \n",
       "299934         499              10/8/2014          volunteer   \n",
       "299987         309              1/14/2015          volunteer   \n",
       "\n",
       "        PARTICIPATION_ATTEMPTS  PARTICIPATION_HINTS  CLASS_ID CLASS_TIME  \\\n",
       "5                          5.0                  3.0       0.0   16:30:00   \n",
       "33                         5.0                  4.0       0.0   16:30:00   \n",
       "36                         1.0                  0.0       0.0   16:30:00   \n",
       "80                         2.0                  0.0       0.0   16:30:00   \n",
       "128                        1.0                  0.0       0.0   16:30:00   \n",
       "...                        ...                  ...       ...        ...   \n",
       "299888                     1.0                  0.0       0.0   16:30:00   \n",
       "299915                     3.0                  1.0       0.0   16:30:00   \n",
       "299931                     2.0                  1.0       0.0   16:30:00   \n",
       "299934                     2.0                  0.0       0.0   16:30:00   \n",
       "299987                     1.0                  0.0       0.0   16:30:00   \n",
       "\n",
       "        CLASS_DAY  \n",
       "5       Wednesday  \n",
       "33      Wednesday  \n",
       "36      Wednesday  \n",
       "80      Wednesday  \n",
       "128     Wednesday  \n",
       "...           ...  \n",
       "299888  Wednesday  \n",
       "299915  Wednesday  \n",
       "299931  Wednesday  \n",
       "299934  Wednesday  \n",
       "299987  Wednesday  \n",
       "\n",
       "[14174 rows x 8 columns]"
      ],
      "text/html": "<div>\n<style scoped>\n    .dataframe tbody tr th:only-of-type {\n        vertical-align: middle;\n    }\n\n    .dataframe tbody tr th {\n        vertical-align: top;\n    }\n\n    .dataframe thead th {\n        text-align: right;\n    }\n</style>\n<table border=\"1\" class=\"dataframe\">\n  <thead>\n    <tr style=\"text-align: right;\">\n      <th></th>\n      <th>STUDENT_ID</th>\n      <th>PARTICIPATION_DATETIME</th>\n      <th>PARTICIPATION_TYPE</th>\n      <th>PARTICIPATION_ATTEMPTS</th>\n      <th>PARTICIPATION_HINTS</th>\n      <th>CLASS_ID</th>\n      <th>CLASS_TIME</th>\n      <th>CLASS_DAY</th>\n    </tr>\n  </thead>\n  <tbody>\n    <tr>\n      <th>5</th>\n      <td>262</td>\n      <td>6/19/2013</td>\n      <td>volunteer</td>\n      <td>5.0</td>\n      <td>3.0</td>\n      <td>0.0</td>\n      <td>16:30:00</td>\n      <td>Wednesday</td>\n    </tr>\n    <tr>\n      <th>33</th>\n      <td>133</td>\n      <td>5/29/2013</td>\n      <td>cold call</td>\n      <td>5.0</td>\n      <td>4.0</td>\n      <td>0.0</td>\n      <td>16:30:00</td>\n      <td>Wednesday</td>\n    </tr>\n    <tr>\n      <th>36</th>\n      <td>29</td>\n      <td>6/11/2014</td>\n      <td>cold call</td>\n      <td>1.0</td>\n      <td>0.0</td>\n      <td>0.0</td>\n      <td>16:30:00</td>\n      <td>Wednesday</td>\n    </tr>\n    <tr>\n      <th>80</th>\n      <td>163</td>\n      <td>6/10/2015</td>\n      <td>cold call</td>\n      <td>2.0</td>\n      <td>0.0</td>\n      <td>0.0</td>\n      <td>16:30:00</td>\n      <td>Wednesday</td>\n    </tr>\n    <tr>\n      <th>128</th>\n      <td>262</td>\n      <td>4/1/2015</td>\n      <td>volunteer</td>\n      <td>1.0</td>\n      <td>0.0</td>\n      <td>0.0</td>\n      <td>16:30:00</td>\n      <td>Wednesday</td>\n    </tr>\n    <tr>\n      <th>...</th>\n      <td>...</td>\n      <td>...</td>\n      <td>...</td>\n      <td>...</td>\n      <td>...</td>\n      <td>...</td>\n      <td>...</td>\n      <td>...</td>\n    </tr>\n    <tr>\n      <th>299888</th>\n      <td>476</td>\n      <td>8/6/2014</td>\n      <td>volunteer</td>\n      <td>1.0</td>\n      <td>0.0</td>\n      <td>0.0</td>\n      <td>16:30:00</td>\n      <td>Wednesday</td>\n    </tr>\n    <tr>\n      <th>299915</th>\n      <td>75</td>\n      <td>4/2/2014</td>\n      <td>cold call</td>\n      <td>3.0</td>\n      <td>1.0</td>\n      <td>0.0</td>\n      <td>16:30:00</td>\n      <td>Wednesday</td>\n    </tr>\n    <tr>\n      <th>299931</th>\n      <td>499</td>\n      <td>8/13/2014</td>\n      <td>volunteer</td>\n      <td>2.0</td>\n      <td>1.0</td>\n      <td>0.0</td>\n      <td>16:30:00</td>\n      <td>Wednesday</td>\n    </tr>\n    <tr>\n      <th>299934</th>\n      <td>499</td>\n      <td>10/8/2014</td>\n      <td>volunteer</td>\n      <td>2.0</td>\n      <td>0.0</td>\n      <td>0.0</td>\n      <td>16:30:00</td>\n      <td>Wednesday</td>\n    </tr>\n    <tr>\n      <th>299987</th>\n      <td>309</td>\n      <td>1/14/2015</td>\n      <td>volunteer</td>\n      <td>1.0</td>\n      <td>0.0</td>\n      <td>0.0</td>\n      <td>16:30:00</td>\n      <td>Wednesday</td>\n    </tr>\n  </tbody>\n</table>\n<p>14174 rows × 8 columns</p>\n</div>"
     },
     "metadata": {},
     "execution_count": 35
    }
   ],
   "source": [
    "dfPartStudent = {}\n",
    "class_id = 0\n",
    "dfPartStudent[class_id] = participation.where(participation['CLASS_ID'] == class_id)\n",
    "dfPartStudent[class_id].dropna(how = 'all', inplace = True)\n",
    "dfPartStudent[class_id] = dfPartStudent[class_id].astype({'STUDENT_ID': 'int32'})\n",
    "dfPartStudent[class_id]"
   ]
  },
  {
   "cell_type": "code",
   "execution_count": 38,
   "metadata": {},
   "outputs": [
    {
     "output_type": "execute_result",
     "data": {
      "text/plain": [
       "array([262, 133,  29, 163,  56, 309, 428,  75,  82,  32, 395, 343,  72,\n",
       "       476, 406, 117,  69, 368,  20, 332, 232, 421,  58, 499])"
      ]
     },
     "metadata": {},
     "execution_count": 38
    }
   ],
   "source": [
    "lClass0Students = dfPartStudent[class_id]['STUDENT_ID'].unique()\n",
    "lClass0Students"
   ]
  },
  {
   "cell_type": "code",
   "execution_count": null,
   "metadata": {},
   "outputs": [],
   "source": []
  },
  {
   "cell_type": "code",
   "execution_count": null,
   "metadata": {},
   "outputs": [],
   "source": []
  },
  {
   "source": [
    "## Average Hints per Instance"
   ],
   "cell_type": "markdown",
   "metadata": {}
  },
  {
   "source": [
    "### Prepare DataFrames"
   ],
   "cell_type": "markdown",
   "metadata": {}
  },
  {
   "cell_type": "code",
   "execution_count": null,
   "metadata": {},
   "outputs": [],
   "source": []
  },
  {
   "cell_type": "code",
   "execution_count": null,
   "metadata": {},
   "outputs": [],
   "source": []
  },
  {
   "source": [
    "## Participations Count by Class"
   ],
   "cell_type": "markdown",
   "metadata": {}
  },
  {
   "source": [
    "### Prepare DataFrames"
   ],
   "cell_type": "markdown",
   "metadata": {}
  },
  {
   "cell_type": "code",
   "execution_count": null,
   "metadata": {},
   "outputs": [],
   "source": [
    "# Create new DF from students and participation\n",
    "dfVOL = pd.merge(students, participation, on = 'STUDENT_ID')\n",
    "value_counts = dfVOL['STUDENT_ID'].value_counts()\n",
    "# Convert value_counts to a DataFrame\n",
    "dfPart = pd.DataFrame(value_counts)\n",
    "# Reset its index\n",
    "dfPart = dfPart.reset_index()\n",
    "# Rename the columns to make them more readable\n",
    "dfPart.columns = ['STUDENT_ID', 'PARTICIPATIONS COUNT']\n",
    "# Merge the dfPart and students DataFrames\n",
    "dfPart = pd.merge(dfPart, students, how = 'outer', on = 'STUDENT_ID')"
   ]
  },
  {
   "cell_type": "code",
   "execution_count": null,
   "metadata": {},
   "outputs": [],
   "source": [
    "# Get the mean number of participations for each class\n",
    "class_mean = dfPart.groupby('CLASS_ID')['PARTICIPATIONS COUNT'].mean()\n",
    "# Convert class_mean to a DataFrame\n",
    "class_mean = pd.DataFrame(class_mean)\n",
    "# Reset its index\n",
    "class_mean = class_mean.reset_index()\n",
    "# Rename the columns\n",
    "class_mean.columns = ['CLASS_ID', 'MEAN # OF PARTICIPATIONS']\n",
    "# Merge the class_mean and the dfPart DataFrames \n",
    "dfNoPall = pd.merge(dfPart, class_mean, how = 'outer', on = 'CLASS_ID')"
   ]
  },
  {
   "cell_type": "code",
   "execution_count": 18,
   "metadata": {},
   "outputs": [],
   "source": [
    "# Get a list of all CLASS_IDs in ascending order\n",
    "dfSorted = dfNoPall.sort_values(by = 'CLASS_ID')\n",
    "# Loop through all CLASS_IDs to create a DataFrame for each class\n",
    "dfNoP = {}\n",
    "for i in lClasses:\n",
    "    dfNoP[i] = dfNoPall.where(dfNoPall['CLASS_ID'] == i)\n",
    "    dfNoP[i].drop(columns = ['STUDENT_FIRST_DAY', 'STUDENT_LAST_DAY'], axis = 0, inplace = True)\n",
    "    dfNoP[i] = dfNoP[i].dropna(how = 'all')\n",
    "    dfNoP[i].reset_index(inplace = True, drop = True)\n",
    "    dfNoP[i] = dfNoP[i].sort_values(by = 'PARTICIPATIONS COUNT', ascending = False).reset_index(drop = True)\n",
    "    dfNoP[i] = dfNoP[i].astype({'STUDENT_ID': 'int32'})"
   ]
  },
  {
   "source": [
    "### Graphs"
   ],
   "cell_type": "markdown",
   "metadata": {}
  },
  {
   "cell_type": "code",
   "execution_count": null,
   "metadata": {},
   "outputs": [],
   "source": [
    "# Generate a graph of the count of participations for each student within each class\n",
    "for i in lClasses:\n",
    "    tTitle = \"Particpation Count by Student for Class {}\".format(i)\n",
    "    # Plot participations count\n",
    "    pBlah = dfNoP[i].plot.bar(x = \"STUDENT_NAME_ENGLISH\", y = 'PARTICIPATIONS COUNT', color = 'darkgreen', figsize=(20,12), legend = False)\n",
    "    # Plot the average as a line on the second axis\n",
    "    dfNoP[i].plot(x = \"STUDENT_NAME_ENGLISH\", y = 'MEAN # OF PARTICIPATIONS', ax = pBlah, color = 'lightblue', figsize=(20,12), lw = 4, legend = True)\n",
    "    # Format the graph\n",
    "    pBlah.set_title(tTitle, size = 30)\n",
    "    pBlah.set_xlabel(\"Name\", size = 18)\n",
    "    pBlah.set_ylabel(\"Participation Count\", size = 18)\n",
    "    pBlah.legend([\"Class Mean: \" + str(round(dfNoP[i]['MEAN # OF PARTICIPATIONS'][0]))])\n",
    "    # Label the bars\n",
    "    show_values_on_bars(pBlah)\n",
    "    # Save the figure\n",
    "    pBlah.figure.savefig(\"images\\{}.png\".format(tTitle))"
   ]
  },
  {
   "source": [
    "## Participations Count Average Per Day"
   ],
   "cell_type": "markdown",
   "metadata": {}
  },
  {
   "source": [
    "### Prepare DataFrames"
   ],
   "cell_type": "markdown",
   "metadata": {}
  },
  {
   "cell_type": "code",
   "execution_count": 23,
   "metadata": {},
   "outputs": [],
   "source": [
    "dfByDate = dfVOL.groupby(['STUDENT_ID', 'PARTICIPATION_DATETIME'])['PARTICIPATION_DATETIME'].count()\n",
    "dfByDate = pd.DataFrame(dfByDate)\n",
    "dfByDate = dfByDate.rename(columns = {'STUDENT_ID': 'STUDENT_ID', 'PARTICIPATION_DATETIME': 'DATETIME', 'PARTICIPATION_DATETIME': 'COUNT'})"
   ]
  },
  {
   "cell_type": "code",
   "execution_count": null,
   "metadata": {},
   "outputs": [],
   "source": [
    "# Define a dictionary to store each student's DF in\n",
    "dfPC = {}\n",
    "# Define a list of Means to store in the new dataframe\n",
    "lMeans = []\n",
    "# Loop through the STUDENT_IDs and calculate their mean number of participations\n",
    "for i in lStudents:\n",
    "    # Copy the DataFrame for safety resons\n",
    "    dfa = dfByDate\n",
    "    # Create a new DF just for the one student\n",
    "    dfPC[i] = dfa.loc[i]\n",
    "    # Set their ID to their ID from the list\n",
    "    dfPC[i]['STUDENT_ID'] = i\n",
    "    # Calculate the mean participations per class\n",
    "    dfPC[i]['MEAN'] = dfPC[i]['COUNT'].mean()\n",
    "    # Sort from highest to lowest count\n",
    "    dfPC[i] = dfPC[i].sort_values(by = 'COUNT', ascending = False)\n",
    "    # Append the mean to lMeans\n",
    "    lMeans.append(dfPC[i]['MEAN'][0])"
   ]
  },
  {
   "cell_type": "code",
   "execution_count": null,
   "metadata": {},
   "outputs": [],
   "source": [
    "# Create a new dataframe of the students and their mean participations per class\n",
    "dfMeanPart = pd.DataFrame(columns = ['STUDENT_ID', 'MEAN_PARTICIPATIONS_PER_CLASS'])\n",
    "# Set the student IDs to lStudents which is a list of student IDs\n",
    "dfMeanPart['STUDENT_ID'] = lStudents\n",
    "# Set the mean for each student to the corresponding value in lMeans\n",
    "dfMeanPart['MEAN_PARTICIPATIONS_PER_CLASS'] = lMeans\n",
    "# Merge the new DF with students\n",
    "dfMeanPart = pd.merge(dfMeanPart, students, how = 'inner', on = 'STUDENT_ID')\n",
    "# Drop unneeded columns\n",
    "dfMeanPart.drop(columns = ['STUDENT_ENROLLED', 'STUDENT_FIRST_DAY', 'STUDENT_LAST_DAY'], inplace = True)"
   ]
  },
  {
   "source": [
    "### Graphs"
   ],
   "cell_type": "markdown",
   "metadata": {}
  },
  {
   "cell_type": "code",
   "execution_count": null,
   "metadata": {},
   "outputs": [],
   "source": [
    "# Plot the students' means by class\n",
    "for i in lClasses:\n",
    "    # Set the title\n",
    "    tTitle = \"Mean Particpations for Class {}\".format(i)\n",
    "    # Filter the DF based on the class ID\n",
    "    df = dfMeanPart.where(dfMeanPart['CLASS_ID'] == i)\n",
    "    # Drop rows that are entirely nan\n",
    "    df.dropna(how = 'all', inplace = True)\n",
    "    # Sort values from highest to lowest mean participation\n",
    "    df = df.sort_values(by = 'MEAN_PARTICIPATIONS_PER_CLASS', ascending = False)\n",
    "    # Create class mean column\n",
    "    df['CLASS_MEAN'] = df['MEAN_PARTICIPATIONS_PER_CLASS'].mean()\n",
    "    # Plot participations count\n",
    "    pBlah = df.plot.bar(x = \"STUDENT_NAME_ENGLISH\", y = 'MEAN_PARTICIPATIONS_PER_CLASS', color = 'darkgreen', figsize=(20,12), legend = False)\n",
    "    # Plot the average as a line on the second axis\n",
    "    df.plot(x = \"STUDENT_NAME_ENGLISH\", y = 'CLASS_MEAN', ax = pBlah, color = 'lightblue', figsize=(20,12), lw = 4, legend = True)\n",
    "    # Format the graph\n",
    "    pBlah.set_title(tTitle, size = 30)\n",
    "    pBlah.set_xlabel(\"Name\", size = 18)\n",
    "    pBlah.set_ylabel(\"Mean Participations per Class\", size = 18)\n",
    "    pBlah.legend([\"Class Mean: \" + str(round(df['MEAN_PARTICIPATIONS_PER_CLASS'].mean(), 2))])\n",
    "    # Label the bars\n",
    "    show_values_on_bars(pBlah)\n",
    "    # Save the figure\n",
    "    pBlah.figure.savefig(\"images\\{}.png\".format(tTitle))"
   ]
  },
  {
   "cell_type": "code",
   "execution_count": null,
   "metadata": {},
   "outputs": [],
   "source": []
  }
 ]
}