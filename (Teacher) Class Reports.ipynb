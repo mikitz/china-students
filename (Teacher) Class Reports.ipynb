{
 "metadata": {
  "language_info": {
   "codemirror_mode": {
    "name": "ipython",
    "version": 3
   },
   "file_extension": ".py",
   "mimetype": "text/x-python",
   "name": "python",
   "nbconvert_exporter": "python",
   "pygments_lexer": "ipython3",
   "version": "3.8.3-final"
  },
  "orig_nbformat": 2,
  "kernelspec": {
   "name": "python3",
   "display_name": "Python 3",
   "language": "python"
  }
 },
 "nbformat": 4,
 "nbformat_minor": 2,
 "cells": [
  {
   "cell_type": "code",
   "execution_count": null,
   "metadata": {},
   "outputs": [],
   "source": [
    "# Import necessary modules\n",
    "import numpy as np\n",
    "import pandas as pd\n",
    "import matplotlib.pyplot as plt\n",
    "import seaborn as sns\n",
    "\n",
    "# Set the path of the Database files\n",
    "oPath = 'database/tables'\n",
    "# Read all the sheets from the excel file.\n",
    "students = pd.read_csv('{}/students.csv'.format(oPath), header = 0)\n",
    "classes = pd.read_csv('{}/classes.csv'.format(oPath), header = 0)\n",
    "tests = pd.read_csv('{}/tests.csv'.format(oPath), header = 0)\n",
    "test_results = pd.read_csv('{}/test_results.csv'.format(oPath), header = 0)\n",
    "attendance = pd.read_csv('{}/attendance.csv'.format(oPath), header = 0)\n",
    "hw = pd.read_csv('{}/hw_assignments.csv'.format(oPath), header = 0)\n",
    "hw_results = pd.read_csv('{}/hw_grades.csv'.format(oPath), header = 0)\n",
    "participation = pd.read_csv('{}/participation.csv'.format(oPath), header = 0)\n",
    "\n",
    "# Define a function to show values\n",
    "def show_values_on_bars(axs):\n",
    "    def _show_on_single_plot(ax):        \n",
    "        for p in ax.patches:\n",
    "            _x = p.get_x() + p.get_width() / 2\n",
    "            _y = p.get_y() + p.get_height() + 0.05\n",
    "            value = '{:.0f}'.format(p.get_height())\n",
    "            ax.text(_x, _y, value, ha=\"center\") \n",
    "\n",
    "    if isinstance(axs, np.ndarray):\n",
    "        for idx, ax in np.ndenumerate(axs):\n",
    "            _show_on_single_plot(ax)\n",
    "    else:\n",
    "        _show_on_single_plot(axs)\n",
    "\n",
    "# Get a list of all class IDs\n",
    "lClasses = classes['CLASS_ID'].to_list()\n",
    "# Get a list of student IDs\n",
    "lStudents = students['STUDENT_ID'].to_list()"
   ]
  },
  {
   "source": [
    "# Test Scores"
   ],
   "cell_type": "markdown",
   "metadata": {}
  },
  {
   "cell_type": "code",
   "execution_count": null,
   "metadata": {},
   "outputs": [],
   "source": [
    "test_results"
   ]
  },
  {
   "cell_type": "code",
   "execution_count": null,
   "metadata": {},
   "outputs": [],
   "source": [
    "# Create a DataFrame of test results for each class\n",
    "dfTests = {}\n",
    "# Loop through the class list\n",
    "for i in lClasses:\n",
    "    # Define a DF for the class based on its ID\n",
    "    dfTests[i] = test_results.where(test_results['CLASS_ID'] == i)\n",
    "    # Drop the rows with all nans\n",
    "    dfTests[i].dropna(how = 'all', inplace = True)\n",
    "    # Reset the index\n",
    "    dfTests[i] = dfTests[i].reset_index(drop = True)\n",
    "    # Set the types of columns\n",
    "    dfTests[i] = dfTests[i].astype({'STUDENT_ID': 'int32', 'TEST_ID': 'int32', 'TEST_SCORE': 'int32', 'TEST_SCORE_MAX': 'int32', 'CLASS_ID': 'int32'})"
   ]
  },
  {
   "cell_type": "code",
   "execution_count": null,
   "metadata": {},
   "outputs": [],
   "source": [
    "dfTests[1]"
   ]
  },
  {
   "cell_type": "code",
   "execution_count": null,
   "metadata": {},
   "outputs": [],
   "source": [
    "i = 1\n",
    "\n",
    "lTests = dfTests[i]['TEST_ID'].unique()\n",
    "dfGroup = pd.DataFrame(dfTests[i].groupby(['CLASS_ID', 'TEST_ID'])['TEST_SCORE'].mean())\n",
    "dfGroup.rename(columns = {'TEST_SCORE':'MEAN_SCORE'})\n",
    "dfGroup"
   ]
  },
  {
   "cell_type": "code",
   "execution_count": null,
   "metadata": {},
   "outputs": [],
   "source": []
  },
  {
   "source": [
    "# Participation"
   ],
   "cell_type": "markdown",
   "metadata": {}
  },
  {
   "source": [
    "## Average Attempts per Instance"
   ],
   "cell_type": "markdown",
   "metadata": {}
  },
  {
   "source": [
    "### Prepare DataFrames"
   ],
   "cell_type": "markdown",
   "metadata": {}
  },
  {
   "cell_type": "code",
   "execution_count": null,
   "metadata": {},
   "outputs": [],
   "source": [
    "dfPartStudent = {}\n",
    "student_id = 0\n",
    "dfPartStudent[student_id] = participation.where(participation['STUDENT_ID'] == student_id)\n",
    "dfPartStudent[student_id].dropna(how = 'all', inplace = True)\n",
    "dfPartStudent[student_id]"
   ]
  },
  {
   "cell_type": "code",
   "execution_count": null,
   "metadata": {},
   "outputs": [],
   "source": [
    "dfPartStudent = {}\n",
    "class_id = 0\n",
    "dfPartStudent[class_id] = participation.where(participation['CLASS_ID'] == class_id)\n",
    "dfPartStudent[class_id].dropna(how = 'all', inplace = True)\n",
    "dfPartStudent[class_id] = dfPartStudent[class_id].astype({'STUDENT_ID': 'int32'})\n",
    "dfPartStudent[class_id]"
   ]
  },
  {
   "cell_type": "code",
   "execution_count": null,
   "metadata": {},
   "outputs": [],
   "source": [
    "lClass0Students = dfPartStudent[class_id]['STUDENT_ID'].unique()\n",
    "lClass0Students"
   ]
  },
  {
   "cell_type": "code",
   "execution_count": null,
   "metadata": {},
   "outputs": [],
   "source": []
  },
  {
   "cell_type": "code",
   "execution_count": null,
   "metadata": {},
   "outputs": [],
   "source": []
  },
  {
   "source": [
    "## Average Hints per Instance"
   ],
   "cell_type": "markdown",
   "metadata": {}
  },
  {
   "source": [
    "### Prepare DataFrames"
   ],
   "cell_type": "markdown",
   "metadata": {}
  },
  {
   "cell_type": "code",
   "execution_count": null,
   "metadata": {},
   "outputs": [],
   "source": []
  },
  {
   "cell_type": "code",
   "execution_count": null,
   "metadata": {},
   "outputs": [],
   "source": []
  },
  {
   "source": [
    "## Participations Count by Class"
   ],
   "cell_type": "markdown",
   "metadata": {}
  },
  {
   "source": [
    "### Prepare DataFrames"
   ],
   "cell_type": "markdown",
   "metadata": {}
  },
  {
   "cell_type": "code",
   "execution_count": null,
   "metadata": {},
   "outputs": [],
   "source": [
    "# Create new DF from students and participation\n",
    "dfVOL = pd.merge(students, participation, on = 'STUDENT_ID')\n",
    "value_counts = dfVOL['STUDENT_ID'].value_counts()\n",
    "# Convert value_counts to a DataFrame\n",
    "dfPart = pd.DataFrame(value_counts)\n",
    "# Reset its index\n",
    "dfPart = dfPart.reset_index()\n",
    "# Rename the columns to make them more readable\n",
    "dfPart.columns = ['STUDENT_ID', 'PARTICIPATIONS COUNT']\n",
    "# Merge the dfPart and students DataFrames\n",
    "dfPart = pd.merge(dfPart, students, how = 'outer', on = 'STUDENT_ID')"
   ]
  },
  {
   "cell_type": "code",
   "execution_count": null,
   "metadata": {},
   "outputs": [],
   "source": [
    "# Get the mean number of participations for each class\n",
    "class_mean = dfPart.groupby('CLASS_ID')['PARTICIPATIONS COUNT'].mean()\n",
    "# Convert class_mean to a DataFrame\n",
    "class_mean = pd.DataFrame(class_mean)\n",
    "# Reset its index\n",
    "class_mean = class_mean.reset_index()\n",
    "# Rename the columns\n",
    "class_mean.columns = ['CLASS_ID', 'MEAN # OF PARTICIPATIONS']\n",
    "# Merge the class_mean and the dfPart DataFrames \n",
    "dfNoPall = pd.merge(dfPart, class_mean, how = 'outer', on = 'CLASS_ID')"
   ]
  },
  {
   "cell_type": "code",
   "execution_count": null,
   "metadata": {},
   "outputs": [],
   "source": [
    "# Get a list of all CLASS_IDs in ascending order\n",
    "dfSorted = dfNoPall.sort_values(by = 'CLASS_ID')\n",
    "# Loop through all CLASS_IDs to create a DataFrame for each class\n",
    "dfNoP = {}\n",
    "for i in lClasses:\n",
    "    dfNoP[i] = dfNoPall.where(dfNoPall['CLASS_ID'] == i)\n",
    "    dfNoP[i].drop(columns = ['STUDENT_FIRST_DAY', 'STUDENT_LAST_DAY'], axis = 0, inplace = True)\n",
    "    dfNoP[i] = dfNoP[i].dropna(how = 'all')\n",
    "    dfNoP[i].reset_index(inplace = True, drop = True)\n",
    "    dfNoP[i] = dfNoP[i].sort_values(by = 'PARTICIPATIONS COUNT', ascending = False).reset_index(drop = True)\n",
    "    dfNoP[i] = dfNoP[i].astype({'STUDENT_ID': 'int32'})"
   ]
  },
  {
   "source": [
    "### Graphs"
   ],
   "cell_type": "markdown",
   "metadata": {}
  },
  {
   "cell_type": "code",
   "execution_count": null,
   "metadata": {},
   "outputs": [],
   "source": [
    "# Generate a graph of the count of participations for each student within each class\n",
    "for i in lClasses:\n",
    "    tTitle = \"Particpation Count by Student for Class {}\".format(i)\n",
    "    # Plot participations count\n",
    "    pBlah = dfNoP[i].plot.bar(x = \"STUDENT_NAME_ENGLISH\", y = 'PARTICIPATIONS COUNT', color = 'darkgreen', figsize=(20,12), legend = False)\n",
    "    # Plot the average as a line on the second axis\n",
    "    dfNoP[i].plot(x = \"STUDENT_NAME_ENGLISH\", y = 'MEAN # OF PARTICIPATIONS', ax = pBlah, color = 'lightblue', figsize=(20,12), lw = 4, legend = True)\n",
    "    # Format the graph\n",
    "    pBlah.set_title(tTitle, size = 30)\n",
    "    pBlah.set_xlabel(\"Name\", size = 18)\n",
    "    pBlah.set_ylabel(\"Participation Count\", size = 18)\n",
    "    pBlah.legend([\"Class Mean: \" + str(round(dfNoP[i]['MEAN # OF PARTICIPATIONS'][0]))])\n",
    "    # Label the bars\n",
    "    show_values_on_bars(pBlah)\n",
    "    # Save the figure\n",
    "    pBlah.figure.savefig(\"images\\{}.png\".format(tTitle))"
   ]
  },
  {
   "source": [
    "## Participations Count Average Per Day"
   ],
   "cell_type": "markdown",
   "metadata": {}
  },
  {
   "source": [
    "### Prepare DataFrames"
   ],
   "cell_type": "markdown",
   "metadata": {}
  },
  {
   "cell_type": "code",
   "execution_count": null,
   "metadata": {},
   "outputs": [],
   "source": [
    "dfByDate = dfVOL.groupby(['STUDENT_ID', 'PARTICIPATION_DATETIME'])['PARTICIPATION_DATETIME'].count()\n",
    "dfByDate = pd.DataFrame(dfByDate)\n",
    "dfByDate = dfByDate.rename(columns = {'STUDENT_ID': 'STUDENT_ID', 'PARTICIPATION_DATETIME': 'DATETIME', 'PARTICIPATION_DATETIME': 'COUNT'})"
   ]
  },
  {
   "cell_type": "code",
   "execution_count": null,
   "metadata": {},
   "outputs": [],
   "source": [
    "# Define a dictionary to store each student's DF in\n",
    "dfPC = {}\n",
    "# Define a list of Means to store in the new dataframe\n",
    "lMeans = []\n",
    "# Loop through the STUDENT_IDs and calculate their mean number of participations\n",
    "for i in lStudents:\n",
    "    # Copy the DataFrame for safety resons\n",
    "    dfa = dfByDate\n",
    "    # Create a new DF just for the one student\n",
    "    dfPC[i] = dfa.loc[i]\n",
    "    # Set their ID to their ID from the list\n",
    "    dfPC[i]['STUDENT_ID'] = i\n",
    "    # Calculate the mean participations per class\n",
    "    dfPC[i]['MEAN'] = dfPC[i]['COUNT'].mean()\n",
    "    # Sort from highest to lowest count\n",
    "    dfPC[i] = dfPC[i].sort_values(by = 'COUNT', ascending = False)\n",
    "    # Append the mean to lMeans\n",
    "    lMeans.append(dfPC[i]['MEAN'][0])"
   ]
  },
  {
   "cell_type": "code",
   "execution_count": null,
   "metadata": {},
   "outputs": [],
   "source": [
    "# Create a new dataframe of the students and their mean participations per class\n",
    "dfMeanPart = pd.DataFrame(columns = ['STUDENT_ID', 'MEAN_PARTICIPATIONS_PER_CLASS'])\n",
    "# Set the student IDs to lStudents which is a list of student IDs\n",
    "dfMeanPart['STUDENT_ID'] = lStudents\n",
    "# Set the mean for each student to the corresponding value in lMeans\n",
    "dfMeanPart['MEAN_PARTICIPATIONS_PER_CLASS'] = lMeans\n",
    "# Merge the new DF with students\n",
    "dfMeanPart = pd.merge(dfMeanPart, students, how = 'inner', on = 'STUDENT_ID')\n",
    "# Drop unneeded columns\n",
    "dfMeanPart.drop(columns = ['STUDENT_ENROLLED', 'STUDENT_FIRST_DAY', 'STUDENT_LAST_DAY'], inplace = True)"
   ]
  },
  {
   "source": [
    "### Graphs"
   ],
   "cell_type": "markdown",
   "metadata": {}
  },
  {
   "cell_type": "code",
   "execution_count": null,
   "metadata": {},
   "outputs": [],
   "source": [
    "# Plot the students' means by class\n",
    "for i in lClasses:\n",
    "    # Set the title\n",
    "    tTitle = \"Mean Particpations for Class {}\".format(i)\n",
    "    # Filter the DF based on the class ID\n",
    "    df = dfMeanPart.where(dfMeanPart['CLASS_ID'] == i)\n",
    "    # Drop rows that are entirely nan\n",
    "    df.dropna(how = 'all', inplace = True)\n",
    "    # Sort values from highest to lowest mean participation\n",
    "    df = df.sort_values(by = 'MEAN_PARTICIPATIONS_PER_CLASS', ascending = False)\n",
    "    # Create class mean column\n",
    "    df['CLASS_MEAN'] = df['MEAN_PARTICIPATIONS_PER_CLASS'].mean()\n",
    "    # Plot participations count\n",
    "    pBlah = df.plot.bar(x = \"STUDENT_NAME_ENGLISH\", y = 'MEAN_PARTICIPATIONS_PER_CLASS', color = 'darkgreen', figsize=(20,12), legend = False)\n",
    "    # Plot the average as a line on the second axis\n",
    "    df.plot(x = \"STUDENT_NAME_ENGLISH\", y = 'CLASS_MEAN', ax = pBlah, color = 'lightblue', figsize=(20,12), lw = 4, legend = True)\n",
    "    # Format the graph\n",
    "    pBlah.set_title(tTitle, size = 30)\n",
    "    pBlah.set_xlabel(\"Name\", size = 18)\n",
    "    pBlah.set_ylabel(\"Mean Participations per Class\", size = 18)\n",
    "    pBlah.legend([\"Class Mean: \" + str(round(df['MEAN_PARTICIPATIONS_PER_CLASS'].mean(), 2))])\n",
    "    # Label the bars\n",
    "    show_values_on_bars(pBlah)\n",
    "    # Save the figure\n",
    "    pBlah.figure.savefig(\"images\\{}.png\".format(tTitle))"
   ]
  },
  {
   "cell_type": "code",
   "execution_count": null,
   "metadata": {},
   "outputs": [],
   "source": []
  }
 ]
}