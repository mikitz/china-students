{
 "metadata": {
  "language_info": {
   "codemirror_mode": {
    "name": "ipython",
    "version": 3
   },
   "file_extension": ".py",
   "mimetype": "text/x-python",
   "name": "python",
   "nbconvert_exporter": "python",
   "pygments_lexer": "ipython3",
   "version": "3.8.3-final"
  },
  "orig_nbformat": 2,
  "kernelspec": {
   "name": "python3",
   "display_name": "Python 3",
   "language": "python"
  }
 },
 "nbformat": 4,
 "nbformat_minor": 2,
 "cells": [
  {
   "cell_type": "code",
   "execution_count": null,
   "metadata": {},
   "outputs": [],
   "source": [
    "# Import necessary modules\n",
    "import datetime\n",
    "import numpy as np\n",
    "import pandas as pd\n",
    "import seaborn as sns\n",
    "import matplotlib.pyplot as plt\n",
    "\n",
    "# Set the path of the Database files\n",
    "oPath = 'database/tables'\n",
    "# Read all the sheets from the excel file.\n",
    "students = pd.read_csv('{}/students.csv'.format(oPath), header = 0)\n",
    "classes = pd.read_csv('{}/classes.csv'.format(oPath), header = 0)\n",
    "tests = pd.read_csv('{}/tests.csv'.format(oPath), header = 0)\n",
    "test_results = pd.read_csv('{}/test_results.csv'.format(oPath), header = 0)\n",
    "attendance = pd.read_csv('{}/attendance.csv'.format(oPath), header = 0)\n",
    "hw = pd.read_csv('{}/hw_assignments.csv'.format(oPath), header = 0)\n",
    "hw_results = pd.read_csv('{}/hw_grades.csv'.format(oPath), header = 0)\n",
    "participation = pd.read_csv('{}/participation.csv'.format(oPath), header = 0)\n",
    "# Merge attendance and class ID from students\n",
    "attendance = pd.merge(attendance, students[['STUDENT_ID', 'CLASS_ID']], how = 'inner', on = 'STUDENT_ID')\n",
    "# Define a function to show values\n",
    "def fShowValuesOnBars(axs):\n",
    "    def _show_on_single_plot(ax):        \n",
    "        for p in ax.patches:\n",
    "            _x = p.get_x() + p.get_width() / 2\n",
    "            _y = p.get_y() + p.get_height() + 0.05\n",
    "            value = '{:.0f}'.format(p.get_height())\n",
    "            ax.text(_x, _y, value, ha=\"center\") \n",
    "\n",
    "    if isinstance(axs, np.ndarray):\n",
    "        for idx, ax in np.ndenumerate(axs):\n",
    "            _show_on_single_plot(ax)\n",
    "    else:\n",
    "        _show_on_single_plot(axs)\n",
    "# Get a list of all class IDs\n",
    "lClasses = classes['CLASS_ID'].to_list()\n",
    "# Get a list of student IDs\n",
    "lStudents = students['STUDENT_ID'].to_list()"
   ]
  },
  {
   "cell_type": "code",
   "execution_count": null,
   "metadata": {},
   "outputs": [],
   "source": [
    "# Set the class ID\n",
    "tiClassID = 1"
   ]
  },
  {
   "source": [
    "# Monthly Report"
   ],
   "cell_type": "markdown",
   "metadata": {}
  },
  {
   "cell_type": "code",
   "execution_count": null,
   "metadata": {},
   "outputs": [],
   "source": [
    "# Set the month and year\n",
    "tiYear = 2014\n",
    "tiMonth = 10\n",
    "# Get the month name from its number\n",
    "oMonth = datetime.date(tiYear, tiMonth, 1).strftime('%B')\n",
    "# Get the number of students in this class\n",
    "oNumberStudents = students[students['CLASS_ID'] == tiClassID].shape[0]"
   ]
  },
  {
   "source": [
    "## For the User-defined Class"
   ],
   "cell_type": "markdown",
   "metadata": {}
  },
  {
   "source": [
    "### PREPARE DATAFRAMES"
   ],
   "cell_type": "markdown",
   "metadata": {}
  },
  {
   "cell_type": "code",
   "execution_count": null,
   "metadata": {},
   "outputs": [],
   "source": [
    "# Students DF\n",
    "dfStudents = students.where(students['CLASS_ID'] == tiClassID)\n",
    "dfStudents.dropna(how = 'all', inplace = True)\n",
    "dfStudents = dfStudents.astype({'STUDENT_ID': 'int32', 'STUDENT_AGE': 'int32', 'CLASS_ID': 'int32'})\n",
    "dfStudents = dfStudents.reset_index(drop = True)\n",
    "# Test Scores DF\n",
    "dfTestScores = test_results.where(test_results['CLASS_ID'] == tiClassID)\n",
    "dfTestScores.dropna(how = 'all', inplace = True)\n",
    "dfTestScores = dfTestScores.astype({'STUDENT_ID': 'int32', 'TEST_ID': 'int32', 'TEST_SCORE': 'int32', 'TEST_SCORE_MAX': 'int32', 'CLASS_ID': 'int32'})\n",
    "dfTestScores['TEST_DATE'] = pd.to_datetime(dfTestScores['TEST_DATE'])\n",
    "dfTestScores = dfTestScores.reset_index(drop = True)\n",
    "# Get a list of all Test IDs\n",
    "lTestIDs = dfTestScores['TEST_ID'].unique()\n",
    "# Attendance DF\n",
    "dfAttendance = attendance.where(attendance['CLASS_ID'] == tiClassID)\n",
    "dfAttendance.dropna(how = 'all', inplace = True)\n",
    "dfAttendance = dfAttendance.astype({'STUDENT_ID': 'int32', 'CLASS_ID': 'int32'})\n",
    "dfAttendance['CLASS_DATE'] = pd.to_datetime(dfAttendance['CLASS_DATE'])\n",
    "dfAttendance = dfAttendance.reset_index(drop = True)\n",
    "# HW Scores DF\n",
    "dfHWScores = hw_results.where(hw_results['CLASS_ID'] == tiClassID)\n",
    "dfHWScores.dropna(how = 'all', inplace = True)\n",
    "dfHWScores = dfHWScores.astype({'STUDENT_ID': 'int32', 'HW_ID': 'int32', 'HW_SCORE': 'int32', 'HW_SCORE_MAX': 'int32', 'CLASS_ID': 'int32'})\n",
    "dfHWScores['HW_ASSIGNED_DATE'] = pd.to_datetime(dfHWScores['HW_ASSIGNED_DATE'])\n",
    "dfHWScores['HW_TURNED_IN_DATE'] = pd.to_datetime(dfHWScores['HW_TURNED_IN_DATE'])\n",
    "dfHWScores = dfHWScores.reset_index(drop = True)\n",
    "# Get a list of all the HW IDs\n",
    "lHWIDs = dfHWScores['HW_ID'].unique() \n",
    "# Participation DF\n",
    "dfParticipation = participation.where(participation['CLASS_ID'] == tiClassID)\n",
    "dfParticipation.dropna(how = 'all', inplace = True)\n",
    "dfParticipation = dfParticipation.astype({'STUDENT_ID': 'int32', 'PARTICIPATION_ATTEMPTS': 'int32', 'PARTICIPATION_HINTS': 'int32', 'CLASS_ID': 'int32'})\n",
    "dfParticipation['PARTICIPATION_DATETIME'] = pd.to_datetime(dfParticipation['PARTICIPATION_DATETIME'])\n",
    "dfParticipation = dfParticipation.reset_index(drop = True)\n",
    "# Tests DF\n",
    "dfTests = tests[tests['TEST_ID'].isin(lTestIDs)]\n",
    "dfTests.dropna(how = 'all', inplace = True)\n",
    "dfTests['TEST_DATE'] = pd.to_datetime(dfTests['TEST_DATE'])\n",
    "dfTests = dfTests.reset_index(drop = True)\n",
    "# HW DF\n",
    "dfHW = hw[hw['HW_ID'].isin(lHWIDs)]\n",
    "dfHW.dropna(how = 'all', inplace = True)\n",
    "dfHW['HW_ASSIGNED_DATE'] = pd.to_datetime(dfHW['HW_ASSIGNED_DATE'])\n",
    "dfHW['HW_DUE_DATE'] = pd.to_datetime(dfHW['HW_DUE_DATE'])\n",
    "dfHW = dfHW.reset_index(drop = True)\n",
    "\n",
    "# Filter by Year and Month\n",
    "dfTestScoresDate = dfTestScores.where((dfTestScores['TEST_DATE'].dt.year == tiYear) & (dfTestScores['TEST_DATE'].dt.month == tiMonth))\n",
    "dfTestScoresDateMinus1 = dfTestScores.where((dfTestScores['TEST_DATE'].dt.year == tiYear) & (dfTestScores['TEST_DATE'].dt.month == tiMonth - 1))\n",
    "dfTestScoresDateMinus2 = dfTestScores.where((dfTestScores['TEST_DATE'].dt.year == tiYear) & (dfTestScores['TEST_DATE'].dt.month == tiMonth - 2))\n",
    "dfAttendanceDate = dfAttendance.where((dfAttendance['CLASS_DATE'].dt.year == tiYear) & (dfAttendance['CLASS_DATE'].dt.month == tiMonth))\n",
    "dfAttendanceDate.dropna(how = 'all', inplace = True)\n",
    "dfHWScoresDate = dfHWScores.where((dfHWScores['HW_ASSIGNED_DATE'].dt.year == tiYear) & (dfHWScores['HW_ASSIGNED_DATE'].dt.month == tiMonth))\n",
    "    # Participation DF\n",
    "dfParticipationDate = dfParticipation.where((dfParticipation['PARTICIPATION_DATETIME'].dt.year == tiYear) & (dfParticipation['PARTICIPATION_DATETIME'].dt.month == tiMonth))\n",
    "dfParticipationDate.dropna(how = 'all', inplace = True)\n",
    "dfParticipationDate = dfParticipationDate.reset_index(drop = True)\n",
    "    # Tests DF\n",
    "dfTestsDate = dfTests.where((dfTests['TEST_DATE'].dt.year == tiYear) & (dfTests['TEST_DATE'].dt.month == tiMonth))\n",
    "    # HW DF\n",
    "dfHWDate = dfHW.where((dfHW['HW_ASSIGNED_DATE'].dt.year == tiYear) & (dfHW['HW_ASSIGNED_DATE'].dt.month == tiMonth))\n",
    "\n",
    "# Can use this to loopify the above?\n",
    "lDFs = [dfStudents, dfTestScores, dfAttendance, dfHWScores, dfParticipation, dfTests, dfHW]"
   ]
  },
  {
   "cell_type": "code",
   "execution_count": null,
   "metadata": {},
   "outputs": [],
   "source": [
    "dfAttendanceAbsent = attendance.where(attendance['ATTENDANCE_STATUS'] == 'absent')\n",
    "dfAttendanceAbsent.dropna(how = 'all', inplace = True)"
   ]
  },
  {
   "source": [
    "### Test Grades"
   ],
   "cell_type": "markdown",
   "metadata": {}
  },
  {
   "source": [
    "#### *Prepare the DataFrames*"
   ],
   "cell_type": "markdown",
   "metadata": {}
  },
  {
   "cell_type": "code",
   "execution_count": null,
   "metadata": {},
   "outputs": [],
   "source": [
    "# Merge the test results DF with students DF for the specified class\n",
    "dfTestScoresDate = pd.merge(dfTestScoresDate, dfStudents, on = 'STUDENT_ID')\n",
    "dfTestScoresDateMinus1 = pd.merge(dfTestScoresDateMinus1, dfStudents, on = 'STUDENT_ID')\n",
    "dfTestScoresDateMinus2 = pd.merge(dfTestScoresDateMinus2, dfStudents, on = 'STUDENT_ID')\n",
    "# Sort the DF by test score in descending order\n",
    "dfTestScoresDate = dfTestScoresDate.sort_values(by = 'TEST_SCORE', ascending = False)\n",
    "dfTestScoresDateMinus1 = dfTestScoresDateMinus1.sort_values(by = 'TEST_SCORE', ascending = False)\n",
    "dfTestScoresDateMinus2 = dfTestScoresDateMinus2.sort_values(by = 'TEST_SCORE', ascending = False)\n",
    "# Concat all the Test Score DFs\n",
    "dfTestScoresTest = pd.concat([dfTestScoresDate, dfTestScoresDateMinus1, dfTestScoresDateMinus2])\n",
    "# Calculate the average score for each student\n",
    "dfTestScoresTestAverages = dfTestScoresTest.groupby(['STUDENT_NAME_ENGLISH'])['TEST_SCORE'].mean()\n",
    "dfTestScoresTestAverages = pd.DataFrame(dfTestScoresTestAverages)\n",
    "dfTestScoresTestAverages = dfTestScoresTestAverages.append([dfTestScoresTestAverages]*2)\n",
    "dfTestScoresTestAverages = dfTestScoresTestAverages.sort_values(by = 'STUDENT_NAME_ENGLISH')\n",
    "dfTestScoresTestAverages['TEST_ID'] = list(range(int(dfTestScoresTest['TEST_ID'].min()), int(dfTestScoresTest['TEST_ID'].max() + 1)))*(int(len(dfTestScoresTestAverages) / 3))"
   ]
  },
  {
   "source": [
    "#### *Plots*"
   ],
   "cell_type": "markdown",
   "metadata": {}
  },
  {
   "cell_type": "code",
   "execution_count": null,
   "metadata": {},
   "outputs": [],
   "source": [
    "# Create the figure and axis objects\n",
    "fig, ax = plt.subplots(figsize = (20, 8))\n",
    "# Plot the data\n",
    "sns.scatterplot(x='STUDENT_ID', y='TEST_SCORE', hue='TEST_ID', data = dfTestScoresTest, ax = ax, s = 150)\n",
    "# Plot the average test score of all these tests\n",
    "plt.axhline(y = dfTestScoresTest['TEST_SCORE'].mean(), color = 'lightgrey', linestyle = 'dashed', label = 'All Tests Average')\n",
    "# Plot the this month's test average score\n",
    "plt.axhline(y = dfTestScoresTest['TEST_SCORE'].where(dfTestScoresTest['TEST_DATE'].dt.month == tiMonth).mean(), \n",
    "            color = 'darkblue', linestyle = 'dashed', label = 'Test {} Average'.format(dfTestScoresTest['TEST_ID'].max()))\n",
    "# Set up the legend\n",
    "plt.legend(bbox_to_anchor=(1.01, 0.5), loc='center left', borderaxespad=0)\n",
    "# Format the graph\n",
    "tSubtitle = 'Class {} - {}, {}'.format(tiClassID, oMonth, tiYear)\n",
    "plt.suptitle(\"Test Scores\", size = 28, fontweight = \"bold\", y = 0.96, ha = 'center')\n",
    "ax.set_title(tSubtitle, size = 14, ha = 'center')\n",
    "ax.set_xlabel(\"Name\", size = 18, style=\"italic\")\n",
    "ax.set_ylabel(\"Test Score\", size = 18, style=\"italic\")\n",
    "ax.set(ylim = (-1, 50))\n",
    "# Add labels\n",
    "fShowValuesOnBars(ax)"
   ]
  },
  {
   "source": [
    "### Homework Grades"
   ],
   "cell_type": "markdown",
   "metadata": {}
  },
  {
   "source": [
    "#### *Prepare the DataFrames*"
   ],
   "cell_type": "markdown",
   "metadata": {}
  },
  {
   "cell_type": "code",
   "execution_count": null,
   "metadata": {},
   "outputs": [],
   "source": [
    "# Merge the HW grades with students DF for the specified class\n",
    "dfHWScoresDate = pd.merge(dfHWScoresDate, dfStudents[['STUDENT_ID', 'STUDENT_NAME_ENGLISH']], on = 'STUDENT_ID')\n",
    "# Calculate the average score for each student\n",
    "dfHWScoresDateAverages = dfHWScoresDate.groupby(['STUDENT_NAME_ENGLISH'])['HW_SCORE'].mean()\n",
    "# Turn the above series into a DataFrame\n",
    "dfHWScoresDateAverages = pd.DataFrame(dfHWScoresDateAverages)"
   ]
  },
  {
   "source": [
    "#### *Plots*"
   ],
   "cell_type": "markdown",
   "metadata": {}
  },
  {
   "cell_type": "code",
   "execution_count": null,
   "metadata": {},
   "outputs": [],
   "source": [
    "# Create the figure and axis objects\n",
    "fig, ax = plt.subplots(figsize = (20, 8))\n",
    "# Plot the data\n",
    "sns.scatterplot(x='STUDENT_ID', y='HW_SCORE', hue='HW_ID', data = dfHWScoresDate, ax = ax, s = 150)\n",
    "# Plot the this month's HW average score\n",
    "plt.axhline(y = dfHWScoresDate['HW_SCORE'].where(dfHWScoresDate['HW_ASSIGNED_DATE'].dt.month == tiMonth).mean(), \n",
    "            color = 'darkblue', linestyle = 'dashed', label = '{} HW Average'.format(oMonth))\n",
    "# Set up the legend\n",
    "plt.legend(bbox_to_anchor=(1.01, 0.5), loc='center left', borderaxespad=0)\n",
    "# Format the graph\n",
    "tSubtitle = 'Class {} - {}, {}'.format(tiClassID, oMonth, tiYear)\n",
    "plt.suptitle(\"HW Scores\", size = 28, fontweight = \"bold\", y = 0.96, ha = 'center')\n",
    "ax.set_title(tSubtitle, size = 14, ha = 'center')\n",
    "ax.set_xlabel(\"Name\", size = 18, style=\"italic\")\n",
    "ax.set_ylabel(\"HW Score\", size = 18, style=\"italic\")\n",
    "ax.set(ylim = (-1, 10))\n",
    "# Add labels\n",
    "fShowValuesOnBars(ax)"
   ]
  },
  {
   "cell_type": "code",
   "execution_count": null,
   "metadata": {},
   "outputs": [],
   "source": [
    "# Plot the data\n",
    "ax = dfHWScoresDate.plot.scatter(x = 'STUDENT_NAME_ENGLISH', y = 'HW_SCORE', figsize = (20, 8), c = 'HW_ID')\n",
    "# Plot the this month's HW average score\n",
    "plt.axhline(y = dfHWScoresDate['HW_SCORE'].where(dfHWScoresDate['HW_ASSIGNED_DATE'].dt.month == tiMonth).mean(), \n",
    "            color = 'darkblue', linestyle = 'dashed', label = '{} HW Average'.format(oMonth))\n",
    "            # Set up the legend\n",
    "plt.legend(bbox_to_anchor=(1.01, 0.5), loc='center left', borderaxespad=0)\n",
    "# Format the graph\n",
    "tSubtitle = 'Class {} - {}, {}'.format(tiClassID, oMonth, tiYear)\n",
    "plt.suptitle(\"HW Scores\", size = 28, fontweight = \"bold\", y = 0.96, ha = 'center')\n",
    "ax.set_title(tSubtitle, size = 14, ha = 'center')\n",
    "ax.set_xlabel(\"Name\", size = 18, style=\"italic\")\n",
    "ax.set_ylabel(\"HW Score\", size = 18, style=\"italic\")\n",
    "ax.set(ylim = (-1, 10))"
   ]
  },
  {
   "source": [
    "### Attendance"
   ],
   "cell_type": "markdown",
   "metadata": {}
  },
  {
   "source": [
    "#### *Prepare the DataFrames*"
   ],
   "cell_type": "markdown",
   "metadata": {}
  },
  {
   "cell_type": "code",
   "execution_count": null,
   "metadata": {},
   "outputs": [],
   "source": [
    "# Merge the attendance DF with the students DF\n",
    "dfAttendanceDate = pd.merge(dfAttendanceDate, dfStudents[['STUDENT_ID', 'STUDENT_NAME_ENGLISH']], on = 'STUDENT_ID')\n",
    "# Group by name and status to get totals for each status by student\n",
    "dfAttendanceStatus = dfAttendanceDate.groupby(['STUDENT_NAME_ENGLISH', 'ATTENDANCE_STATUS']).count()\n",
    "# Create new DF of all the instances of an absent status\n",
    "dfAttendanceDateAbsent = dfAttendanceDate.where(dfAttendanceDate['ATTENDANCE_STATUS'] == 'absent')\n",
    "# Drop the NANs from this newly created DF\n",
    "dfAttendanceDateAbsent.dropna(how = 'all', inplace = True)\n",
    "# Reset the index\n",
    "dfAttendanceDateAbsent = dfAttendanceDateAbsent.reset_index(drop = True)"
   ]
  },
  {
   "source": [
    "#### *Strings/Lists*"
   ],
   "cell_type": "markdown",
   "metadata": {}
  },
  {
   "cell_type": "code",
   "execution_count": null,
   "metadata": {},
   "outputs": [],
   "source": [
    "oAbsentCount = dfAttendanceDate['ATTENDANCE_STATUS'].str.contains('absent').sum()\n",
    "# Print the output\n",
    "if oAbsentCount > 0:\n",
    "    # Define a list to store all the instances of absent students\n",
    "    lAbsences = []\n",
    "    # Loop through the rows to populate the list\n",
    "    for index, row in dfAttendanceDateAbsent.iterrows():\n",
    "        # Pull the name from the current row\n",
    "        oName = dfAttendanceDateAbsent['STUDENT_NAME_ENGLISH'][index]\n",
    "        # Pull the date from the current row\n",
    "        oDate = str(dfAttendanceDateAbsent['CLASS_DATE'][index])[0:10]\n",
    "        # Define a string to be appended to the list\n",
    "        sText = '{} was absent on {}'.format(oName, oDate)\n",
    "        # Append the string to the list\n",
    "        lAbsences.append(sText)   \n",
    "    print(lAbsences)\n",
    "else:\n",
    "    # Define a string to be used in the report\n",
    "    sMessage = 'No students were absent in {}, {}'.format(oMonth, tiYear)\n",
    "    print(sMessage)"
   ]
  },
  {
   "source": [
    "### Participation"
   ],
   "cell_type": "markdown",
   "metadata": {}
  },
  {
   "source": [
    "#### *Preparing the DataFrames*"
   ],
   "cell_type": "markdown",
   "metadata": {}
  },
  {
   "cell_type": "code",
   "execution_count": null,
   "metadata": {},
   "outputs": [],
   "source": [
    "# Merge the student's name with the participation DF\n",
    "dfParticipationDate = pd.merge(dfParticipationDate, dfStudents[['STUDENT_ID', 'STUDENT_NAME_ENGLISH']], on = 'STUDENT_ID')\n",
    "# Group by participation type and student ID\n",
    "dfParticipationDateType = dfParticipationDate.groupby(['STUDENT_ID', 'PARTICIPATION_TYPE'])['PARTICIPATION_TYPE'].count()\n",
    "dfParticipationDateType = pd.DataFrame(dfParticipationDateType)\n",
    "dfParticipationDateType = dfParticipationDateType.rename(columns = {'STUDENT_ID': 'STUDENT_ID', 'PARTICIPATION_TYPE':'PARTICIPATION_TYPE', 'PARTICIPATION_TYPE':'PART_TYPE_COUNT'})\n",
    "# Create a pivot table of the same group by\n",
    "dfParticipationDateTypePivot = dfParticipationDate.pivot_table(index = 'STUDENT_ID', columns = 'PARTICIPATION_TYPE', values = 'CLASS_ID', aggfunc = 'count')\n",
    "# Merge it with student names\n",
    "dfParticipationDateTypePivot = pd.merge(dfParticipationDateTypePivot, dfStudents[['STUDENT_ID', 'STUDENT_NAME_ENGLISH']], on = 'STUDENT_ID')\n",
    "# Group by student ID and count them to get the total number of participation instances per student\n",
    "dfParticipationDateCount = dfParticipationDate.groupby(['STUDENT_ID'])['STUDENT_ID'].count()\n",
    "dfParticipationDateCount = pd.DataFrame(dfParticipationDateCount)\n",
    "dfParticipationDateCount = dfParticipationDateCount.rename(columns = {'STUDENT_ID': 'STUDENT_ID', 'STUDENT_ID':'PART_COUNT'})\n",
    "# Merge the part count DF with student names\n",
    "dfParticipationDateCount = pd.merge(dfParticipationDateCount, dfStudents[['STUDENT_ID', 'STUDENT_NAME_ENGLISH']], on = 'STUDENT_ID')"
   ]
  },
  {
   "source": [
    "#### *Plots*"
   ],
   "cell_type": "markdown",
   "metadata": {}
  },
  {
   "source": [
    "##### Participation Instances"
   ],
   "cell_type": "markdown",
   "metadata": {}
  },
  {
   "cell_type": "code",
   "execution_count": null,
   "metadata": {},
   "outputs": [],
   "source": [
    "# Plot it\n",
    "ax = dfParticipationDateCount.plot.bar(x = 'STUDENT_NAME_ENGLISH', y = 'PART_COUNT', figsize = (20, 8))\n",
    "# Calculate the average\n",
    "oAverage = dfParticipationDateType['PART_TYPE_COUNT'].sum() / oNumberStudents\n",
    "# Plot the class average\n",
    "plt.axhline(y = oAverage, color = 'darkorange', linestyle = 'dashed', label = '{} Average'.format(oMonth))\n",
    "# Set up the legend\n",
    "plt.legend(bbox_to_anchor=(1.01, 0.5), loc='center left', borderaxespad=0)\n",
    "# Format the graph\n",
    "tSubtitle = 'Class {} - {}, {}'.format(tiClassID, oMonth, tiYear)\n",
    "plt.suptitle(\"Particpations Count\", size = 28, fontweight = \"bold\", y = 0.96, ha = 'center')\n",
    "ax.set_title(tSubtitle, size = 14, ha = 'center')\n",
    "ax.set_xlabel(\"Name\", size = 18, style=\"italic\")\n",
    "ax.set_ylabel(\"Count of Participation Instances\", size = 18, style=\"italic\")\n",
    "# Add labels\n",
    "fShowValuesOnBars(ax)"
   ]
  },
  {
   "source": [
    "##### Particpation by Type Distribution"
   ],
   "cell_type": "markdown",
   "metadata": {}
  },
  {
   "cell_type": "code",
   "execution_count": null,
   "metadata": {},
   "outputs": [],
   "source": [
    "# Prepare the DF\n",
    "dfTest = dfParticipationDateTypePivot.drop(columns = ['STUDENT_ID'], axis = 1)\n",
    "# Define the plot\n",
    "ax = dfTest.plot.bar(x = 'STUDENT_NAME_ENGLISH', figsize = (20, 8))\n",
    "# Set up the legend\n",
    "plt.legend(bbox_to_anchor=(1.01, 0.5), loc='center left', borderaxespad=0)\n",
    "# Format the graph\n",
    "tSubtitle = 'Class {} - {}, {}'.format(tiClassID, oMonth, tiYear)\n",
    "plt.suptitle(\"Participation by Type\", size = 28, fontweight = \"bold\", y = 0.96, ha = 'center')\n",
    "ax.set_title(tSubtitle, size = 14, ha = 'center')\n",
    "ax.set_xlabel(\"Name\", size = 18, style=\"italic\")\n",
    "ax.set_ylabel(\"Count of Participations\", size = 18, style=\"italic\")\n",
    "# Show values on the bars\n",
    "fShowValuesOnBars(ax)"
   ]
  },
  {
   "source": [
    "##### Attempts per Participation Instance"
   ],
   "cell_type": "markdown",
   "metadata": {}
  },
  {
   "cell_type": "code",
   "execution_count": null,
   "metadata": {},
   "outputs": [],
   "source": [
    "dfParticipationDate"
   ]
  },
  {
   "cell_type": "code",
   "execution_count": null,
   "metadata": {},
   "outputs": [],
   "source": []
  },
  {
   "source": [
    "##### Hints per Participation Instance"
   ],
   "cell_type": "markdown",
   "metadata": {}
  },
  {
   "cell_type": "code",
   "execution_count": null,
   "metadata": {},
   "outputs": [],
   "source": []
  },
  {
   "source": [
    "##### *Strings/Lists/Dictionaries/Tables*"
   ],
   "cell_type": "markdown",
   "metadata": {}
  },
  {
   "cell_type": "code",
   "execution_count": null,
   "metadata": {},
   "outputs": [],
   "source": [
    "# Dictionary of students who have below average participation instances\n",
    "\n",
    "# Define an empty dictionary to store the students\n",
    "dBelowAveragePartCount = {}\n",
    "# Calculate the average\n",
    "oAverage = dfParticipationDateType['PART_TYPE_COUNT'].sum() / oNumberStudents\n",
    "# Loop through the rows to find those lower than average\n",
    "for index, row in dfParticipationDateCount.iterrows():\n",
    "    oPartCount = dfParticipationDateCount['PART_COUNT'][index]\n",
    "    oID = dfParticipationDateCount['STUDENT_ID'][index]\n",
    "    oName = dfParticipationDateCount['STUDENT_NAME_ENGLISH'][index]\n",
    "    if oPartCount < oAverage:\n",
    "        dBelowAveragePartCount.update({oID:oName})\n",
    "dBelowAveragePartCount"
   ]
  },
  {
   "cell_type": "code",
   "execution_count": null,
   "metadata": {},
   "outputs": [],
   "source": [
    "# DataFrame of all students and their Cold/Volunteer ratio\n",
    "\n",
    "# Define an empty DF to store the students\n",
    "dfPartTypeColdvsVol = pd.DataFrame(columns= ['STUDENT_ID', 'STUDENT_NAME_ENGLISH', 'COLD/VOL_RATIO'])\n",
    "# List of students how have more cold calls than volunteers\n",
    "for index, row in dfParticipationDateTypePivot.iterrows():\n",
    "    oID = dfParticipationDateTypePivot['STUDENT_ID'][index]\n",
    "    oCold = dfParticipationDateTypePivot['cold call'][index]\n",
    "    oVol = dfParticipationDateTypePivot['volunteer'][index]\n",
    "    oName = dfParticipationDateCount['STUDENT_NAME_ENGLISH'][index]\n",
    "    oRatio = oCold/oVol\n",
    "    # Append a row to the DF\n",
    "    dfPartTypeColdvsVol = dfPartTypeColdvsVol.append({'STUDENT_ID': oID, 'STUDENT_NAME_ENGLISH': oName, 'COLD/VOL_RATIO':oRatio, 'MORE_VOL_NEEDED':''}, ignore_index = True)\n",
    "    # Determine whether they need to volunteer more\n",
    "    if dfPartTypeColdvsVol['COLD/VOL_RATIO'][index] > 1.00:\n",
    "        dfPartTypeColdvsVol['MORE_VOL_NEEDED'][index] = True\n",
    "    else:\n",
    "        dfPartTypeColdvsVol['MORE_VOL_NEEDED'][index] = False\n",
    "dfPartTypeColdvsVol"
   ]
  },
  {
   "source": [
    "## For All Classes"
   ],
   "cell_type": "markdown",
   "metadata": {}
  },
  {
   "source": [
    "### *Prepare DataFrames*"
   ],
   "cell_type": "markdown",
   "metadata": {}
  },
  {
   "cell_type": "code",
   "execution_count": null,
   "metadata": {},
   "outputs": [],
   "source": [
    " # Define the dictionaries for each DF\n",
    "dfAllStudents = {}\n",
    "dfAllTestScores = {}\n",
    "dfAllAttendance = {}\n",
    "dfAllHWScores = {}\n",
    "dfAllParticipation = {}\n",
    "lAllTestIDs = {}\n",
    "lAllHWIDs = {}\n",
    "dfAllTests = {}\n",
    "dfAllHW = {}\n",
    "# Loop through all the class IDs to make a DF for each one\n",
    "for i in lClasses:\n",
    "    # Students DF\n",
    "    dfAllStudents[i] = students.where(students['CLASS_ID'] == i)\n",
    "    dfAllStudents[i].dropna(how = 'all', inplace = True)\n",
    "    dfAllStudents[i] = dfAllStudents[i].astype({'STUDENT_ID': 'int32', 'STUDENT_AGE': 'int32', 'CLASS_ID': 'int32'})\n",
    "    dfAllStudents[i] = dfAllStudents[i].reset_index(drop = True)\n",
    "    # Test Scores DF\n",
    "    dfAllTestScores[i] = test_results.where(test_results['CLASS_ID'] == i)\n",
    "    dfAllTestScores[i].dropna(how = 'all', inplace = True)\n",
    "    dfAllTestScores[i] = dfAllTestScores[i].astype({'STUDENT_ID': 'int32', 'TEST_ID': 'int32', 'TEST_SCORE': 'int32', 'TEST_SCORE_MAX': 'int32', 'CLASS_ID': 'int32'})\n",
    "    dfAllTestScores[i]['TEST_DATE'] = pd.to_datetime(dfAllTestScores[i]['TEST_DATE'])\n",
    "    dfAllTestScores[i] = dfAllTestScores[i].reset_index(drop = True)\n",
    "    # Get a list of all Test IDs\n",
    "    lAllTestIDs[i] = dfTestScores['TEST_ID'].unique()\n",
    "    # Attendance DF\n",
    "    dfAllAttendance[i] = attendance.where(attendance['CLASS_ID'] == i)\n",
    "    dfAllAttendance[i].dropna(how = 'all', inplace = True)\n",
    "    dfAllAttendance[i] = dfAllAttendance[i].astype({'STUDENT_ID': 'int32', 'CLASS_ID': 'int32'})\n",
    "    dfAllAttendance[i]['CLASS_DATE'] = pd.to_datetime(dfAllAttendance[i]['CLASS_DATE'])\n",
    "    dfAllAttendance[i] = dfAllAttendance[i].reset_index(drop = True)\n",
    "    # HW Scores DF\n",
    "    dfAllHWScores[i] = hw_results.where(hw_results['CLASS_ID'] == i)\n",
    "    dfAllHWScores[i].dropna(how = 'all', inplace = True)\n",
    "    dfAllHWScores[i] = dfAllHWScores[i].astype({'STUDENT_ID': 'int32', 'HW_ID': 'int32', 'HW_SCORE': 'int32', 'HW_SCORE_MAX': 'int32', 'CLASS_ID': 'int32'})\n",
    "    dfAllHWScores[i]['HW_ASSIGNED_DATE'] = pd.to_datetime(dfAllHWScores[i]['HW_ASSIGNED_DATE'])\n",
    "    dfAllHWScores[i]['HW_TURNED_IN_DATE'] = pd.to_datetime(dfAllHWScores[i]['HW_TURNED_IN_DATE'])\n",
    "    dfAllHWScores[i] = dfAllHWScores[i].reset_index(drop = True)\n",
    "    # Get a list of all the HW IDs\n",
    "    lAllHWIDs[i] = dfHWScores['HW_ID'].unique() \n",
    "    # Participation DF\n",
    "    dfAllParticipation[i] = participation.where(participation['CLASS_ID'] == i)\n",
    "    dfAllParticipation[i].dropna(how = 'all', inplace = True)\n",
    "    dfAllParticipation[i] = dfAllParticipation[i].astype({'STUDENT_ID': 'int32', 'PARTICIPATION_ATTEMPTS': 'int32', 'PARTICIPATION_HINTS': 'int32', 'CLASS_ID': 'int32'})\n",
    "    dfAllParticipation[i]['PARTICIPATION_DATETIME'] = pd.to_datetime(dfAllParticipation[i]['PARTICIPATION_DATETIME'])\n",
    "    dfAllParticipation[i] = dfAllParticipation[i].reset_index(drop = True)\n",
    "    # Tests DF\n",
    "    dfAllTests[i] = tests[tests['TEST_ID'].isin(lTestIDs)]\n",
    "    dfAllTests[i].dropna(how = 'all', inplace = True)\n",
    "    dfAllTests[i]['TEST_DATE'] = pd.to_datetime(dfAllTests[i]['TEST_DATE'])\n",
    "    dfAllTests[i] = dfAllTests[i].reset_index(drop = True)\n",
    "    # HW DF\n",
    "    dfAllHW[i] = hw[hw['HW_ID'].isin(lHWIDs)]\n",
    "    dfAllHW[i].dropna(how = 'all', inplace = True)\n",
    "    dfAllHW[i]['HW_ASSIGNED_DATE'] = pd.to_datetime(dfAllHW[i]['HW_ASSIGNED_DATE'])\n",
    "    dfAllHW[i]['HW_DUE_DATE'] = pd.to_datetime(dfAllHW[i]['HW_DUE_DATE'])\n",
    "    dfAllHW[i] = dfAllHW[i].reset_index(drop = True)\n",
    "\n",
    "# Define the Dictionaries necessary for the date filter\n",
    "dfAllTestScoresDate = {}\n",
    "dfAllAttendanceDate = {}\n",
    "dfAllHWScoresDate = {}\n",
    "dfAllParticipationDate = {}\n",
    "dfAllTestsDate = {}\n",
    "dfAllHWDate = {}\n",
    "# Filter by Year and Month\n",
    "for i in lClasses:\n",
    "    dfAllTestScoresDate[i] = dfAllTestScores[i].where((dfAllTestScores[i]['TEST_DATE'].dt.year == tiYear) & (dfAllTestScores[i]['TEST_DATE'].dt.month == tiMonth))\n",
    "    dfAllAttendanceDate[i] = dfAllAttendance[i].where((dfAllAttendance[i]['CLASS_DATE'].dt.year == tiYear) & (dfAllAttendance[i]['CLASS_DATE'].dt.month == tiMonth))\n",
    "    dfAllHWScoresDate[i] = dfAllHWScores[i].where((dfAllHWScores[i]['HW_ASSIGNED_DATE'].dt.year == tiYear) & (dfAllHWScores[i]['HW_ASSIGNED_DATE'].dt.month == tiMonth))\n",
    "    dfAllParticipationDate[i] = dfAllParticipation[i].where((dfAllParticipation[i]['PARTICIPATION_DATETIME'].dt.year == tiYear) & (dfAllParticipation[i]['PARTICIPATION_DATETIME'].dt.month == tiMonth))\n",
    "    dfAllTestsDate[i] = dfAllTests[i].where((dfAllTests[i]['TEST_DATE'].dt.year == tiYear) & (dfAllTests[i]['TEST_DATE'].dt.month == tiMonth))\n",
    "    dfAllHWDate[i] = dfAllHW[i].where((dfAllHW[i]['HW_ASSIGNED_DATE'].dt.year == tiYear) & (dfAllHW[i]['HW_ASSIGNED_DATE'].dt.month == tiMonth))\n",
    "\n",
    "# Can use this to loopify the above?\n",
    "lDFsAll = [dfAllStudents, dfAllTestScores, dfAllAttendance, dfAllHWScores, dfAllParticipation, dfAllTests, dfAllHW]"
   ]
  },
  {
   "source": [
    "### *Plots*"
   ],
   "cell_type": "markdown",
   "metadata": {}
  },
  {
   "cell_type": "code",
   "execution_count": null,
   "metadata": {},
   "outputs": [],
   "source": []
  },
  {
   "source": [
    "# OLD SHIT"
   ],
   "cell_type": "markdown",
   "metadata": {}
  },
  {
   "source": [
    "## Test Scores"
   ],
   "cell_type": "markdown",
   "metadata": {}
  },
  {
   "source": [
    "### Create DFs for each Class"
   ],
   "cell_type": "markdown",
   "metadata": {}
  },
  {
   "cell_type": "code",
   "execution_count": null,
   "metadata": {},
   "outputs": [],
   "source": [
    "# Create a DataFrame of test results for each class\n",
    "dfTestsResults = {}\n",
    "# Loop through the class list\n",
    "for i in lClasses:\n",
    "    # Define a DF for the class based on its ID\n",
    "    dfTestsResults[i] = test_results.where(test_results['CLASS_ID'] == i)\n",
    "    # Drop the rows with all nans\n",
    "    dfTestsResults[i].dropna(how = 'all', inplace = True)\n",
    "    # Reset the index\n",
    "    dfTestsResults[i] = dfTestsResults[i].reset_index(drop = True)\n",
    "    # Set the types of columns\n",
    "    dfTestsResults[i] = dfTestsResults[i].astype({'STUDENT_ID': 'int32', 'TEST_ID': 'int32', 'TEST_SCORE': 'int32', 'TEST_SCORE_MAX': 'int32', 'CLASS_ID': 'int32'})"
   ]
  },
  {
   "source": [
    "### Filter a Class's DF by Year and Month"
   ],
   "cell_type": "markdown",
   "metadata": {}
  },
  {
   "cell_type": "code",
   "execution_count": null,
   "metadata": {},
   "outputs": [],
   "source": [
    "for i in lClasses:\n",
    "    # Cast the TEST_DATE column to Datetime\n",
    "    dfTestsResults[i]['TEST_DATE'] = pd.to_datetime(dfTestsResults[i]['TEST_DATE'])\n",
    "    # Filter the DF based on year and month\n",
    "    dfTestsResults[i] = dfTestsResults[i].where(    (dfTestsResults[i]['TEST_DATE'].dt.year == vYear) \n",
    "                                                    & (dfTestsResults[i]['TEST_DATE'].dt.month == vMonth)\n",
    "                                                )\n",
    "    # Drop null rows\n",
    "    dfTestsResults[i].dropna(how = 'all', inplace = True)\n",
    "    # Reset the index\n",
    "    dfTestsResults[i] = dfTestsResults[i].reset_index(drop = True)\n",
    "    # Cast the specified columns to their respective types\n",
    "    dfTestsResults[i] = dfTestsResults[i].astype({'TEST_ID':'int32', 'STUDENT_ID':'int32', 'CLASS_ID':'int32'})\n",
    "    # Merge their name with the DF\n",
    "    dfTestsResults[i] = pd.merge(dfTestsResults[i], students, on = 'STUDENT_ID')"
   ]
  },
  {
   "source": [
    "#### *Something*"
   ],
   "cell_type": "markdown",
   "metadata": {}
  },
  {
   "cell_type": "code",
   "execution_count": null,
   "metadata": {},
   "outputs": [],
   "source": [
    "lTests = dfTestsResults[vClassID]['TEST_ID'].unique()\n",
    "dfGroup = pd.DataFrame(dfTestsResults[vClassID].groupby(['CLASS_ID', 'TEST_ID'])['TEST_SCORE'].mean())\n",
    "dfGroup.rename(columns = {'TEST_SCORE':'MEAN_SCORE'})\n",
    "dfGroup"
   ]
  },
  {
   "source": [
    "## Participation"
   ],
   "cell_type": "markdown",
   "metadata": {}
  },
  {
   "source": [
    "### Average Attempts per Instance"
   ],
   "cell_type": "markdown",
   "metadata": {}
  },
  {
   "source": [
    "#### *Prepare DataFrames*"
   ],
   "cell_type": "markdown",
   "metadata": {}
  },
  {
   "cell_type": "code",
   "execution_count": null,
   "metadata": {},
   "outputs": [],
   "source": [
    "# Prepare a Participation DF for each student\n",
    "dfPartStudent = {}\n",
    "for i in lStudents:\n",
    "    dfPartStudent[i] = participation.where(participation['STUDENT_ID'] == i)\n",
    "    dfPartStudent[i].dropna(how = 'all', inplace = True)\n",
    "    dfPartStudent[i] = dfPartStudent[i].astype({'STUDENT_ID': 'int32', 'CLASS_ID': 'int32', 'PARTICIPATION_HINTS': 'int32', 'PARTICIPATION_ATTEMPTS': 'int32'})"
   ]
  },
  {
   "cell_type": "code",
   "execution_count": null,
   "metadata": {},
   "outputs": [],
   "source": [
    "# Prepare a Participation DF for each class\n",
    "dfPartClass = {}\n",
    "for i in lClasses:\n",
    "    dfPartClass[i] = participation.where(participation['CLASS_ID'] == i)\n",
    "    dfPartClass[i].dropna(how = 'all', inplace = True)\n",
    "    dfPartClass[i] = dfPartClass[i].astype({'STUDENT_ID': 'int32', 'CLASS_ID': 'int32', 'PARTICIPATION_HINTS': 'int32', 'PARTICIPATION_ATTEMPTS': 'int32'})"
   ]
  },
  {
   "cell_type": "code",
   "execution_count": null,
   "metadata": {},
   "outputs": [],
   "source": [
    "blah = dfPartClass[tiClassID]['STUDENT_ID'].unique()\n",
    "blah"
   ]
  },
  {
   "cell_type": "code",
   "execution_count": null,
   "metadata": {},
   "outputs": [],
   "source": [
    "dfPartClass[tiClassID]"
   ]
  },
  {
   "source": [
    "### Average Hints per Instance"
   ],
   "cell_type": "markdown",
   "metadata": {}
  },
  {
   "source": [
    "#### *Prepare DataFrames*"
   ],
   "cell_type": "markdown",
   "metadata": {}
  },
  {
   "cell_type": "code",
   "execution_count": null,
   "metadata": {},
   "outputs": [],
   "source": []
  },
  {
   "cell_type": "code",
   "execution_count": null,
   "metadata": {},
   "outputs": [],
   "source": []
  },
  {
   "source": [
    "### Participations Count by Class"
   ],
   "cell_type": "markdown",
   "metadata": {}
  },
  {
   "source": [
    "#### *Prepare DataFrames*"
   ],
   "cell_type": "markdown",
   "metadata": {}
  },
  {
   "cell_type": "code",
   "execution_count": null,
   "metadata": {},
   "outputs": [],
   "source": [
    "# Create new DF from students and participation\n",
    "dfVOL = pd.merge(students, participation, on = 'STUDENT_ID')\n",
    "value_counts = dfVOL['STUDENT_ID'].value_counts()\n",
    "# Convert value_counts to a DataFrame\n",
    "dfPart = pd.DataFrame(value_counts)\n",
    "# Reset its index\n",
    "dfPart = dfPart.reset_index()\n",
    "# Rename the columns to make them more readable\n",
    "dfPart.columns = ['STUDENT_ID', 'PARTICIPATIONS COUNT']\n",
    "# Merge the dfPart and students DataFrames\n",
    "dfPart = pd.merge(dfPart, students, how = 'outer', on = 'STUDENT_ID')"
   ]
  },
  {
   "cell_type": "code",
   "execution_count": null,
   "metadata": {},
   "outputs": [],
   "source": [
    "# Get the mean number of participations for each class\n",
    "class_mean = dfPart.groupby('CLASS_ID')['PARTICIPATIONS COUNT'].mean()\n",
    "# Convert class_mean to a DataFrame\n",
    "class_mean = pd.DataFrame(class_mean)\n",
    "# Reset its index\n",
    "class_mean = class_mean.reset_index()\n",
    "# Rename the columns\n",
    "class_mean.columns = ['CLASS_ID', 'MEAN # OF PARTICIPATIONS']\n",
    "# Merge the class_mean and the dfPart DataFrames \n",
    "dfNoPall = pd.merge(dfPart, class_mean, how = 'outer', on = 'CLASS_ID')"
   ]
  },
  {
   "cell_type": "code",
   "execution_count": null,
   "metadata": {},
   "outputs": [],
   "source": [
    "# Get a list of all CLASS_IDs in ascending order\n",
    "dfSorted = dfNoPall.sort_values(by = 'CLASS_ID')\n",
    "# Loop through all CLASS_IDs to create a DataFrame for each class\n",
    "dfNoP = {}\n",
    "for i in lClasses:\n",
    "    dfNoP[i] = dfNoPall.where(dfNoPall['CLASS_ID'] == i)\n",
    "    dfNoP[i].drop(columns = ['STUDENT_FIRST_DAY', 'STUDENT_LAST_DAY'], axis = 0, inplace = True)\n",
    "    dfNoP[i] = dfNoP[i].dropna(how = 'all')\n",
    "    dfNoP[i].reset_index(inplace = True, drop = True)\n",
    "    dfNoP[i] = dfNoP[i].sort_values(by = 'PARTICIPATIONS COUNT', ascending = False).reset_index(drop = True)\n",
    "    dfNoP[i] = dfNoP[i].astype({'STUDENT_ID': 'int32'})"
   ]
  },
  {
   "source": [
    "### Graphs"
   ],
   "cell_type": "markdown",
   "metadata": {}
  },
  {
   "cell_type": "code",
   "execution_count": null,
   "metadata": {},
   "outputs": [],
   "source": [
    "# Generate a graph of the count of participations for each student within each class\n",
    "for i in lClasses:\n",
    "    tTitle = \"Particpation Count by Student for Class {}\".format(i)\n",
    "    # Plot participations count\n",
    "    pBlah = dfNoP[i].plot.bar(x = \"STUDENT_NAME_ENGLISH\", y = 'PARTICIPATIONS COUNT', color = 'darkgreen', figsize=(20,12), legend = False)\n",
    "    # Plot the average as a line on the second axis\n",
    "    dfNoP[i].plot(x = \"STUDENT_NAME_ENGLISH\", y = 'MEAN # OF PARTICIPATIONS', ax = pBlah, color = 'lightblue', figsize=(20,12), lw = 4, legend = True)\n",
    "    # Format the graph\n",
    "    pBlah.set_title(tTitle, size = 30)\n",
    "    pBlah.set_xlabel(\"Name\", size = 18)\n",
    "    pBlah.set_ylabel(\"Participation Count\", size = 18)\n",
    "    pBlah.legend([\"Class Mean: \" + str(round(dfNoP[i]['MEAN # OF PARTICIPATIONS'][0]))])\n",
    "    # Label the bars\n",
    "    fShowValuesOnBars(pBlah)\n",
    "    # Save the figure\n",
    "    pBlah.figure.savefig(\"images\\{}.png\".format(tTitle))"
   ]
  },
  {
   "source": [
    "## Participations Count Average Per Day"
   ],
   "cell_type": "markdown",
   "metadata": {}
  },
  {
   "source": [
    "### Prepare DataFrames"
   ],
   "cell_type": "markdown",
   "metadata": {}
  },
  {
   "cell_type": "code",
   "execution_count": null,
   "metadata": {},
   "outputs": [],
   "source": [
    "dfByDate = dfVOL.groupby(['STUDENT_ID', 'PARTICIPATION_DATETIME'])['PARTICIPATION_DATETIME'].count()\n",
    "dfByDate = pd.DataFrame(dfByDate)\n",
    "dfByDate = dfByDate.rename(columns = {'STUDENT_ID': 'STUDENT_ID', 'PARTICIPATION_DATETIME': 'DATETIME', 'PARTICIPATION_DATETIME': 'COUNT'})"
   ]
  },
  {
   "cell_type": "code",
   "execution_count": null,
   "metadata": {},
   "outputs": [],
   "source": [
    "# Define a dictionary to store each student's DF in\n",
    "dfPC = {}\n",
    "# Define a list of Means to store in the new dataframe\n",
    "lMeans = []\n",
    "# Loop through the STUDENT_IDs and calculate their mean number of participations\n",
    "for i in lStudents:\n",
    "    # Copy the DataFrame for safety resons\n",
    "    dfa = dfByDate\n",
    "    # Create a new DF just for the one student\n",
    "    dfPC[i] = dfa.loc[i]\n",
    "    # Set their ID to their ID from the list\n",
    "    dfPC[i]['STUDENT_ID'] = i\n",
    "    # Calculate the mean participations per class\n",
    "    dfPC[i]['MEAN'] = dfPC[i]['COUNT'].mean()\n",
    "    # Sort from highest to lowest count\n",
    "    dfPC[i] = dfPC[i].sort_values(by = 'COUNT', ascending = False)\n",
    "    # Append the mean to lMeans\n",
    "    lMeans.append(dfPC[i]['MEAN'][0])"
   ]
  },
  {
   "cell_type": "code",
   "execution_count": 75,
   "metadata": {},
   "outputs": [],
   "source": [
    "# Create a new dataframe of the students and their mean participations per class\n",
    "dfMeanPart = pd.DataFrame(columns = ['STUDENT_ID', 'MEAN_PARTICIPATIONS_PER_CLASS'])\n",
    "# Set the student IDs to lStudents which is a list of student IDs\n",
    "dfMeanPart['STUDENT_ID'] = lStudents\n",
    "# Set the mean for each student to the corresponding value in lMeans\n",
    "dfMeanPart['MEAN_PARTICIPATIONS_PER_CLASS'] = lMeans\n",
    "# Merge the new DF with students\n",
    "dfMeanPart = pd.merge(dfMeanPart, students[['STUDENT_ID', 'STUDENT_NAME_ENGLISH', 'CLASS_ID']], how = 'inner', on = 'STUDENT_ID')"
   ]
  },
  {
   "cell_type": "code",
   "execution_count": 76,
   "metadata": {},
   "outputs": [
    {
     "output_type": "execute_result",
     "data": {
      "text/plain": [
       "     STUDENT_ID  MEAN_PARTICIPATIONS_PER_CLASS STUDENT_NAME_ENGLISH  CLASS_ID\n",
       "0             0                       4.880952                Aline        17\n",
       "1             1                       4.584000              Augusta        16\n",
       "2             2                       4.626984             Samantha         6\n",
       "3             3                       4.769841                Shane        14\n",
       "4             4                       4.717742              Colleen        26\n",
       "..          ...                            ...                  ...       ...\n",
       "495         495                       5.228346                James         8\n",
       "496         496                       5.087302                 Mike         8\n",
       "497         497                       4.920000               Martha        13\n",
       "498         498                       4.563492               George         8\n",
       "499         499                       4.685484                Kevin         0\n",
       "\n",
       "[500 rows x 4 columns]"
      ],
      "text/html": "<div>\n<style scoped>\n    .dataframe tbody tr th:only-of-type {\n        vertical-align: middle;\n    }\n\n    .dataframe tbody tr th {\n        vertical-align: top;\n    }\n\n    .dataframe thead th {\n        text-align: right;\n    }\n</style>\n<table border=\"1\" class=\"dataframe\">\n  <thead>\n    <tr style=\"text-align: right;\">\n      <th></th>\n      <th>STUDENT_ID</th>\n      <th>MEAN_PARTICIPATIONS_PER_CLASS</th>\n      <th>STUDENT_NAME_ENGLISH</th>\n      <th>CLASS_ID</th>\n    </tr>\n  </thead>\n  <tbody>\n    <tr>\n      <th>0</th>\n      <td>0</td>\n      <td>4.880952</td>\n      <td>Aline</td>\n      <td>17</td>\n    </tr>\n    <tr>\n      <th>1</th>\n      <td>1</td>\n      <td>4.584000</td>\n      <td>Augusta</td>\n      <td>16</td>\n    </tr>\n    <tr>\n      <th>2</th>\n      <td>2</td>\n      <td>4.626984</td>\n      <td>Samantha</td>\n      <td>6</td>\n    </tr>\n    <tr>\n      <th>3</th>\n      <td>3</td>\n      <td>4.769841</td>\n      <td>Shane</td>\n      <td>14</td>\n    </tr>\n    <tr>\n      <th>4</th>\n      <td>4</td>\n      <td>4.717742</td>\n      <td>Colleen</td>\n      <td>26</td>\n    </tr>\n    <tr>\n      <th>...</th>\n      <td>...</td>\n      <td>...</td>\n      <td>...</td>\n      <td>...</td>\n    </tr>\n    <tr>\n      <th>495</th>\n      <td>495</td>\n      <td>5.228346</td>\n      <td>James</td>\n      <td>8</td>\n    </tr>\n    <tr>\n      <th>496</th>\n      <td>496</td>\n      <td>5.087302</td>\n      <td>Mike</td>\n      <td>8</td>\n    </tr>\n    <tr>\n      <th>497</th>\n      <td>497</td>\n      <td>4.920000</td>\n      <td>Martha</td>\n      <td>13</td>\n    </tr>\n    <tr>\n      <th>498</th>\n      <td>498</td>\n      <td>4.563492</td>\n      <td>George</td>\n      <td>8</td>\n    </tr>\n    <tr>\n      <th>499</th>\n      <td>499</td>\n      <td>4.685484</td>\n      <td>Kevin</td>\n      <td>0</td>\n    </tr>\n  </tbody>\n</table>\n<p>500 rows × 4 columns</p>\n</div>"
     },
     "metadata": {},
     "execution_count": 76
    }
   ],
   "source": [
    "dfMeanPart"
   ]
  },
  {
   "source": [
    "### Graphs"
   ],
   "cell_type": "markdown",
   "metadata": {}
  },
  {
   "cell_type": "code",
   "execution_count": null,
   "metadata": {},
   "outputs": [],
   "source": [
    "# Plot the students' means by class\n",
    "for i in lClasses:\n",
    "    # Set the title\n",
    "    tTitle = \"Mean Particpations for Class {}\".format(i)\n",
    "    # Filter the DF based on the class ID\n",
    "    df = dfMeanPart.where(dfMeanPart['CLASS_ID'] == i)\n",
    "    # Drop rows that are entirely nan\n",
    "    df.dropna(how = 'all', inplace = True)\n",
    "    # Sort values from highest to lowest mean participation\n",
    "    df = df.sort_values(by = 'MEAN_PARTICIPATIONS_PER_CLASS', ascending = False)\n",
    "    # Create class mean column\n",
    "    df['CLASS_MEAN'] = df['MEAN_PARTICIPATIONS_PER_CLASS'].mean()\n",
    "    # Plot participations count\n",
    "    pBlah = df.plot.bar(x = \"STUDENT_NAME_ENGLISH\", y = 'MEAN_PARTICIPATIONS_PER_CLASS', color = 'darkgreen', figsize=(20,12), legend = False)\n",
    "    # Plot the average as a line on the second axis\n",
    "    df.plot(x = \"STUDENT_NAME_ENGLISH\", y = 'CLASS_MEAN', ax = pBlah, color = 'lightblue', figsize=(20,12), lw = 4, legend = True)\n",
    "    # Format the graph\n",
    "    pBlah.set_title(tTitle, size = 30)\n",
    "    pBlah.set_xlabel(\"Name\", size = 18)\n",
    "    pBlah.set_ylabel(\"Mean Participations per Class\", size = 18)\n",
    "    pBlah.legend([\"Class Mean: \" + str(round(df['MEAN_PARTICIPATIONS_PER_CLASS'].mean(), 2))])\n",
    "    # Label the bars\n",
    "    fShowValuesOnBars(pBlah)\n",
    "    # Save the figure\n",
    "    pBlah.figure.savefig(\"images\\{}.png\".format(tTitle))"
   ]
  },
  {
   "cell_type": "code",
   "execution_count": null,
   "metadata": {},
   "outputs": [],
   "source": []
  }
 ]
}