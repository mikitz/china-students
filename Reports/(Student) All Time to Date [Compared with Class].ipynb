{
 "metadata": {
  "language_info": {
   "codemirror_mode": {
    "name": "ipython",
    "version": 3
   },
   "file_extension": ".py",
   "mimetype": "text/x-python",
   "name": "python",
   "nbconvert_exporter": "python",
   "pygments_lexer": "ipython3",
   "version": "3.8.3-final"
  },
  "orig_nbformat": 2,
  "kernelspec": {
   "name": "python3",
   "display_name": "Python 3"
  }
 },
 "nbformat": 4,
 "nbformat_minor": 2,
 "cells": [
  {
   "cell_type": "code",
   "execution_count": 1,
   "metadata": {},
   "outputs": [],
   "source": [
    "from fpdf import FPDF\n",
    "import calendar\n",
    "import numpy as np\n",
    "import pandas as pd\n",
    "from datetime import datetime\n",
    "from datetime import timedelta\n",
    "import matplotlib.pyplot as plt\n",
    "import seaborn as sb\n",
    "import arrow\n",
    "import time"
   ]
  },
  {
   "cell_type": "code",
   "execution_count": 2,
   "metadata": {},
   "outputs": [],
   "source": [
    "# Set the Country to be pulled\n",
    "country = 'chinese' # 'chinese' for China and 'korean' for Korea\n",
    "# Set user name\n",
    "UN = 'mfitz' # 'mfitz' for LAPPIE, 'Me' for GLaDOS\n",
    "# Read CSVs into dataframes\n",
    "path = r'C:\\Users\\{}\\Documents\\GitHub Clones\\{}-student-dummy-database'.format(UN, country)\n",
    "\n",
    "students = pd.read_csv(r'{}\\Tables\\students.csv'.format(path))\n",
    "classes = pd.read_csv(r'{}\\Tables\\classes.csv'.format(path))\n",
    "tests = pd.read_csv(r'{}\\Tables\\tests.csv'.format(path))\n",
    "test_results = pd.read_csv(r'{}\\Tables\\test_results.csv'.format(path))\n",
    "attendance = pd.read_csv(r'{}\\Tables\\attendance.csv'.format(path))\n",
    "hw_g = pd.read_csv(r'{}\\Tables\\hw_grades.csv'.format(path))\n",
    "hw_a = pd.read_csv(r'{}\\Tables\\hw_assignments.csv'.format(path))\n",
    "participation = pd.read_csv(r'{}\\Tables\\participation.csv'.format(path))\n",
    "points = pd.read_csv(r'{}\\Tables\\points.csv'.format(path))"
   ]
  },
  {
   "source": [
    "## Find the Student's ID"
   ],
   "cell_type": "markdown",
   "metadata": {}
  },
  {
   "cell_type": "code",
   "execution_count": 3,
   "metadata": {},
   "outputs": [
    {
     "output_type": "execute_result",
     "data": {
      "text/plain": [
       "0         Aline\n",
       "1       Augusta\n",
       "2      Samantha\n",
       "3         Shane\n",
       "4       Colleen\n",
       "         ...   \n",
       "495       James\n",
       "496        Mike\n",
       "497      Martha\n",
       "498      George\n",
       "499       Kevin\n",
       "Name: STUDENT_NAME_ENGLISH, Length: 500, dtype: object"
      ]
     },
     "metadata": {},
     "execution_count": 3
    }
   ],
   "source": [
    "students['STUDENT_NAME_ENGLISH']"
   ]
  },
  {
   "source": [
    "# Find the student you want to generate a report for\n",
    "student_name = 'Kevin'\n",
    "# Return a all columns from the Student DataFrame of all students with the above name\n",
    "students.loc[students['STUDENT_NAME_ENGLISH'] == student_name]"
   ],
   "cell_type": "code",
   "metadata": {},
   "execution_count": 4,
   "outputs": [
    {
     "output_type": "execute_result",
     "data": {
      "text/plain": [
       "     STUDENT_ID STUDENT_NAME_LOCAL STUDENT_NAME_ENGLISH  STUDENT_AGE  \\\n",
       "68           68                 郑孔                Kevin           11   \n",
       "499         499                 井辅                Kevin            4   \n",
       "\n",
       "    STUDENT_SEX STUDENT_ENROLLED  STUDENT_FIRST_DAY  STUDENT_LAST_DAY  \\\n",
       "68         male                Y                NaN               NaN   \n",
       "499      female                Y                NaN               NaN   \n",
       "\n",
       "     CLASS_ID  \n",
       "68          2  \n",
       "499         0  "
      ],
      "text/html": "<div>\n<style scoped>\n    .dataframe tbody tr th:only-of-type {\n        vertical-align: middle;\n    }\n\n    .dataframe tbody tr th {\n        vertical-align: top;\n    }\n\n    .dataframe thead th {\n        text-align: right;\n    }\n</style>\n<table border=\"1\" class=\"dataframe\">\n  <thead>\n    <tr style=\"text-align: right;\">\n      <th></th>\n      <th>STUDENT_ID</th>\n      <th>STUDENT_NAME_LOCAL</th>\n      <th>STUDENT_NAME_ENGLISH</th>\n      <th>STUDENT_AGE</th>\n      <th>STUDENT_SEX</th>\n      <th>STUDENT_ENROLLED</th>\n      <th>STUDENT_FIRST_DAY</th>\n      <th>STUDENT_LAST_DAY</th>\n      <th>CLASS_ID</th>\n    </tr>\n  </thead>\n  <tbody>\n    <tr>\n      <th>68</th>\n      <td>68</td>\n      <td>郑孔</td>\n      <td>Kevin</td>\n      <td>11</td>\n      <td>male</td>\n      <td>Y</td>\n      <td>NaN</td>\n      <td>NaN</td>\n      <td>2</td>\n    </tr>\n    <tr>\n      <th>499</th>\n      <td>499</td>\n      <td>井辅</td>\n      <td>Kevin</td>\n      <td>4</td>\n      <td>female</td>\n      <td>Y</td>\n      <td>NaN</td>\n      <td>NaN</td>\n      <td>0</td>\n    </tr>\n  </tbody>\n</table>\n</div>"
     },
     "metadata": {},
     "execution_count": 4
    }
   ]
  },
  {
   "cell_type": "code",
   "execution_count": 5,
   "metadata": {},
   "outputs": [],
   "source": [
    "# Set the student id to the id of the student you want.\n",
    "student_id = 68\n",
    "# Get this student's class id.\n",
    "class_id = students['CLASS_ID'].loc[students['STUDENT_ID'] == student_id].item()\n",
    "# Get the day of their class\n",
    "day = classes['CLASS_DAY'].loc[classes['CLASS_ID'] == class_id].item()\n",
    "# Get the time of their class\n",
    "time = classes['CLASS_TIME'].loc[classes['CLASS_ID'] == class_id].item()\n",
    "# Get the student's local name\n",
    "student_name_local = students['STUDENT_NAME_LOCAL'].loc[students['STUDENT_ID'] == student_id].item()"
   ]
  },
  {
   "source": [
    "## Define Various Time Variables"
   ],
   "cell_type": "markdown",
   "metadata": {}
  },
  {
   "cell_type": "code",
   "execution_count": 6,
   "metadata": {},
   "outputs": [],
   "source": [
    "# Set the date\n",
    "setDate = datetime(2014, 7, 23)\n",
    "# Get today's date\n",
    "today = datetime.now().date()\n",
    "today = setDate\n",
    "# Get the year\n",
    "year = today.year\n",
    "# Get this month's number\n",
    "month = today.month\n",
    "# Get this month's  name\n",
    "monthName = calendar.month_name[month]\n",
    "# Get this month's 3-letter abbreveation\n",
    "monthAbbr = calendar.month_abbr[month]\n",
    "# Format today's date to be used in the report\n",
    "todayString = today.strftime(\"%Y-%m-%d\")\n",
    "# Declare the quarter name based on this month\n",
    "if(month == 12 or month == 1 or month == 2):\n",
    "    thisQuarter = \"winter\"\n",
    "elif(month == 3 or month == 4 or month == 5):\n",
    "    thisQuarter = \"spring\"\n",
    "elif(month == 6 or month == 7 or month == 8):\n",
    "    thisQuarter = \"summer\"\n",
    "elif(month == 9 or month == 10 or month == 11):\n",
    "    thisQuarter = \"fall\""
   ]
  },
  {
   "cell_type": "code",
   "execution_count": 7,
   "metadata": {},
   "outputs": [],
   "source": [
    "# Get the day's abbreviation\n",
    "dayAbbr = day[0:3]\n",
    "# Get the month's first day\n",
    "month_first_day = today.replace(day = 1)\n",
    "# Get the month's last day\n",
    "year, last_day = calendar.monthrange(year, month)\n",
    "month_last_day = today.replace(day = last_day)\n",
    "# Define a frequency based on the day the student attends class\n",
    "days = pd.offsets.CustomBusinessDay(weekmask='{}'.format(dayAbbr))\n",
    "# Define a list of dates for the month\n",
    "classDates = pd.bdate_range(start = month_first_day, end = month_last_day, freq = days).to_pydatetime().tolist()\n",
    "testDate = max(classDates).strftime('%Y-%m-%d')"
   ]
  },
  {
   "source": [
    "# Student Report"
   ],
   "cell_type": "markdown",
   "metadata": {}
  },
  {
   "source": [
    "## Tests"
   ],
   "cell_type": "markdown",
   "metadata": {}
  },
  {
   "source": [
    "### Tests Statistics"
   ],
   "cell_type": "markdown",
   "metadata": {}
  },
  {
   "cell_type": "code",
   "execution_count": 11,
   "metadata": {},
   "outputs": [],
   "source": [
    "# Build a DataFrame of all test results of all students in this student's class\n",
    "class_test_results = test_results.loc[test_results['CLASS_ID'] == class_id]\n",
    "# Get the average test score of the student's entire class.\n",
    "class_Test_AVG_all_time = class_test_results['TEST_SCORE_PERCENTAGE'] .mean()\n",
    "# Get the maximum test score of the student's entire class.\n",
    "class_Test_MAX_all_time = class_test_results['TEST_SCORE_PERCENTAGE'] .max()\n",
    "# Get the minimum test score of the student's entire class.\n",
    "class_Test_MIN_all_time = class_test_results['TEST_SCORE_PERCENTAGE'] .min()\n",
    "\n",
    "# Get the average class grade for each test that this class took\n",
    "class_Tests_AVGs = []\n",
    "test_ids = range(class_test_results['TEST_ID'].min(), class_test_results['TEST_ID'].max() + 1)\n",
    "for i in test_ids:\n",
    "    tests = class_test_results.loc[class_test_results['TEST_ID'] == i]\n",
    "    class_Tests_AVGs.append(tests['TEST_SCORE'].mean())\n",
    "\n",
    "# Build a DataFrame of TEST_IDs and class AVG score\n",
    "testAverages = pd.DataFrame(columns = ['TEST_ID', 'AVERAGE_SCORE'])\n",
    "testAverages['TEST_ID'] = range(class_test_results['TEST_ID'].min(), class_test_results['TEST_ID'].max() + 1)\n",
    "testAverages['AVERAGE_SCORE'] = class_Tests_AVGs\n",
    "testAverages['AVERAGE_PERCENT'] = testAverages['AVERAGE_SCORE'] / 50"
   ]
  },
  {
   "source": [
    "### Tests Plots"
   ],
   "cell_type": "markdown",
   "metadata": {}
  },
  {
   "cell_type": "code",
   "execution_count": null,
   "metadata": {},
   "outputs": [],
   "source": [
    "# Line Plot of grades over time\n",
    "fig_dims = (16, 12)\n",
    "fig, ax = plt.subplots(figsize = fig_dims)\n",
    "plotTestGradesLine = sb.lineplot(x = test_dates, y = test_grades, legend = False)"
   ]
  },
  {
   "cell_type": "code",
   "execution_count": null,
   "metadata": {},
   "outputs": [],
   "source": [
    "# Histogram of grades (A, B, C, D, F)\n",
    "fig_dims = (16, 12)\n",
    "fig, ax = plt.subplots(figsize = fig_dims)\n",
    "plotTestGradesHistogram = sb.histplot(data = test_grades, bins = [0.0, 0.599, 0.699, 0.799, 0.899, 1.0])"
   ]
  },
  {
   "cell_type": "code",
   "execution_count": null,
   "metadata": {},
   "outputs": [],
   "source": [
    "# Box Plot of grades (A, B, C, D, F)\n",
    "fig_dims = (16, 12)\n",
    "fig, ax = plt.subplots(figsize = fig_dims)\n",
    "plotTestGradesBox = sb.boxplot(x = test_grades)\n",
    "plotTestGradesBox = sb.swarmplot(x = test_grades, color = 'red', size = 10)"
   ]
  },
  {
   "source": [
    "### Tests Report"
   ],
   "cell_type": "markdown",
   "metadata": {}
  },
  {
   "cell_type": "code",
   "execution_count": null,
   "metadata": {},
   "outputs": [],
   "source": []
  },
  {
   "source": [
    "## Attendance"
   ],
   "cell_type": "markdown",
   "metadata": {}
  },
  {
   "source": [
    "### Attendance Statistics"
   ],
   "cell_type": "markdown",
   "metadata": {}
  },
  {
   "cell_type": "code",
   "execution_count": null,
   "metadata": {},
   "outputs": [],
   "source": [
    "# MISCELLANEOUS STATISTICS\n",
    "\n",
    "# Get the student's attendance record\n",
    "attendanceRecord = attendance.loc[attendance['STUDENT_ID'] == student_id]\n",
    "# Convert the attendance record to a list\n",
    "attendanceRecord_list = attendanceRecord['ATTENDANCE_STATUS'].value_counts().to_list()\n",
    "# Extract the number of present days from the list\n",
    "daysPresent = attendanceRecord_list[0]\n",
    "# Extract the number of absent days from the list\n",
    "daysAbsent = attendanceRecord_list[1]\n",
    "# Extract the dates and reasons of all missed classes\n",
    "blah = attendanceRecord.loc[attendanceRecord['ATTENDANCE_STATUS'] == 'absent']\n",
    "missedClasses = blah.drop(['STUDENT_ID', 'ATTENDANCE_STATUS'], axis = 1)\n",
    "\n",
    "# AVERAGES\n",
    "\n",
    "# Average number of classes attended before an absence\n",
    "averageNumberOfClassesBeforeAbsence = (daysAbsent + daysPresent) / daysAbsent\n",
    "\n",
    "# PERCENTAGES\n",
    "\n",
    "# Percent of missed classes\n",
    "perMissedClasses = daysAbsent / (daysPresent + daysAbsent)\n",
    "perMissedClassesFormat = \"{:.2%}\".format(daysAbsent / (daysPresent + daysAbsent))"
   ]
  },
  {
   "source": [
    "### Attendance Plots"
   ],
   "cell_type": "markdown",
   "metadata": {}
  },
  {
   "cell_type": "code",
   "execution_count": null,
   "metadata": {},
   "outputs": [],
   "source": []
  },
  {
   "source": [
    "### Attendance Report"
   ],
   "cell_type": "markdown",
   "metadata": {}
  },
  {
   "cell_type": "code",
   "execution_count": null,
   "metadata": {},
   "outputs": [],
   "source": []
  },
  {
   "source": [
    "## Homework"
   ],
   "cell_type": "markdown",
   "metadata": {}
  },
  {
   "source": [
    "### Homework Statistics"
   ],
   "cell_type": "markdown",
   "metadata": {}
  },
  {
   "cell_type": "code",
   "execution_count": null,
   "metadata": {},
   "outputs": [],
   "source": [
    "# Get the scores of all hws for this student.\n",
    "hw_percents = hw_g['HW_SCORE_PERCENT'].loc[hw_g['STUDENT_ID'] == student_id]\n",
    "# Get the dates of all the hws this student took.\n",
    "hw_dates = hw_g['HW_ASSIGNED_DATE'].loc[hw_g['STUDENT_ID'] == student_id]\n",
    "# Get the scores of all hws for all students in this student's class.\n",
    "hw_percents_class = hw_g['HW_SCORE_PERCENT'].loc[hw_g['CLASS_ID'] == class_id]\n",
    "\n",
    "hwAVG = hw_percents.mean() # Get the average hw score for the specified student.\n",
    "hwMAX = hw_percents.max() # Get the maximum hw score for the specified student.\n",
    "hwMIN = hw_percents.min() # Get the minimum hw score for the specified student.\n",
    "hwClassAVG = hw_percents_class.mean() # Get the average hw score of the student's entire class.\n",
    "hwClassMAX = hw_percents_class.max() # Get the maximum hw score of the student's entire class.\n",
    "hwClassMIN = hw_percents_class.min() # Get the minimum hw score of the student's entire class."
   ]
  },
  {
   "source": [
    "### Homework Plots"
   ],
   "cell_type": "markdown",
   "metadata": {}
  },
  {
   "cell_type": "code",
   "execution_count": null,
   "metadata": {},
   "outputs": [],
   "source": [
    "# Plot HW Grades\n",
    "fig_dims = (16, 12)\n",
    "fig, ax = plt.subplots(figsize = fig_dims)\n",
    "testGradesPlot = sb.scatterplot(x = hw_dates, y = hw_percents, legend = False)"
   ]
  },
  {
   "source": [
    "### Homework Report"
   ],
   "cell_type": "markdown",
   "metadata": {}
  },
  {
   "cell_type": "code",
   "execution_count": null,
   "metadata": {},
   "outputs": [],
   "source": []
  },
  {
   "source": [
    "## Participation"
   ],
   "cell_type": "markdown",
   "metadata": {}
  },
  {
   "cell_type": "code",
   "execution_count": null,
   "metadata": {},
   "outputs": [],
   "source": [
    "partType = participation['PARTICIPATION_TYPE']\n",
    "partStudent = participation.loc[participation['STUDENT_ID'] == student_id]\n",
    "part_dates = partStudent['PARTICIPATION_DATETIME'] # Get the dates of all the hws this student took.\n",
    "partDateCount = partStudent['PARTICIPATION_DATETIME'].value_counts()\n",
    "partTypeCount = partStudent['PARTICIPATION_TYPE'].value_counts()"
   ]
  },
  {
   "source": [
    "### Participation Statistics"
   ],
   "cell_type": "markdown",
   "metadata": {}
  },
  {
   "cell_type": "code",
   "execution_count": null,
   "metadata": {},
   "outputs": [],
   "source": [
    "# PERCENTAGES\n",
    "\n",
    "# Percent of all participation instances that are volunteers\n",
    "perVolunteers = partTypeCount[1]/partStudent['STUDENT_ID'].count()\n",
    "# Percent of all participation instances that are cold calls\n",
    "perColdCalls = partTypeCount[0]/partStudent['STUDENT_ID'].count()\n",
    "\n",
    "# AVERAGES\n",
    "\n",
    "# Get a series object of the mean of cold calls and volunteers per class\n",
    "class_by_part_type = partStudent.groupby(['PARTICIPATION_DATETIME', 'PARTICIPATION_TYPE'])['STUDENT_ID'].count().groupby(['PARTICIPATION_TYPE']).mean()\n",
    "\n",
    "# Average number of participation attempts per participation instance\n",
    "meanAttempts = partStudent['PARTICIPATION_ATTEMPTS'].mean()\n",
    "# Average number of participation attempts per volunteer\n",
    "meanAttemptsVolunteer = partStudent['PARTICIPATION_ATTEMPTS'].loc[partStudent['PARTICIPATION_TYPE'] == 'volunteer'].mean()\n",
    "# Average number of participation attempts per cold call\n",
    "meanAttemptsColdCall = partStudent['PARTICIPATION_ATTEMPTS'].loc[partStudent['PARTICIPATION_TYPE'] == 'cold call'].mean()\n",
    "# Average number of participation instances per class\n",
    "partStudent.groupby(by = 'PARTICIPATION_DATETIME')['STUDENT_ID'].agg('count').mean()\n",
    "# Average number of cold calls per class\n",
    "meanClassColdCall = class_by_part_type[0]\n",
    "# Average number of volunteers per class\n",
    "meanClassVolunteer = class_by_part_type[1]\n",
    "# Average number of hints per participation instance\n",
    "meanHints = partStudent['PARTICIPATION_HINTS'].mean()\n",
    "# Average number of hints per volunteer\n",
    "meanHintsVolunteer = partStudent['PARTICIPATION_HINTS'].loc[partStudent['PARTICIPATION_TYPE'] == 'volunteer'].mean()\n",
    "# Average number of hints per cold call\n",
    "meanHintsColdCall = partStudent['PARTICIPATION_HINTS'].loc[partStudent['PARTICIPATION_TYPE'] == 'cold call'].mean()"
   ]
  },
  {
   "source": [
    "### Participation Plots"
   ],
   "cell_type": "markdown",
   "metadata": {}
  },
  {
   "cell_type": "code",
   "execution_count": null,
   "metadata": {},
   "outputs": [],
   "source": [
    "# Plot the count of number of attempts\n",
    "fig_dims = (16, 12)\n",
    "fig, ax = plt.subplots(figsize = fig_dims)\n",
    "plotAttempts = sb.countplot(data = partStudent, x = partStudent['PARTICIPATION_ATTEMPTS'])"
   ]
  },
  {
   "cell_type": "code",
   "execution_count": null,
   "metadata": {},
   "outputs": [],
   "source": [
    "# Plot the count of number of hints\n",
    "fig_dims = (16, 12)\n",
    "fig, ax = plt.subplots(figsize = fig_dims)\n",
    "plotAttempts = sb.countplot(data = partStudent, x = partStudent['PARTICIPATION_HINTS'])"
   ]
  },
  {
   "cell_type": "code",
   "execution_count": null,
   "metadata": {},
   "outputs": [],
   "source": [
    "# Plot the count of participation type\n",
    "fig_dims = (16, 12)\n",
    "fig, ax = plt.subplots(figsize = fig_dims)\n",
    "plotType = sb.countplot(data = partStudent, x = partType)"
   ]
  },
  {
   "cell_type": "code",
   "execution_count": null,
   "metadata": {},
   "outputs": [],
   "source": [
    "# Plot participation over each date\n",
    "fig_dims = (16, 12)\n",
    "fig, ax = plt.subplots(figsize = fig_dims)\n",
    "partOverTime = sb.scatterplot(data = partStudent, x = \"PARTICIPATION_DATETIME\", y = \"PARTICIPATION_ATTEMPTS\", estimator = None, hue = partType)"
   ]
  },
  {
   "source": [
    "### Participation Report"
   ],
   "cell_type": "markdown",
   "metadata": {}
  },
  {
   "cell_type": "code",
   "execution_count": null,
   "metadata": {},
   "outputs": [],
   "source": [
    "# Instantiate an FPDF object\n",
    "pdf = FPDF()\n",
    "# Add a page to the PDF doc\n",
    "pdf.add_page()\n",
    "# Effective page width, or just epw\n",
    "epw = pdf.w - 2*pdf.l_margin\n",
    "# Set column width to 1/4 of effective page width to distribute content evenly across table and page\n",
    "col_width = epw/3\n",
    "# Document Title\n",
    "title = 'Participation Report'\n",
    "pdf.set_font('Times', 'B', 18)\n",
    "pdf.cell(epw, 10, title, 0, 1, 'C')\n",
    "# Add the lines\n",
    "pdf.cell(0, 10, \"{}\".format(student_name), 0, 1, 'C')\n",
    "pdf.add_font('simhei', '', r'C:\\Windows\\Fonts\\simhei.ttf', uni=True)\n",
    "pdf.set_font('simhei', '', 14)\n",
    "pdf.cell(0, 10, \"{}\".format(student_name_local), 0, 1, 'C')\n",
    "# Save the PDF and export it\n",
    "pdf.output(\"({}) {}_{}.pdf\".format(title, student_name, student_name_local)).encode('latin-1','ignore')\n",
    "os.startfile(\"({}) {}_{}.pdf\".format(title, student_name, student_name_local))"
   ]
  },
  {
   "cell_type": "code",
   "execution_count": null,
   "metadata": {},
   "outputs": [],
   "source": []
  }
 ]
}