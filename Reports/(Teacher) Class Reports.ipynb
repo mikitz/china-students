{
 "metadata": {
  "language_info": {
   "codemirror_mode": {
    "name": "ipython",
    "version": 3
   },
   "file_extension": ".py",
   "mimetype": "text/x-python",
   "name": "python",
   "nbconvert_exporter": "python",
   "pygments_lexer": "ipython3",
   "version": "3.8.3-final"
  },
  "orig_nbformat": 2,
  "kernelspec": {
   "name": "Python 3.8.3 64-bit ('mfitz': virtualenv)",
   "display_name": "Python 3.8.3 64-bit ('mfitz': virtualenv)",
   "metadata": {
    "interpreter": {
     "hash": "6a7100f77c390aa589c4b628fe3b4bf647e9c70ffa35f3e76563f421da5f96cf"
    }
   }
  }
 },
 "nbformat": 4,
 "nbformat_minor": 2,
 "cells": [
  {
   "cell_type": "code",
   "execution_count": 1,
   "metadata": {},
   "outputs": [],
   "source": [
    "import numpy as np\n",
    "import pandas as pd\n",
    "import matplotlib.pyplot as plt\n",
    "import seaborn as sb"
   ]
  },
  {
   "cell_type": "code",
   "execution_count": 2,
   "metadata": {},
   "outputs": [],
   "source": [
    "# Read all the sheets from the excel file.\n",
    "students = pd.read_excel('China.xlsx', sheet_name='Students')\n",
    "classes = pd.read_excel('China.xlsx', sheet_name='Classes')\n",
    "tests = pd.read_excel('China.xlsx', sheet_name='Tests')\n",
    "test_results = pd.read_excel('China.xlsx', sheet_name='Test Results')\n",
    "attendance = pd.read_excel('China.xlsx', sheet_name='Attendance')\n",
    "hw = pd.read_excel('China.xlsx', sheet_name='Homework')\n",
    "hw_results = pd.read_excel('China.xlsx', sheet_name='Homework Assignments')\n",
    "participation = pd.read_excel('China.xlsx', sheet_name='Participation')"
   ]
  },
  {
   "cell_type": "code",
   "execution_count": 3,
   "metadata": {},
   "outputs": [],
   "source": [
    "dfVOL = pd.merge(students, participation, on = 'STUDENT_ID')\n",
    "value_counts = dfVOL['STUDENT_ID'].value_counts()\n",
    "# converting to df and assigning new names to the columns\n",
    "df_value_counts = pd.DataFrame(value_counts)\n",
    "df_value_counts = df_value_counts.reset_index()\n",
    "df_value_counts.columns = ['STUDENT_ID', 'NUMBER OF PARTICIPATIONS (ALL TIME)'] # change column names\n",
    "df_value_counts3 = pd.merge(df_value_counts, students, how = 'outer', on = 'STUDENT_ID')"
   ]
  },
  {
   "cell_type": "code",
   "execution_count": 4,
   "metadata": {},
   "outputs": [
    {
     "output_type": "execute_result",
     "data": {
      "text/plain": [
       "     STUDENT_ID  NUMBER OF PARTICIPATIONS (ALL TIME)  CLASS_ID  \\\n",
       "0           126                                  769         1   \n",
       "1            74                                  714         1   \n",
       "2           277                                  712         1   \n",
       "3           230                                  703         1   \n",
       "4           198                                  701         1   \n",
       "..          ...                                  ...       ...   \n",
       "295          85                                  654         4   \n",
       "296         159                                  652         4   \n",
       "297         199                                  648         4   \n",
       "298         261                                  637         4   \n",
       "299         132                                  633         4   \n",
       "\n",
       "    STUDENT_NAME_LOCAL STUDENT_NAME_ENGLISH  STUDENT_AGE  STUDENT_GRADE  \\\n",
       "0                  唐春英         Rosalie Táng            7              1   \n",
       "1                  崔敏慧           Agatha Cuī            7              1   \n",
       "2                  邱晴照             Hahn Qiū            7              1   \n",
       "3                  萧温书            Kidd Xiāo            7              1   \n",
       "4                  赖幻桃           Ariana Lài            7              1   \n",
       "..                 ...                  ...          ...            ...   \n",
       "295                龙欣嘉           Amiee Lóng           10              4   \n",
       "296                任欣可          Deandre Rén           10              4   \n",
       "297                龚夏真        Izabella Gōng           10              4   \n",
       "298                范婉淑          Gardner Fàn           10              4   \n",
       "299                曹运珊              Amy Cáo           10              4   \n",
       "\n",
       "    STUDENT_SEX  NoP AVERAGE BY CLASS (ALL TIME)  \n",
       "0          Male                       674.266667  \n",
       "1          Male                       674.266667  \n",
       "2          Male                       674.266667  \n",
       "3        Female                       674.266667  \n",
       "4        Female                       674.266667  \n",
       "..          ...                              ...  \n",
       "295        Male                       668.750000  \n",
       "296      Female                       668.750000  \n",
       "297      Female                       668.750000  \n",
       "298      Female                       668.750000  \n",
       "299        Male                       668.750000  \n",
       "\n",
       "[300 rows x 9 columns]"
      ],
      "text/html": "<div>\n<style scoped>\n    .dataframe tbody tr th:only-of-type {\n        vertical-align: middle;\n    }\n\n    .dataframe tbody tr th {\n        vertical-align: top;\n    }\n\n    .dataframe thead th {\n        text-align: right;\n    }\n</style>\n<table border=\"1\" class=\"dataframe\">\n  <thead>\n    <tr style=\"text-align: right;\">\n      <th></th>\n      <th>STUDENT_ID</th>\n      <th>NUMBER OF PARTICIPATIONS (ALL TIME)</th>\n      <th>CLASS_ID</th>\n      <th>STUDENT_NAME_LOCAL</th>\n      <th>STUDENT_NAME_ENGLISH</th>\n      <th>STUDENT_AGE</th>\n      <th>STUDENT_GRADE</th>\n      <th>STUDENT_SEX</th>\n      <th>NoP AVERAGE BY CLASS (ALL TIME)</th>\n    </tr>\n  </thead>\n  <tbody>\n    <tr>\n      <th>0</th>\n      <td>126</td>\n      <td>769</td>\n      <td>1</td>\n      <td>唐春英</td>\n      <td>Rosalie Táng</td>\n      <td>7</td>\n      <td>1</td>\n      <td>Male</td>\n      <td>674.266667</td>\n    </tr>\n    <tr>\n      <th>1</th>\n      <td>74</td>\n      <td>714</td>\n      <td>1</td>\n      <td>崔敏慧</td>\n      <td>Agatha Cuī</td>\n      <td>7</td>\n      <td>1</td>\n      <td>Male</td>\n      <td>674.266667</td>\n    </tr>\n    <tr>\n      <th>2</th>\n      <td>277</td>\n      <td>712</td>\n      <td>1</td>\n      <td>邱晴照</td>\n      <td>Hahn Qiū</td>\n      <td>7</td>\n      <td>1</td>\n      <td>Male</td>\n      <td>674.266667</td>\n    </tr>\n    <tr>\n      <th>3</th>\n      <td>230</td>\n      <td>703</td>\n      <td>1</td>\n      <td>萧温书</td>\n      <td>Kidd Xiāo</td>\n      <td>7</td>\n      <td>1</td>\n      <td>Female</td>\n      <td>674.266667</td>\n    </tr>\n    <tr>\n      <th>4</th>\n      <td>198</td>\n      <td>701</td>\n      <td>1</td>\n      <td>赖幻桃</td>\n      <td>Ariana Lài</td>\n      <td>7</td>\n      <td>1</td>\n      <td>Female</td>\n      <td>674.266667</td>\n    </tr>\n    <tr>\n      <th>...</th>\n      <td>...</td>\n      <td>...</td>\n      <td>...</td>\n      <td>...</td>\n      <td>...</td>\n      <td>...</td>\n      <td>...</td>\n      <td>...</td>\n      <td>...</td>\n    </tr>\n    <tr>\n      <th>295</th>\n      <td>85</td>\n      <td>654</td>\n      <td>4</td>\n      <td>龙欣嘉</td>\n      <td>Amiee Lóng</td>\n      <td>10</td>\n      <td>4</td>\n      <td>Male</td>\n      <td>668.750000</td>\n    </tr>\n    <tr>\n      <th>296</th>\n      <td>159</td>\n      <td>652</td>\n      <td>4</td>\n      <td>任欣可</td>\n      <td>Deandre Rén</td>\n      <td>10</td>\n      <td>4</td>\n      <td>Female</td>\n      <td>668.750000</td>\n    </tr>\n    <tr>\n      <th>297</th>\n      <td>199</td>\n      <td>648</td>\n      <td>4</td>\n      <td>龚夏真</td>\n      <td>Izabella Gōng</td>\n      <td>10</td>\n      <td>4</td>\n      <td>Female</td>\n      <td>668.750000</td>\n    </tr>\n    <tr>\n      <th>298</th>\n      <td>261</td>\n      <td>637</td>\n      <td>4</td>\n      <td>范婉淑</td>\n      <td>Gardner Fàn</td>\n      <td>10</td>\n      <td>4</td>\n      <td>Female</td>\n      <td>668.750000</td>\n    </tr>\n    <tr>\n      <th>299</th>\n      <td>132</td>\n      <td>633</td>\n      <td>4</td>\n      <td>曹运珊</td>\n      <td>Amy Cáo</td>\n      <td>10</td>\n      <td>4</td>\n      <td>Male</td>\n      <td>668.750000</td>\n    </tr>\n  </tbody>\n</table>\n<p>300 rows × 9 columns</p>\n</div>"
     },
     "metadata": {},
     "execution_count": 4
    }
   ],
   "source": [
    "class_mean = df_value_counts3.groupby('CLASS_ID')['NUMBER OF PARTICIPATIONS (ALL TIME)'].mean()\n",
    "# converting to df and assigning new names to the columns\n",
    "class_mean = pd.DataFrame(class_mean)\n",
    "class_mean = class_mean.reset_index()\n",
    "class_mean.columns = ['CLASS_ID', 'NoP AVERAGE BY CLASS (ALL TIME)'] # change column names\n",
    "final = pd.merge(df_value_counts3, class_mean, how = 'outer', on = 'CLASS_ID')\n",
    "# final.rename(columns = {\"NoP Average by Class_y\": \"NoP AVERAGE BY CLASS (ALL TIME)\"}, inplace= True)\n",
    "final"
   ]
  },
  {
   "cell_type": "code",
   "execution_count": 21,
   "metadata": {},
   "outputs": [
    {
     "output_type": "stream",
     "name": "stdout",
     "text": [
      "     STUDENT_ID  NUMBER OF PARTICIPATIONS (ALL TIME)\n0           126                                  769\n1            74                                  714\n2           277                                  712\n3           230                                  703\n4           198                                  701\n5           123                                  697\n6           131                                  695\n7           256                                  691\n8           288                                  684\n9           246                                  684\n10          241                                  683\n11          223                                  682\n12           33                                  677\n13          134                                  676\n14          272                                  675\n15          109                                  672\n16          267                                  671\n17          294                                  668\n18           93                                  666\n19          194                                  665\n20           42                                  663\n21          274                                  659\n22          160                                  656\n23          283                                  647\n24          168                                  646\n25           21                                  641\n26            4                                  638\n27          141                                  633\n28           95                                  633\n29          222                                  627\n30            5                                  751\n31          197                                  746\n32           28                                  745\n33           41                                  723\n34          249                                  720\n35          110                                  711\n36           45                                  710\n37          268                                  709\n38           97                                  706\n39          245                                  696\n40          265                                  695\n41          228                                  691\n42          200                                  689\n43           98                                  689\n44           20                                  687\n45          184                                  687\n46           79                                  685\n47          104                                  685\n48          144                                  684\n49          185                                  684\n50          270                                  684\n51           48                                  683\n52           26                                  683\n53          145                                  682\n54           81                                  682\n55          106                                  682\n56           65                                  681\n57          219                                  681\n58          148                                  680\n59          171                                  674\n60            9                                  673\n61          195                                  673\n62           52                                  672\n63           32                                  672\n64           43                                  670\n65          262                                  670\n66          205                                  668\n67          166                                  668\n68          105                                  668\n69          295                                  667\n70          266                                  667\n71           23                                  666\n72           60                                  666\n73          157                                  666\n74           29                                  666\n75          124                                  665\n76          233                                  664\n77          149                                  662\n78           90                                  662\n79          253                                  661\n80          280                                  659\n81           73                                  657\n82          244                                  657\n83          247                                  656\n84          137                                  655\n85          136                                  655\n86          252                                  654\n87          235                                  653\n88           83                                  653\n89          212                                  653\n90           99                                  652\n91          181                                  652\n92          170                                  647\n93          125                                  646\n94          169                                  645\n95          202                                  644\n96          175                                  642\n97           10                                  641\n98          186                                  640\n99          289                                  640\n100         128                                  639\n101         300                                  639\n102         196                                  637\n103          62                                  636\n104         122                                  636\n105          15                                  634\n106         282                                  632\n107         146                                  629\n108         102                                  623\n109         284                                  621\n110          13                                  617\n111         278                                  617\n112         290                                  616\n113         279                                  610\n114           2                                  604\n115         239                                  595\n116          49                                  740\n117         143                                  724\n118          38                                  694\n119         118                                  691\n120         100                                  691\n121         204                                  684\n122           6                                  680\n123         257                                  680\n124         163                                  678\n125         191                                  677\n126          89                                  676\n127         138                                  675\n128         127                                  674\n129         215                                  673\n130          68                                  672\n131         232                                  668\n132         237                                  666\n133         152                                  661\n134          55                                  658\n135          70                                  657\n136         276                                  657\n137          34                                  653\n138         238                                  653\n139         242                                  653\n140          24                                  651\n141         177                                  645\n142         142                                  636\n143         120                                  636\n144         271                                  636\n145         298                                  634\n146         135                                  633\n147         221                                  625\n148         243                                  620\n149         297                                  722\n150          14                                  708\n151          25                                  697\n152         113                                  697\n153         220                                  693\n154          18                                  692\n155         150                                  690\n156          66                                  688\n157         164                                  685\n158         218                                  681\n159          51                                  680\n160         209                                  679\n161         291                                  679\n162         296                                  678\n163          87                                  677\n164         103                                  674\n165         250                                  672\n166         130                                  672\n167         190                                  666\n168         153                                  664\n169          64                                  664\n170         119                                  662\n171          92                                  659\n172          88                                  656\n173          36                                  655\n174         273                                  652\n175          47                                  651\n176         201                                  650\n177         264                                  647\n178         240                                  647\n179         229                                  646\n180         121                                  643\n181         174                                  642\n182          76                                  641\n183         214                                  640\n184         234                                  632\n185          67                                  617\n186          30                                  604\n187         182                                  714\n188         248                                  703\n189          19                                  702\n190          75                                  702\n191         162                                  701\n192          58                                  697\n193         156                                  696\n194         179                                  695\n195          56                                  689\n196           8                                  688\n197         133                                  686\n198         151                                  685\n199          69                                  683\n200         154                                  683\n201          17                                  682\n202         180                                  682\n203         213                                  681\n204         210                                  679\n205          82                                  679\n206          22                                  679\n207         108                                  678\n208          80                                  677\n209         285                                  673\n210         188                                  671\n211         114                                  668\n212         260                                  664\n213         251                                  664\n214          46                                  664\n215         224                                  663\n216         161                                  660\n217         216                                  660\n218         139                                  658\n219         275                                  658\n220          59                                  657\n221         140                                  655\n222          37                                  648\n223         207                                  647\n224         155                                  646\n225         189                                  644\n226         208                                  643\n227         165                                  643\n228          94                                  642\n229          50                                  637\n230         183                                  635\n231         176                                  632\n232         193                                  632\n233         158                                  629\n234          57                                  627\n235         211                                  626\n236         259                                  696\n237         255                                  694\n238         129                                  694\n239         172                                  692\n240         167                                  686\n241         203                                  683\n242          54                                  683\n243         263                                  682\n244         287                                  680\n245           3                                  679\n246          63                                  678\n247         101                                  676\n248          53                                  675\n249           7                                  670\n250         111                                  669\n251         292                                  669\n252         299                                  665\n253           1                                  665\n254         178                                  664\n255          16                                  664\n256         293                                  662\n257         231                                  661\n258          12                                  659\n259         217                                  659\n260          39                                  658\n261          71                                  655\n262          72                                  654\n263         227                                  653\n264          31                                  652\n265          44                                  649\n266          84                                  641\n267          61                                  628\n268          35                                  626\n269         192                                  622\n270          96                                  616\n271         286                                  591\n272         116                                  692\n273         236                                  691\n274          11                                  690\n275         173                                  687\n276          91                                  685\n277         112                                  684\n278         115                                  682\n279          78                                  681\n280         225                                  679\n281         206                                  678\n282         147                                  674\n283          40                                  674\n284          86                                  673\n285          77                                  671\n286         254                                  668\n287         187                                  668\n288         117                                  665\n289         258                                  664\n290         269                                  661\n291          27                                  661\n292         281                                  658\n293         107                                  658\n294         226                                  657\n295          85                                  654\n296         159                                  652\n297         199                                  648\n298         261                                  637\n299         132                                  633\n"
     ]
    }
   ],
   "source": [
    "print(final[['STUDENT_ID', 'NUMBER OF PARTICIPATIONS (ALL TIME)']].to_string())"
   ]
  },
  {
   "cell_type": "code",
   "execution_count": 15,
   "metadata": {},
   "outputs": [
    {
     "output_type": "execute_result",
     "data": {
      "text/plain": [
       "        STUDENT_ID PARTICIPATION_DATE  PARTICIPATION_TYPE\n",
       "0                1         2013-12-06                   1\n",
       "1                1         2013-12-08                   1\n",
       "2                1         2013-12-12                   3\n",
       "3                1         2013-12-13                   1\n",
       "4                1         2013-12-14                   3\n",
       "...            ...                ...                 ...\n",
       "120895         300         2015-07-25                   1\n",
       "120896         300         2015-07-26                   1\n",
       "120897         300         2015-07-27                   1\n",
       "120898         300         2015-07-28                   2\n",
       "120899         300         2015-07-30                   2\n",
       "\n",
       "[120900 rows x 3 columns]"
      ],
      "text/html": "<div>\n<style scoped>\n    .dataframe tbody tr th:only-of-type {\n        vertical-align: middle;\n    }\n\n    .dataframe tbody tr th {\n        vertical-align: top;\n    }\n\n    .dataframe thead th {\n        text-align: right;\n    }\n</style>\n<table border=\"1\" class=\"dataframe\">\n  <thead>\n    <tr style=\"text-align: right;\">\n      <th></th>\n      <th>STUDENT_ID</th>\n      <th>PARTICIPATION_DATE</th>\n      <th>PARTICIPATION_TYPE</th>\n    </tr>\n  </thead>\n  <tbody>\n    <tr>\n      <th>0</th>\n      <td>1</td>\n      <td>2013-12-06</td>\n      <td>1</td>\n    </tr>\n    <tr>\n      <th>1</th>\n      <td>1</td>\n      <td>2013-12-08</td>\n      <td>1</td>\n    </tr>\n    <tr>\n      <th>2</th>\n      <td>1</td>\n      <td>2013-12-12</td>\n      <td>3</td>\n    </tr>\n    <tr>\n      <th>3</th>\n      <td>1</td>\n      <td>2013-12-13</td>\n      <td>1</td>\n    </tr>\n    <tr>\n      <th>4</th>\n      <td>1</td>\n      <td>2013-12-14</td>\n      <td>3</td>\n    </tr>\n    <tr>\n      <th>...</th>\n      <td>...</td>\n      <td>...</td>\n      <td>...</td>\n    </tr>\n    <tr>\n      <th>120895</th>\n      <td>300</td>\n      <td>2015-07-25</td>\n      <td>1</td>\n    </tr>\n    <tr>\n      <th>120896</th>\n      <td>300</td>\n      <td>2015-07-26</td>\n      <td>1</td>\n    </tr>\n    <tr>\n      <th>120897</th>\n      <td>300</td>\n      <td>2015-07-27</td>\n      <td>1</td>\n    </tr>\n    <tr>\n      <th>120898</th>\n      <td>300</td>\n      <td>2015-07-28</td>\n      <td>2</td>\n    </tr>\n    <tr>\n      <th>120899</th>\n      <td>300</td>\n      <td>2015-07-30</td>\n      <td>2</td>\n    </tr>\n  </tbody>\n</table>\n<p>120900 rows × 3 columns</p>\n</div>"
     },
     "metadata": {},
     "execution_count": 15
    }
   ],
   "source": [
    "class_id = students[['STUDENT_ID', 'CLASS_ID']]\n",
    "part = pd.merge(participation, class_id, on = 'STUDENT_ID')\n",
    "part1 = part.groupby(['STUDENT_ID', 'PARTICIPATION_DATE'])['PARTICIPATION_TYPE'].count()\n",
    "part1 = pd.DataFrame(part1)\n",
    "part1 = part1.reset_index()\n",
    "part1"
   ]
  },
  {
   "source": [
    "## TEACHER REPORTS"
   ],
   "cell_type": "markdown",
   "metadata": {}
  },
  {
   "cell_type": "code",
   "execution_count": null,
   "metadata": {},
   "outputs": [],
   "source": [
    "# Determine which students in the class are participating the least per class\n",
    "    # Plot each class with students on the x axis and average participations per day on the y axis.\n",
    "    "
   ]
  }
 ]
}