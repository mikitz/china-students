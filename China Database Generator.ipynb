{
 "metadata": {
  "language_info": {
   "codemirror_mode": {
    "name": "ipython",
    "version": 3
   },
   "file_extension": ".py",
   "mimetype": "text/x-python",
   "name": "python",
   "nbconvert_exporter": "python",
   "pygments_lexer": "ipython3",
   "version": "3.8.3-final"
  },
  "orig_nbformat": 2,
  "kernelspec": {
   "name": "python3",
   "display_name": "Python 3"
  }
 },
 "nbformat": 4,
 "nbformat_minor": 2,
 "cells": [
  {
   "cell_type": "code",
   "execution_count": 1,
   "metadata": {},
   "outputs": [],
   "source": [
    "import pandas as pd\n",
    "import numpy as np\n",
    "from numpy import random\n",
    "from datetime import datetime\n",
    "from datetime import timedelta\n",
    "from dateutil.rrule import DAILY, rrule, MO, TU, WE, TH, FR, SA, SU\n",
    "import calendar\n",
    "from chinesename import ChineseName\n",
    "import names"
   ]
  },
  {
   "cell_type": "code",
   "execution_count": 2,
   "metadata": {
    "tags": []
   },
   "outputs": [],
   "source": [
    "# DECLARE START AND END DATES\n",
    "start = '2013-03-01'\n",
    "end = '2015-07-31'\n",
    "# GET NUMBER OF WORKDAYS\n",
    "weekmask = 'Wed Thu Fri Sat Sun'\n",
    "customworkweek = pd.offsets.CustomBusinessDay(weekmask=weekmask)\n",
    "workdates = pd.bdate_range(start = start, end = end, freq = customworkweek).to_pydatetime().tolist()\n",
    "# GET NUMBER OF WEEKS AND MONTHS \n",
    "x = pd.to_datetime(end) - pd.to_datetime(start)\n",
    "workweeks_int = int(x / np.timedelta64(1, 'W'))\n",
    "workmonths_int = int(x / np.timedelta64(1, 'M'))"
   ]
  },
  {
   "cell_type": "code",
   "execution_count": 3,
   "metadata": {},
   "outputs": [],
   "source": [
    "# DEFINE GLOBAL VARIABLES\n",
    "student_count = 500\n",
    "classes_count = 27\n",
    "participation_count = 300000\n",
    "test_score_max = 50\n",
    "hw_score_max = 10\n",
    "hw_count = len(workdates)*classes_count"
   ]
  },
  {
   "cell_type": "code",
   "execution_count": 4,
   "metadata": {},
   "outputs": [],
   "source": [
    "# GET CLASS DATES FOR EACH CLASS\n",
    "wed = pd.offsets.CustomBusinessDay(weekmask='Wed')\n",
    "thu = pd.offsets.CustomBusinessDay(weekmask='Thu')\n",
    "fri = pd.offsets.CustomBusinessDay(weekmask='Fri')\n",
    "sat = pd.offsets.CustomBusinessDay(weekmask='Sat')\n",
    "sun = pd.offsets.CustomBusinessDay(weekmask='Sun')\n",
    "\n",
    "wed_classes = pd.bdate_range(start = start, end = end, freq = wed).to_pydatetime().tolist()\n",
    "thu_classes = pd.bdate_range(start = start, end = end, freq = thu).to_pydatetime().tolist()\n",
    "fri_classes = pd.bdate_range(start = start, end = end, freq = fri).to_pydatetime().tolist()\n",
    "sat_classes = pd.bdate_range(start = start, end = end, freq = sat).to_pydatetime().tolist()\n",
    "sun_classes = pd.bdate_range(start = start, end = end, freq = sun).to_pydatetime().tolist()"
   ]
  },
  {
   "source": [
    "## STUDENTS.CSV"
   ],
   "cell_type": "markdown",
   "metadata": {}
  },
  {
   "cell_type": "code",
   "execution_count": 5,
   "metadata": {},
   "outputs": [],
   "source": [
    "# GENERATE A LIST OF 500 CHINESE NAMES\n",
    "names_local = ChineseName().getNames(student_count)\n",
    "# GENERATE A LIST OF ENGLISH FIRST NAMES\n",
    "names_english = []\n",
    "for _ in range(student_count):\n",
    "    x = names.get_first_name()\n",
    "    names_english.append(x)\n",
    "student_age = random.randint(4, 13, size = (student_count))\n",
    "student_sex = random.choice([\"male\", \"female\"], size = (student_count))\n",
    "student_id = list(range(0, student_count))\n",
    "student_name_local = names_local\n",
    "student_name_english = names_english\n",
    "student_enrolled = random.choice([\"Y\", \"N\"], size = (student_count), p = [0.9, 0.1])\n",
    "class_id = random.randint(0, classes_count, size = (student_count))\n",
    "\n",
    "\n",
    "\n",
    "column_names = ['STUDENT_ID', 'STUDENT_NAME_LOCAL', 'STUDENT_NAME_ENGLISH', 'STUDENT_AGE', 'STUDENT_SEX', 'STUDENT_ENROLLED', 'STUDENT_FIRST_DAY', 'STUDENT_LAST_DAY']\n",
    "students = pd.DataFrame(columns = column_names)\n",
    "\n",
    "students['STUDENT_ID'] = student_id\n",
    "students['STUDENT_NAME_LOCAL'] = student_name_local\n",
    "students['STUDENT_NAME_ENGLISH'] = student_name_english\n",
    "students['STUDENT_AGE'] = student_age\n",
    "students['STUDENT_SEX'] = student_sex\n",
    "students['CLASS_ID'] = class_id\n",
    "students['STUDENT_ENROLLED'] = student_enrolled"
   ]
  },
  {
   "source": [
    "## CLASSES.CSV"
   ],
   "cell_type": "markdown",
   "metadata": {}
  },
  {
   "cell_type": "code",
   "execution_count": 6,
   "metadata": {},
   "outputs": [],
   "source": [
    "data = [['0', 'Wednesday', '16:30:00'], ['1', 'Wednesday', '17:30:00'], ['2', 'Wednesday', '18:30:00'], ['3', 'Thursday', '16:30:00'], ['4', 'Thursday', '17:30:00'], ['5', 'Thursday', '18:30:00'], ['6', 'Friday', '16:30:00'], ['7', 'Friday', '17:30:00'], ['8', 'Friday', '18:30:00'], ['9', 'Saturday', '8:30:00'], ['10', 'Saturday', '9:30:00'], ['11', 'Saturday', '10:30:00'], ['12', 'Saturday', '11:30:00'], ['13', 'Saturday', '13:30:00'], ['14', 'Saturday', '14:30:00'], ['15', 'Saturday', '15:30:00'], ['16', 'Saturday', '16:30:00'], ['17', 'Saturday', '17:30:00'], ['18', 'Sunday', '8:30:00'], ['19', 'Sunday', '9:30:00'], ['20', 'Sunday', '10:30:00'], ['21', 'Sunday', '11:30:00'], ['22', 'Sunday', '13:30:00'], ['23', 'Sunday', '14:30:00'], ['24', 'Sunday', '15:30:00'], ['25', 'Sunday', '16:30:00'], ['26', 'Sunday', '17:30:00']]\n",
    "\n",
    "column_names = ['CLASS_ID', 'CLASS_DAY', 'CLASS_TIME']\n",
    "classes = pd.DataFrame(data = data, columns = column_names)\n",
    "classes['CLASS_ID'] = classes['CLASS_ID'].astype(int)"
   ]
  },
  {
   "source": [
    "## ATTENDANCE.CSV"
   ],
   "cell_type": "markdown",
   "metadata": {}
  },
  {
   "cell_type": "code",
   "execution_count": 7,
   "metadata": {},
   "outputs": [],
   "source": [
    "attendance_status = random.choice([\"present\", \"absent\"], p = [0.95, 0.05], size = workweeks_int)\n",
    "attendance_list = []\n",
    "a = {}\n",
    "for i in student_id:\n",
    "    ids = list([i])*workweeks_int\n",
    "    column_names = ['STUDENT_ID', 'CLASS_DATE', 'ATTENDANCE_STATUS']\n",
    "    a[i] = pd.DataFrame(columns = column_names)\n",
    "\n",
    "    a[i]['STUDENT_ID'] = ids\n",
    "    a[i]['ATTENDANCE_STATUS'] = attendance_status\n",
    "\n",
    "    x = students['CLASS_ID'].loc[students['STUDENT_ID'] == i].to_list()\n",
    "    x = x[-1]\n",
    "    c = classes['CLASS_DAY'].loc[classes['CLASS_ID'] == x].to_list()\n",
    "    c = c[-1]\n",
    "\n",
    "    if c == 'Wednesday':\n",
    "        a[i]['CLASS_DATE'] = wed_classes\n",
    "    elif c == 'Thursday':\n",
    "        a[i]['CLASS_DATE'] = thu_classes\n",
    "    elif c == 'Friday':\n",
    "        a[i]['CLASS_DATE'] = fri_classes[:-1]\n",
    "    elif c == 'Saturday':\n",
    "        a[i]['CLASS_DATE'] = sat_classes\n",
    "    elif c == 'Sunday':\n",
    "        a[i]['CLASS_DATE'] = sun_classes\n",
    "    \n",
    "    attendance_list.append(a[i])\n",
    "attendance = pd.concat(attendance_list, ignore_index = True)"
   ]
  },
  {
   "source": [
    "## TESTS.CSV"
   ],
   "cell_type": "markdown",
   "metadata": {}
  },
  {
   "cell_type": "code",
   "execution_count": 8,
   "metadata": {},
   "outputs": [],
   "source": [
    "# WEDNESDAY CLASSES' TEST DAYS\n",
    "wedDF = pd.DataFrame(data = wed_classes, columns = ['date'])\n",
    "wedDF.index = wedDF['date']\n",
    "wedDFg = wedDF.groupby(pd.Grouper(freq='M'))\n",
    "wed_tests = wedDFg.agg({'date': np.max})['date'].tolist()\n",
    "# THURSDAY CLASSES' TEST DAYS\n",
    "thuDF = pd.DataFrame(data = thu_classes, columns = ['date'])\n",
    "thuDF.index = thuDF['date']\n",
    "thuDFg = thuDF.groupby(pd.Grouper(freq='M'))\n",
    "thu_tests = thuDFg.agg({'date': np.max})['date'].tolist()\n",
    "# FRIDAY CLASSES' TEST DAYS\n",
    "friDF = pd.DataFrame(data = fri_classes, columns = ['date'])\n",
    "friDF.index = friDF['date']\n",
    "friDFg = friDF.groupby(pd.Grouper(freq='M'))\n",
    "fri_tests = friDFg.agg({'date': np.max})['date'].tolist()\n",
    "# SATURDAY CLASSES' TEST DAYS\n",
    "satDF = pd.DataFrame(data = sat_classes, columns = ['date'])\n",
    "satDF.index = satDF['date']\n",
    "satDFg = satDF.groupby(pd.Grouper(freq='M'))\n",
    "sat_tests = satDFg.agg({'date': np.max})['date'].tolist()\n",
    "# SUNDAY CLASSES' TEST DAYS\n",
    "sunDF = pd.DataFrame(data = sun_classes, columns = ['date'])\n",
    "sunDF.index = sunDF['date']\n",
    "sunDFg = sunDF.groupby(pd.Grouper(freq='M'))\n",
    "sun_tests = sunDFg.agg({'date': np.max})['date'].tolist()\n",
    "\n",
    "test_date = wed_tests + thu_tests + fri_tests + sat_tests + sun_tests\n",
    "# DEFINE THE NUMBER OF TESTS\n",
    "test_count = len(test_date)\n",
    "\n",
    "tests_id = list(range(0, test_count))\n",
    "tests_quantity = workmonths_int\n",
    "\n",
    "column_names = ['TEST_ID', 'TEST_DATE']\n",
    "tests = pd.DataFrame(columns = column_names)\n",
    "\n",
    "tests['TEST_ID'] = tests_id\n",
    "tests['TEST_DATE'] = test_date\n",
    "\n",
    "# DEFINE THE NUMBER OF TESTS\n",
    "test_count = len(test_date)"
   ]
  },
  {
   "source": [
    "## TEST_RESULTS.CSV"
   ],
   "cell_type": "markdown",
   "metadata": {}
  },
  {
   "source": [
    "### Function-ify It"
   ],
   "cell_type": "markdown",
   "metadata": {}
  },
  {
   "cell_type": "code",
   "execution_count": null,
   "metadata": {},
   "outputs": [],
   "source": []
  },
  {
   "source": [
    "### For Loop-ify It"
   ],
   "cell_type": "markdown",
   "metadata": {}
  },
  {
   "cell_type": "code",
   "execution_count": 9,
   "metadata": {},
   "outputs": [],
   "source": [
    "TRlist = []\n",
    "column_names = ['STUDENT_ID', 'TEST_SCORE', 'TEST_SCORE_MAX', 'TEST_SCORE_PERCENTAGE', 'TEST_DATE', 'CLASS_ID']\n",
    "# Generate Test Result DataFrames for each Wednesday Class\n",
    "\n",
    "wedTR = {}\n",
    "classIDs = classes['CLASS_ID'].loc[classes['CLASS_DAY'] == 'Wednesday'].to_list()\n",
    "wed = []\n",
    "for i in classIDs:\n",
    "    class_id = i\n",
    "    student_ids = students['STUDENT_ID'].loc[students['CLASS_ID'] == class_id].to_list()\n",
    "    student_ids*len(wed_tests)\n",
    "    testDates = list(np.repeat(wed_tests, len(student_ids)))\n",
    "    test_score = random.randint(0, test_score_max, size = (len(testDates)))\n",
    "    wedTR[i] = pd.DataFrame(columns = column_names)\n",
    "    wedTR[i]['STUDENT_ID'] = student_ids*len(wed_tests)\n",
    "    wedTR[i]['TEST_SCORE'] = test_score\n",
    "    wedTR[i]['TEST_SCORE_MAX'] = test_score_max\n",
    "    wedTR[i]['TEST_SCORE_PERCENTAGE'] = wedTR[i]['TEST_SCORE'] / wedTR[i]['TEST_SCORE_MAX']\n",
    "    wedTR[i]['TEST_DATE'] = testDates\n",
    "    wedTR[i]['CLASS_ID'] = class_id\n",
    "    # Join this DataFrame with the Tests DataFrame on TEST_DATE\n",
    "    wedTR[i] = pd.merge(wedTR[i], tests[['TEST_ID', 'TEST_DATE']], on = 'TEST_DATE', how = 'left')\n",
    "    # Drop and save TEST_ID as an object\n",
    "    testIDs = wedTR[i].pop('TEST_ID')\n",
    "    # Insert TEST_ID into the first column position\n",
    "    wedTR[i].insert(0, 'TEST_ID', testIDs)\n",
    "    wed.append(wedTR[i])\n",
    "wedTRDF = pd.concat(wed)\n",
    "TRlist.append(wedTRDF)\n",
    "\n",
    "# Generate Test Result DataFrames for each Thursday Class\n",
    "\n",
    "thuTR = {}\n",
    "thu = []\n",
    "classIDs = classes['CLASS_ID'].loc[classes['CLASS_DAY'] == 'Thursday'].to_list()\n",
    "for i in classIDs:\n",
    "    class_id = i\n",
    "    student_ids = students['STUDENT_ID'].loc[students['CLASS_ID'] == class_id].to_list()\n",
    "    student_ids*len(thu_tests)\n",
    "    testDates = list(np.repeat(thu_tests, len(student_ids)))\n",
    "    test_score = random.randint(0, test_score_max, size = (len(testDates)))\n",
    "    thuTR[i] = pd.DataFrame(columns = column_names)\n",
    "    thuTR[i]['STUDENT_ID'] = student_ids*len(thu_tests)\n",
    "    thuTR[i]['TEST_SCORE'] = test_score\n",
    "    thuTR[i]['TEST_SCORE_MAX'] = test_score_max\n",
    "    thuTR[i]['TEST_SCORE_PERCENTAGE'] = thuTR[i]['TEST_SCORE'] / thuTR[i]['TEST_SCORE_MAX']\n",
    "    thuTR[i]['TEST_DATE'] = testDates\n",
    "    thuTR[i]['CLASS_ID'] = class_id\n",
    "    # Join this DataFrame with the Tests DataFrame on TEST_DATE\n",
    "    thuTR[i] = pd.merge(thuTR[i], tests[['TEST_ID', 'TEST_DATE']], on = 'TEST_DATE', how = 'left')\n",
    "    # Drop and save TEST_ID as an object\n",
    "    testIDs = thuTR[i].pop('TEST_ID')\n",
    "    # Insert TEST_ID into the first column position\n",
    "    thuTR[i].insert(0, 'TEST_ID', testIDs)\n",
    "    thu.append(thuTR[i])\n",
    "thuTRDF = pd.concat(thu)\n",
    "TRlist.append(thuTRDF)\n",
    "\n",
    "# Generate Test Result DataFrames for each Friday Class\n",
    "\n",
    "friTR = {}\n",
    "fri = []\n",
    "classIDs = classes['CLASS_ID'].loc[classes['CLASS_DAY'] == 'Friday'].to_list()\n",
    "for i in classIDs:\n",
    "    class_id = i\n",
    "    student_ids = students['STUDENT_ID'].loc[students['CLASS_ID'] == class_id].to_list()\n",
    "    student_ids*len(fri_tests)\n",
    "    testDates = list(np.repeat(fri_tests, len(student_ids)))\n",
    "    test_score = random.randint(0, test_score_max, size = (len(testDates)))\n",
    "    friTR[i] = pd.DataFrame(columns = column_names)\n",
    "    friTR[i]['STUDENT_ID'] = student_ids*len(fri_tests)\n",
    "    friTR[i]['TEST_SCORE'] = test_score\n",
    "    friTR[i]['TEST_SCORE_MAX'] = test_score_max\n",
    "    friTR[i]['TEST_SCORE_PERCENTAGE'] = friTR[i]['TEST_SCORE'] / friTR[i]['TEST_SCORE_MAX']\n",
    "    friTR[i]['TEST_DATE'] = testDates\n",
    "    friTR[i]['CLASS_ID'] = class_id\n",
    "    # Join this DataFrame with the Tests DataFrame on TEST_DATE\n",
    "    friTR[i] = pd.merge(friTR[i], tests[['TEST_ID', 'TEST_DATE']], on = 'TEST_DATE', how = 'left')\n",
    "    # Drop and save TEST_ID as an object\n",
    "    testIDs = friTR[i].pop('TEST_ID')\n",
    "    # Insert TEST_ID into the first column position\n",
    "    friTR[i].insert(0, 'TEST_ID', testIDs)\n",
    "    fri.append(friTR[i])\n",
    "friTRDF = pd.concat(fri)\n",
    "TRlist.append(friTRDF)\n",
    "\n",
    "# Generate Test Result DataFrames for each Saturday Class\n",
    "\n",
    "satTR = {}\n",
    "sat = []\n",
    "classIDs = classes['CLASS_ID'].loc[classes['CLASS_DAY'] == 'Saturday'].to_list()\n",
    "for i in classIDs:\n",
    "    class_id = i\n",
    "    student_ids = students['STUDENT_ID'].loc[students['CLASS_ID'] == class_id].to_list()\n",
    "    student_ids*len(sat_tests)\n",
    "    testDates = list(np.repeat(sat_tests, len(student_ids)))\n",
    "    test_score = random.randint(0, test_score_max, size = (len(testDates)))\n",
    "    satTR[i] = pd.DataFrame(columns = column_names)\n",
    "    satTR[i]['STUDENT_ID'] = student_ids*len(sat_tests)\n",
    "    satTR[i]['TEST_SCORE'] = test_score\n",
    "    satTR[i]['TEST_SCORE_MAX'] = test_score_max\n",
    "    satTR[i]['TEST_SCORE_PERCENTAGE'] = satTR[i]['TEST_SCORE'] / satTR[i]['TEST_SCORE_MAX']\n",
    "    satTR[i]['TEST_DATE'] = testDates\n",
    "    satTR[i]['CLASS_ID'] = class_id\n",
    "    # Join this DataFrame with the Tests DataFrame on TEST_DATE\n",
    "    satTR[i] = pd.merge(satTR[i], tests[['TEST_ID', 'TEST_DATE']], on = 'TEST_DATE', how = 'left')\n",
    "    # Drop and save TEST_ID as an object\n",
    "    testIDs = satTR[i].pop('TEST_ID')\n",
    "    # Insert TEST_ID into the first column position\n",
    "    satTR[i].insert(0, 'TEST_ID', testIDs)\n",
    "    sat.append(satTR[i])\n",
    "satTRDF = pd.concat(sat)\n",
    "TRlist.append(satTRDF)\n",
    "\n",
    "# Generate Test Result DataFrames for each Sunday Class\n",
    "\n",
    "sunTR = {}\n",
    "sun = []\n",
    "classIDs = classes['CLASS_ID'].loc[classes['CLASS_DAY'] == 'Sunday'].to_list()\n",
    "for i in classIDs:\n",
    "    class_id = i\n",
    "    student_ids = students['STUDENT_ID'].loc[students['CLASS_ID'] == class_id].to_list()\n",
    "    student_ids*len(sun_tests)\n",
    "    testDates = list(np.repeat(sun_tests, len(student_ids)))\n",
    "    test_score = random.randint(0, test_score_max, size = (len(testDates)))\n",
    "    sunTR[i] = pd.DataFrame(columns = column_names)\n",
    "    sunTR[i]['STUDENT_ID'] = student_ids*len(sun_tests)\n",
    "    sunTR[i]['TEST_SCORE'] = test_score\n",
    "    sunTR[i]['TEST_SCORE_MAX'] = test_score_max\n",
    "    sunTR[i]['TEST_SCORE_PERCENTAGE'] = sunTR[i]['TEST_SCORE'] / sunTR[i]['TEST_SCORE_MAX']\n",
    "    sunTR[i]['TEST_DATE'] = testDates\n",
    "    sunTR[i]['CLASS_ID'] = class_id\n",
    "    # Join this DataFrame with the Tests DataFrame on TEST_DATE\n",
    "    sunTR[i] = pd.merge(sunTR[i], tests[['TEST_ID', 'TEST_DATE']], on = 'TEST_DATE', how = 'left')\n",
    "    # Drop and save TEST_ID as an object\n",
    "    testIDs = sunTR[i].pop('TEST_ID')\n",
    "    # Insert TEST_ID into the first column position\n",
    "    sunTR[i].insert(0, 'TEST_ID', testIDs)\n",
    "    sun.append(sunTR[i])\n",
    "sunTRDF = pd.concat(sun)\n",
    "TRlist.append(sunTRDF)\n",
    "\n",
    "test_results = pd.concat(TRlist)"
   ]
  },
  {
   "source": [
    "## HOMEWORK_ASSIGNMENTS.CSV"
   ],
   "cell_type": "markdown",
   "metadata": {}
  },
  {
   "source": [
    "### Function-ify It"
   ],
   "cell_type": "markdown",
   "metadata": {}
  },
  {
   "cell_type": "code",
   "execution_count": 10,
   "metadata": {},
   "outputs": [],
   "source": [
    "def generateHomeworkAssignments(day):\n",
    "    # Define global variables\n",
    "    column_names = ['HW_ASSIGNED_DATE', 'HW_DUE_DATE', 'HW_SCORE_MAX', 'CLASS_ID']\n",
    "    # Define an empty dictionary to store each class' DataFrame in\n",
    "    HA = {}\n",
    "    # Define an empty dictionary to store the day's DataFrame in\n",
    "    hw = {}\n",
    "    # Define an empty list to store the created DataFrames in for concatenating later\n",
    "    HAList = {}\n",
    "    # Define the Classes object\n",
    "    if day == 'Wednesday':\n",
    "        classes = wed_classes\n",
    "    elif day == 'Thursday':\n",
    "        classes = thu_classes\n",
    "    elif day == 'Friday':\n",
    "        classes = fri_classes\n",
    "    elif day == 'Saturday':\n",
    "        classes = sat_classes\n",
    "    elif day == 'Sunday':\n",
    "        classes = sun_classes\n",
    "    # Get the Class IDs for the specified day\n",
    "    classIDs = classes['CLASS_ID'].loc[classes['CLASS_DAY'] == day].to_list()\n",
    "    # Loop through the classes and create a DataFrame for each\n",
    "    for i in classIDs:\n",
    "        HA[i] = pd.DataFrame(columns = column_names)\n",
    "        HA[i]['HW_ASSIGNED_DATE'] = classes\n",
    "        HA[i]['CLASS_ID'] = i\n",
    "        HA[i]['HW_DUE_DATE'] = HA[i]['HW_ASSIGNED_DATE'] + timedelta(days = 7)\n",
    "        HA[i]['HW_SCORE_MAX'].astype('Int64')\n",
    "        HA[i]['HW_SCORE_MAX'] = hw_score_max\n",
    "        # Append the DataFrame to the list\n",
    "        HAList[day].append(HA[i])\n",
    "    # Create a DataFrame from the above list\n",
    "    hw[day] = pd.concat(HAList[day])\n",
    "    # Return the DataFrame\n",
    "    return hw[day]"
   ]
  },
  {
   "cell_type": "code",
   "execution_count": 92,
   "metadata": {},
   "outputs": [
    {
     "output_type": "error",
     "ename": "TypeError",
     "evalue": "list indices must be integers or slices, not str",
     "traceback": [
      "\u001b[1;31m---------------------------------------------------------------------------\u001b[0m",
      "\u001b[1;31mTypeError\u001b[0m                                 Traceback (most recent call last)",
      "\u001b[1;32m<ipython-input-92-3a626af2e422>\u001b[0m in \u001b[0;36m<module>\u001b[1;34m\u001b[0m\n\u001b[0;32m      9\u001b[0m \u001b[1;31m# Loop through the days in the list of days to gerenerate a DataFrame for each\u001b[0m\u001b[1;33m\u001b[0m\u001b[1;33m\u001b[0m\u001b[1;33m\u001b[0m\u001b[0m\n\u001b[0;32m     10\u001b[0m \u001b[1;32mfor\u001b[0m \u001b[0mi\u001b[0m \u001b[1;32min\u001b[0m \u001b[0mclassDays\u001b[0m\u001b[1;33m:\u001b[0m\u001b[1;33m\u001b[0m\u001b[1;33m\u001b[0m\u001b[0m\n\u001b[1;32m---> 11\u001b[1;33m     \u001b[0mhomework\u001b[0m\u001b[1;33m[\u001b[0m\u001b[0mi\u001b[0m\u001b[1;33m]\u001b[0m \u001b[1;33m=\u001b[0m \u001b[0mgenerateHomeworkAssignments\u001b[0m\u001b[1;33m(\u001b[0m\u001b[0mi\u001b[0m\u001b[1;33m)\u001b[0m\u001b[1;33m\u001b[0m\u001b[1;33m\u001b[0m\u001b[0m\n\u001b[0m\u001b[0;32m     12\u001b[0m     \u001b[1;31m# Append the returned DataFrame to the final DataFrame\u001b[0m\u001b[1;33m\u001b[0m\u001b[1;33m\u001b[0m\u001b[1;33m\u001b[0m\u001b[0m\n\u001b[0;32m     13\u001b[0m     \u001b[0mhw_a\u001b[0m \u001b[1;33m=\u001b[0m \u001b[0mpd\u001b[0m\u001b[1;33m.\u001b[0m\u001b[0mappend\u001b[0m\u001b[1;33m(\u001b[0m\u001b[0mhw\u001b[0m\u001b[1;33m[\u001b[0m\u001b[0mi\u001b[0m\u001b[1;33m]\u001b[0m\u001b[1;33m)\u001b[0m\u001b[1;33m\u001b[0m\u001b[1;33m\u001b[0m\u001b[0m\n",
      "\u001b[1;32m<ipython-input-90-5ad00c77e112>\u001b[0m in \u001b[0;36mgenerateHomeworkAssignments\u001b[1;34m(day)\u001b[0m\n\u001b[0;32m     19\u001b[0m         \u001b[0mclasses\u001b[0m \u001b[1;33m=\u001b[0m \u001b[0msun_classes\u001b[0m\u001b[1;33m\u001b[0m\u001b[1;33m\u001b[0m\u001b[0m\n\u001b[0;32m     20\u001b[0m     \u001b[1;31m# Get the Class IDs for the specified day\u001b[0m\u001b[1;33m\u001b[0m\u001b[1;33m\u001b[0m\u001b[1;33m\u001b[0m\u001b[0m\n\u001b[1;32m---> 21\u001b[1;33m     \u001b[0mclassIDs\u001b[0m \u001b[1;33m=\u001b[0m \u001b[0mclasses\u001b[0m\u001b[1;33m[\u001b[0m\u001b[1;34m'CLASS_ID'\u001b[0m\u001b[1;33m]\u001b[0m\u001b[1;33m.\u001b[0m\u001b[0mloc\u001b[0m\u001b[1;33m[\u001b[0m\u001b[0mclasses\u001b[0m\u001b[1;33m[\u001b[0m\u001b[1;34m'CLASS_DAY'\u001b[0m\u001b[1;33m]\u001b[0m \u001b[1;33m==\u001b[0m \u001b[0mday\u001b[0m\u001b[1;33m]\u001b[0m\u001b[1;33m.\u001b[0m\u001b[0mto_list\u001b[0m\u001b[1;33m(\u001b[0m\u001b[1;33m)\u001b[0m\u001b[1;33m\u001b[0m\u001b[1;33m\u001b[0m\u001b[0m\n\u001b[0m\u001b[0;32m     22\u001b[0m     \u001b[1;31m# Loop through the classes and create a DataFrame for each\u001b[0m\u001b[1;33m\u001b[0m\u001b[1;33m\u001b[0m\u001b[1;33m\u001b[0m\u001b[0m\n\u001b[0;32m     23\u001b[0m     \u001b[1;32mfor\u001b[0m \u001b[0mi\u001b[0m \u001b[1;32min\u001b[0m \u001b[0mclassIDs\u001b[0m\u001b[1;33m:\u001b[0m\u001b[1;33m\u001b[0m\u001b[1;33m\u001b[0m\u001b[0m\n",
      "\u001b[1;31mTypeError\u001b[0m: list indices must be integers or slices, not str"
     ]
    }
   ],
   "source": [
    "# Define a list of Days\n",
    "classDays = ['Wednesday', 'Thursday', 'Friday', 'Saturday', 'Sunday']\n",
    "# Define the column names\n",
    "column_names = ['HW_ASSIGNED_DATE', 'HW_DUE_DATE', 'HW_SCORE_MAX', 'CLASS_ID']\n",
    "# Create an empty DataFrame to be the final DataFrame\n",
    "hw_a = pd.DataFrame(columns = column_names)\n",
    "# Create an empty dictionary to store the DataFrames in\n",
    "homework = {}\n",
    "# Loop through the days in the list of days to gerenerate a DataFrame for each\n",
    "for i in classDays:\n",
    "    homework[i] = generateHomeworkAssignments(i)\n",
    "    # Append the returned DataFrame to the final DataFrame\n",
    "    hw_a = pd.append(hw[i])"
   ]
  },
  {
   "cell_type": "code",
   "execution_count": 93,
   "metadata": {},
   "outputs": [
    {
     "output_type": "error",
     "ename": "TypeError",
     "evalue": "list indices must be integers or slices, not str",
     "traceback": [
      "\u001b[1;31m---------------------------------------------------------------------------\u001b[0m",
      "\u001b[1;31mTypeError\u001b[0m                                 Traceback (most recent call last)",
      "\u001b[1;32m<ipython-input-93-48880fbbde0c>\u001b[0m in \u001b[0;36m<module>\u001b[1;34m\u001b[0m\n\u001b[1;32m----> 1\u001b[1;33m \u001b[0mhw\u001b[0m\u001b[1;33m[\u001b[0m\u001b[0mWednesday\u001b[0m\u001b[1;33m]\u001b[0m \u001b[1;33m=\u001b[0m \u001b[0mgenerateHomeworkAssignments\u001b[0m\u001b[1;33m(\u001b[0m\u001b[1;34m'Wednesday'\u001b[0m\u001b[1;33m)\u001b[0m\u001b[1;33m\u001b[0m\u001b[1;33m\u001b[0m\u001b[0m\n\u001b[0m",
      "\u001b[1;32m<ipython-input-90-5ad00c77e112>\u001b[0m in \u001b[0;36mgenerateHomeworkAssignments\u001b[1;34m(day)\u001b[0m\n\u001b[0;32m     19\u001b[0m         \u001b[0mclasses\u001b[0m \u001b[1;33m=\u001b[0m \u001b[0msun_classes\u001b[0m\u001b[1;33m\u001b[0m\u001b[1;33m\u001b[0m\u001b[0m\n\u001b[0;32m     20\u001b[0m     \u001b[1;31m# Get the Class IDs for the specified day\u001b[0m\u001b[1;33m\u001b[0m\u001b[1;33m\u001b[0m\u001b[1;33m\u001b[0m\u001b[0m\n\u001b[1;32m---> 21\u001b[1;33m     \u001b[0mclassIDs\u001b[0m \u001b[1;33m=\u001b[0m \u001b[0mclasses\u001b[0m\u001b[1;33m[\u001b[0m\u001b[1;34m'CLASS_ID'\u001b[0m\u001b[1;33m]\u001b[0m\u001b[1;33m.\u001b[0m\u001b[0mloc\u001b[0m\u001b[1;33m[\u001b[0m\u001b[0mclasses\u001b[0m\u001b[1;33m[\u001b[0m\u001b[1;34m'CLASS_DAY'\u001b[0m\u001b[1;33m]\u001b[0m \u001b[1;33m==\u001b[0m \u001b[0mday\u001b[0m\u001b[1;33m]\u001b[0m\u001b[1;33m.\u001b[0m\u001b[0mto_list\u001b[0m\u001b[1;33m(\u001b[0m\u001b[1;33m)\u001b[0m\u001b[1;33m\u001b[0m\u001b[1;33m\u001b[0m\u001b[0m\n\u001b[0m\u001b[0;32m     22\u001b[0m     \u001b[1;31m# Loop through the classes and create a DataFrame for each\u001b[0m\u001b[1;33m\u001b[0m\u001b[1;33m\u001b[0m\u001b[1;33m\u001b[0m\u001b[0m\n\u001b[0;32m     23\u001b[0m     \u001b[1;32mfor\u001b[0m \u001b[0mi\u001b[0m \u001b[1;32min\u001b[0m \u001b[0mclassIDs\u001b[0m\u001b[1;33m:\u001b[0m\u001b[1;33m\u001b[0m\u001b[1;33m\u001b[0m\u001b[0m\n",
      "\u001b[1;31mTypeError\u001b[0m: list indices must be integers or slices, not str"
     ]
    }
   ],
   "source": [
    "hw[Wednesday] = generateHomeworkAssignments('Wednesday')"
   ]
  },
  {
   "source": [
    "### For Loop-ify It"
   ],
   "cell_type": "markdown",
   "metadata": {}
  },
  {
   "cell_type": "code",
   "execution_count": 11,
   "metadata": {},
   "outputs": [],
   "source": [
    "# Define global variables\n",
    "column_names = ['HW_ASSIGNED_DATE', 'HW_DUE_DATE', 'HW_SCORE_MAX', 'CLASS_ID']\n",
    "HAList = []\n",
    "\n",
    "# Generate Homework Assignment DataFrames for each Wednesday Class\n",
    "\n",
    "wedHA = {}\n",
    "wed = []\n",
    "classIDs = classes['CLASS_ID'].loc[classes['CLASS_DAY'] == 'Wednesday'].to_list()\n",
    "for i in classIDs:\n",
    "    wedHA[i] = pd.DataFrame(columns = column_names)\n",
    "    wedHA[i]['HW_ASSIGNED_DATE'] = wed_classes\n",
    "    wedHA[i]['CLASS_ID'] = i\n",
    "    wedHA[i]['HW_DUE_DATE'] = wedHA[i]['HW_ASSIGNED_DATE'] + timedelta(days = 7)\n",
    "    wedHA[i]['HW_SCORE_MAX'].astype('Int64')\n",
    "    wedHA[i]['HW_SCORE_MAX'] = hw_score_max\n",
    "    wed.append(wedHA[i])\n",
    "wedHADF = pd.concat(wed)\n",
    "HAList.append(wedHADF)\n",
    "\n",
    "# Generate Homework Assignment DataFrames for each Thursday Class\n",
    "\n",
    "thuHA = {}\n",
    "thu = []\n",
    "classIDs = classes['CLASS_ID'].loc[classes['CLASS_DAY'] == 'Thursday'].to_list()\n",
    "for i in classIDs:\n",
    "    thuHA[i] = pd.DataFrame(columns = column_names)\n",
    "    thuHA[i]['HW_ASSIGNED_DATE'] = thu_classes\n",
    "    thuHA[i]['CLASS_ID'] = i\n",
    "    thuHA[i]['HW_DUE_DATE'] = thuHA[i]['HW_ASSIGNED_DATE'] + timedelta(days = 7)\n",
    "    thuHA[i]['HW_SCORE_MAX'].astype('Int64')\n",
    "    thuHA[i]['HW_SCORE_MAX'] = hw_score_max\n",
    "    thu.append(thuHA[i])\n",
    "thuHADF = pd.concat(thu)\n",
    "HAList.append(thuHADF)\n",
    "\n",
    "# Generate Homework Assignment DataFrames for each Friday Class\n",
    "\n",
    "friHA = {}\n",
    "fri = []\n",
    "classIDs = classes['CLASS_ID'].loc[classes['CLASS_DAY'] == 'Friday'].to_list()\n",
    "for i in classIDs:\n",
    "    friHA[i] = pd.DataFrame(columns = column_names)\n",
    "    friHA[i]['HW_ASSIGNED_DATE'] = fri_classes\n",
    "    friHA[i]['CLASS_ID'] = i\n",
    "    friHA[i]['HW_DUE_DATE'] = friHA[i]['HW_ASSIGNED_DATE'] + timedelta(days = 7)\n",
    "    friHA[i]['HW_SCORE_MAX'].astype('Int64')\n",
    "    friHA[i]['HW_SCORE_MAX'] = hw_score_max\n",
    "    fri.append(friHA[i])\n",
    "friHADF = pd.concat(fri)\n",
    "HAList.append(friHADF)\n",
    "\n",
    "# Generate Homework Assignment DataFrames for each Saturday Class\n",
    "\n",
    "satHA = {}\n",
    "sat = []\n",
    "classIDs = classes['CLASS_ID'].loc[classes['CLASS_DAY'] == 'Saturday'].to_list()\n",
    "for i in classIDs:\n",
    "    satHA[i] = pd.DataFrame(columns = column_names)\n",
    "    satHA[i]['HW_ASSIGNED_DATE'] = sat_classes\n",
    "    satHA[i]['CLASS_ID'] = i\n",
    "    satHA[i]['HW_DUE_DATE'] = satHA[i]['HW_ASSIGNED_DATE'] + timedelta(days = 7)\n",
    "    satHA[i]['HW_SCORE_MAX'].astype('Int64')\n",
    "    satHA[i]['HW_SCORE_MAX'] = hw_score_max\n",
    "    sat.append(satHA[i])\n",
    "satHADF = pd.concat(sat)\n",
    "HAList.append(satHADF)\n",
    "\n",
    "# Generate Homework Assignment DataFrames for each Sunday Class\n",
    "\n",
    "sunHA = {}\n",
    "sun = []\n",
    "classIDs = classes['CLASS_ID'].loc[classes['CLASS_DAY'] == 'Sunday'].to_list()\n",
    "for i in classIDs:\n",
    "    sunHA[i] = pd.DataFrame(columns = column_names)\n",
    "    sunHA[i]['HW_ASSIGNED_DATE'] = sun_classes\n",
    "    sunHA[i]['CLASS_ID'] = i\n",
    "    sunHA[i]['HW_DUE_DATE'] = sunHA[i]['HW_ASSIGNED_DATE'] + timedelta(days = 7)\n",
    "    sunHA[i]['HW_SCORE_MAX'].astype('Int64')\n",
    "    sunHA[i]['HW_SCORE_MAX'] = hw_score_max\n",
    "    sun.append(sunHA[i])\n",
    "sunHADF = pd.concat(sun)\n",
    "HAList.append(sunHADF)\n",
    "\n",
    "hw_a = pd.concat(HAList)\n",
    "hw_a['HW_ID'] = list(range(0, hw_a.shape[0]))"
   ]
  },
  {
   "source": [
    "## HOMEWORK_GRADES.CSV"
   ],
   "cell_type": "markdown",
   "metadata": {}
  },
  {
   "source": [
    "### For Loop-ify It"
   ],
   "cell_type": "markdown",
   "metadata": {}
  },
  {
   "cell_type": "code",
   "execution_count": 15,
   "metadata": {},
   "outputs": [],
   "source": [
    "# SET GLOBAL VARS\n",
    "column_names = ['STUDENT_ID', 'HW_ID', 'HW_SCORE', 'HW_SCORE_MAX']\n",
    "hw_c = {}\n",
    "hw_g_list = []\n",
    "# Get a list of Class IDs\n",
    "class_ids = classes['CLASS_ID'].to_list()\n",
    "# Loop through the Class IDs and create a DataFrame of scores for each of them\n",
    "for i in class_ids:\n",
    "    student_id = students['STUDENT_ID'].loc[students['CLASS_ID'] == i]\n",
    "    hw_id = hw_a['HW_ID'].loc[hw_a['CLASS_ID'] == i]\n",
    "    hw_score = random.randint(0, 10, size = (len(student_id)*len(hw_id)))\n",
    "    hw_c[i] = pd.DataFrame(columns = column_names)\n",
    "    hw_c[i]['STUDENT_ID'] = list(student_id)*len(hw_id)\n",
    "    hw_c[i]['HW_ID'] = list(hw_id)*len(student_id)\n",
    "    hw_c[i]['HW_SCORE'] = hw_score\n",
    "    hw_c[i]['HW_SCORE_MAX'] = hw_score_max\n",
    "    hw_c[i]['HW_SCORE_PERCENT'] = hw_score / hw_c[i]['HW_SCORE_MAX']\n",
    "    hw_c[i] = pd.merge(hw_c[i], hw_a[['HW_ID', 'HW_ASSIGNED_DATE']], on = 'HW_ID', how = 'left')\n",
    "    hw_c[i]['HW_TURNED_IN_DATE'] = hw_c[i]['HW_ASSIGNED_DATE'] + timedelta(days = 7)\n",
    "    hw_c[i]['CLASS_ID'] = i\n",
    "    hw_g_list.append(hw_c[i])\n",
    "\n",
    "hw_g = pd.concat(hw_g_list)"
   ]
  },
  {
   "cell_type": "code",
   "execution_count": 16,
   "metadata": {},
   "outputs": [
    {
     "output_type": "execute_result",
     "data": {
      "text/plain": [
       "      STUDENT_ID  HW_ID  HW_SCORE  HW_SCORE_MAX  HW_SCORE_PERCENT  \\\n",
       "0             26      0         9            10               0.9   \n",
       "1             31      1         2            10               0.2   \n",
       "2            120      2         4            10               0.4   \n",
       "3            132      3         0            10               0.0   \n",
       "4            137      4         1            10               0.1   \n",
       "...          ...    ...       ...           ...               ...   \n",
       "1885         351   3400         3            10               0.3   \n",
       "1886         382   3401         8            10               0.8   \n",
       "1887         406   3402         4            10               0.4   \n",
       "1888         446   3403         0            10               0.0   \n",
       "1889         471   3404         7            10               0.7   \n",
       "\n",
       "     HW_ASSIGNED_DATE HW_TURNED_IN_DATE  CLASS_ID  \n",
       "0          2013-03-06        2013-03-13         0  \n",
       "1          2013-03-13        2013-03-20         0  \n",
       "2          2013-03-20        2013-03-27         0  \n",
       "3          2013-03-27        2013-04-03         0  \n",
       "4          2013-04-03        2013-04-10         0  \n",
       "...               ...               ...       ...  \n",
       "1885       2015-06-28        2015-07-05        26  \n",
       "1886       2015-07-05        2015-07-12        26  \n",
       "1887       2015-07-12        2015-07-19        26  \n",
       "1888       2015-07-19        2015-07-26        26  \n",
       "1889       2015-07-26        2015-08-02        26  \n",
       "\n",
       "[63053 rows x 8 columns]"
      ],
      "text/html": "<div>\n<style scoped>\n    .dataframe tbody tr th:only-of-type {\n        vertical-align: middle;\n    }\n\n    .dataframe tbody tr th {\n        vertical-align: top;\n    }\n\n    .dataframe thead th {\n        text-align: right;\n    }\n</style>\n<table border=\"1\" class=\"dataframe\">\n  <thead>\n    <tr style=\"text-align: right;\">\n      <th></th>\n      <th>STUDENT_ID</th>\n      <th>HW_ID</th>\n      <th>HW_SCORE</th>\n      <th>HW_SCORE_MAX</th>\n      <th>HW_SCORE_PERCENT</th>\n      <th>HW_ASSIGNED_DATE</th>\n      <th>HW_TURNED_IN_DATE</th>\n      <th>CLASS_ID</th>\n    </tr>\n  </thead>\n  <tbody>\n    <tr>\n      <th>0</th>\n      <td>26</td>\n      <td>0</td>\n      <td>9</td>\n      <td>10</td>\n      <td>0.9</td>\n      <td>2013-03-06</td>\n      <td>2013-03-13</td>\n      <td>0</td>\n    </tr>\n    <tr>\n      <th>1</th>\n      <td>31</td>\n      <td>1</td>\n      <td>2</td>\n      <td>10</td>\n      <td>0.2</td>\n      <td>2013-03-13</td>\n      <td>2013-03-20</td>\n      <td>0</td>\n    </tr>\n    <tr>\n      <th>2</th>\n      <td>120</td>\n      <td>2</td>\n      <td>4</td>\n      <td>10</td>\n      <td>0.4</td>\n      <td>2013-03-20</td>\n      <td>2013-03-27</td>\n      <td>0</td>\n    </tr>\n    <tr>\n      <th>3</th>\n      <td>132</td>\n      <td>3</td>\n      <td>0</td>\n      <td>10</td>\n      <td>0.0</td>\n      <td>2013-03-27</td>\n      <td>2013-04-03</td>\n      <td>0</td>\n    </tr>\n    <tr>\n      <th>4</th>\n      <td>137</td>\n      <td>4</td>\n      <td>1</td>\n      <td>10</td>\n      <td>0.1</td>\n      <td>2013-04-03</td>\n      <td>2013-04-10</td>\n      <td>0</td>\n    </tr>\n    <tr>\n      <th>...</th>\n      <td>...</td>\n      <td>...</td>\n      <td>...</td>\n      <td>...</td>\n      <td>...</td>\n      <td>...</td>\n      <td>...</td>\n      <td>...</td>\n    </tr>\n    <tr>\n      <th>1885</th>\n      <td>351</td>\n      <td>3400</td>\n      <td>3</td>\n      <td>10</td>\n      <td>0.3</td>\n      <td>2015-06-28</td>\n      <td>2015-07-05</td>\n      <td>26</td>\n    </tr>\n    <tr>\n      <th>1886</th>\n      <td>382</td>\n      <td>3401</td>\n      <td>8</td>\n      <td>10</td>\n      <td>0.8</td>\n      <td>2015-07-05</td>\n      <td>2015-07-12</td>\n      <td>26</td>\n    </tr>\n    <tr>\n      <th>1887</th>\n      <td>406</td>\n      <td>3402</td>\n      <td>4</td>\n      <td>10</td>\n      <td>0.4</td>\n      <td>2015-07-12</td>\n      <td>2015-07-19</td>\n      <td>26</td>\n    </tr>\n    <tr>\n      <th>1888</th>\n      <td>446</td>\n      <td>3403</td>\n      <td>0</td>\n      <td>10</td>\n      <td>0.0</td>\n      <td>2015-07-19</td>\n      <td>2015-07-26</td>\n      <td>26</td>\n    </tr>\n    <tr>\n      <th>1889</th>\n      <td>471</td>\n      <td>3404</td>\n      <td>7</td>\n      <td>10</td>\n      <td>0.7</td>\n      <td>2015-07-26</td>\n      <td>2015-08-02</td>\n      <td>26</td>\n    </tr>\n  </tbody>\n</table>\n<p>63053 rows × 8 columns</p>\n</div>"
     },
     "metadata": {},
     "execution_count": 16
    }
   ],
   "source": [
    "hw_g"
   ]
  },
  {
   "source": [
    "## PARTICIPATION.CSV"
   ],
   "cell_type": "markdown",
   "metadata": {}
  },
  {
   "source": [
    "student_id = random.randint(student_count, size = (participation_count))\n",
    "participation_type = random.choice([\"volunteer\", \"cold call\"], size = (participation_count))\n",
    "participation_attempts = random.randint(1, 6, size = (participation_count))\n",
    "participation_hints = random.randint(0, participation_attempts, size = (participation_count))\n",
    "    \n",
    "column_names = ['STUDENT_ID', 'PARTICIPATION_DATETIME', 'PARTICIPATION_TYPE', 'PARTICIPATION_ATTEMPTS', 'PARTICIPATION_HINTS']\n",
    "participation = pd.DataFrame(columns = column_names)\n",
    "\n",
    "participation['STUDENT_ID'] = student_id\n",
    "participation['PARTICIPATION_TYPE'] = participation_type\n",
    "participation['PARTICIPATION_ATTEMPTS'] = participation_attempts\n",
    "participation['PARTICIPATION_HINTS'] = participation_hints\n",
    "\n",
    "participation = pd.merge(participation, students[['STUDENT_ID', 'CLASS_ID']], on = 'STUDENT_ID', how = 'left')\n",
    "participation = pd.merge(participation, classes[['CLASS_ID', 'CLASS_TIME']], on = 'CLASS_ID', how = 'left')\n",
    "participation = pd.merge(participation, classes[['CLASS_ID', 'CLASS_DAY']], on = 'CLASS_ID', how = 'left')\n",
    "\n",
    "dayList = participation['CLASS_DAY'].to_list()\n",
    "\n",
    "# Insert random dates for each participation\n",
    "partDate = []\n",
    "for row in dayList:\n",
    "    if row == \"Wednesday\":\n",
    "         partDate.append(random.choice(wed_classes))\n",
    "    elif row == \"Thursday\":\n",
    "         partDate.append(random.choice(thu_classes))\n",
    "    elif row == \"Friday\":\n",
    "         partDate.append(random.choice(fri_classes))\n",
    "    elif row == \"Saturday\":\n",
    "         partDate.append(random.choice(sat_classes))\n",
    "    elif row == \"Sunday\":\n",
    "         partDate.append(random.choice(sun_classes))\n",
    "\n",
    "participation['PARTICIPATION_DATETIME'] = partDate\n",
    "\n",
    "# Insert a random timestamp for each participation\n",
    "    # Leave out for now as I can't think of a way to be able to implement it on the website"
   ],
   "cell_type": "code",
   "metadata": {},
   "execution_count": 13,
   "outputs": []
  },
  {
   "source": [
    "# EXPORT THE DATAFRAMES"
   ],
   "cell_type": "markdown",
   "metadata": {}
  },
  {
   "source": [
    "## LAPPIE"
   ],
   "cell_type": "markdown",
   "metadata": {}
  },
  {
   "cell_type": "code",
   "execution_count": null,
   "metadata": {},
   "outputs": [],
   "source": [
    "# Export the pandas dataframes as CSVs \n",
    "students.to_csv(r'C:\\Users\\mfitz\\Google Drive\\Docs\\VSCode\\Students Data\\China\\Tables\\students.csv', index = False, header = True)\n",
    "classes.to_csv(r'C:\\Users\\mfitz\\Google Drive\\Docs\\VSCode\\Students Data\\China\\Tables\\classes.csv', index = False, header = True)\n",
    "attendance.to_csv(r'C:\\Users\\mfitz\\Google Drive\\Docs\\VSCode\\Students Data\\China\\Tables\\attendance.csv', index = False, header = True)\n",
    "tests.to_csv(r'C:\\Users\\mfitz\\Google Drive\\Docs\\VSCode\\Students Data\\China\\Tables\\tests.csv', index = False, header = True)\n",
    "hw_g.to_csv(r'C:\\Users\\mfitz\\Google Drive\\Docs\\VSCode\\Students Data\\China\\Tables\\hw_grades.csv', index = False, header = True)\n",
    "hw_a.to_csv(r'C:\\Users\\mfitz\\Google Drive\\Docs\\VSCode\\Students Data\\China\\Tables\\hw_assignments.csv', index = False, header = True)\n",
    "participation.to_csv(r'C:\\Users\\mfitz\\Google Drive\\Docs\\VSCode\\Students Data\\China\\Tables\\participation.csv', index = False, header = True)\n",
    "tests_results.to_csv(r'C:\\Users\\mfitz\\Google Drive\\Docs\\VSCode\\Students Data\\China\\Tables\\test_results.csv', index = False, header = True)"
   ]
  },
  {
   "source": [
    "## GLaDOS"
   ],
   "cell_type": "markdown",
   "metadata": {}
  },
  {
   "cell_type": "code",
   "execution_count": 17,
   "metadata": {},
   "outputs": [],
   "source": [
    "# Export the pandas dataframes as CSVs \n",
    "students.to_csv(r'Tables\\students.csv', index = False, header = True)\n",
    "classes.to_csv(r'Tables\\classes.csv', index = False, header = True)\n",
    "attendance.to_csv(r'Tables\\attendance.csv', index = False, header = True)\n",
    "tests.to_csv(r'Tables\\tests.csv', index = False, header = True)\n",
    "hw_g.to_csv(r'Tables\\hw_grades.csv', index = False, header = True)\n",
    "hw_a.to_csv(r'Tables\\hw_assignments.csv', index = False, header = True)\n",
    "participation.to_csv(r'Tables\\participation.csv', index = False, header = True)\n",
    "test_results.to_csv(r'Tables\\test_results.csv', index = False, header = True)"
   ]
  },
  {
   "cell_type": "code",
   "execution_count": null,
   "metadata": {},
   "outputs": [],
   "source": []
  }
 ]
}